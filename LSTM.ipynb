{
 "cells": [
  {
   "cell_type": "code",
   "execution_count": 1,
   "metadata": {
    "collapsed": true
   },
   "outputs": [],
   "source": [
    "## Download Code\n",
    "import numpy as np # linear algebra\n",
    "import pandas as pd # data processing, CSV file I/O (e.g. pd.read_csv)\n",
    "\n",
    "train = pd.read_csv(\"train_1.csv\", nrows = 1000)\n",
    "# train = train.fillna(0.)"
   ]
  },
  {
   "cell_type": "code",
   "execution_count": 2,
   "metadata": {},
   "outputs": [
    {
     "name": "stderr",
     "output_type": "stream",
     "text": [
      "Using TensorFlow backend.\n"
     ]
    }
   ],
   "source": [
    "import numpy as np\n",
    "import pandas as pd\n",
    "import matplotlib.pyplot as plt\n",
    "import math\n",
    "from keras.models import Sequential\n",
    "from keras.layers import Dense, LSTM, Embedding, Dropout\n",
    "from sklearn.preprocessing import MinMaxScaler\n",
    "from sklearn.metrics import mean_squared_error\n",
    "\n",
    "np.random.seed(7)"
   ]
  },
  {
   "cell_type": "code",
   "execution_count": 57,
   "metadata": {
    "collapsed": true
   },
   "outputs": [],
   "source": [
    "# from __future__ import print_function\n",
    "\n",
    "# from keras.preprocessing import sequence\n",
    "# from keras.models import Sequential\n",
    "# from keras.layers import Dense, Embedding\n",
    "# from keras.layers import LSTM\n",
    "# # from keras.datasets import imdb"
   ]
  },
  {
   "cell_type": "code",
   "execution_count": 58,
   "metadata": {
    "collapsed": true
   },
   "outputs": [],
   "source": [
    "# def smape(y_true, y_pred):\n",
    "#     denominator = (np.abs(y_true) + np.abs(y_pred)) / 200.0\n",
    "#     diff = np.abs(y_true - y_pred) / denominator\n",
    "#     diff[denominator == 0] = 0.0\n",
    "#     return np.nanmean(diff)"
   ]
  },
  {
   "cell_type": "code",
   "execution_count": 73,
   "metadata": {
    "collapsed": true
   },
   "outputs": [],
   "source": [
    "from keras import backend as K\n",
    "\n",
    "def smape(y_true, y_pred):\n",
    "    diff = K.abs((y_true - y_pred) / K.clip(K.abs(y_true) + K.abs(y_pred),\n",
    "                                            K.epsilon(),\n",
    "                                            None))\n",
    "    return 200. * K.mean(diff, axis=-1)"
   ]
  },
  {
   "cell_type": "code",
   "execution_count": 59,
   "metadata": {
    "collapsed": true
   },
   "outputs": [],
   "source": [
    "def create_dataset(dataset, look_back=1):\n",
    "    dataX, dataY = [], []\n",
    "    for i in range(len(dataset)-look_back-1):\n",
    "        a = dataset[i:(i+look_back), 0]\n",
    "        dataX.append(a)\n",
    "        dataY.append(dataset[i + look_back, 0])\n",
    "    return np.array(dataX), np.array(dataY)"
   ]
  },
  {
   "cell_type": "code",
   "execution_count": 60,
   "metadata": {
    "collapsed": true
   },
   "outputs": [],
   "source": [
    "train = train.fillna(0.0)"
   ]
  },
  {
   "cell_type": "code",
   "execution_count": 61,
   "metadata": {
    "collapsed": true
   },
   "outputs": [],
   "source": [
    "train = train.iloc[:, -55:]"
   ]
  },
  {
   "cell_type": "code",
   "execution_count": 62,
   "metadata": {
    "collapsed": true
   },
   "outputs": [],
   "source": [
    "train = train.values.astype('float32')"
   ]
  },
  {
   "cell_type": "code",
   "execution_count": 63,
   "metadata": {
    "collapsed": true
   },
   "outputs": [],
   "source": [
    "scaler = MinMaxScaler(feature_range=(0, 1))\n",
    "train = scaler.fit_transform(train)"
   ]
  },
  {
   "cell_type": "code",
   "execution_count": 64,
   "metadata": {},
   "outputs": [
    {
     "data": {
      "text/plain": [
       "(1000, 55)"
      ]
     },
     "execution_count": 64,
     "metadata": {},
     "output_type": "execute_result"
    }
   ],
   "source": [
    "train.shape"
   ]
  },
  {
   "cell_type": "code",
   "execution_count": 65,
   "metadata": {
    "collapsed": true
   },
   "outputs": [],
   "source": [
    "X_train, Y_train = train[:, -55:-10], train[:, -10:-5]"
   ]
  },
  {
   "cell_type": "code",
   "execution_count": 66,
   "metadata": {
    "collapsed": true
   },
   "outputs": [],
   "source": [
    "X_test, Y_test = train[:, -50: -5], train[:, -5:]"
   ]
  },
  {
   "cell_type": "code",
   "execution_count": 67,
   "metadata": {},
   "outputs": [
    {
     "data": {
      "text/plain": [
       "((1000, 45), (1000, 5), (1000, 45), (1000, 5))"
      ]
     },
     "execution_count": 67,
     "metadata": {},
     "output_type": "execute_result"
    }
   ],
   "source": [
    "X_train.shape, Y_train.shape, X_test.shape, Y_test.shape"
   ]
  },
  {
   "cell_type": "code",
   "execution_count": 54,
   "metadata": {
    "collapsed": true
   },
   "outputs": [],
   "source": [
    "## 前45天预测后边5天\n",
    "## train_X -55: -10, train_Y -10: -5\n",
    "## test_X -50: -5, test_Y -5: "
   ]
  },
  {
   "cell_type": "code",
   "execution_count": 68,
   "metadata": {
    "collapsed": true
   },
   "outputs": [],
   "source": [
    "X_train = X_train.reshape(1000, 45, 1)\n",
    "X_test = X_test.reshape(1000, 45, 1)"
   ]
  },
  {
   "cell_type": "code",
   "execution_count": 76,
   "metadata": {},
   "outputs": [
    {
     "name": "stdout",
     "output_type": "stream",
     "text": [
      "Train on 1000 samples, validate on 1000 samples\n",
      "Epoch 1/100\n",
      "4s - loss: 123.3127 - val_loss: 111.8460\n",
      "Epoch 2/100\n",
      "3s - loss: 113.8853 - val_loss: 97.1966\n",
      "Epoch 3/100\n",
      "3s - loss: 107.5656 - val_loss: 95.2392\n",
      "Epoch 4/100\n",
      "3s - loss: 95.2601 - val_loss: 76.9383\n",
      "Epoch 5/100\n",
      "3s - loss: 85.8142 - val_loss: 70.3522\n",
      "Epoch 6/100\n",
      "3s - loss: 72.9053 - val_loss: 62.8276\n",
      "Epoch 7/100\n",
      "3s - loss: 67.1683 - val_loss: 57.6879\n",
      "Epoch 8/100\n",
      "3s - loss: 62.1233 - val_loss: 57.8354\n",
      "Epoch 9/100\n",
      "3s - loss: 58.8974 - val_loss: 55.5892\n",
      "Epoch 10/100\n",
      "3s - loss: 56.9269 - val_loss: 53.0888\n",
      "Epoch 11/100\n",
      "3s - loss: 55.3008 - val_loss: 52.2839\n",
      "Epoch 12/100\n",
      "3s - loss: 54.6315 - val_loss: 56.3422\n",
      "Epoch 13/100\n",
      "3s - loss: 67.2649 - val_loss: 64.2489\n",
      "Epoch 14/100\n",
      "3s - loss: 63.7109 - val_loss: 50.5632\n",
      "Epoch 15/100\n",
      "3s - loss: 59.3735 - val_loss: 56.5765\n",
      "Epoch 16/100\n",
      "3s - loss: 57.2250 - val_loss: 48.5331\n",
      "Epoch 17/100\n",
      "3s - loss: 53.5069 - val_loss: 54.8335\n",
      "Epoch 18/100\n",
      "3s - loss: 50.3339 - val_loss: 45.9183\n",
      "Epoch 19/100\n",
      "3s - loss: 48.8594 - val_loss: 48.9168\n",
      "Epoch 20/100\n",
      "3s - loss: 48.8085 - val_loss: 50.9195\n",
      "Epoch 21/100\n",
      "3s - loss: 53.0033 - val_loss: 71.7690\n",
      "Epoch 22/100\n",
      "3s - loss: 65.2856 - val_loss: 60.4388\n",
      "Epoch 23/100\n",
      "3s - loss: 62.8002 - val_loss: 56.7496\n",
      "Epoch 24/100\n",
      "3s - loss: 54.3876 - val_loss: 51.8470\n",
      "Epoch 25/100\n",
      "3s - loss: 50.5525 - val_loss: 45.7017\n",
      "Epoch 26/100\n",
      "3s - loss: 48.0591 - val_loss: 43.6990\n",
      "Epoch 27/100\n",
      "3s - loss: 47.8367 - val_loss: 50.1522\n",
      "Epoch 28/100\n",
      "3s - loss: 49.1315 - val_loss: 47.5190\n",
      "Epoch 29/100\n",
      "3s - loss: 48.3883 - val_loss: 45.5330\n",
      "Epoch 30/100\n",
      "3s - loss: 49.8980 - val_loss: 49.4760\n",
      "Epoch 31/100\n",
      "3s - loss: 51.4588 - val_loss: 47.7788\n",
      "Epoch 32/100\n",
      "3s - loss: 49.4720 - val_loss: 45.3386\n",
      "Epoch 33/100\n",
      "3s - loss: 48.0888 - val_loss: 46.5586\n",
      "Epoch 34/100\n",
      "3s - loss: 47.7732 - val_loss: 48.2218\n",
      "Epoch 35/100\n",
      "3s - loss: 48.8248 - val_loss: 47.3533\n",
      "Epoch 36/100\n",
      "3s - loss: 49.0796 - val_loss: 45.3960\n",
      "Epoch 37/100\n",
      "3s - loss: 46.6611 - val_loss: 47.3180\n",
      "Epoch 38/100\n",
      "3s - loss: 46.7145 - val_loss: 45.5358\n",
      "Epoch 39/100\n",
      "3s - loss: 46.5288 - val_loss: 45.9143\n",
      "Epoch 40/100\n"
     ]
    },
    {
     "ename": "KeyboardInterrupt",
     "evalue": "",
     "output_type": "error",
     "traceback": [
      "\u001b[0;31m---------------------------------------------------------------------------\u001b[0m",
      "\u001b[0;31mKeyboardInterrupt\u001b[0m                         Traceback (most recent call last)",
      "\u001b[0;32m<ipython-input-76-85eb894cd62b>\u001b[0m in \u001b[0;36m<module>\u001b[0;34m()\u001b[0m\n\u001b[1;32m      8\u001b[0m \u001b[0;31m# model.compile(loss='mean_absolute_error', optimizer='adam')\u001b[0m\u001b[0;34m\u001b[0m\u001b[0;34m\u001b[0m\u001b[0m\n\u001b[1;32m      9\u001b[0m \u001b[0mmodel\u001b[0m\u001b[0;34m.\u001b[0m\u001b[0mcompile\u001b[0m\u001b[0;34m(\u001b[0m\u001b[0mloss\u001b[0m\u001b[0;34m=\u001b[0m\u001b[0msmape\u001b[0m\u001b[0;34m,\u001b[0m \u001b[0moptimizer\u001b[0m\u001b[0;34m=\u001b[0m\u001b[0;34m'adam'\u001b[0m\u001b[0;34m)\u001b[0m\u001b[0;34m\u001b[0m\u001b[0m\n\u001b[0;32m---> 10\u001b[0;31m \u001b[0mmodel\u001b[0m\u001b[0;34m.\u001b[0m\u001b[0mfit\u001b[0m\u001b[0;34m(\u001b[0m\u001b[0mX_train\u001b[0m\u001b[0;34m,\u001b[0m \u001b[0mY_train\u001b[0m\u001b[0;34m,\u001b[0m \u001b[0mepochs\u001b[0m\u001b[0;34m=\u001b[0m\u001b[0;36m100\u001b[0m\u001b[0;34m,\u001b[0m \u001b[0mbatch_size\u001b[0m\u001b[0;34m=\u001b[0m\u001b[0;36m128\u001b[0m\u001b[0;34m,\u001b[0m \u001b[0mverbose\u001b[0m\u001b[0;34m=\u001b[0m\u001b[0;36m2\u001b[0m\u001b[0;34m,\u001b[0m \u001b[0mvalidation_data\u001b[0m\u001b[0;34m=\u001b[0m\u001b[0;34m(\u001b[0m\u001b[0mX_test\u001b[0m\u001b[0;34m,\u001b[0m \u001b[0mY_test\u001b[0m\u001b[0;34m)\u001b[0m\u001b[0;34m)\u001b[0m\u001b[0;34m\u001b[0m\u001b[0m\n\u001b[0m",
      "\u001b[0;32m/Users/frank/anaconda/lib/python2.7/site-packages/keras/models.pyc\u001b[0m in \u001b[0;36mfit\u001b[0;34m(self, x, y, batch_size, epochs, verbose, callbacks, validation_split, validation_data, shuffle, class_weight, sample_weight, initial_epoch, **kwargs)\u001b[0m\n\u001b[1;32m    865\u001b[0m                               \u001b[0mclass_weight\u001b[0m\u001b[0;34m=\u001b[0m\u001b[0mclass_weight\u001b[0m\u001b[0;34m,\u001b[0m\u001b[0;34m\u001b[0m\u001b[0m\n\u001b[1;32m    866\u001b[0m                               \u001b[0msample_weight\u001b[0m\u001b[0;34m=\u001b[0m\u001b[0msample_weight\u001b[0m\u001b[0;34m,\u001b[0m\u001b[0;34m\u001b[0m\u001b[0m\n\u001b[0;32m--> 867\u001b[0;31m                               initial_epoch=initial_epoch)\n\u001b[0m\u001b[1;32m    868\u001b[0m \u001b[0;34m\u001b[0m\u001b[0m\n\u001b[1;32m    869\u001b[0m     def evaluate(self, x, y, batch_size=32, verbose=1,\n",
      "\u001b[0;32m/Users/frank/anaconda/lib/python2.7/site-packages/keras/engine/training.pyc\u001b[0m in \u001b[0;36mfit\u001b[0;34m(self, x, y, batch_size, epochs, verbose, callbacks, validation_split, validation_data, shuffle, class_weight, sample_weight, initial_epoch, steps_per_epoch, validation_steps, **kwargs)\u001b[0m\n\u001b[1;32m   1596\u001b[0m                               \u001b[0minitial_epoch\u001b[0m\u001b[0;34m=\u001b[0m\u001b[0minitial_epoch\u001b[0m\u001b[0;34m,\u001b[0m\u001b[0;34m\u001b[0m\u001b[0m\n\u001b[1;32m   1597\u001b[0m                               \u001b[0msteps_per_epoch\u001b[0m\u001b[0;34m=\u001b[0m\u001b[0msteps_per_epoch\u001b[0m\u001b[0;34m,\u001b[0m\u001b[0;34m\u001b[0m\u001b[0m\n\u001b[0;32m-> 1598\u001b[0;31m                               validation_steps=validation_steps)\n\u001b[0m\u001b[1;32m   1599\u001b[0m \u001b[0;34m\u001b[0m\u001b[0m\n\u001b[1;32m   1600\u001b[0m     def evaluate(self, x, y,\n",
      "\u001b[0;32m/Users/frank/anaconda/lib/python2.7/site-packages/keras/engine/training.pyc\u001b[0m in \u001b[0;36m_fit_loop\u001b[0;34m(self, f, ins, out_labels, batch_size, epochs, verbose, callbacks, val_f, val_ins, shuffle, callback_metrics, initial_epoch, steps_per_epoch, validation_steps)\u001b[0m\n\u001b[1;32m   1181\u001b[0m                     \u001b[0mbatch_logs\u001b[0m\u001b[0;34m[\u001b[0m\u001b[0;34m'size'\u001b[0m\u001b[0;34m]\u001b[0m \u001b[0;34m=\u001b[0m \u001b[0mlen\u001b[0m\u001b[0;34m(\u001b[0m\u001b[0mbatch_ids\u001b[0m\u001b[0;34m)\u001b[0m\u001b[0;34m\u001b[0m\u001b[0m\n\u001b[1;32m   1182\u001b[0m                     \u001b[0mcallbacks\u001b[0m\u001b[0;34m.\u001b[0m\u001b[0mon_batch_begin\u001b[0m\u001b[0;34m(\u001b[0m\u001b[0mbatch_index\u001b[0m\u001b[0;34m,\u001b[0m \u001b[0mbatch_logs\u001b[0m\u001b[0;34m)\u001b[0m\u001b[0;34m\u001b[0m\u001b[0m\n\u001b[0;32m-> 1183\u001b[0;31m                     \u001b[0mouts\u001b[0m \u001b[0;34m=\u001b[0m \u001b[0mf\u001b[0m\u001b[0;34m(\u001b[0m\u001b[0mins_batch\u001b[0m\u001b[0;34m)\u001b[0m\u001b[0;34m\u001b[0m\u001b[0m\n\u001b[0m\u001b[1;32m   1184\u001b[0m                     \u001b[0;32mif\u001b[0m \u001b[0;32mnot\u001b[0m \u001b[0misinstance\u001b[0m\u001b[0;34m(\u001b[0m\u001b[0mouts\u001b[0m\u001b[0;34m,\u001b[0m \u001b[0mlist\u001b[0m\u001b[0;34m)\u001b[0m\u001b[0;34m:\u001b[0m\u001b[0;34m\u001b[0m\u001b[0m\n\u001b[1;32m   1185\u001b[0m                         \u001b[0mouts\u001b[0m \u001b[0;34m=\u001b[0m \u001b[0;34m[\u001b[0m\u001b[0mouts\u001b[0m\u001b[0;34m]\u001b[0m\u001b[0;34m\u001b[0m\u001b[0m\n",
      "\u001b[0;32m/Users/frank/anaconda/lib/python2.7/site-packages/keras/backend/tensorflow_backend.pyc\u001b[0m in \u001b[0;36m__call__\u001b[0;34m(self, inputs)\u001b[0m\n\u001b[1;32m   2271\u001b[0m         updated = session.run(self.outputs + [self.updates_op],\n\u001b[1;32m   2272\u001b[0m                               \u001b[0mfeed_dict\u001b[0m\u001b[0;34m=\u001b[0m\u001b[0mfeed_dict\u001b[0m\u001b[0;34m,\u001b[0m\u001b[0;34m\u001b[0m\u001b[0m\n\u001b[0;32m-> 2273\u001b[0;31m                               **self.session_kwargs)\n\u001b[0m\u001b[1;32m   2274\u001b[0m         \u001b[0;32mreturn\u001b[0m \u001b[0mupdated\u001b[0m\u001b[0;34m[\u001b[0m\u001b[0;34m:\u001b[0m\u001b[0mlen\u001b[0m\u001b[0;34m(\u001b[0m\u001b[0mself\u001b[0m\u001b[0;34m.\u001b[0m\u001b[0moutputs\u001b[0m\u001b[0;34m)\u001b[0m\u001b[0;34m]\u001b[0m\u001b[0;34m\u001b[0m\u001b[0m\n\u001b[1;32m   2275\u001b[0m \u001b[0;34m\u001b[0m\u001b[0m\n",
      "\u001b[0;32m/Users/frank/anaconda/lib/python2.7/site-packages/tensorflow/python/client/session.pyc\u001b[0m in \u001b[0;36mrun\u001b[0;34m(self, fetches, feed_dict, options, run_metadata)\u001b[0m\n\u001b[1;32m    893\u001b[0m     \u001b[0;32mtry\u001b[0m\u001b[0;34m:\u001b[0m\u001b[0;34m\u001b[0m\u001b[0m\n\u001b[1;32m    894\u001b[0m       result = self._run(None, fetches, feed_dict, options_ptr,\n\u001b[0;32m--> 895\u001b[0;31m                          run_metadata_ptr)\n\u001b[0m\u001b[1;32m    896\u001b[0m       \u001b[0;32mif\u001b[0m \u001b[0mrun_metadata\u001b[0m\u001b[0;34m:\u001b[0m\u001b[0;34m\u001b[0m\u001b[0m\n\u001b[1;32m    897\u001b[0m         \u001b[0mproto_data\u001b[0m \u001b[0;34m=\u001b[0m \u001b[0mtf_session\u001b[0m\u001b[0;34m.\u001b[0m\u001b[0mTF_GetBuffer\u001b[0m\u001b[0;34m(\u001b[0m\u001b[0mrun_metadata_ptr\u001b[0m\u001b[0;34m)\u001b[0m\u001b[0;34m\u001b[0m\u001b[0m\n",
      "\u001b[0;32m/Users/frank/anaconda/lib/python2.7/site-packages/tensorflow/python/client/session.pyc\u001b[0m in \u001b[0;36m_run\u001b[0;34m(self, handle, fetches, feed_dict, options, run_metadata)\u001b[0m\n\u001b[1;32m   1122\u001b[0m     \u001b[0;32mif\u001b[0m \u001b[0mfinal_fetches\u001b[0m \u001b[0;32mor\u001b[0m \u001b[0mfinal_targets\u001b[0m \u001b[0;32mor\u001b[0m \u001b[0;34m(\u001b[0m\u001b[0mhandle\u001b[0m \u001b[0;32mand\u001b[0m \u001b[0mfeed_dict_tensor\u001b[0m\u001b[0;34m)\u001b[0m\u001b[0;34m:\u001b[0m\u001b[0;34m\u001b[0m\u001b[0m\n\u001b[1;32m   1123\u001b[0m       results = self._do_run(handle, final_targets, final_fetches,\n\u001b[0;32m-> 1124\u001b[0;31m                              feed_dict_tensor, options, run_metadata)\n\u001b[0m\u001b[1;32m   1125\u001b[0m     \u001b[0;32melse\u001b[0m\u001b[0;34m:\u001b[0m\u001b[0;34m\u001b[0m\u001b[0m\n\u001b[1;32m   1126\u001b[0m       \u001b[0mresults\u001b[0m \u001b[0;34m=\u001b[0m \u001b[0;34m[\u001b[0m\u001b[0;34m]\u001b[0m\u001b[0;34m\u001b[0m\u001b[0m\n",
      "\u001b[0;32m/Users/frank/anaconda/lib/python2.7/site-packages/tensorflow/python/client/session.pyc\u001b[0m in \u001b[0;36m_do_run\u001b[0;34m(self, handle, target_list, fetch_list, feed_dict, options, run_metadata)\u001b[0m\n\u001b[1;32m   1319\u001b[0m     \u001b[0;32mif\u001b[0m \u001b[0mhandle\u001b[0m \u001b[0;32mis\u001b[0m \u001b[0mNone\u001b[0m\u001b[0;34m:\u001b[0m\u001b[0;34m\u001b[0m\u001b[0m\n\u001b[1;32m   1320\u001b[0m       return self._do_call(_run_fn, self._session, feeds, fetches, targets,\n\u001b[0;32m-> 1321\u001b[0;31m                            options, run_metadata)\n\u001b[0m\u001b[1;32m   1322\u001b[0m     \u001b[0;32melse\u001b[0m\u001b[0;34m:\u001b[0m\u001b[0;34m\u001b[0m\u001b[0m\n\u001b[1;32m   1323\u001b[0m       \u001b[0;32mreturn\u001b[0m \u001b[0mself\u001b[0m\u001b[0;34m.\u001b[0m\u001b[0m_do_call\u001b[0m\u001b[0;34m(\u001b[0m\u001b[0m_prun_fn\u001b[0m\u001b[0;34m,\u001b[0m \u001b[0mself\u001b[0m\u001b[0;34m.\u001b[0m\u001b[0m_session\u001b[0m\u001b[0;34m,\u001b[0m \u001b[0mhandle\u001b[0m\u001b[0;34m,\u001b[0m \u001b[0mfeeds\u001b[0m\u001b[0;34m,\u001b[0m \u001b[0mfetches\u001b[0m\u001b[0;34m)\u001b[0m\u001b[0;34m\u001b[0m\u001b[0m\n",
      "\u001b[0;32m/Users/frank/anaconda/lib/python2.7/site-packages/tensorflow/python/client/session.pyc\u001b[0m in \u001b[0;36m_do_call\u001b[0;34m(self, fn, *args)\u001b[0m\n\u001b[1;32m   1325\u001b[0m   \u001b[0;32mdef\u001b[0m \u001b[0m_do_call\u001b[0m\u001b[0;34m(\u001b[0m\u001b[0mself\u001b[0m\u001b[0;34m,\u001b[0m \u001b[0mfn\u001b[0m\u001b[0;34m,\u001b[0m \u001b[0;34m*\u001b[0m\u001b[0margs\u001b[0m\u001b[0;34m)\u001b[0m\u001b[0;34m:\u001b[0m\u001b[0;34m\u001b[0m\u001b[0m\n\u001b[1;32m   1326\u001b[0m     \u001b[0;32mtry\u001b[0m\u001b[0;34m:\u001b[0m\u001b[0;34m\u001b[0m\u001b[0m\n\u001b[0;32m-> 1327\u001b[0;31m       \u001b[0;32mreturn\u001b[0m \u001b[0mfn\u001b[0m\u001b[0;34m(\u001b[0m\u001b[0;34m*\u001b[0m\u001b[0margs\u001b[0m\u001b[0;34m)\u001b[0m\u001b[0;34m\u001b[0m\u001b[0m\n\u001b[0m\u001b[1;32m   1328\u001b[0m     \u001b[0;32mexcept\u001b[0m \u001b[0merrors\u001b[0m\u001b[0;34m.\u001b[0m\u001b[0mOpError\u001b[0m \u001b[0;32mas\u001b[0m \u001b[0me\u001b[0m\u001b[0;34m:\u001b[0m\u001b[0;34m\u001b[0m\u001b[0m\n\u001b[1;32m   1329\u001b[0m       \u001b[0mmessage\u001b[0m \u001b[0;34m=\u001b[0m \u001b[0mcompat\u001b[0m\u001b[0;34m.\u001b[0m\u001b[0mas_text\u001b[0m\u001b[0;34m(\u001b[0m\u001b[0me\u001b[0m\u001b[0;34m.\u001b[0m\u001b[0mmessage\u001b[0m\u001b[0;34m)\u001b[0m\u001b[0;34m\u001b[0m\u001b[0m\n",
      "\u001b[0;32m/Users/frank/anaconda/lib/python2.7/site-packages/tensorflow/python/client/session.pyc\u001b[0m in \u001b[0;36m_run_fn\u001b[0;34m(session, feed_dict, fetch_list, target_list, options, run_metadata)\u001b[0m\n\u001b[1;32m   1304\u001b[0m           return tf_session.TF_Run(session, options,\n\u001b[1;32m   1305\u001b[0m                                    \u001b[0mfeed_dict\u001b[0m\u001b[0;34m,\u001b[0m \u001b[0mfetch_list\u001b[0m\u001b[0;34m,\u001b[0m \u001b[0mtarget_list\u001b[0m\u001b[0;34m,\u001b[0m\u001b[0;34m\u001b[0m\u001b[0m\n\u001b[0;32m-> 1306\u001b[0;31m                                    status, run_metadata)\n\u001b[0m\u001b[1;32m   1307\u001b[0m \u001b[0;34m\u001b[0m\u001b[0m\n\u001b[1;32m   1308\u001b[0m     \u001b[0;32mdef\u001b[0m \u001b[0m_prun_fn\u001b[0m\u001b[0;34m(\u001b[0m\u001b[0msession\u001b[0m\u001b[0;34m,\u001b[0m \u001b[0mhandle\u001b[0m\u001b[0;34m,\u001b[0m \u001b[0mfeed_dict\u001b[0m\u001b[0;34m,\u001b[0m \u001b[0mfetch_list\u001b[0m\u001b[0;34m)\u001b[0m\u001b[0;34m:\u001b[0m\u001b[0;34m\u001b[0m\u001b[0m\n",
      "\u001b[0;31mKeyboardInterrupt\u001b[0m: "
     ]
    }
   ],
   "source": [
    "# create and fit the LSTM network\n",
    "model = Sequential()\n",
    "model.add(LSTM(100, input_shape=(X_train.shape[1], X_train.shape[2]), return_sequences = True))\n",
    "model.add(Dropout(0.2))\n",
    "model.add(LSTM(50, return_sequences = False))\n",
    "model.add(Dropout(0.2))\n",
    "model.add(Dense(5))\n",
    "# model.compile(loss='mean_absolute_error', optimizer='adam')\n",
    "model.compile(loss=smape, optimizer='adam')\n",
    "model.fit(X_train, Y_train, epochs=100, batch_size=128, verbose=2, validation_data=(X_test, Y_test))"
   ]
  },
  {
   "cell_type": "raw",
   "metadata": {},
   "source": [
    "train.shape, test.shape"
   ]
  },
  {
   "cell_type": "code",
   "execution_count": null,
   "metadata": {
    "collapsed": true
   },
   "outputs": [],
   "source": []
  },
  {
   "cell_type": "code",
   "execution_count": null,
   "metadata": {
    "collapsed": true
   },
   "outputs": [],
   "source": []
  },
  {
   "cell_type": "code",
   "execution_count": 82,
   "metadata": {
    "collapsed": true
   },
   "outputs": [],
   "source": [
    "look_back=1\n",
    "trainX, trainY = create_dataset(train, look_back)\n",
    "testX, testY = create_dataset(test, look_back)"
   ]
  },
  {
   "cell_type": "code",
   "execution_count": 83,
   "metadata": {},
   "outputs": [
    {
     "data": {
      "text/plain": [
       "((42, 1), (42,))"
      ]
     },
     "execution_count": 83,
     "metadata": {},
     "output_type": "execute_result"
    }
   ],
   "source": [
    "trainX.shape, trainY.shape"
   ]
  },
  {
   "cell_type": "code",
   "execution_count": 84,
   "metadata": {},
   "outputs": [
    {
     "data": {
      "text/plain": [
       "array([ 0.07070707], dtype=float32)"
      ]
     },
     "execution_count": 84,
     "metadata": {},
     "output_type": "execute_result"
    }
   ],
   "source": [
    "testX[0]"
   ]
  },
  {
   "cell_type": "code",
   "execution_count": 85,
   "metadata": {
    "collapsed": true
   },
   "outputs": [],
   "source": [
    "# reshape input to be [samples, time steps, features]\n",
    "trainX = np.reshape(trainX, (trainX.shape[0], 1, trainX.shape[1]))\n",
    "testX = np.reshape(testX, (testX.shape[0], 1, testX.shape[1]))\n",
    "\n"
   ]
  },
  {
   "cell_type": "code",
   "execution_count": 57,
   "metadata": {},
   "outputs": [
    {
     "data": {
      "text/plain": [
       "((42, 1, 1), (3, 1, 1))"
      ]
     },
     "execution_count": 57,
     "metadata": {},
     "output_type": "execute_result"
    }
   ],
   "source": [
    "trainX.shape, testX.shape"
   ]
  },
  {
   "cell_type": "code",
   "execution_count": 89,
   "metadata": {},
   "outputs": [
    {
     "data": {
      "text/plain": [
       "array([[[ 0.07070707]],\n",
       "\n",
       "       [[ 0.08080808]],\n",
       "\n",
       "       [[ 0.06565657]]], dtype=float32)"
      ]
     },
     "execution_count": 89,
     "metadata": {},
     "output_type": "execute_result"
    }
   ],
   "source": [
    "testX"
   ]
  },
  {
   "cell_type": "code",
   "execution_count": null,
   "metadata": {
    "collapsed": true
   },
   "outputs": [],
   "source": [
    "import numpy as np\n",
    "import pandas as pd\n",
    "import matplotlib.pyplot as plt\n",
    "import math\n",
    "from keras.models import Sequential\n",
    "from keras.layers import Dense, LSTM\n",
    "from sklearn.preprocessing import MinMaxScaler\n",
    "from sklearn.metrics import mean_squared_error\n",
    "\n",
    "np.random.seed(7)\n",
    "\n",
    "def create_dataset(dataset, look_back=1):\n",
    "    dataX, dataY = [], []\n",
    "    for i in range(len(dataset)-look_back-1):\n",
    "        a = dataset[i:(i+look_back), 0]\n",
    "        dataX.append(a)\n",
    "        dataY.append(dataset[i + look_back, 0])\n",
    "    return np.array(dataX), np.array(dataY)\n",
    "\n",
    "dataframe = pd.read_csv('../input/traininggoogleprices/TrainPrices.csv', usecols=[1])\n",
    "dataset = dataframe.values\n",
    "dataset = dataset.astype('float32')\n",
    "# normalize the dataset\n",
    "scaler = MinMaxScaler(feature_range=(0, 1))\n",
    "dataset = scaler.fit_transform(dataset)\n",
    "\n",
    "train_size = int(len(dataset) * 0.9)\n",
    "test_size = len(dataset) - train_size\n",
    "train, test = dataset[0:train_size,:], dataset[train_size:len(dataset),:]\n",
    "\n",
    "look_back=1\n",
    "trainX, trainY = create_dataset(train, look_back)\n",
    "testX, testY = create_dataset(test, look_back)\n",
    "# reshape input to be [samples, time steps, features]\n",
    "trainX = np.reshape(trainX, (trainX.shape[0], 1, trainX.shape[1]))\n",
    "testX = np.reshape(testX, (testX.shape[0], 1, testX.shape[1]))\n",
    "\n",
    "# create and fit the LSTM network\n",
    "model = Sequential()\n",
    "model.add(LSTM(128,activation='relu', input_shape=(1, look_back), return_sequences=False))\n",
    "# model.add(LSTM(128,activation='tanh', input_shape=(1, look_back),return_sequences=False))\n",
    "model.add(Dense(1, activation='relu'))\n",
    "model.compile(loss='mean_absolute_percentage_error', optimizer='RMSProp', metrics = ['accuracy', smape])\n",
    "model.fit(trainX, trainY, epochs=10, batch_size=32, verbose=2)\n",
    "\n",
    "# make predictions\n",
    "trainPredict = model.predict(trainX)\n",
    "testPredict = model.predict(testX)\n",
    "# invert predictions\n",
    "trainPredict = scaler.inverse_transform(trainPredict)\n",
    "trainY = scaler.inverse_transform([trainY])\n",
    "testPredict = scaler.inverse_transform(testPredict)\n",
    "testY = scaler.inverse_transform([testY])\n",
    "\n",
    "# calculate root mean squared error\n",
    "trainScore = math.sqrt(mean_squared_error(trainY[0], trainPredict[:,0]))\n",
    "print('Train Score: %.2f RMSE' % (trainScore))\n",
    "testScore = math.sqrt(mean_squared_error(testY[0], testPredict[:,0]))\n",
    "print('Test Score: %.2f RMSE' % (testScore))\n",
    "\n",
    "# shift train predictions for plotting\n",
    "trainPredictPlot = np.empty_like(dataset)\n",
    "trainPredictPlot[:, :] = np.nan\n",
    "trainPredictPlot[look_back:len(trainPredict)+look_back, :] = trainPredict\n",
    "\n",
    "# shift test predictions for plotting\n",
    "testPredictPlot = np.empty_like(dataset)\n",
    "testPredictPlot[:, :] = np.nan\n",
    "testPredictPlot[len(trainPredict)+(look_back*2)+1:len(dataset)-1, :] = testPredict\n",
    "\n",
    "# plot baseline and predictions\n",
    "plt.plot(scaler.inverse_transform(dataset))\n",
    "plt.plot(trainPredictPlot)\n",
    "plt.plot(testPredictPlot)\n",
    "plt.show()"
   ]
  },
  {
   "cell_type": "code",
   "execution_count": null,
   "metadata": {
    "collapsed": true
   },
   "outputs": [],
   "source": [
    "# import numpy as np\n",
    "# import pandas as pd\n",
    "# import matplotlib.pyplot as plt\n",
    "# import math\n",
    "# from keras.models import Sequential\n",
    "# from keras.layers import Dense, LSTM\n",
    "# from sklearn.preprocessing import MinMaxScaler\n",
    "# from sklearn.metrics import mean_squared_error\n",
    "\n",
    "# np.random.seed(7)\n",
    "\n",
    "# def create_dataset(dataset, look_back=1):\n",
    "#     dataX, dataY = [], []\n",
    "#     for i in range(len(dataset)-look_back-1):\n",
    "#         a = dataset[i:(i+look_back), 0]\n",
    "#         dataX.append(a)\n",
    "#         dataY.append(dataset[i + look_back, 0])\n",
    "#     return np.array(dataX), np.array(dataY)\n",
    "\n",
    "# dataframe = pd.read_csv('../input/traininggoogleprices/TrainPrices.csv', usecols=[1])\n",
    "# dataset = dataframe.values\n",
    "# dataset = dataset.astype('float32')\n",
    "# # normalize the dataset\n",
    "# scaler = MinMaxScaler(feature_range=(0, 1))\n",
    "# dataset = scaler.fit_transform(dataset)\n",
    "\n",
    "# train_size = int(len(dataset) * 0.9)\n",
    "# test_size = len(dataset) - train_size\n",
    "# train, test = dataset[0:train_size,:], dataset[train_size:len(dataset),:]\n",
    "\n",
    "# look_back=1\n",
    "# trainX, trainY = create_dataset(train, look_back)\n",
    "# testX, testY = create_dataset(test, look_back)\n",
    "# # reshape input to be [samples, time steps, features]\n",
    "# trainX = np.reshape(trainX, (trainX.shape[0], 1, trainX.shape[1]))\n",
    "# testX = np.reshape(testX, (testX.shape[0], 1, testX.shape[1]))\n",
    "\n",
    "# # create and fit the LSTM network\n",
    "# model = Sequential()\n",
    "# model.add(LSTM(128,activation='tanh', input_shape=(1, look_back), return_sequences=True))\n",
    "# model.add(LSTM(128,activation='tanh', input_shape=(1, look_back),return_sequences=False))\n",
    "# model.add(Dense(1, activation='relu'))\n",
    "# model.compile(loss='mse', optimizer='RMSProp', metrics = ['accuracy'])\n",
    "# model.fit(trainX, trainY, epochs=10, batch_size=32, verbose=2)\n",
    "\n",
    "# # make predictions\n",
    "# trainPredict = model.predict(trainX)\n",
    "# testPredict = model.predict(testX)\n",
    "# # invert predictions\n",
    "# trainPredict = scaler.inverse_transform(trainPredict)\n",
    "# trainY = scaler.inverse_transform([trainY])\n",
    "# testPredict = scaler.inverse_transform(testPredict)\n",
    "# testY = scaler.inverse_transform([testY])\n",
    "\n",
    "# # calculate root mean squared error\n",
    "# trainScore = math.sqrt(mean_squared_error(trainY[0], trainPredict[:,0]))\n",
    "# print('Train Score: %.2f RMSE' % (trainScore))\n",
    "# testScore = math.sqrt(mean_squared_error(testY[0], testPredict[:,0]))\n",
    "# print('Test Score: %.2f RMSE' % (testScore))\n",
    "\n",
    "# # shift train predictions for plotting\n",
    "# trainPredictPlot = np.empty_like(dataset)\n",
    "# trainPredictPlot[:, :] = np.nan\n",
    "# trainPredictPlot[look_back:len(trainPredict)+look_back, :] = trainPredict\n",
    "\n",
    "# # shift test predictions for plotting\n",
    "# testPredictPlot = np.empty_like(dataset)\n",
    "# testPredictPlot[:, :] = np.nan\n",
    "# testPredictPlot[len(trainPredict)+(look_back*2)+1:len(dataset)-1, :] = testPredict\n",
    "\n",
    "# # plot baseline and predictions\n",
    "# plt.plot(scaler.inverse_transform(dataset))\n",
    "# plt.plot(trainPredictPlot)\n",
    "# plt.plot(testPredictPlot)\n",
    "# plt.show()"
   ]
  },
  {
   "cell_type": "code",
   "execution_count": null,
   "metadata": {
    "collapsed": true
   },
   "outputs": [],
   "source": [
    "epochs  = 1\n",
    "seq_len = 50\n",
    "\n",
    "print('> Loading data... ')\n",
    "\n",
    "X_train, y_train, X_test, y_test = lstm.load_data('sp500.csv', seq_len, True)\n",
    "\n",
    "print('> Data Loaded. Compiling...')\n",
    "\n",
    "model = lstm.build_model([1, 50, 100, 1])\n",
    "\n",
    "model.fit(\n",
    "    X_train,\n",
    "    y_train,\n",
    "    batch_size=512,\n",
    "    nb_epoch=epochs,\n",
    "    validation_split=0.05)\n",
    "\n",
    "predicted = lstm.predict_point_by_point(model, X_test)"
   ]
  },
  {
   "cell_type": "code",
   "execution_count": 1,
   "metadata": {},
   "outputs": [
    {
     "name": "stderr",
     "output_type": "stream",
     "text": [
      "Using TensorFlow backend.\n"
     ]
    }
   ],
   "source": [
    "import os\n",
    "import time\n",
    "import warnings\n",
    "import numpy as np\n",
    "from numpy import newaxis\n",
    "from keras.layers.core import Dense, Activation, Dropout\n",
    "from keras.layers.recurrent import LSTM\n",
    "from keras.models import Sequential\n",
    "\n",
    "os.environ['TF_CPP_MIN_LOG_LEVEL'] = '3' #Hide messy TensorFlow warnings\n",
    "warnings.filterwarnings(\"ignore\") #Hide messy Numpy warnings\n",
    "\n",
    "def load_data(filename, seq_len, normalise_window):\n",
    "    f = open(filename, 'rb').read()\n",
    "    data = f.decode().split('\\n')\n",
    "\n",
    "    sequence_length = seq_len + 1\n",
    "    result = []\n",
    "    for index in range(len(data) - sequence_length):\n",
    "        result.append(data[index: index + sequence_length])\n",
    "    \n",
    "    if normalise_window:\n",
    "        result = normalise_windows(result)\n",
    "\n",
    "    result = np.array(result)\n",
    "\n",
    "    row = round(0.9 * result.shape[0])\n",
    "    train = result[:int(row), :]\n",
    "    np.random.shuffle(train)\n",
    "    x_train = train[:, :-1]\n",
    "    y_train = train[:, -1]\n",
    "    x_test = result[int(row):, :-1]\n",
    "    y_test = result[int(row):, -1]\n",
    "\n",
    "    x_train = np.reshape(x_train, (x_train.shape[0], x_train.shape[1], 1))\n",
    "    x_test = np.reshape(x_test, (x_test.shape[0], x_test.shape[1], 1))  \n",
    "\n",
    "    return [x_train, y_train, x_test, y_test]\n",
    "\n",
    "def normalise_windows(window_data):\n",
    "    normalised_data = []\n",
    "    for window in window_data:\n",
    "        normalised_window = [((float(p) / float(window[0])) - 1) for p in window]\n",
    "        normalised_data.append(normalised_window)\n",
    "    return normalised_data\n",
    "\n",
    "def build_model(layers):\n",
    "    model = Sequential()\n",
    "\n",
    "    model.add(LSTM(\n",
    "        input_dim=layers[0],\n",
    "        output_dim=layers[1],\n",
    "        return_sequences=True))\n",
    "    model.add(Dropout(0.2))\n",
    "\n",
    "    model.add(LSTM(\n",
    "        layers[2],\n",
    "        return_sequences=False))\n",
    "    model.add(Dropout(0.2))\n",
    "\n",
    "    model.add(Dense(\n",
    "        output_dim=layers[3]))\n",
    "    model.add(Activation(\"linear\"))\n",
    "\n",
    "    start = time.time()\n",
    "    model.compile(loss=\"mse\", optimizer=\"rmsprop\")\n",
    "    print(\"> Compilation Time : \", time.time() - start)\n",
    "    return model\n",
    "\n",
    "def predict_point_by_point(model, data):\n",
    "    #Predict each timestep given the last sequence of true data, in effect only predicting 1 step ahead each time\n",
    "    predicted = model.predict(data)\n",
    "    predicted = np.reshape(predicted, (predicted.size,))\n",
    "    return predicted\n",
    "\n",
    "def predict_sequence_full(model, data, window_size):\n",
    "    #Shift the window by 1 new prediction each time, re-run predictions on new window\n",
    "    curr_frame = data[0]\n",
    "    predicted = []\n",
    "    for i in range(len(data)):\n",
    "        predicted.append(model.predict(curr_frame[newaxis,:,:])[0,0])\n",
    "        curr_frame = curr_frame[1:]\n",
    "        curr_frame = np.insert(curr_frame, [window_size-1], predicted[-1], axis=0)\n",
    "    return predicted\n",
    "\n",
    "def predict_sequences_multiple(model, data, window_size, prediction_len):\n",
    "    #Predict sequence of 50 steps before shifting prediction run forward by 50 steps\n",
    "    prediction_seqs = []\n",
    "    for i in range(int(len(data)/prediction_len)):\n",
    "        curr_frame = data[i*prediction_len]\n",
    "        predicted = []\n",
    "        for j in range(prediction_len):\n",
    "            predicted.append(model.predict(curr_frame[newaxis,:,:])[0,0])\n",
    "            curr_frame = curr_frame[1:]\n",
    "            curr_frame = np.insert(curr_frame, [window_size-1], predicted[-1], axis=0)\n",
    "        prediction_seqs.append(predicted)\n",
    "    return prediction_seqs"
   ]
  },
  {
   "cell_type": "code",
   "execution_count": 2,
   "metadata": {},
   "outputs": [
    {
     "ename": "ImportError",
     "evalue": "No module named lstm",
     "output_type": "error",
     "traceback": [
      "\u001b[0;31m\u001b[0m",
      "\u001b[0;31mImportError\u001b[0mTraceback (most recent call last)",
      "\u001b[0;32m<ipython-input-2-89bed6c49f31>\u001b[0m in \u001b[0;36m<module>\u001b[0;34m()\u001b[0m\n\u001b[0;32m----> 1\u001b[0;31m \u001b[0;32mimport\u001b[0m \u001b[0mlstm\u001b[0m\u001b[0;34m\u001b[0m\u001b[0m\n\u001b[0m\u001b[1;32m      2\u001b[0m \u001b[0;32mimport\u001b[0m \u001b[0mtime\u001b[0m\u001b[0;34m\u001b[0m\u001b[0m\n\u001b[1;32m      3\u001b[0m \u001b[0;32mimport\u001b[0m \u001b[0mmatplotlib\u001b[0m\u001b[0;34m.\u001b[0m\u001b[0mpyplot\u001b[0m \u001b[0;32mas\u001b[0m \u001b[0mplt\u001b[0m\u001b[0;34m\u001b[0m\u001b[0m\n\u001b[1;32m      4\u001b[0m \u001b[0;34m\u001b[0m\u001b[0m\n\u001b[1;32m      5\u001b[0m \u001b[0;32mdef\u001b[0m \u001b[0mplot_results\u001b[0m\u001b[0;34m(\u001b[0m\u001b[0mpredicted_data\u001b[0m\u001b[0;34m,\u001b[0m \u001b[0mtrue_data\u001b[0m\u001b[0;34m)\u001b[0m\u001b[0;34m:\u001b[0m\u001b[0;34m\u001b[0m\u001b[0m\n",
      "\u001b[0;31mImportError\u001b[0m: No module named lstm"
     ]
    }
   ],
   "source": [
    "import lstm\n",
    "import time\n",
    "import matplotlib.pyplot as plt\n",
    "\n",
    "def plot_results(predicted_data, true_data):\n",
    "    fig = plt.figure(facecolor='white')\n",
    "    ax = fig.add_subplot(111)\n",
    "    ax.plot(true_data, label='True Data')\n",
    "    plt.plot(predicted_data, label='Prediction')\n",
    "    plt.legend()\n",
    "    plt.show()\n",
    "\n",
    "def plot_results_multiple(predicted_data, true_data, prediction_len):\n",
    "    fig = plt.figure(facecolor='white')\n",
    "    ax = fig.add_subplot(111)\n",
    "    ax.plot(true_data, label='True Data')\n",
    "    #Pad the list of predictions to shift it in the graph to it's correct start\n",
    "    for i, data in enumerate(predicted_data):\n",
    "        padding = [None for p in range(i * prediction_len)]\n",
    "        plt.plot(padding + data, label='Prediction')\n",
    "        plt.legend()\n",
    "    plt.show()\n",
    "\n",
    "#Main Run Thread\n",
    "if __name__=='__main__':\n",
    "\tglobal_start_time = time.time()\n",
    "\tepochs  = 1\n",
    "\tseq_len = 50\n",
    "\n",
    "\tprint('> Loading data... ')\n",
    "\n",
    "\tX_train, y_train, X_test, y_test = lstm.load_data('sp500.csv', seq_len, True)\n",
    "\n",
    "\tprint('> Data Loaded. Compiling...')\n",
    "\n",
    "\tmodel = lstm.build_model([1, 50, 100, 1])\n",
    "\n",
    "\tmodel.fit(\n",
    "\t    X_train,\n",
    "\t    y_train,\n",
    "\t    batch_size=512,\n",
    "\t    nb_epoch=epochs,\n",
    "\t    validation_split=0.05)\n",
    "\n",
    "\tpredictions = lstm.predict_sequences_multiple(model, X_test, seq_len, 50)\n",
    "\t#predicted = lstm.predict_sequence_full(model, X_test, seq_len)\n",
    "\t#predicted = lstm.predict_point_by_point(model, X_test)        \n",
    "\n",
    "\tprint('Training duration (s) : ', time.time() - global_start_time)\n",
    "\tplot_results_multiple(predictions, y_test, 50)\n"
   ]
  },
  {
   "cell_type": "code",
   "execution_count": 6,
   "metadata": {},
   "outputs": [
    {
     "name": "stderr",
     "output_type": "stream",
     "text": [
      "Using TensorFlow backend.\n"
     ]
    },
    {
     "ename": "NameError",
     "evalue": "name 'df1' is not defined",
     "output_type": "error",
     "traceback": [
      "\u001b[0;31m\u001b[0m",
      "\u001b[0;31mNameError\u001b[0mTraceback (most recent call last)",
      "\u001b[0;32m<ipython-input-6-42034ff4b273>\u001b[0m in \u001b[0;36m<module>\u001b[0;34m()\u001b[0m\n\u001b[1;32m     15\u001b[0m \u001b[0;31m# You should get data frames with prices somewhere, e.g. on Quandl - implementation is up to you\u001b[0m\u001b[0;34m\u001b[0m\u001b[0;34m\u001b[0m\u001b[0m\n\u001b[1;32m     16\u001b[0m \u001b[0;31m# merge data frames\u001b[0m\u001b[0;34m\u001b[0m\u001b[0;34m\u001b[0m\u001b[0m\n\u001b[0;32m---> 17\u001b[0;31m \u001b[0mmerged\u001b[0m \u001b[0;34m=\u001b[0m \u001b[0mdf1\u001b[0m\u001b[0;34m.\u001b[0m\u001b[0mmerge\u001b[0m\u001b[0;34m(\u001b[0m\u001b[0mdf2\u001b[0m\u001b[0;34m,\u001b[0m \u001b[0mleft_index\u001b[0m\u001b[0;34m=\u001b[0m\u001b[0mTrue\u001b[0m\u001b[0;34m,\u001b[0m \u001b[0mright_index\u001b[0m\u001b[0;34m=\u001b[0m\u001b[0mTrue\u001b[0m\u001b[0;34m,\u001b[0m \u001b[0mhow\u001b[0m\u001b[0;34m=\u001b[0m\u001b[0;34m'inner'\u001b[0m\u001b[0;34m)\u001b[0m\u001b[0;34m.\u001b[0m\u001b[0mdropna\u001b[0m\u001b[0;34m(\u001b[0m\u001b[0;34m)\u001b[0m\u001b[0;34m\u001b[0m\u001b[0m\n\u001b[0m\u001b[1;32m     18\u001b[0m \u001b[0;34m\u001b[0m\u001b[0m\n\u001b[1;32m     19\u001b[0m \u001b[0;31m# data prep\u001b[0m\u001b[0;34m\u001b[0m\u001b[0;34m\u001b[0m\u001b[0m\n",
      "\u001b[0;31mNameError\u001b[0m: name 'df1' is not defined"
     ]
    }
   ],
   "source": [
    "# Time Series Testing \n",
    "import keras.callbacks\n",
    "from keras.models import Sequential  \n",
    "from keras.layers.core import Dense, Activation, Dense, Dropout\n",
    "from keras.layers.recurrent import LSTM\n",
    "\n",
    "# Call back to capture losses \n",
    "class LossHistory(keras.callbacks.Callback):\n",
    "    def on_train_begin(self, logs={}):\n",
    "        self.losses = []\n",
    "\n",
    "    def on_batch_end(self, batch, logs={}):\n",
    "        self.losses.append(logs.get('loss'))\n",
    "        \n",
    "# You should get data frames with prices somewhere, e.g. on Quandl - implementation is up to you\n",
    "# merge data frames\n",
    "merged = df1.merge(df2, left_index=True, right_index=True, how='inner').dropna()\n",
    "\n",
    "# data prep\n",
    "# use 100 days of historical data to predict 10 days in the future\n",
    "data = merged.values\n",
    "examples = 100\n",
    "y_examples = 10\n",
    "nb_samples = len(data) - examples - y_examples\n",
    "\n",
    "# input - 2 features\n",
    "input_list = [np.expand_dims(np.atleast_2d(data[i:examples+i,:]), axis=0) for i in xrange(nb_samples)]\n",
    "input_mat = np.concatenate(input_list, axis=0)\n",
    "\n",
    "# target - the first column in merged dataframe\n",
    "target_list = [np.atleast_2d(data[i+examples:examples+i+y_examples,0]) for i in xrange(nb_samples)]\n",
    "target_mat = np.concatenate(target_list, axis=0)\n",
    "\n",
    "# set up model\n",
    "trials = input_mat.shape[0]\n",
    "features = input_mat.shape[2]\n",
    "hidden = 64\n",
    "model = Sequential()\n",
    "model.add(LSTM(hidden, input_shape=(examples, features)))\n",
    "model.add(Dropout(.2))\n",
    "model.add(Dense(y_examples))\n",
    "model.add(Activation('linear'))\n",
    "model.compile(loss='mse', optimizer='rmsprop')\n",
    "\n",
    "# Train\n",
    "history = LossHistory()\n",
    "model.fit(input_mat, target_mat, nb_epoch=100, batch_size=400, callbacks=[history])"
   ]
  },
  {
   "cell_type": "code",
   "execution_count": 1,
   "metadata": {
    "collapsed": true
   },
   "outputs": [],
   "source": [
    "## before 11:00, finish LSTM for first line, last 49 days here, fighting!!!"
   ]
  },
  {
   "cell_type": "code",
   "execution_count": 3,
   "metadata": {},
   "outputs": [
    {
     "name": "stderr",
     "output_type": "stream",
     "text": [
      "Using TensorFlow backend.\n"
     ]
    }
   ],
   "source": [
    "from __future__ import print_function\n",
    "\n",
    "from keras.preprocessing import sequence\n",
    "from keras.models import Sequential\n",
    "from keras.layers import Dense, Embedding\n",
    "from keras.layers import LSTM\n",
    "from keras.datasets import imdb"
   ]
  },
  {
   "cell_type": "code",
   "execution_count": 8,
   "metadata": {},
   "outputs": [
    {
     "name": "stdout",
     "output_type": "stream",
     "text": [
      "Populating the interactive namespace from numpy and matplotlib\n"
     ]
    }
   ],
   "source": [
    "%pylab inline"
   ]
  },
  {
   "cell_type": "code",
   "execution_count": 112,
   "metadata": {
    "collapsed": true
   },
   "outputs": [],
   "source": [
    "mydata = train.iloc[1, 1:]"
   ]
  },
  {
   "cell_type": "code",
   "execution_count": 113,
   "metadata": {},
   "outputs": [
    {
     "data": {
      "text/plain": [
       "<matplotlib.axes._subplots.AxesSubplot at 0x126752d50>"
      ]
     },
     "execution_count": 113,
     "metadata": {},
     "output_type": "execute_result"
    },
    {
     "data": {
      "image/png": "[encoded data removed]",
      "text/plain": [
       "<matplotlib.figure.Figure at 0x122c86e50>"
      ]
     },
     "metadata": {},
     "output_type": "display_data"
    }
   ],
   "source": [
    "mydata.plot()"
   ]
  },
  {
   "cell_type": "code",
   "execution_count": 114,
   "metadata": {
    "collapsed": true
   },
   "outputs": [],
   "source": [
    "import numpy\n",
    "import matplotlib.pyplot as plt\n",
    "import pandas\n",
    "import math\n",
    "from keras.models import Sequential\n",
    "from keras.layers import Dense\n",
    "from keras.layers import LSTM\n",
    "from sklearn.preprocessing import MinMaxScaler\n",
    "from sklearn.metrics import mean_squared_error, mean_absolute_error"
   ]
  },
  {
   "cell_type": "code",
   "execution_count": 115,
   "metadata": {
    "collapsed": true
   },
   "outputs": [],
   "source": [
    "# fix random seed for reproducibility\n",
    "numpy.random.seed(7)"
   ]
  },
  {
   "cell_type": "code",
   "execution_count": 116,
   "metadata": {},
   "outputs": [
    {
     "name": "stderr",
     "output_type": "stream",
     "text": [
      "/Users/frank/anaconda/lib/python2.7/site-packages/sklearn/preprocessing/data.py:321: DeprecationWarning: Passing 1d arrays as data is deprecated in 0.17 and will raise ValueError in 0.19. Reshape your data either using X.reshape(-1, 1) if your data has a single feature or X.reshape(1, -1) if it contains a single sample.\n",
      "  warnings.warn(DEPRECATION_MSG_1D, DeprecationWarning)\n",
      "/Users/frank/anaconda/lib/python2.7/site-packages/sklearn/preprocessing/data.py:356: DeprecationWarning: Passing 1d arrays as data is deprecated in 0.17 and will raise ValueError in 0.19. Reshape your data either using X.reshape(-1, 1) if your data has a single feature or X.reshape(1, -1) if it contains a single sample.\n",
      "  warnings.warn(DEPRECATION_MSG_1D, DeprecationWarning)\n"
     ]
    }
   ],
   "source": [
    "# normalize the dataset\n",
    "scaler = MinMaxScaler(feature_range=(0, 1))\n",
    "dataset = scaler.fit_transform(mydata)"
   ]
  },
  {
   "cell_type": "code",
   "execution_count": 117,
   "metadata": {},
   "outputs": [
    {
     "data": {
      "text/plain": [
       "[<matplotlib.lines.Line2D at 0x128e1cbd0>]"
      ]
     },
     "execution_count": 117,
     "metadata": {},
     "output_type": "execute_result"
    },
    {
     "data": {
      "image/png": "[encoded data removed]",
      "text/plain": [
       "<matplotlib.figure.Figure at 0x121c24ed0>"
      ]
     },
     "metadata": {},
     "output_type": "display_data"
    }
   ],
   "source": [
    "plt.plot(range(len(dataset)), dataset)"
   ]
  },
  {
   "cell_type": "code",
   "execution_count": 120,
   "metadata": {
    "collapsed": true
   },
   "outputs": [],
   "source": [
    "## here, I assume we have two hyperparameters: look_back 120 and num_predict 60"
   ]
  },
  {
   "cell_type": "code",
   "execution_count": 121,
   "metadata": {
    "collapsed": true
   },
   "outputs": [],
   "source": [
    "## maybe first clustering, and do LSTM for different clusters"
   ]
  },
  {
   "cell_type": "code",
   "execution_count": 183,
   "metadata": {
    "collapsed": true
   },
   "outputs": [],
   "source": [
    "## 我暂时觉得这样是可以的"
   ]
  },
  {
   "cell_type": "markdown",
   "metadata": {},
   "source": [
    "# Keras LSTM Exploration"
   ]
  },
  {
   "cell_type": "markdown",
   "metadata": {},
   "source": [
    "## Version 0"
   ]
  },
  {
   "cell_type": "code",
   "execution_count": 188,
   "metadata": {
    "collapsed": true
   },
   "outputs": [],
   "source": [
    "## Version 0:\n",
    "## from website: https://machinelearningmastery.com/time-series-prediction-lstm-recurrent-neural-networks-python-keras/\n",
    "## this is the example code for LSTM time series prediction\n",
    "## split a time series into multiple lines (instances)\n",
    "## here everytime just predict 1 value\n",
    "## batch size is 1\n",
    "## look_back is 1\n",
    "## I just use train.iloc[0, :-49] to test\n",
    "## code commented out, just for backup here"
   ]
  },
  {
   "cell_type": "code",
   "execution_count": 217,
   "metadata": {
    "collapsed": true
   },
   "outputs": [],
   "source": [
    "# import numpy as np # linear algebra\n",
    "# import pandas as pd # data processing, CSV file I/O (e.g. pd.read_csv)\n",
    "\n",
    "# train = pd.read_csv(\"train_1.csv\", nrows = 1)\n",
    "# mydata = train.iloc[0, -49:]\n",
    "# # normalize the dataset\n",
    "# scaler = MinMaxScaler(feature_range=(0, 1))\n",
    "# dataset = scaler.fit_transform(mydata)\n",
    "# dataset = dataset.reshape(-1, 1)\n",
    "\n",
    "# # split into train and test sets\n",
    "# train_size = int(len(dataset) * 0.67)\n",
    "# test_size = len(dataset) - train_size\n",
    "# train, test = dataset[0:train_size,:], dataset[train_size:len(dataset),:]\n",
    "# print(len(train), len(test))\n",
    "\n",
    "# # convert an array of values into a dataset matrix\n",
    "# def create_dataset(dataset, look_back=1):\n",
    "# \tdataX, dataY = [], []\n",
    "# \tfor i in range(len(dataset)-look_back-1):\n",
    "# \t\ta = dataset[i:(i+look_back), 0]\n",
    "# \t\tdataX.append(a)\n",
    "# \t\tdataY.append(dataset[i + look_back, 0])\n",
    "# \treturn numpy.array(dataX), numpy.array(dataY)\n",
    "\n",
    "# # reshape into X=t and Y=t+1\n",
    "# look_back = 1\n",
    "# trainX, trainY = create_dataset(train, look_back)\n",
    "# testX, testY = create_dataset(test, look_back)\n",
    "\n",
    "# # reshape input to be [samples, time steps, features]\n",
    "# trainX = numpy.reshape(trainX, (trainX.shape[0], 1, trainX.shape[1]))\n",
    "# testX = numpy.reshape(testX, (testX.shape[0], 1, testX.shape[1]))\n",
    "\n",
    "# # create and fit the LSTM network\n",
    "# model = Sequential()\n",
    "# model.add(LSTM(4, input_shape=(1, look_back)))\n",
    "# model.add(Dense(1))\n",
    "# model.compile(loss='mean_squared_error', optimizer='adam')\n",
    "# model.fit(trainX, trainY, epochs=30, batch_size=1, verbose=2)"
   ]
  },
  {
   "cell_type": "markdown",
   "metadata": {},
   "source": [
    "## Version 1"
   ]
  },
  {
   "cell_type": "code",
   "execution_count": 187,
   "metadata": {
    "collapsed": true
   },
   "outputs": [],
   "source": [
    "## Version 1: \n",
    "## data source from only one line: use 120 look_back and 60 num_predict\n",
    "## use *mape* as loss function\n",
    "## 300 epochs, 20 batch size, seems converge"
   ]
  },
  {
   "cell_type": "code",
   "execution_count": null,
   "metadata": {
    "collapsed": true
   },
   "outputs": [],
   "source": [
    "## The original mape function definition is here:\n",
    "## from: https://github.com/fchollet/keras/blob/master/keras/losses.py\n",
    "\n",
    "# def mean_absolute_percentage_error(y_true, y_pred):\n",
    "#     diff = K.abs((y_true - y_pred) / K.clip(K.abs(y_true),\n",
    "#                                             K.epsilon(),\n",
    "#                                             None))\n",
    "#     return 100. * K.mean(diff, axis=-1)"
   ]
  },
  {
   "cell_type": "code",
   "execution_count": 252,
   "metadata": {
    "collapsed": true
   },
   "outputs": [],
   "source": [
    "## assuming we filling na with 0.0, so we do not have nan anymore, do not need to consider the case when averaging\n",
    "## define smape function as loss function to make more sense"
   ]
  },
  {
   "cell_type": "code",
   "execution_count": 253,
   "metadata": {
    "collapsed": true
   },
   "outputs": [],
   "source": [
    "from keras import backend as K\n",
    "\n",
    "def smape(y_true, y_pred):\n",
    "    diff = K.abs((y_true - y_pred) / K.clip(K.abs(y_true) + K.abs(y_pred),\n",
    "                                            K.epsilon(),\n",
    "                                            None))\n",
    "    return 200. * K.mean(diff, axis=-1)"
   ]
  },
  {
   "cell_type": "code",
   "execution_count": 251,
   "metadata": {},
   "outputs": [
    {
     "name": "stderr",
     "output_type": "stream",
     "text": [
      "/Users/frank/anaconda/lib/python2.7/site-packages/sklearn/preprocessing/data.py:321: DeprecationWarning: Passing 1d arrays as data is deprecated in 0.17 and will raise ValueError in 0.19. Reshape your data either using X.reshape(-1, 1) if your data has a single feature or X.reshape(1, -1) if it contains a single sample.\n",
      "  warnings.warn(DEPRECATION_MSG_1D, DeprecationWarning)\n",
      "/Users/frank/anaconda/lib/python2.7/site-packages/sklearn/preprocessing/data.py:356: DeprecationWarning: Passing 1d arrays as data is deprecated in 0.17 and will raise ValueError in 0.19. Reshape your data either using X.reshape(-1, 1) if your data has a single feature or X.reshape(1, -1) if it contains a single sample.\n",
      "  warnings.warn(DEPRECATION_MSG_1D, DeprecationWarning)\n"
     ]
    },
    {
     "name": "stdout",
     "output_type": "stream",
     "text": [
      "368 182\n",
      "Train on 188 samples, validate on 2 samples\n",
      "Epoch 1/300\n",
      "1s - loss: 141.9188 - val_loss: 107.7159\n",
      "Epoch 2/300\n",
      "0s - loss: 89.1541 - val_loss: 66.1716\n",
      "Epoch 3/300\n",
      "0s - loss: 61.3367 - val_loss: 51.1008\n",
      "Epoch 4/300\n",
      "0s - loss: 54.4066 - val_loss: 48.9824\n",
      "Epoch 5/300\n",
      "0s - loss: 53.3121 - val_loss: 49.2880\n",
      "Epoch 6/300\n",
      "0s - loss: 52.7995 - val_loss: 49.1670\n",
      "Epoch 7/300\n",
      "0s - loss: 52.3081 - val_loss: 48.9163\n",
      "Epoch 8/300\n",
      "0s - loss: 51.8473 - val_loss: 48.7453\n",
      "Epoch 9/300\n",
      "0s - loss: 51.4299 - val_loss: 48.8251\n",
      "Epoch 10/300\n",
      "0s - loss: 51.1064 - val_loss: 48.7249\n",
      "Epoch 11/300\n",
      "0s - loss: 50.8114 - val_loss: 48.9583\n",
      "Epoch 12/300\n",
      "0s - loss: 50.5732 - val_loss: 48.9559\n",
      "Epoch 13/300\n",
      "0s - loss: 50.3398 - val_loss: 48.8787\n",
      "Epoch 14/300\n",
      "0s - loss: 50.1041 - val_loss: 48.8108\n",
      "Epoch 15/300\n",
      "0s - loss: 49.9269 - val_loss: 48.7199\n",
      "Epoch 16/300\n",
      "0s - loss: 49.7424 - val_loss: 48.7566\n",
      "Epoch 17/300\n",
      "0s - loss: 49.5638 - val_loss: 48.9933\n",
      "Epoch 18/300\n",
      "0s - loss: 49.4462 - val_loss: 48.9952\n",
      "Epoch 19/300\n",
      "0s - loss: 49.3140 - val_loss: 48.7325\n",
      "Epoch 20/300\n",
      "0s - loss: 49.2079 - val_loss: 48.7517\n",
      "Epoch 21/300\n",
      "0s - loss: 49.0889 - val_loss: 48.8537\n",
      "Epoch 22/300\n",
      "0s - loss: 48.9710 - val_loss: 48.5386\n",
      "Epoch 23/300\n",
      "0s - loss: 48.8652 - val_loss: 48.4914\n",
      "Epoch 24/300\n",
      "0s - loss: 48.7827 - val_loss: 48.7953\n",
      "Epoch 25/300\n",
      "0s - loss: 48.6857 - val_loss: 48.6436\n",
      "Epoch 26/300\n",
      "0s - loss: 48.6064 - val_loss: 48.5150\n",
      "Epoch 27/300\n",
      "0s - loss: 48.5344 - val_loss: 48.6147\n",
      "Epoch 28/300\n",
      "0s - loss: 48.4654 - val_loss: 48.7003\n",
      "Epoch 29/300\n",
      "0s - loss: 48.3823 - val_loss: 48.5422\n",
      "Epoch 30/300\n",
      "0s - loss: 48.3260 - val_loss: 48.5072\n",
      "Epoch 31/300\n",
      "0s - loss: 48.2292 - val_loss: 48.6330\n",
      "Epoch 32/300\n",
      "0s - loss: 48.1856 - val_loss: 48.4706\n",
      "Epoch 33/300\n",
      "0s - loss: 48.1157 - val_loss: 48.4812\n",
      "Epoch 34/300\n",
      "0s - loss: 48.0514 - val_loss: 48.6617\n",
      "Epoch 35/300\n",
      "0s - loss: 47.9981 - val_loss: 48.4945\n",
      "Epoch 36/300\n",
      "0s - loss: 47.9247 - val_loss: 48.6369\n",
      "Epoch 37/300\n",
      "0s - loss: 47.8744 - val_loss: 48.5583\n",
      "Epoch 38/300\n",
      "0s - loss: 47.8167 - val_loss: 48.4839\n",
      "Epoch 39/300\n",
      "0s - loss: 47.7669 - val_loss: 48.4035\n",
      "Epoch 40/300\n",
      "0s - loss: 47.7368 - val_loss: 48.6138\n",
      "Epoch 41/300\n",
      "0s - loss: 47.6385 - val_loss: 48.5105\n",
      "Epoch 42/300\n",
      "0s - loss: 47.6192 - val_loss: 48.6534\n",
      "Epoch 43/300\n",
      "0s - loss: 47.5753 - val_loss: 48.3613\n",
      "Epoch 44/300\n",
      "0s - loss: 47.5168 - val_loss: 48.5609\n",
      "Epoch 45/300\n",
      "0s - loss: 47.4654 - val_loss: 48.5328\n",
      "Epoch 46/300\n",
      "0s - loss: 47.4013 - val_loss: 48.4089\n",
      "Epoch 47/300\n",
      "0s - loss: 47.3746 - val_loss: 48.6105\n",
      "Epoch 48/300\n",
      "0s - loss: 47.2745 - val_loss: 48.4519\n",
      "Epoch 49/300\n",
      "0s - loss: 47.2292 - val_loss: 48.5823\n",
      "Epoch 50/300\n",
      "0s - loss: 47.1901 - val_loss: 48.6882\n",
      "Epoch 51/300\n",
      "0s - loss: 47.1206 - val_loss: 48.5246\n",
      "Epoch 52/300\n",
      "0s - loss: 47.0767 - val_loss: 48.4252\n",
      "Epoch 53/300\n",
      "0s - loss: 47.0272 - val_loss: 48.3935\n",
      "Epoch 54/300\n",
      "0s - loss: 46.9574 - val_loss: 48.5696\n",
      "Epoch 55/300\n",
      "0s - loss: 46.9178 - val_loss: 48.8561\n",
      "Epoch 56/300\n",
      "0s - loss: 46.8678 - val_loss: 48.3518\n",
      "Epoch 57/300\n",
      "0s - loss: 46.8101 - val_loss: 48.5634\n",
      "Epoch 58/300\n",
      "0s - loss: 46.7562 - val_loss: 48.5231\n",
      "Epoch 59/300\n",
      "0s - loss: 46.6961 - val_loss: 48.6448\n",
      "Epoch 60/300\n",
      "0s - loss: 46.6389 - val_loss: 48.6993\n",
      "Epoch 61/300\n",
      "0s - loss: 46.6302 - val_loss: 48.5006\n",
      "Epoch 62/300\n",
      "0s - loss: 46.5479 - val_loss: 48.4607\n",
      "Epoch 63/300\n",
      "0s - loss: 46.5197 - val_loss: 48.8491\n",
      "Epoch 64/300\n",
      "0s - loss: 46.4820 - val_loss: 48.6910\n",
      "Epoch 65/300\n",
      "0s - loss: 46.4201 - val_loss: 48.5227\n",
      "Epoch 66/300\n",
      "0s - loss: 46.3494 - val_loss: 48.6563\n",
      "Epoch 67/300\n",
      "0s - loss: 46.3082 - val_loss: 48.6866\n",
      "Epoch 68/300\n",
      "0s - loss: 46.2652 - val_loss: 48.5084\n",
      "Epoch 69/300\n",
      "0s - loss: 46.1951 - val_loss: 48.6316\n",
      "Epoch 70/300\n",
      "0s - loss: 46.1709 - val_loss: 48.6129\n",
      "Epoch 71/300\n",
      "0s - loss: 46.1000 - val_loss: 48.6891\n",
      "Epoch 72/300\n",
      "0s - loss: 46.0386 - val_loss: 48.4454\n",
      "Epoch 73/300\n",
      "0s - loss: 46.0254 - val_loss: 48.3613\n",
      "Epoch 74/300\n",
      "0s - loss: 45.9832 - val_loss: 48.6318\n",
      "Epoch 75/300\n",
      "0s - loss: 45.9079 - val_loss: 48.7863\n",
      "Epoch 76/300\n",
      "0s - loss: 45.8736 - val_loss: 48.4377\n",
      "Epoch 77/300\n",
      "0s - loss: 45.8175 - val_loss: 48.4943\n",
      "Epoch 78/300\n",
      "0s - loss: 45.8072 - val_loss: 48.7315\n",
      "Epoch 79/300\n",
      "0s - loss: 45.7465 - val_loss: 48.5715\n",
      "Epoch 80/300\n",
      "0s - loss: 45.7108 - val_loss: 48.4979\n",
      "Epoch 81/300\n",
      "0s - loss: 45.6378 - val_loss: 48.7848\n",
      "Epoch 82/300\n",
      "0s - loss: 45.6048 - val_loss: 48.4303\n",
      "Epoch 83/300\n",
      "0s - loss: 45.5594 - val_loss: 48.5241\n",
      "Epoch 84/300\n",
      "0s - loss: 45.4815 - val_loss: 48.7424\n",
      "Epoch 85/300\n",
      "0s - loss: 45.4687 - val_loss: 48.4452\n",
      "Epoch 86/300\n",
      "0s - loss: 45.4401 - val_loss: 48.5050\n",
      "Epoch 87/300\n",
      "0s - loss: 45.3752 - val_loss: 48.6258\n",
      "Epoch 88/300\n",
      "0s - loss: 45.3388 - val_loss: 48.4605\n",
      "Epoch 89/300\n",
      "0s - loss: 45.3115 - val_loss: 48.4413\n",
      "Epoch 90/300\n",
      "0s - loss: 45.2447 - val_loss: 48.9102\n",
      "Epoch 91/300\n",
      "0s - loss: 45.1998 - val_loss: 48.6965\n",
      "Epoch 92/300\n",
      "0s - loss: 45.1578 - val_loss: 48.7109\n",
      "Epoch 93/300\n",
      "0s - loss: 45.1329 - val_loss: 48.7611\n",
      "Epoch 94/300\n",
      "0s - loss: 45.0598 - val_loss: 48.5618\n",
      "Epoch 95/300\n",
      "0s - loss: 45.0388 - val_loss: 48.8013\n",
      "Epoch 96/300\n",
      "0s - loss: 45.0048 - val_loss: 48.5664\n",
      "Epoch 97/300\n",
      "0s - loss: 44.9421 - val_loss: 48.7030\n",
      "Epoch 98/300\n",
      "0s - loss: 44.8852 - val_loss: 49.0669\n",
      "Epoch 99/300\n",
      "0s - loss: 44.8558 - val_loss: 48.8708\n",
      "Epoch 100/300\n",
      "0s - loss: 44.8254 - val_loss: 48.8947\n",
      "Epoch 101/300\n",
      "0s - loss: 44.7910 - val_loss: 49.0385\n",
      "Epoch 102/300\n",
      "0s - loss: 44.7752 - val_loss: 48.7158\n",
      "Epoch 103/300\n",
      "0s - loss: 44.6685 - val_loss: 48.4865\n",
      "Epoch 104/300\n",
      "0s - loss: 44.6462 - val_loss: 49.3868\n",
      "Epoch 105/300\n",
      "0s - loss: 44.6490 - val_loss: 48.6951\n",
      "Epoch 106/300\n",
      "0s - loss: 44.5627 - val_loss: 49.2700\n",
      "Epoch 107/300\n",
      "0s - loss: 44.5362 - val_loss: 49.2581\n",
      "Epoch 108/300\n",
      "0s - loss: 44.4856 - val_loss: 49.0350\n",
      "Epoch 109/300\n",
      "0s - loss: 44.4385 - val_loss: 49.3281\n",
      "Epoch 110/300\n",
      "0s - loss: 44.4380 - val_loss: 49.5124\n",
      "Epoch 111/300\n",
      "0s - loss: 44.3691 - val_loss: 48.9618\n",
      "Epoch 112/300\n",
      "0s - loss: 44.3460 - val_loss: 49.2310\n",
      "Epoch 113/300\n",
      "0s - loss: 44.3053 - val_loss: 49.1292\n",
      "Epoch 114/300\n",
      "0s - loss: 44.2906 - val_loss: 49.4498\n",
      "Epoch 115/300\n",
      "0s - loss: 44.2399 - val_loss: 48.9199\n",
      "Epoch 116/300\n",
      "0s - loss: 44.2205 - val_loss: 49.3096\n",
      "Epoch 117/300\n",
      "0s - loss: 44.2098 - val_loss: 49.2046\n",
      "Epoch 118/300\n",
      "0s - loss: 44.1501 - val_loss: 49.1676\n",
      "Epoch 119/300\n",
      "0s - loss: 44.1240 - val_loss: 49.5273\n",
      "Epoch 120/300\n",
      "0s - loss: 44.0416 - val_loss: 49.5911\n",
      "Epoch 121/300\n",
      "0s - loss: 43.9929 - val_loss: 49.5492\n",
      "Epoch 122/300\n",
      "0s - loss: 44.0125 - val_loss: 49.4231\n",
      "Epoch 123/300\n",
      "0s - loss: 43.9933 - val_loss: 49.4424\n",
      "Epoch 124/300\n",
      "0s - loss: 43.9019 - val_loss: 49.4444\n",
      "Epoch 125/300\n",
      "0s - loss: 43.8994 - val_loss: 49.4069\n",
      "Epoch 126/300\n",
      "0s - loss: 43.8428 - val_loss: 49.6074\n",
      "Epoch 127/300\n",
      "0s - loss: 43.8139 - val_loss: 49.6542\n",
      "Epoch 128/300\n",
      "0s - loss: 43.7874 - val_loss: 49.7056\n",
      "Epoch 129/300\n",
      "0s - loss: 43.7339 - val_loss: 49.5633\n",
      "Epoch 130/300\n",
      "0s - loss: 43.7240 - val_loss: 49.8753\n",
      "Epoch 131/300\n",
      "0s - loss: 43.6858 - val_loss: 49.4192\n",
      "Epoch 132/300\n",
      "0s - loss: 43.6630 - val_loss: 49.6933\n",
      "Epoch 133/300\n",
      "0s - loss: 43.6582 - val_loss: 49.6616\n",
      "Epoch 134/300\n",
      "0s - loss: 43.6186 - val_loss: 49.8486\n",
      "Epoch 135/300\n",
      "0s - loss: 43.5631 - val_loss: 49.5068\n",
      "Epoch 136/300\n",
      "0s - loss: 43.5108 - val_loss: 49.7155\n",
      "Epoch 137/300\n",
      "0s - loss: 43.5179 - val_loss: 49.6629\n",
      "Epoch 138/300\n",
      "0s - loss: 43.4896 - val_loss: 49.6581\n",
      "Epoch 139/300\n",
      "0s - loss: 43.4435 - val_loss: 49.9423\n",
      "Epoch 140/300\n",
      "0s - loss: 43.4405 - val_loss: 49.7304\n",
      "Epoch 141/300\n",
      "0s - loss: 43.4152 - val_loss: 49.5777\n",
      "Epoch 142/300\n",
      "0s - loss: 43.3558 - val_loss: 49.5146\n",
      "Epoch 143/300\n",
      "0s - loss: 43.3441 - val_loss: 49.7064\n",
      "Epoch 144/300\n",
      "0s - loss: 43.3142 - val_loss: 49.9994\n",
      "Epoch 145/300\n",
      "0s - loss: 43.2515 - val_loss: 49.9189\n",
      "Epoch 146/300\n",
      "0s - loss: 43.2211 - val_loss: 49.4731\n",
      "Epoch 147/300\n",
      "0s - loss: 43.1975 - val_loss: 49.8124\n",
      "Epoch 148/300\n",
      "0s - loss: 43.2192 - val_loss: 49.7451\n",
      "Epoch 149/300\n",
      "0s - loss: 43.1584 - val_loss: 49.8794\n",
      "Epoch 150/300\n",
      "0s - loss: 43.0890 - val_loss: 49.9658\n",
      "Epoch 151/300\n",
      "0s - loss: 43.1236 - val_loss: 49.5407\n",
      "Epoch 152/300\n",
      "0s - loss: 43.1204 - val_loss: 49.8335\n",
      "Epoch 153/300\n",
      "0s - loss: 43.0473 - val_loss: 49.5555\n",
      "Epoch 154/300\n",
      "0s - loss: 43.0026 - val_loss: 50.0662\n",
      "Epoch 155/300\n",
      "0s - loss: 42.9513 - val_loss: 49.5994\n",
      "Epoch 156/300\n",
      "0s - loss: 42.9545 - val_loss: 49.3913\n",
      "Epoch 157/300\n",
      "0s - loss: 42.9484 - val_loss: 50.6850\n",
      "Epoch 158/300\n",
      "0s - loss: 42.9898 - val_loss: 49.6772\n",
      "Epoch 159/300\n",
      "0s - loss: 42.9136 - val_loss: 50.0454\n",
      "Epoch 160/300\n"
     ]
    },
    {
     "name": "stdout",
     "output_type": "stream",
     "text": [
      "0s - loss: 42.8343 - val_loss: 49.7567\n",
      "Epoch 161/300\n",
      "0s - loss: 42.8833 - val_loss: 50.0420\n",
      "Epoch 162/300\n",
      "0s - loss: 42.8228 - val_loss: 50.1021\n",
      "Epoch 163/300\n",
      "0s - loss: 42.8023 - val_loss: 49.8327\n",
      "Epoch 164/300\n",
      "0s - loss: 42.7805 - val_loss: 50.0461\n",
      "Epoch 165/300\n",
      "0s - loss: 42.7371 - val_loss: 49.8793\n",
      "Epoch 166/300\n",
      "0s - loss: 42.7163 - val_loss: 49.8084\n",
      "Epoch 167/300\n",
      "0s - loss: 42.7086 - val_loss: 50.0097\n",
      "Epoch 168/300\n",
      "0s - loss: 42.6633 - val_loss: 50.1175\n",
      "Epoch 169/300\n",
      "0s - loss: 42.6354 - val_loss: 50.1581\n",
      "Epoch 170/300\n",
      "0s - loss: 42.6207 - val_loss: 49.3808\n",
      "Epoch 171/300\n",
      "0s - loss: 42.6471 - val_loss: 50.0731\n",
      "Epoch 172/300\n",
      "0s - loss: 42.5349 - val_loss: 49.8972\n",
      "Epoch 173/300\n",
      "0s - loss: 42.5546 - val_loss: 49.7759\n",
      "Epoch 174/300\n",
      "0s - loss: 42.5400 - val_loss: 50.1015\n",
      "Epoch 175/300\n",
      "0s - loss: 42.5194 - val_loss: 49.9235\n",
      "Epoch 176/300\n",
      "0s - loss: 42.5500 - val_loss: 49.7124\n",
      "Epoch 177/300\n",
      "0s - loss: 42.5693 - val_loss: 50.2664\n",
      "Epoch 178/300\n",
      "0s - loss: 42.5013 - val_loss: 49.9473\n",
      "Epoch 179/300\n",
      "0s - loss: 42.4578 - val_loss: 49.9227\n",
      "Epoch 180/300\n",
      "0s - loss: 42.4582 - val_loss: 50.1797\n",
      "Epoch 181/300\n",
      "0s - loss: 42.4267 - val_loss: 50.1172\n",
      "Epoch 182/300\n",
      "0s - loss: 42.4020 - val_loss: 49.9460\n",
      "Epoch 183/300\n",
      "0s - loss: 42.3334 - val_loss: 50.0363\n",
      "Epoch 184/300\n",
      "0s - loss: 42.3213 - val_loss: 50.2697\n",
      "Epoch 185/300\n",
      "0s - loss: 42.3297 - val_loss: 50.1946\n",
      "Epoch 186/300\n",
      "0s - loss: 42.2992 - val_loss: 50.4070\n",
      "Epoch 187/300\n",
      "0s - loss: 42.2958 - val_loss: 49.8034\n",
      "Epoch 188/300\n",
      "0s - loss: 42.2672 - val_loss: 50.5634\n",
      "Epoch 189/300\n",
      "0s - loss: 42.2848 - val_loss: 49.9710\n",
      "Epoch 190/300\n",
      "0s - loss: 42.2321 - val_loss: 50.3941\n",
      "Epoch 191/300\n",
      "0s - loss: 42.2344 - val_loss: 50.1999\n",
      "Epoch 192/300\n",
      "0s - loss: 42.2340 - val_loss: 49.9596\n",
      "Epoch 193/300\n",
      "0s - loss: 42.2660 - val_loss: 50.3974\n",
      "Epoch 194/300\n",
      "0s - loss: 42.2220 - val_loss: 50.0591\n",
      "Epoch 195/300\n",
      "0s - loss: 42.2495 - val_loss: 50.3957\n",
      "Epoch 196/300\n",
      "0s - loss: 42.1504 - val_loss: 49.7951\n",
      "Epoch 197/300\n",
      "0s - loss: 42.1753 - val_loss: 49.8349\n",
      "Epoch 198/300\n",
      "0s - loss: 42.1389 - val_loss: 50.6558\n",
      "Epoch 199/300\n",
      "0s - loss: 42.1477 - val_loss: 49.7614\n",
      "Epoch 200/300\n",
      "0s - loss: 42.0530 - val_loss: 49.9081\n",
      "Epoch 201/300\n",
      "0s - loss: 42.0867 - val_loss: 49.9255\n",
      "Epoch 202/300\n",
      "0s - loss: 42.0546 - val_loss: 50.3932\n",
      "Epoch 203/300\n",
      "0s - loss: 42.0410 - val_loss: 50.3193\n",
      "Epoch 204/300\n",
      "0s - loss: 42.0013 - val_loss: 49.9910\n",
      "Epoch 205/300\n",
      "0s - loss: 41.9966 - val_loss: 50.3040\n",
      "Epoch 206/300\n",
      "0s - loss: 41.9999 - val_loss: 49.9016\n",
      "Epoch 207/300\n",
      "0s - loss: 42.0044 - val_loss: 49.8659\n",
      "Epoch 208/300\n",
      "0s - loss: 41.9782 - val_loss: 50.3251\n",
      "Epoch 209/300\n",
      "0s - loss: 41.9723 - val_loss: 49.9235\n",
      "Epoch 210/300\n",
      "0s - loss: 41.9507 - val_loss: 50.3106\n",
      "Epoch 211/300\n",
      "0s - loss: 41.9539 - val_loss: 49.9956\n",
      "Epoch 212/300\n",
      "0s - loss: 41.9082 - val_loss: 50.0363\n",
      "Epoch 213/300\n",
      "0s - loss: 41.8525 - val_loss: 50.0399\n",
      "Epoch 214/300\n",
      "0s - loss: 41.8934 - val_loss: 49.9738\n",
      "Epoch 215/300\n",
      "0s - loss: 41.8321 - val_loss: 50.4115\n",
      "Epoch 216/300\n",
      "0s - loss: 41.8329 - val_loss: 50.2447\n",
      "Epoch 217/300\n",
      "0s - loss: 41.8438 - val_loss: 50.2971\n",
      "Epoch 218/300\n",
      "0s - loss: 41.8783 - val_loss: 50.0128\n",
      "Epoch 219/300\n",
      "0s - loss: 41.8080 - val_loss: 50.3106\n",
      "Epoch 220/300\n",
      "0s - loss: 41.8252 - val_loss: 50.2247\n",
      "Epoch 221/300\n",
      "0s - loss: 41.7517 - val_loss: 49.9541\n",
      "Epoch 222/300\n",
      "0s - loss: 41.7854 - val_loss: 50.3874\n",
      "Epoch 223/300\n",
      "0s - loss: 41.7226 - val_loss: 50.2911\n",
      "Epoch 224/300\n",
      "0s - loss: 41.6933 - val_loss: 50.0145\n",
      "Epoch 225/300\n",
      "0s - loss: 41.7011 - val_loss: 49.8603\n",
      "Epoch 226/300\n",
      "0s - loss: 41.7335 - val_loss: 50.3611\n",
      "Epoch 227/300\n",
      "0s - loss: 41.6577 - val_loss: 50.2598\n",
      "Epoch 228/300\n",
      "0s - loss: 41.6743 - val_loss: 50.5532\n",
      "Epoch 229/300\n",
      "0s - loss: 41.6877 - val_loss: 50.3008\n",
      "Epoch 230/300\n",
      "0s - loss: 41.6584 - val_loss: 50.1210\n",
      "Epoch 231/300\n",
      "0s - loss: 41.6362 - val_loss: 50.4023\n",
      "Epoch 232/300\n",
      "0s - loss: 41.6008 - val_loss: 49.9230\n",
      "Epoch 233/300\n",
      "0s - loss: 41.6178 - val_loss: 50.2858\n",
      "Epoch 234/300\n",
      "0s - loss: 41.5674 - val_loss: 50.7090\n",
      "Epoch 235/300\n",
      "0s - loss: 41.6258 - val_loss: 50.1387\n",
      "Epoch 236/300\n",
      "0s - loss: 41.5631 - val_loss: 50.2367\n",
      "Epoch 237/300\n",
      "0s - loss: 41.5563 - val_loss: 50.2282\n",
      "Epoch 238/300\n",
      "0s - loss: 41.5421 - val_loss: 50.3022\n",
      "Epoch 239/300\n",
      "0s - loss: 41.5433 - val_loss: 50.3576\n",
      "Epoch 240/300\n",
      "0s - loss: 41.5025 - val_loss: 50.2818\n",
      "Epoch 241/300\n",
      "0s - loss: 41.4945 - val_loss: 50.1939\n",
      "Epoch 242/300\n",
      "0s - loss: 41.5253 - val_loss: 50.0400\n",
      "Epoch 243/300\n",
      "0s - loss: 41.4994 - val_loss: 50.6444\n",
      "Epoch 244/300\n",
      "0s - loss: 41.4545 - val_loss: 50.6774\n",
      "Epoch 245/300\n",
      "0s - loss: 41.4477 - val_loss: 50.2058\n",
      "Epoch 246/300\n",
      "0s - loss: 41.4026 - val_loss: 50.7481\n",
      "Epoch 247/300\n",
      "0s - loss: 41.4180 - val_loss: 50.4558\n",
      "Epoch 248/300\n",
      "0s - loss: 41.4225 - val_loss: 50.4465\n",
      "Epoch 249/300\n",
      "0s - loss: 41.4329 - val_loss: 50.5193\n",
      "Epoch 250/300\n",
      "0s - loss: 41.4156 - val_loss: 50.3809\n",
      "Epoch 251/300\n",
      "0s - loss: 41.4036 - val_loss: 50.6027\n",
      "Epoch 252/300\n",
      "0s - loss: 41.3714 - val_loss: 50.5682\n",
      "Epoch 253/300\n",
      "0s - loss: 41.3886 - val_loss: 50.5556\n",
      "Epoch 254/300\n",
      "0s - loss: 41.4207 - val_loss: 50.2922\n",
      "Epoch 255/300\n",
      "0s - loss: 41.3699 - val_loss: 50.2981\n",
      "Epoch 256/300\n",
      "0s - loss: 41.3136 - val_loss: 50.7419\n",
      "Epoch 257/300\n",
      "0s - loss: 41.3631 - val_loss: 50.2993\n",
      "Epoch 258/300\n",
      "0s - loss: 41.2998 - val_loss: 50.8524\n",
      "Epoch 259/300\n",
      "0s - loss: 41.2307 - val_loss: 50.9973\n",
      "Epoch 260/300\n",
      "0s - loss: 41.3450 - val_loss: 50.6096\n",
      "Epoch 261/300\n",
      "0s - loss: 41.2884 - val_loss: 50.2911\n",
      "Epoch 262/300\n",
      "0s - loss: 41.2990 - val_loss: 50.9114\n",
      "Epoch 263/300\n",
      "0s - loss: 41.3225 - val_loss: 50.2099\n",
      "Epoch 264/300\n",
      "0s - loss: 41.2691 - val_loss: 50.5624\n",
      "Epoch 265/300\n",
      "0s - loss: 41.2728 - val_loss: 50.4142\n",
      "Epoch 266/300\n",
      "0s - loss: 41.2122 - val_loss: 50.9752\n",
      "Epoch 267/300\n",
      "0s - loss: 41.2490 - val_loss: 50.2520\n",
      "Epoch 268/300\n",
      "0s - loss: 41.3331 - val_loss: 51.0933\n",
      "Epoch 269/300\n",
      "0s - loss: 41.2897 - val_loss: 50.3506\n",
      "Epoch 270/300\n",
      "0s - loss: 41.2576 - val_loss: 50.1732\n",
      "Epoch 271/300\n",
      "0s - loss: 41.1795 - val_loss: 50.5663\n",
      "Epoch 272/300\n",
      "0s - loss: 41.1575 - val_loss: 50.6150\n",
      "Epoch 273/300\n",
      "0s - loss: 41.1716 - val_loss: 50.4591\n",
      "Epoch 274/300\n",
      "0s - loss: 41.1561 - val_loss: 50.7249\n",
      "Epoch 275/300\n",
      "0s - loss: 41.1174 - val_loss: 50.9497\n",
      "Epoch 276/300\n",
      "0s - loss: 41.1189 - val_loss: 50.5907\n",
      "Epoch 277/300\n",
      "0s - loss: 41.1051 - val_loss: 50.8880\n",
      "Epoch 278/300\n",
      "0s - loss: 41.1324 - val_loss: 51.0132\n",
      "Epoch 279/300\n",
      "0s - loss: 41.1451 - val_loss: 50.8291\n",
      "Epoch 280/300\n",
      "0s - loss: 41.1374 - val_loss: 51.0686\n",
      "Epoch 281/300\n",
      "0s - loss: 41.0922 - val_loss: 50.9441\n",
      "Epoch 282/300\n",
      "0s - loss: 41.0601 - val_loss: 51.1171\n",
      "Epoch 283/300\n",
      "0s - loss: 41.0976 - val_loss: 50.8598\n",
      "Epoch 284/300\n",
      "0s - loss: 41.0513 - val_loss: 51.1653\n",
      "Epoch 285/300\n",
      "0s - loss: 41.0273 - val_loss: 50.8851\n",
      "Epoch 286/300\n",
      "0s - loss: 41.0359 - val_loss: 51.3255\n",
      "Epoch 287/300\n",
      "0s - loss: 41.0774 - val_loss: 51.0883\n",
      "Epoch 288/300\n",
      "0s - loss: 40.9994 - val_loss: 51.2561\n",
      "Epoch 289/300\n",
      "0s - loss: 41.0289 - val_loss: 50.8204\n",
      "Epoch 290/300\n",
      "0s - loss: 40.9998 - val_loss: 50.6278\n",
      "Epoch 291/300\n",
      "0s - loss: 41.0587 - val_loss: 51.3328\n",
      "Epoch 292/300\n",
      "0s - loss: 41.0154 - val_loss: 51.0318\n",
      "Epoch 293/300\n",
      "0s - loss: 41.0680 - val_loss: 50.9727\n",
      "Epoch 294/300\n",
      "0s - loss: 40.9651 - val_loss: 50.8278\n",
      "Epoch 295/300\n",
      "0s - loss: 40.9740 - val_loss: 50.7408\n",
      "Epoch 296/300\n",
      "0s - loss: 41.0071 - val_loss: 51.0523\n",
      "Epoch 297/300\n",
      "0s - loss: 41.0451 - val_loss: 51.3959\n",
      "Epoch 298/300\n",
      "0s - loss: 41.0212 - val_loss: 51.4214\n",
      "Epoch 299/300\n",
      "0s - loss: 41.0148 - val_loss: 50.9479\n",
      "Epoch 300/300\n",
      "0s - loss: 40.9103 - val_loss: 50.8637\n"
     ]
    },
    {
     "data": {
      "text/plain": [
       "<keras.callbacks.History at 0x13d7b2a50>"
      ]
     },
     "execution_count": 251,
     "metadata": {},
     "output_type": "execute_result"
    }
   ],
   "source": [
    "import numpy as np # linear algebra\n",
    "import pandas as pd # data processing, CSV file I/O (e.g. pd.read_csv)\n",
    "\n",
    "train = pd.read_csv(\"train_1.csv\", nrows = 1)\n",
    "mydata = train.iloc[0, 1:]\n",
    "# normalize the dataset\n",
    "scaler = MinMaxScaler(feature_range=(0, 1))\n",
    "dataset = scaler.fit_transform(mydata)\n",
    "\n",
    "dataset = dataset.reshape(-1, 1)\n",
    "\n",
    "# split into train and test sets\n",
    "train_size = int(len(dataset) * 0.67)\n",
    "test_size = len(dataset) - train_size\n",
    "train, test = dataset[0:train_size,:], dataset[train_size:len(dataset),:]\n",
    "print(len(train), len(test))\n",
    "\n",
    "# convert an array of values into a dataset matrix\n",
    "def create_dataset(dataset, look_back=1, num_predict=1):\n",
    "\tdataX, dataY = [], []\n",
    "\tfor i in range(len(dataset)-look_back-num_predict):\n",
    "\t\ta = dataset[i:(i+look_back), 0]\n",
    "\t\tdataX.append(a)\n",
    "\t\tdataY.append(dataset[i + look_back: i + look_back + num_predict, 0])\n",
    "\treturn numpy.array(dataX), numpy.array(dataY)\n",
    "\n",
    "\n",
    "# reshape into X=t and Y=t+1\n",
    "look_back = 120\n",
    "num_predict = 60\n",
    "trainX, trainY = create_dataset(train, look_back, num_predict)\n",
    "testX, testY = create_dataset(test, look_back, num_predict)\n",
    "\n",
    "# reshape input to be [samples, time steps, features]\n",
    "trainX = numpy.reshape(trainX, (trainX.shape[0], 1, trainX.shape[1]))\n",
    "testX = numpy.reshape(testX, (testX.shape[0], 1, testX.shape[1]))\n",
    "\n",
    "# create and fit the LSTM network\n",
    "model = Sequential()\n",
    "model.add(LSTM(10, input_shape=(1, look_back)))\n",
    "model.add(Dense(num_predict))\n",
    "# model.compile(loss='mean_absolute_error', optimizer='adam')\n",
    "# model.compile(loss='mean_absolute_percentage_error', optimizer='adam')\n",
    "model.compile(loss=smape, optimizer='adam')\n",
    "model.fit(trainX, trainY, epochs=300, batch_size=20, verbose=2, validation_data=(testX, testY))"
   ]
  },
  {
   "cell_type": "markdown",
   "metadata": {},
   "source": [
    "### following are the plot for prediction for both training and test set "
   ]
  },
  {
   "cell_type": "code",
   "execution_count": 219,
   "metadata": {
    "collapsed": true
   },
   "outputs": [],
   "source": [
    "test_preds = model.predict(testX)\n",
    "train_preds = model.predict(trainX)"
   ]
  },
  {
   "cell_type": "code",
   "execution_count": 220,
   "metadata": {},
   "outputs": [
    {
     "data": {
      "text/plain": [
       "<matplotlib.text.Text at 0x13c6ae850>"
      ]
     },
     "execution_count": 220,
     "metadata": {},
     "output_type": "execute_result"
    },
    {
     "data": {
      "image/png": "[encoded data removed]",
      "text/plain": [
       "<matplotlib.figure.Figure at 0x13b09e450>"
      ]
     },
     "metadata": {},
     "output_type": "display_data"
    }
   ],
   "source": [
    "l = len(testY[0])\n",
    "\n",
    "fig, (ax1, ax2) = plt.subplots(1,2, figsize=(18,4))\n",
    "ax1.plot(range(l), test_preds[0], label = 'pred')\n",
    "ax1.plot(range(l), testY[0], label = 'true')\n",
    "ax1.legend()\n",
    "ax1.set_title(\"Test Case 0\")\n",
    "\n",
    "ax2.plot(range(l), test_preds[1], label = 'pred')\n",
    "ax2.plot(range(l), testY[1], label = 'true')\n",
    "ax2.legend()\n",
    "ax2.set_title(\"Test Case 1\")"
   ]
  },
  {
   "cell_type": "code",
   "execution_count": 221,
   "metadata": {},
   "outputs": [
    {
     "data": {
      "text/plain": [
       "<matplotlib.text.Text at 0x138660e10>"
      ]
     },
     "execution_count": 221,
     "metadata": {},
     "output_type": "execute_result"
    },
    {
     "data": {
      "image/png": "[encoded data removed]",
      "text/plain": [
       "<matplotlib.figure.Figure at 0x13a013e90>"
      ]
     },
     "metadata": {},
     "output_type": "display_data"
    }
   ],
   "source": [
    "l = len(trainY[0])\n",
    "\n",
    "fig, (ax1, ax2) = plt.subplots(1,2, figsize=(18,4))\n",
    "ax1.plot(range(l), train_preds[0], label = 'pred')\n",
    "ax1.plot(range(l), trainY[0], label = 'true')\n",
    "ax1.legend()\n",
    "ax1.set_title(\"Training Case 0\")\n",
    "\n",
    "ax2.plot(range(l), train_preds[100], label = 'pred')\n",
    "ax2.plot(range(l), trainY[100], label = 'true')\n",
    "ax2.legend()\n",
    "ax2.set_title(\"Training Case 100\")"
   ]
  },
  {
   "cell_type": "markdown",
   "metadata": {},
   "source": [
    "## Version 2"
   ]
  },
  {
   "cell_type": "code",
   "execution_count": 222,
   "metadata": {
    "collapsed": true
   },
   "outputs": [],
   "source": [
    "## version 2\n",
    "## try to fetch source data from multiple lines \n",
    "## lets try first 3 lines from training set first!\n",
    "## fillna to 0.1\n",
    "## use a new *create_dataset* function here"
   ]
  },
  {
   "cell_type": "code",
   "execution_count": 265,
   "metadata": {},
   "outputs": [
    {
     "name": "stdout",
     "output_type": "stream",
     "text": [
      "(188000, 120) (188000, 60)\n",
      "(2000, 120) (2000, 60)\n",
      "Train on 188000 samples, validate on 2000 samples\n",
      "Epoch 1/300\n",
      "10s - loss: 85.8756 - val_loss: 85.7947\n",
      "Epoch 2/300\n",
      "8s - loss: 117.0335 - val_loss: 120.0689\n",
      "Epoch 3/300\n",
      "8s - loss: 135.6706 - val_loss: 135.8130\n",
      "Epoch 4/300\n",
      "8s - loss: 149.3035 - val_loss: 137.3732\n",
      "Epoch 5/300\n",
      "8s - loss: 147.3837 - val_loss: 139.9215\n",
      "Epoch 6/300\n",
      "8s - loss: 152.7998 - val_loss: 150.6227\n",
      "Epoch 7/300\n",
      "8s - loss: 158.6779 - val_loss: 154.5251\n",
      "Epoch 8/300\n",
      "8s - loss: 164.9796 - val_loss: 159.8373\n",
      "Epoch 9/300\n"
     ]
    },
    {
     "ename": "KeyboardInterrupt",
     "evalue": "",
     "output_type": "error",
     "traceback": [
      "\u001b[0;31m\u001b[0m",
      "\u001b[0;31mKeyboardInterrupt\u001b[0mTraceback (most recent call last)",
      "\u001b[0;32m<ipython-input-265-723504cab596>\u001b[0m in \u001b[0;36m<module>\u001b[0;34m()\u001b[0m\n\u001b[1;32m     61\u001b[0m \u001b[0;31m# model.compile(loss='mean_absolute_error', optimizer='adam')\u001b[0m\u001b[0;34m\u001b[0m\u001b[0;34m\u001b[0m\u001b[0m\n\u001b[1;32m     62\u001b[0m \u001b[0mmodel\u001b[0m\u001b[0;34m.\u001b[0m\u001b[0mcompile\u001b[0m\u001b[0;34m(\u001b[0m\u001b[0mloss\u001b[0m\u001b[0;34m=\u001b[0m\u001b[0msmape\u001b[0m\u001b[0;34m,\u001b[0m \u001b[0moptimizer\u001b[0m\u001b[0;34m=\u001b[0m\u001b[0;34m'adam'\u001b[0m\u001b[0;34m)\u001b[0m\u001b[0;34m\u001b[0m\u001b[0m\n\u001b[0;32m---> 63\u001b[0;31m \u001b[0mmodel\u001b[0m\u001b[0;34m.\u001b[0m\u001b[0mfit\u001b[0m\u001b[0;34m(\u001b[0m\u001b[0mtrainX\u001b[0m\u001b[0;34m,\u001b[0m \u001b[0mtrainY\u001b[0m\u001b[0;34m,\u001b[0m \u001b[0mepochs\u001b[0m\u001b[0;34m=\u001b[0m\u001b[0;36m300\u001b[0m\u001b[0;34m,\u001b[0m \u001b[0mbatch_size\u001b[0m\u001b[0;34m=\u001b[0m\u001b[0;36m128\u001b[0m\u001b[0;34m,\u001b[0m \u001b[0mverbose\u001b[0m\u001b[0;34m=\u001b[0m\u001b[0;36m2\u001b[0m\u001b[0;34m,\u001b[0m \u001b[0mvalidation_data\u001b[0m\u001b[0;34m=\u001b[0m\u001b[0;34m(\u001b[0m\u001b[0mtestX\u001b[0m\u001b[0;34m,\u001b[0m \u001b[0mtestY\u001b[0m\u001b[0;34m)\u001b[0m\u001b[0;34m)\u001b[0m\u001b[0;34m\u001b[0m\u001b[0m\n\u001b[0m",
      "\u001b[0;32m/Users/frank/anaconda/lib/python2.7/site-packages/keras/models.pyc\u001b[0m in \u001b[0;36mfit\u001b[0;34m(self, x, y, batch_size, epochs, verbose, callbacks, validation_split, validation_data, shuffle, class_weight, sample_weight, initial_epoch, **kwargs)\u001b[0m\n\u001b[1;32m    865\u001b[0m                               \u001b[0mclass_weight\u001b[0m\u001b[0;34m=\u001b[0m\u001b[0mclass_weight\u001b[0m\u001b[0;34m,\u001b[0m\u001b[0;34m\u001b[0m\u001b[0m\n\u001b[1;32m    866\u001b[0m                               \u001b[0msample_weight\u001b[0m\u001b[0;34m=\u001b[0m\u001b[0msample_weight\u001b[0m\u001b[0;34m,\u001b[0m\u001b[0;34m\u001b[0m\u001b[0m\n\u001b[0;32m--> 867\u001b[0;31m                               initial_epoch=initial_epoch)\n\u001b[0m\u001b[1;32m    868\u001b[0m \u001b[0;34m\u001b[0m\u001b[0m\n\u001b[1;32m    869\u001b[0m     def evaluate(self, x, y, batch_size=32, verbose=1,\n",
      "\u001b[0;32m/Users/frank/anaconda/lib/python2.7/site-packages/keras/engine/training.pyc\u001b[0m in \u001b[0;36mfit\u001b[0;34m(self, x, y, batch_size, epochs, verbose, callbacks, validation_split, validation_data, shuffle, class_weight, sample_weight, initial_epoch, steps_per_epoch, validation_steps, **kwargs)\u001b[0m\n\u001b[1;32m   1596\u001b[0m                               \u001b[0minitial_epoch\u001b[0m\u001b[0;34m=\u001b[0m\u001b[0minitial_epoch\u001b[0m\u001b[0;34m,\u001b[0m\u001b[0;34m\u001b[0m\u001b[0m\n\u001b[1;32m   1597\u001b[0m                               \u001b[0msteps_per_epoch\u001b[0m\u001b[0;34m=\u001b[0m\u001b[0msteps_per_epoch\u001b[0m\u001b[0;34m,\u001b[0m\u001b[0;34m\u001b[0m\u001b[0m\n\u001b[0;32m-> 1598\u001b[0;31m                               validation_steps=validation_steps)\n\u001b[0m\u001b[1;32m   1599\u001b[0m \u001b[0;34m\u001b[0m\u001b[0m\n\u001b[1;32m   1600\u001b[0m     def evaluate(self, x, y,\n",
      "\u001b[0;32m/Users/frank/anaconda/lib/python2.7/site-packages/keras/engine/training.pyc\u001b[0m in \u001b[0;36m_fit_loop\u001b[0;34m(self, f, ins, out_labels, batch_size, epochs, verbose, callbacks, val_f, val_ins, shuffle, callback_metrics, initial_epoch, steps_per_epoch, validation_steps)\u001b[0m\n\u001b[1;32m   1181\u001b[0m                     \u001b[0mbatch_logs\u001b[0m\u001b[0;34m[\u001b[0m\u001b[0;34m'size'\u001b[0m\u001b[0;34m]\u001b[0m \u001b[0;34m=\u001b[0m \u001b[0mlen\u001b[0m\u001b[0;34m(\u001b[0m\u001b[0mbatch_ids\u001b[0m\u001b[0;34m)\u001b[0m\u001b[0;34m\u001b[0m\u001b[0m\n\u001b[1;32m   1182\u001b[0m                     \u001b[0mcallbacks\u001b[0m\u001b[0;34m.\u001b[0m\u001b[0mon_batch_begin\u001b[0m\u001b[0;34m(\u001b[0m\u001b[0mbatch_index\u001b[0m\u001b[0;34m,\u001b[0m \u001b[0mbatch_logs\u001b[0m\u001b[0;34m)\u001b[0m\u001b[0;34m\u001b[0m\u001b[0m\n\u001b[0;32m-> 1183\u001b[0;31m                     \u001b[0mouts\u001b[0m \u001b[0;34m=\u001b[0m \u001b[0mf\u001b[0m\u001b[0;34m(\u001b[0m\u001b[0mins_batch\u001b[0m\u001b[0;34m)\u001b[0m\u001b[0;34m\u001b[0m\u001b[0m\n\u001b[0m\u001b[1;32m   1184\u001b[0m                     \u001b[0;32mif\u001b[0m \u001b[0;32mnot\u001b[0m \u001b[0misinstance\u001b[0m\u001b[0;34m(\u001b[0m\u001b[0mouts\u001b[0m\u001b[0;34m,\u001b[0m \u001b[0mlist\u001b[0m\u001b[0;34m)\u001b[0m\u001b[0;34m:\u001b[0m\u001b[0;34m\u001b[0m\u001b[0m\n\u001b[1;32m   1185\u001b[0m                         \u001b[0mouts\u001b[0m \u001b[0;34m=\u001b[0m \u001b[0;34m[\u001b[0m\u001b[0mouts\u001b[0m\u001b[0;34m]\u001b[0m\u001b[0;34m\u001b[0m\u001b[0m\n",
      "\u001b[0;32m/Users/frank/anaconda/lib/python2.7/site-packages/keras/backend/tensorflow_backend.pyc\u001b[0m in \u001b[0;36m__call__\u001b[0;34m(self, inputs)\u001b[0m\n\u001b[1;32m   2271\u001b[0m         updated = session.run(self.outputs + [self.updates_op],\n\u001b[1;32m   2272\u001b[0m                               \u001b[0mfeed_dict\u001b[0m\u001b[0;34m=\u001b[0m\u001b[0mfeed_dict\u001b[0m\u001b[0;34m,\u001b[0m\u001b[0;34m\u001b[0m\u001b[0m\n\u001b[0;32m-> 2273\u001b[0;31m                               **self.session_kwargs)\n\u001b[0m\u001b[1;32m   2274\u001b[0m         \u001b[0;32mreturn\u001b[0m \u001b[0mupdated\u001b[0m\u001b[0;34m[\u001b[0m\u001b[0;34m:\u001b[0m\u001b[0mlen\u001b[0m\u001b[0;34m(\u001b[0m\u001b[0mself\u001b[0m\u001b[0;34m.\u001b[0m\u001b[0moutputs\u001b[0m\u001b[0;34m)\u001b[0m\u001b[0;34m]\u001b[0m\u001b[0;34m\u001b[0m\u001b[0m\n\u001b[1;32m   2275\u001b[0m \u001b[0;34m\u001b[0m\u001b[0m\n",
      "\u001b[0;32m/Users/frank/anaconda/lib/python2.7/site-packages/tensorflow/python/client/session.pyc\u001b[0m in \u001b[0;36mrun\u001b[0;34m(self, fetches, feed_dict, options, run_metadata)\u001b[0m\n\u001b[1;32m    893\u001b[0m     \u001b[0;32mtry\u001b[0m\u001b[0;34m:\u001b[0m\u001b[0;34m\u001b[0m\u001b[0m\n\u001b[1;32m    894\u001b[0m       result = self._run(None, fetches, feed_dict, options_ptr,\n\u001b[0;32m--> 895\u001b[0;31m                          run_metadata_ptr)\n\u001b[0m\u001b[1;32m    896\u001b[0m       \u001b[0;32mif\u001b[0m \u001b[0mrun_metadata\u001b[0m\u001b[0;34m:\u001b[0m\u001b[0;34m\u001b[0m\u001b[0m\n\u001b[1;32m    897\u001b[0m         \u001b[0mproto_data\u001b[0m \u001b[0;34m=\u001b[0m \u001b[0mtf_session\u001b[0m\u001b[0;34m.\u001b[0m\u001b[0mTF_GetBuffer\u001b[0m\u001b[0;34m(\u001b[0m\u001b[0mrun_metadata_ptr\u001b[0m\u001b[0;34m)\u001b[0m\u001b[0;34m\u001b[0m\u001b[0m\n",
      "\u001b[0;32m/Users/frank/anaconda/lib/python2.7/site-packages/tensorflow/python/client/session.pyc\u001b[0m in \u001b[0;36m_run\u001b[0;34m(self, handle, fetches, feed_dict, options, run_metadata)\u001b[0m\n\u001b[1;32m   1122\u001b[0m     \u001b[0;32mif\u001b[0m \u001b[0mfinal_fetches\u001b[0m \u001b[0;32mor\u001b[0m \u001b[0mfinal_targets\u001b[0m \u001b[0;32mor\u001b[0m \u001b[0;34m(\u001b[0m\u001b[0mhandle\u001b[0m \u001b[0;32mand\u001b[0m \u001b[0mfeed_dict_tensor\u001b[0m\u001b[0;34m)\u001b[0m\u001b[0;34m:\u001b[0m\u001b[0;34m\u001b[0m\u001b[0m\n\u001b[1;32m   1123\u001b[0m       results = self._do_run(handle, final_targets, final_fetches,\n\u001b[0;32m-> 1124\u001b[0;31m                              feed_dict_tensor, options, run_metadata)\n\u001b[0m\u001b[1;32m   1125\u001b[0m     \u001b[0;32melse\u001b[0m\u001b[0;34m:\u001b[0m\u001b[0;34m\u001b[0m\u001b[0m\n\u001b[1;32m   1126\u001b[0m       \u001b[0mresults\u001b[0m \u001b[0;34m=\u001b[0m \u001b[0;34m[\u001b[0m\u001b[0;34m]\u001b[0m\u001b[0;34m\u001b[0m\u001b[0m\n",
      "\u001b[0;32m/Users/frank/anaconda/lib/python2.7/site-packages/tensorflow/python/client/session.pyc\u001b[0m in \u001b[0;36m_do_run\u001b[0;34m(self, handle, target_list, fetch_list, feed_dict, options, run_metadata)\u001b[0m\n\u001b[1;32m   1319\u001b[0m     \u001b[0;32mif\u001b[0m \u001b[0mhandle\u001b[0m \u001b[0;32mis\u001b[0m \u001b[0mNone\u001b[0m\u001b[0;34m:\u001b[0m\u001b[0;34m\u001b[0m\u001b[0m\n\u001b[1;32m   1320\u001b[0m       return self._do_call(_run_fn, self._session, feeds, fetches, targets,\n\u001b[0;32m-> 1321\u001b[0;31m                            options, run_metadata)\n\u001b[0m\u001b[1;32m   1322\u001b[0m     \u001b[0;32melse\u001b[0m\u001b[0;34m:\u001b[0m\u001b[0;34m\u001b[0m\u001b[0m\n\u001b[1;32m   1323\u001b[0m       \u001b[0;32mreturn\u001b[0m \u001b[0mself\u001b[0m\u001b[0;34m.\u001b[0m\u001b[0m_do_call\u001b[0m\u001b[0;34m(\u001b[0m\u001b[0m_prun_fn\u001b[0m\u001b[0;34m,\u001b[0m \u001b[0mself\u001b[0m\u001b[0;34m.\u001b[0m\u001b[0m_session\u001b[0m\u001b[0;34m,\u001b[0m \u001b[0mhandle\u001b[0m\u001b[0;34m,\u001b[0m \u001b[0mfeeds\u001b[0m\u001b[0;34m,\u001b[0m \u001b[0mfetches\u001b[0m\u001b[0;34m)\u001b[0m\u001b[0;34m\u001b[0m\u001b[0m\n",
      "\u001b[0;32m/Users/frank/anaconda/lib/python2.7/site-packages/tensorflow/python/client/session.pyc\u001b[0m in \u001b[0;36m_do_call\u001b[0;34m(self, fn, *args)\u001b[0m\n\u001b[1;32m   1325\u001b[0m   \u001b[0;32mdef\u001b[0m \u001b[0m_do_call\u001b[0m\u001b[0;34m(\u001b[0m\u001b[0mself\u001b[0m\u001b[0;34m,\u001b[0m \u001b[0mfn\u001b[0m\u001b[0;34m,\u001b[0m \u001b[0;34m*\u001b[0m\u001b[0margs\u001b[0m\u001b[0;34m)\u001b[0m\u001b[0;34m:\u001b[0m\u001b[0;34m\u001b[0m\u001b[0m\n\u001b[1;32m   1326\u001b[0m     \u001b[0;32mtry\u001b[0m\u001b[0;34m:\u001b[0m\u001b[0;34m\u001b[0m\u001b[0m\n\u001b[0;32m-> 1327\u001b[0;31m       \u001b[0;32mreturn\u001b[0m \u001b[0mfn\u001b[0m\u001b[0;34m(\u001b[0m\u001b[0;34m*\u001b[0m\u001b[0margs\u001b[0m\u001b[0;34m)\u001b[0m\u001b[0;34m\u001b[0m\u001b[0m\n\u001b[0m\u001b[1;32m   1328\u001b[0m     \u001b[0;32mexcept\u001b[0m \u001b[0merrors\u001b[0m\u001b[0;34m.\u001b[0m\u001b[0mOpError\u001b[0m \u001b[0;32mas\u001b[0m \u001b[0me\u001b[0m\u001b[0;34m:\u001b[0m\u001b[0;34m\u001b[0m\u001b[0m\n\u001b[1;32m   1329\u001b[0m       \u001b[0mmessage\u001b[0m \u001b[0;34m=\u001b[0m \u001b[0mcompat\u001b[0m\u001b[0;34m.\u001b[0m\u001b[0mas_text\u001b[0m\u001b[0;34m(\u001b[0m\u001b[0me\u001b[0m\u001b[0;34m.\u001b[0m\u001b[0mmessage\u001b[0m\u001b[0;34m)\u001b[0m\u001b[0;34m\u001b[0m\u001b[0m\n",
      "\u001b[0;32m/Users/frank/anaconda/lib/python2.7/site-packages/tensorflow/python/client/session.pyc\u001b[0m in \u001b[0;36m_run_fn\u001b[0;34m(session, feed_dict, fetch_list, target_list, options, run_metadata)\u001b[0m\n\u001b[1;32m   1304\u001b[0m           return tf_session.TF_Run(session, options,\n\u001b[1;32m   1305\u001b[0m                                    \u001b[0mfeed_dict\u001b[0m\u001b[0;34m,\u001b[0m \u001b[0mfetch_list\u001b[0m\u001b[0;34m,\u001b[0m \u001b[0mtarget_list\u001b[0m\u001b[0;34m,\u001b[0m\u001b[0;34m\u001b[0m\u001b[0m\n\u001b[0;32m-> 1306\u001b[0;31m                                    status, run_metadata)\n\u001b[0m\u001b[1;32m   1307\u001b[0m \u001b[0;34m\u001b[0m\u001b[0m\n\u001b[1;32m   1308\u001b[0m     \u001b[0;32mdef\u001b[0m \u001b[0m_prun_fn\u001b[0m\u001b[0;34m(\u001b[0m\u001b[0msession\u001b[0m\u001b[0;34m,\u001b[0m \u001b[0mhandle\u001b[0m\u001b[0;34m,\u001b[0m \u001b[0mfeed_dict\u001b[0m\u001b[0;34m,\u001b[0m \u001b[0mfetch_list\u001b[0m\u001b[0;34m)\u001b[0m\u001b[0;34m:\u001b[0m\u001b[0;34m\u001b[0m\u001b[0m\n",
      "\u001b[0;31mKeyboardInterrupt\u001b[0m: "
     ]
    }
   ],
   "source": [
    "import numpy as np # linear algebra\n",
    "import pandas as pd # data processing, CSV file I/O (e.g. pd.read_csv)\n",
    "\n",
    "train = pd.read_csv(\"train_1.csv\", nrows = 1000)\n",
    "train = train.fillna(0.0)\n",
    "mydata = train.iloc[:1000, 1:]\n",
    "# normalize the dataset\n",
    "scaler = MinMaxScaler(feature_range=(0, 1))\n",
    "dataset = scaler.fit_transform(mydata)\n",
    "\n",
    "# dataset = dataset.reshape(-1, 1)\n",
    "\n",
    "# split into train and test sets\n",
    "train_size = int(dataset.shape[1] * 0.67)\n",
    "test_size = dataset.shape[1] - train_size\n",
    "\n",
    "## modify data split here!!!\n",
    "## not split rows now, split columns to train and test here!!!\n",
    "train, test = dataset[:, 0:train_size], dataset[:, train_size:dataset.shape[1]]\n",
    "\n",
    "\n",
    "# convert an array of values into a dataset matrix\n",
    "def create_dataset_each_row(dataset, look_back=1, num_predict=1):\n",
    "\tdataX, dataY = [], []\n",
    "\tfor i in range(len(dataset)-look_back-num_predict):\n",
    "\t\ta = dataset[i:(i+look_back), 0]\n",
    "\t\tdataX.append(a)\n",
    "\t\tdataY.append(dataset[i + look_back: i + look_back + num_predict, 0])\n",
    "\treturn numpy.array(dataX), numpy.array(dataY)\n",
    "\n",
    "def create_dataset(dataset, look_back=1, num_predict= 1):\n",
    "    nrows = dataset.shape[0]\n",
    "    all_x, all_y = [], []\n",
    "    \n",
    "    for i in range(nrows):\n",
    "        rowdata = dataset[i]\n",
    "        x, y = create_dataset_each_row(rowdata.reshape(-1, 1), look_back, num_predict)\n",
    "        all_x.append(x)\n",
    "        all_y.append(y)\n",
    "    all_x = np.vstack(all_x)\n",
    "    all_y = np.vstack(all_y)\n",
    "    \n",
    "    return all_x, all_y\n",
    "    \n",
    "# reshape into X=t and Y=t+1\n",
    "look_back = 120\n",
    "num_predict = 60\n",
    "trainX, trainY = create_dataset(train, look_back, num_predict)\n",
    "testX, testY = create_dataset(test, look_back, num_predict)\n",
    "\n",
    "print (trainX.shape, trainY.shape)\n",
    "print (testX.shape, testY.shape)\n",
    "# reshape input to be [samples, time steps, features]\n",
    "trainX = numpy.reshape(trainX, (trainX.shape[0], 1, trainX.shape[1]))\n",
    "testX = numpy.reshape(testX, (testX.shape[0], 1, testX.shape[1]))\n",
    "\n",
    "# create and fit the LSTM network\n",
    "model = Sequential()\n",
    "model.add(LSTM(10, input_shape=(1, look_back)))\n",
    "model.add(Dense(num_predict))\n",
    "# model.compile(loss='mean_absolute_error', optimizer='adam')\n",
    "model.compile(loss=smape, optimizer='adam')\n",
    "model.fit(trainX, trainY, epochs=300, batch_size=128, verbose=2, validation_data=(testX, testY))"
   ]
  },
  {
   "cell_type": "code",
   "execution_count": 271,
   "metadata": {},
   "outputs": [
    {
     "data": {
      "text/plain": [
       "0.0"
      ]
     },
     "execution_count": 271,
     "metadata": {},
     "output_type": "execute_result"
    }
   ],
   "source": [
    "trainX.reshape(188000, 120).sum(axis=1).min()"
   ]
  },
  {
   "cell_type": "code",
   "execution_count": 285,
   "metadata": {
    "collapsed": true
   },
   "outputs": [],
   "source": [
    "mask = ((trainX.reshape(trainX.shape[0], trainX.shape[2]) == 0).sum(axis = 1)) < 60"
   ]
  },
  {
   "cell_type": "code",
   "execution_count": 288,
   "metadata": {
    "collapsed": true
   },
   "outputs": [],
   "source": [
    "trainX = trainX[mask]\n",
    "trainY = trainY[mask]"
   ]
  },
  {
   "cell_type": "code",
   "execution_count": 289,
   "metadata": {},
   "outputs": [
    {
     "name": "stdout",
     "output_type": "stream",
     "text": [
      "Train on 178046 samples, validate on 2000 samples\n",
      "Epoch 1/300\n",
      "16s - loss: 66.1698 - val_loss: 54.7447\n",
      "Epoch 2/300\n",
      "16s - loss: 66.2773 - val_loss: 58.2494\n",
      "Epoch 3/300\n",
      "15s - loss: 66.8552 - val_loss: 58.0268\n",
      "Epoch 4/300\n",
      "14s - loss: 65.5771 - val_loss: 56.9911\n",
      "Epoch 5/300\n",
      "15s - loss: 67.1402 - val_loss: 60.2642\n",
      "Epoch 6/300\n",
      "15s - loss: 69.9435 - val_loss: 60.5056\n",
      "Epoch 7/300\n"
     ]
    },
    {
     "ename": "KeyboardInterrupt",
     "evalue": "",
     "output_type": "error",
     "traceback": [
      "\u001b[0;31m\u001b[0m",
      "\u001b[0;31mKeyboardInterrupt\u001b[0mTraceback (most recent call last)",
      "\u001b[0;32m<ipython-input-289-58676bbf76ac>\u001b[0m in \u001b[0;36m<module>\u001b[0;34m()\u001b[0m\n\u001b[1;32m      5\u001b[0m \u001b[0;31m# model.compile(loss='mean_absolute_error', optimizer='adam')\u001b[0m\u001b[0;34m\u001b[0m\u001b[0;34m\u001b[0m\u001b[0m\n\u001b[1;32m      6\u001b[0m \u001b[0mmodel\u001b[0m\u001b[0;34m.\u001b[0m\u001b[0mcompile\u001b[0m\u001b[0;34m(\u001b[0m\u001b[0mloss\u001b[0m\u001b[0;34m=\u001b[0m\u001b[0msmape\u001b[0m\u001b[0;34m,\u001b[0m \u001b[0moptimizer\u001b[0m\u001b[0;34m=\u001b[0m\u001b[0;34m'adam'\u001b[0m\u001b[0;34m)\u001b[0m\u001b[0;34m\u001b[0m\u001b[0m\n\u001b[0;32m----> 7\u001b[0;31m \u001b[0mmodel\u001b[0m\u001b[0;34m.\u001b[0m\u001b[0mfit\u001b[0m\u001b[0;34m(\u001b[0m\u001b[0mtrainX\u001b[0m\u001b[0;34m,\u001b[0m \u001b[0mtrainY\u001b[0m\u001b[0;34m,\u001b[0m \u001b[0mepochs\u001b[0m\u001b[0;34m=\u001b[0m\u001b[0;36m300\u001b[0m\u001b[0;34m,\u001b[0m \u001b[0mbatch_size\u001b[0m\u001b[0;34m=\u001b[0m\u001b[0;36m64\u001b[0m\u001b[0;34m,\u001b[0m \u001b[0mverbose\u001b[0m\u001b[0;34m=\u001b[0m\u001b[0;36m2\u001b[0m\u001b[0;34m,\u001b[0m \u001b[0mvalidation_data\u001b[0m\u001b[0;34m=\u001b[0m\u001b[0;34m(\u001b[0m\u001b[0mtestX\u001b[0m\u001b[0;34m,\u001b[0m \u001b[0mtestY\u001b[0m\u001b[0;34m)\u001b[0m\u001b[0;34m)\u001b[0m\u001b[0;34m\u001b[0m\u001b[0m\n\u001b[0m",
      "\u001b[0;32m/Users/frank/anaconda/lib/python2.7/site-packages/keras/models.pyc\u001b[0m in \u001b[0;36mfit\u001b[0;34m(self, x, y, batch_size, epochs, verbose, callbacks, validation_split, validation_data, shuffle, class_weight, sample_weight, initial_epoch, **kwargs)\u001b[0m\n\u001b[1;32m    865\u001b[0m                               \u001b[0mclass_weight\u001b[0m\u001b[0;34m=\u001b[0m\u001b[0mclass_weight\u001b[0m\u001b[0;34m,\u001b[0m\u001b[0;34m\u001b[0m\u001b[0m\n\u001b[1;32m    866\u001b[0m                               \u001b[0msample_weight\u001b[0m\u001b[0;34m=\u001b[0m\u001b[0msample_weight\u001b[0m\u001b[0;34m,\u001b[0m\u001b[0;34m\u001b[0m\u001b[0m\n\u001b[0;32m--> 867\u001b[0;31m                               initial_epoch=initial_epoch)\n\u001b[0m\u001b[1;32m    868\u001b[0m \u001b[0;34m\u001b[0m\u001b[0m\n\u001b[1;32m    869\u001b[0m     def evaluate(self, x, y, batch_size=32, verbose=1,\n",
      "\u001b[0;32m/Users/frank/anaconda/lib/python2.7/site-packages/keras/engine/training.pyc\u001b[0m in \u001b[0;36mfit\u001b[0;34m(self, x, y, batch_size, epochs, verbose, callbacks, validation_split, validation_data, shuffle, class_weight, sample_weight, initial_epoch, steps_per_epoch, validation_steps, **kwargs)\u001b[0m\n\u001b[1;32m   1596\u001b[0m                               \u001b[0minitial_epoch\u001b[0m\u001b[0;34m=\u001b[0m\u001b[0minitial_epoch\u001b[0m\u001b[0;34m,\u001b[0m\u001b[0;34m\u001b[0m\u001b[0m\n\u001b[1;32m   1597\u001b[0m                               \u001b[0msteps_per_epoch\u001b[0m\u001b[0;34m=\u001b[0m\u001b[0msteps_per_epoch\u001b[0m\u001b[0;34m,\u001b[0m\u001b[0;34m\u001b[0m\u001b[0m\n\u001b[0;32m-> 1598\u001b[0;31m                               validation_steps=validation_steps)\n\u001b[0m\u001b[1;32m   1599\u001b[0m \u001b[0;34m\u001b[0m\u001b[0m\n\u001b[1;32m   1600\u001b[0m     def evaluate(self, x, y,\n",
      "\u001b[0;32m/Users/frank/anaconda/lib/python2.7/site-packages/keras/engine/training.pyc\u001b[0m in \u001b[0;36m_fit_loop\u001b[0;34m(self, f, ins, out_labels, batch_size, epochs, verbose, callbacks, val_f, val_ins, shuffle, callback_metrics, initial_epoch, steps_per_epoch, validation_steps)\u001b[0m\n\u001b[1;32m   1181\u001b[0m                     \u001b[0mbatch_logs\u001b[0m\u001b[0;34m[\u001b[0m\u001b[0;34m'size'\u001b[0m\u001b[0;34m]\u001b[0m \u001b[0;34m=\u001b[0m \u001b[0mlen\u001b[0m\u001b[0;34m(\u001b[0m\u001b[0mbatch_ids\u001b[0m\u001b[0;34m)\u001b[0m\u001b[0;34m\u001b[0m\u001b[0m\n\u001b[1;32m   1182\u001b[0m                     \u001b[0mcallbacks\u001b[0m\u001b[0;34m.\u001b[0m\u001b[0mon_batch_begin\u001b[0m\u001b[0;34m(\u001b[0m\u001b[0mbatch_index\u001b[0m\u001b[0;34m,\u001b[0m \u001b[0mbatch_logs\u001b[0m\u001b[0;34m)\u001b[0m\u001b[0;34m\u001b[0m\u001b[0m\n\u001b[0;32m-> 1183\u001b[0;31m                     \u001b[0mouts\u001b[0m \u001b[0;34m=\u001b[0m \u001b[0mf\u001b[0m\u001b[0;34m(\u001b[0m\u001b[0mins_batch\u001b[0m\u001b[0;34m)\u001b[0m\u001b[0;34m\u001b[0m\u001b[0m\n\u001b[0m\u001b[1;32m   1184\u001b[0m                     \u001b[0;32mif\u001b[0m \u001b[0;32mnot\u001b[0m \u001b[0misinstance\u001b[0m\u001b[0;34m(\u001b[0m\u001b[0mouts\u001b[0m\u001b[0;34m,\u001b[0m \u001b[0mlist\u001b[0m\u001b[0;34m)\u001b[0m\u001b[0;34m:\u001b[0m\u001b[0;34m\u001b[0m\u001b[0m\n\u001b[1;32m   1185\u001b[0m                         \u001b[0mouts\u001b[0m \u001b[0;34m=\u001b[0m \u001b[0;34m[\u001b[0m\u001b[0mouts\u001b[0m\u001b[0;34m]\u001b[0m\u001b[0;34m\u001b[0m\u001b[0m\n",
      "\u001b[0;32m/Users/frank/anaconda/lib/python2.7/site-packages/keras/backend/tensorflow_backend.pyc\u001b[0m in \u001b[0;36m__call__\u001b[0;34m(self, inputs)\u001b[0m\n\u001b[1;32m   2271\u001b[0m         updated = session.run(self.outputs + [self.updates_op],\n\u001b[1;32m   2272\u001b[0m                               \u001b[0mfeed_dict\u001b[0m\u001b[0;34m=\u001b[0m\u001b[0mfeed_dict\u001b[0m\u001b[0;34m,\u001b[0m\u001b[0;34m\u001b[0m\u001b[0m\n\u001b[0;32m-> 2273\u001b[0;31m                               **self.session_kwargs)\n\u001b[0m\u001b[1;32m   2274\u001b[0m         \u001b[0;32mreturn\u001b[0m \u001b[0mupdated\u001b[0m\u001b[0;34m[\u001b[0m\u001b[0;34m:\u001b[0m\u001b[0mlen\u001b[0m\u001b[0;34m(\u001b[0m\u001b[0mself\u001b[0m\u001b[0;34m.\u001b[0m\u001b[0moutputs\u001b[0m\u001b[0;34m)\u001b[0m\u001b[0;34m]\u001b[0m\u001b[0;34m\u001b[0m\u001b[0m\n\u001b[1;32m   2275\u001b[0m \u001b[0;34m\u001b[0m\u001b[0m\n",
      "\u001b[0;32m/Users/frank/anaconda/lib/python2.7/site-packages/tensorflow/python/client/session.pyc\u001b[0m in \u001b[0;36mrun\u001b[0;34m(self, fetches, feed_dict, options, run_metadata)\u001b[0m\n\u001b[1;32m    893\u001b[0m     \u001b[0;32mtry\u001b[0m\u001b[0;34m:\u001b[0m\u001b[0;34m\u001b[0m\u001b[0m\n\u001b[1;32m    894\u001b[0m       result = self._run(None, fetches, feed_dict, options_ptr,\n\u001b[0;32m--> 895\u001b[0;31m                          run_metadata_ptr)\n\u001b[0m\u001b[1;32m    896\u001b[0m       \u001b[0;32mif\u001b[0m \u001b[0mrun_metadata\u001b[0m\u001b[0;34m:\u001b[0m\u001b[0;34m\u001b[0m\u001b[0m\n\u001b[1;32m    897\u001b[0m         \u001b[0mproto_data\u001b[0m \u001b[0;34m=\u001b[0m \u001b[0mtf_session\u001b[0m\u001b[0;34m.\u001b[0m\u001b[0mTF_GetBuffer\u001b[0m\u001b[0;34m(\u001b[0m\u001b[0mrun_metadata_ptr\u001b[0m\u001b[0;34m)\u001b[0m\u001b[0;34m\u001b[0m\u001b[0m\n",
      "\u001b[0;32m/Users/frank/anaconda/lib/python2.7/site-packages/tensorflow/python/client/session.pyc\u001b[0m in \u001b[0;36m_run\u001b[0;34m(self, handle, fetches, feed_dict, options, run_metadata)\u001b[0m\n\u001b[1;32m   1122\u001b[0m     \u001b[0;32mif\u001b[0m \u001b[0mfinal_fetches\u001b[0m \u001b[0;32mor\u001b[0m \u001b[0mfinal_targets\u001b[0m \u001b[0;32mor\u001b[0m \u001b[0;34m(\u001b[0m\u001b[0mhandle\u001b[0m \u001b[0;32mand\u001b[0m \u001b[0mfeed_dict_tensor\u001b[0m\u001b[0;34m)\u001b[0m\u001b[0;34m:\u001b[0m\u001b[0;34m\u001b[0m\u001b[0m\n\u001b[1;32m   1123\u001b[0m       results = self._do_run(handle, final_targets, final_fetches,\n\u001b[0;32m-> 1124\u001b[0;31m                              feed_dict_tensor, options, run_metadata)\n\u001b[0m\u001b[1;32m   1125\u001b[0m     \u001b[0;32melse\u001b[0m\u001b[0;34m:\u001b[0m\u001b[0;34m\u001b[0m\u001b[0m\n\u001b[1;32m   1126\u001b[0m       \u001b[0mresults\u001b[0m \u001b[0;34m=\u001b[0m \u001b[0;34m[\u001b[0m\u001b[0;34m]\u001b[0m\u001b[0;34m\u001b[0m\u001b[0m\n",
      "\u001b[0;32m/Users/frank/anaconda/lib/python2.7/site-packages/tensorflow/python/client/session.pyc\u001b[0m in \u001b[0;36m_do_run\u001b[0;34m(self, handle, target_list, fetch_list, feed_dict, options, run_metadata)\u001b[0m\n\u001b[1;32m   1319\u001b[0m     \u001b[0;32mif\u001b[0m \u001b[0mhandle\u001b[0m \u001b[0;32mis\u001b[0m \u001b[0mNone\u001b[0m\u001b[0;34m:\u001b[0m\u001b[0;34m\u001b[0m\u001b[0m\n\u001b[1;32m   1320\u001b[0m       return self._do_call(_run_fn, self._session, feeds, fetches, targets,\n\u001b[0;32m-> 1321\u001b[0;31m                            options, run_metadata)\n\u001b[0m\u001b[1;32m   1322\u001b[0m     \u001b[0;32melse\u001b[0m\u001b[0;34m:\u001b[0m\u001b[0;34m\u001b[0m\u001b[0m\n\u001b[1;32m   1323\u001b[0m       \u001b[0;32mreturn\u001b[0m \u001b[0mself\u001b[0m\u001b[0;34m.\u001b[0m\u001b[0m_do_call\u001b[0m\u001b[0;34m(\u001b[0m\u001b[0m_prun_fn\u001b[0m\u001b[0;34m,\u001b[0m \u001b[0mself\u001b[0m\u001b[0;34m.\u001b[0m\u001b[0m_session\u001b[0m\u001b[0;34m,\u001b[0m \u001b[0mhandle\u001b[0m\u001b[0;34m,\u001b[0m \u001b[0mfeeds\u001b[0m\u001b[0;34m,\u001b[0m \u001b[0mfetches\u001b[0m\u001b[0;34m)\u001b[0m\u001b[0;34m\u001b[0m\u001b[0m\n",
      "\u001b[0;32m/Users/frank/anaconda/lib/python2.7/site-packages/tensorflow/python/client/session.pyc\u001b[0m in \u001b[0;36m_do_call\u001b[0;34m(self, fn, *args)\u001b[0m\n\u001b[1;32m   1325\u001b[0m   \u001b[0;32mdef\u001b[0m \u001b[0m_do_call\u001b[0m\u001b[0;34m(\u001b[0m\u001b[0mself\u001b[0m\u001b[0;34m,\u001b[0m \u001b[0mfn\u001b[0m\u001b[0;34m,\u001b[0m \u001b[0;34m*\u001b[0m\u001b[0margs\u001b[0m\u001b[0;34m)\u001b[0m\u001b[0;34m:\u001b[0m\u001b[0;34m\u001b[0m\u001b[0m\n\u001b[1;32m   1326\u001b[0m     \u001b[0;32mtry\u001b[0m\u001b[0;34m:\u001b[0m\u001b[0;34m\u001b[0m\u001b[0m\n\u001b[0;32m-> 1327\u001b[0;31m       \u001b[0;32mreturn\u001b[0m \u001b[0mfn\u001b[0m\u001b[0;34m(\u001b[0m\u001b[0;34m*\u001b[0m\u001b[0margs\u001b[0m\u001b[0;34m)\u001b[0m\u001b[0;34m\u001b[0m\u001b[0m\n\u001b[0m\u001b[1;32m   1328\u001b[0m     \u001b[0;32mexcept\u001b[0m \u001b[0merrors\u001b[0m\u001b[0;34m.\u001b[0m\u001b[0mOpError\u001b[0m \u001b[0;32mas\u001b[0m \u001b[0me\u001b[0m\u001b[0;34m:\u001b[0m\u001b[0;34m\u001b[0m\u001b[0m\n\u001b[1;32m   1329\u001b[0m       \u001b[0mmessage\u001b[0m \u001b[0;34m=\u001b[0m \u001b[0mcompat\u001b[0m\u001b[0;34m.\u001b[0m\u001b[0mas_text\u001b[0m\u001b[0;34m(\u001b[0m\u001b[0me\u001b[0m\u001b[0;34m.\u001b[0m\u001b[0mmessage\u001b[0m\u001b[0;34m)\u001b[0m\u001b[0;34m\u001b[0m\u001b[0m\n",
      "\u001b[0;32m/Users/frank/anaconda/lib/python2.7/site-packages/tensorflow/python/client/session.pyc\u001b[0m in \u001b[0;36m_run_fn\u001b[0;34m(session, feed_dict, fetch_list, target_list, options, run_metadata)\u001b[0m\n\u001b[1;32m   1304\u001b[0m           return tf_session.TF_Run(session, options,\n\u001b[1;32m   1305\u001b[0m                                    \u001b[0mfeed_dict\u001b[0m\u001b[0;34m,\u001b[0m \u001b[0mfetch_list\u001b[0m\u001b[0;34m,\u001b[0m \u001b[0mtarget_list\u001b[0m\u001b[0;34m,\u001b[0m\u001b[0;34m\u001b[0m\u001b[0m\n\u001b[0;32m-> 1306\u001b[0;31m                                    status, run_metadata)\n\u001b[0m\u001b[1;32m   1307\u001b[0m \u001b[0;34m\u001b[0m\u001b[0m\n\u001b[1;32m   1308\u001b[0m     \u001b[0;32mdef\u001b[0m \u001b[0m_prun_fn\u001b[0m\u001b[0;34m(\u001b[0m\u001b[0msession\u001b[0m\u001b[0;34m,\u001b[0m \u001b[0mhandle\u001b[0m\u001b[0;34m,\u001b[0m \u001b[0mfeed_dict\u001b[0m\u001b[0;34m,\u001b[0m \u001b[0mfetch_list\u001b[0m\u001b[0;34m)\u001b[0m\u001b[0;34m:\u001b[0m\u001b[0;34m\u001b[0m\u001b[0m\n",
      "\u001b[0;31mKeyboardInterrupt\u001b[0m: "
     ]
    }
   ],
   "source": [
    "# create and fit the LSTM network\n",
    "model = Sequential()\n",
    "model.add(LSTM(10, input_shape=(1, look_back)))\n",
    "model.add(Dense(num_predict))\n",
    "# model.compile(loss='mean_absolute_error', optimizer='adam')\n",
    "model.compile(loss=smape, optimizer='adam')\n",
    "model.fit(trainX, trainY, epochs=300, batch_size=64, verbose=2, validation_data=(testX, testY))"
   ]
  },
  {
   "cell_type": "code",
   "execution_count": null,
   "metadata": {
    "collapsed": true
   },
   "outputs": [],
   "source": []
  },
  {
   "cell_type": "code",
   "execution_count": null,
   "metadata": {
    "collapsed": true
   },
   "outputs": [],
   "source": []
  },
  {
   "cell_type": "code",
   "execution_count": null,
   "metadata": {
    "collapsed": true
   },
   "outputs": [],
   "source": []
  },
  {
   "cell_type": "code",
   "execution_count": null,
   "metadata": {
    "collapsed": true
   },
   "outputs": [],
   "source": []
  },
  {
   "cell_type": "code",
   "execution_count": 284,
   "metadata": {},
   "outputs": [
    {
     "data": {
      "text/plain": [
       "(812, 60)"
      ]
     },
     "execution_count": 284,
     "metadata": {},
     "output_type": "execute_result"
    }
   ],
   "source": [
    "trainY[:1000][mask].shape"
   ]
  },
  {
   "cell_type": "code",
   "execution_count": null,
   "metadata": {
    "collapsed": true
   },
   "outputs": [],
   "source": []
  },
  {
   "cell_type": "code",
   "execution_count": 166,
   "metadata": {},
   "outputs": [
    {
     "data": {
      "text/plain": [
       "((368, 1), (182, 1))"
      ]
     },
     "execution_count": 166,
     "metadata": {},
     "output_type": "execute_result"
    }
   ],
   "source": [
    "train.shape, test.shape"
   ]
  },
  {
   "cell_type": "code",
   "execution_count": 167,
   "metadata": {},
   "outputs": [
    {
     "data": {
      "text/plain": [
       "((188, 1, 120), (188, 60))"
      ]
     },
     "execution_count": 167,
     "metadata": {},
     "output_type": "execute_result"
    }
   ],
   "source": [
    "trainX.shape, trainY.shape"
   ]
  },
  {
   "cell_type": "code",
   "execution_count": 168,
   "metadata": {},
   "outputs": [
    {
     "data": {
      "text/plain": [
       "(2, 1, 120)"
      ]
     },
     "execution_count": 168,
     "metadata": {},
     "output_type": "execute_result"
    }
   ],
   "source": [
    "testX.shape"
   ]
  },
  {
   "cell_type": "code",
   "execution_count": 169,
   "metadata": {
    "collapsed": true
   },
   "outputs": [],
   "source": []
  },
  {
   "cell_type": "code",
   "execution_count": 171,
   "metadata": {},
   "outputs": [
    {
     "data": {
      "text/plain": [
       "array([[ 0.0355412 ,  0.0177706 ,  0.01453958,  0.01938611,  0.03877221,\n",
       "         0.01453958,  0.03069467,  0.01938611,  0.01938611,  0.08400646,\n",
       "         0.00484653,  0.01292407,  0.01615509,  0.01453958,  0.01938611,\n",
       "         0.04200323,  0.03392569,  0.02907916,  0.01130856,  0.01615509,\n",
       "         0.01453958,  0.01938611,  0.01938611,  0.02100162,  0.02100162,\n",
       "         0.01453958,  0.02907916,  0.0177706 ,  0.02746365,  1.        ,\n",
       "         0.08885299,  0.02423263,  0.03392569,  0.02746365,  0.03069467,\n",
       "         0.0726979 ,  0.04200323,  0.03231018,  0.03231018,  0.10177706,\n",
       "         0.04038772,  0.02423263,  0.02423263,  0.0177706 ,  0.01130856,\n",
       "         0.02584814,  0.03231018,  0.02423263,  0.02100162,  0.03231018,\n",
       "         0.03392569,  0.02746365,  0.02423263,  0.06462036,  0.04200323,\n",
       "         0.02100162,  0.01130856,  0.04523425,  0.08077544,  0.06946688],\n",
       "       [ 0.0177706 ,  0.01453958,  0.01938611,  0.03877221,  0.01453958,\n",
       "         0.03069467,  0.01938611,  0.01938611,  0.08400646,  0.00484653,\n",
       "         0.01292407,  0.01615509,  0.01453958,  0.01938611,  0.04200323,\n",
       "         0.03392569,  0.02907916,  0.01130856,  0.01615509,  0.01453958,\n",
       "         0.01938611,  0.01938611,  0.02100162,  0.02100162,  0.01453958,\n",
       "         0.02907916,  0.0177706 ,  0.02746365,  1.        ,  0.08885299,\n",
       "         0.02423263,  0.03392569,  0.02746365,  0.03069467,  0.0726979 ,\n",
       "         0.04200323,  0.03231018,  0.03231018,  0.10177706,  0.04038772,\n",
       "         0.02423263,  0.02423263,  0.0177706 ,  0.01130856,  0.02584814,\n",
       "         0.03231018,  0.02423263,  0.02100162,  0.03231018,  0.03392569,\n",
       "         0.02746365,  0.02423263,  0.06462036,  0.04200323,  0.02100162,\n",
       "         0.01130856,  0.04523425,  0.08077544,  0.06946688,  0.03877221]])"
      ]
     },
     "execution_count": 171,
     "metadata": {},
     "output_type": "execute_result"
    }
   ],
   "source": [
    "testY"
   ]
  },
  {
   "cell_type": "code",
   "execution_count": 172,
   "metadata": {},
   "outputs": [
    {
     "data": {
      "text/plain": [
       "(188, 60)"
      ]
     },
     "execution_count": 172,
     "metadata": {},
     "output_type": "execute_result"
    }
   ],
   "source": [
    "train_pred.shape"
   ]
  },
  {
   "cell_type": "code",
   "execution_count": 173,
   "metadata": {},
   "outputs": [
    {
     "data": {
      "text/plain": [
       "(188, 60)"
      ]
     },
     "execution_count": 173,
     "metadata": {},
     "output_type": "execute_result"
    }
   ],
   "source": [
    "trainY.shape"
   ]
  },
  {
   "cell_type": "code",
   "execution_count": null,
   "metadata": {
    "collapsed": true
   },
   "outputs": [],
   "source": []
  },
  {
   "cell_type": "code",
   "execution_count": 179,
   "metadata": {},
   "outputs": [
    {
     "data": {
      "text/plain": [
       "<matplotlib.legend.Legend at 0x133d8d390>"
      ]
     },
     "execution_count": 179,
     "metadata": {},
     "output_type": "execute_result"
    },
    {
     "data": {
      "image/png": "[encoded data removed]",
      "text/plain": [
       "<matplotlib.figure.Figure at 0x133d8d410>"
      ]
     },
     "metadata": {},
     "output_type": "display_data"
    }
   ],
   "source": [
    "i = 150\n",
    "l = len(trainY[i])\n",
    "plt.figure()\n",
    "plt.plot(range(l), train_pred[i], label = \"pred\")\n",
    "plt.plot(range(l), trainY[i], label = \"true\")\n",
    "plt.legend()\n",
    "\n"
   ]
  },
  {
   "cell_type": "code",
   "execution_count": 74,
   "metadata": {},
   "outputs": [
    {
     "name": "stdout",
     "output_type": "stream",
     "text": [
      "Train Score: 0.05 MAE\n",
      "Test Score: 0.02 MAE\n"
     ]
    }
   ],
   "source": [
    "# make predictions\n",
    "trainPredict = model.predict(trainX)\n",
    "testPredict = model.predict(testX)\n",
    "# invert predictions\n",
    "trainPredict = scaler.inverse_transform(trainPredict)\n",
    "trainY = scaler.inverse_transform([trainY])\n",
    "testPredict = scaler.inverse_transform(testPredict)\n",
    "testY = scaler.inverse_transform([testY])\n",
    "# calculate root mean squared error\n",
    "# trainScore = math.sqrt(mean_squared_error(trainY[0], trainPredict[:,0]))\n",
    "# print('Train Score: %.2f RMSE' % (trainScore))\n",
    "# testScore = math.sqrt(mean_squared_error(testY[0], testPredict[:,0]))\n",
    "# print('Test Score: %.2f RMSE' % (testScore))\n",
    "trainScore = mean_absolute_error(trainY[0], trainPredict[:,0])\n",
    "print('Train Score: %.2f MAE' % (trainScore))\n",
    "testScore = mean_absolute_error(testY[0], testPredict[:,0])\n",
    "print('Test Score: %.2f MAE' % (testScore))"
   ]
  },
  {
   "cell_type": "code",
   "execution_count": 108,
   "metadata": {},
   "outputs": [
    {
     "data": {
      "text/plain": [
       "array([[ 0.0133135 ,  0.01538167,  0.01476252],\n",
       "       [ 0.01371677,  0.01715751,  0.01410278],\n",
       "       [ 0.01263445,  0.01790794,  0.01249037],\n",
       "       [ 0.01246745,  0.01611436,  0.01355991],\n",
       "       [ 0.01377504,  0.01569158,  0.01424837],\n",
       "       [ 0.01374245,  0.01962716,  0.01237894],\n",
       "       [ 0.01088904,  0.01875201,  0.01050295],\n",
       "       [ 0.01230988,  0.01196587,  0.01674934],\n",
       "       [ 0.01533382,  0.01309966,  0.01895615]], dtype=float32)"
      ]
     },
     "execution_count": 108,
     "metadata": {},
     "output_type": "execute_result"
    }
   ],
   "source": [
    "model.predict(testX)"
   ]
  },
  {
   "cell_type": "code",
   "execution_count": 75,
   "metadata": {},
   "outputs": [
    {
     "data": {
      "image/png": "[encoded data removed]",
      "text/plain": [
       "<matplotlib.figure.Figure at 0x11c002cd0>"
      ]
     },
     "metadata": {},
     "output_type": "display_data"
    }
   ],
   "source": [
    "# shift train predictions for plotting\n",
    "trainPredictPlot = numpy.empty_like(dataset)\n",
    "trainPredictPlot[:, :] = numpy.nan\n",
    "trainPredictPlot[look_back:len(trainPredict)+look_back, :] = trainPredict\n",
    "# shift test predictions for plotting\n",
    "testPredictPlot = numpy.empty_like(dataset)\n",
    "testPredictPlot[:, :] = numpy.nan\n",
    "testPredictPlot[len(trainPredict)+(look_back*2)+1:len(dataset)-1, :] = testPredict\n",
    "# plot baseline and predictions\n",
    "plt.plot(scaler.inverse_transform(dataset))\n",
    "plt.plot(trainPredictPlot)\n",
    "plt.plot(testPredictPlot)\n",
    "plt.show()"
   ]
  },
  {
   "cell_type": "code",
   "execution_count": 63,
   "metadata": {},
   "outputs": [
    {
     "ename": "ValueError",
     "evalue": "Error when checking input: expected lstm_4_input to have shape (None, 3, 1) but got array with shape (28, 1, 3)",
     "output_type": "error",
     "traceback": [
      "\u001b[0;31m\u001b[0m",
      "\u001b[0;31mValueError\u001b[0mTraceback (most recent call last)",
      "\u001b[0;32m<ipython-input-63-ebfe46e82bcd>\u001b[0m in \u001b[0;36m<module>\u001b[0;34m()\u001b[0m\n\u001b[1;32m     42\u001b[0m \u001b[0mmodel\u001b[0m\u001b[0;34m.\u001b[0m\u001b[0madd\u001b[0m\u001b[0;34m(\u001b[0m\u001b[0mDense\u001b[0m\u001b[0;34m(\u001b[0m\u001b[0;36m1\u001b[0m\u001b[0;34m)\u001b[0m\u001b[0;34m)\u001b[0m\u001b[0;34m\u001b[0m\u001b[0m\n\u001b[1;32m     43\u001b[0m \u001b[0mmodel\u001b[0m\u001b[0;34m.\u001b[0m\u001b[0mcompile\u001b[0m\u001b[0;34m(\u001b[0m\u001b[0mloss\u001b[0m\u001b[0;34m=\u001b[0m\u001b[0;34m'mean_squared_error'\u001b[0m\u001b[0;34m,\u001b[0m \u001b[0moptimizer\u001b[0m\u001b[0;34m=\u001b[0m\u001b[0;34m'adam'\u001b[0m\u001b[0;34m)\u001b[0m\u001b[0;34m\u001b[0m\u001b[0m\n\u001b[0;32m---> 44\u001b[0;31m \u001b[0mmodel\u001b[0m\u001b[0;34m.\u001b[0m\u001b[0mfit\u001b[0m\u001b[0;34m(\u001b[0m\u001b[0mtrainX\u001b[0m\u001b[0;34m,\u001b[0m \u001b[0mtrainY\u001b[0m\u001b[0;34m,\u001b[0m \u001b[0mepochs\u001b[0m\u001b[0;34m=\u001b[0m\u001b[0;36m100\u001b[0m\u001b[0;34m,\u001b[0m \u001b[0mbatch_size\u001b[0m\u001b[0;34m=\u001b[0m\u001b[0;36m1\u001b[0m\u001b[0;34m,\u001b[0m \u001b[0mverbose\u001b[0m\u001b[0;34m=\u001b[0m\u001b[0;36m2\u001b[0m\u001b[0;34m)\u001b[0m\u001b[0;34m\u001b[0m\u001b[0m\n\u001b[0m\u001b[1;32m     45\u001b[0m \u001b[0;31m# make predictions\u001b[0m\u001b[0;34m\u001b[0m\u001b[0;34m\u001b[0m\u001b[0m\n\u001b[1;32m     46\u001b[0m \u001b[0mtrainPredict\u001b[0m \u001b[0;34m=\u001b[0m \u001b[0mmodel\u001b[0m\u001b[0;34m.\u001b[0m\u001b[0mpredict\u001b[0m\u001b[0;34m(\u001b[0m\u001b[0mtrainX\u001b[0m\u001b[0;34m)\u001b[0m\u001b[0;34m\u001b[0m\u001b[0m\n",
      "\u001b[0;32m/Users/frank/anaconda/lib/python2.7/site-packages/keras/models.pyc\u001b[0m in \u001b[0;36mfit\u001b[0;34m(self, x, y, batch_size, epochs, verbose, callbacks, validation_split, validation_data, shuffle, class_weight, sample_weight, initial_epoch, **kwargs)\u001b[0m\n\u001b[1;32m    865\u001b[0m                               \u001b[0mclass_weight\u001b[0m\u001b[0;34m=\u001b[0m\u001b[0mclass_weight\u001b[0m\u001b[0;34m,\u001b[0m\u001b[0;34m\u001b[0m\u001b[0m\n\u001b[1;32m    866\u001b[0m                               \u001b[0msample_weight\u001b[0m\u001b[0;34m=\u001b[0m\u001b[0msample_weight\u001b[0m\u001b[0;34m,\u001b[0m\u001b[0;34m\u001b[0m\u001b[0m\n\u001b[0;32m--> 867\u001b[0;31m                               initial_epoch=initial_epoch)\n\u001b[0m\u001b[1;32m    868\u001b[0m \u001b[0;34m\u001b[0m\u001b[0m\n\u001b[1;32m    869\u001b[0m     def evaluate(self, x, y, batch_size=32, verbose=1,\n",
      "\u001b[0;32m/Users/frank/anaconda/lib/python2.7/site-packages/keras/engine/training.pyc\u001b[0m in \u001b[0;36mfit\u001b[0;34m(self, x, y, batch_size, epochs, verbose, callbacks, validation_split, validation_data, shuffle, class_weight, sample_weight, initial_epoch, steps_per_epoch, validation_steps, **kwargs)\u001b[0m\n\u001b[1;32m   1520\u001b[0m             \u001b[0mclass_weight\u001b[0m\u001b[0;34m=\u001b[0m\u001b[0mclass_weight\u001b[0m\u001b[0;34m,\u001b[0m\u001b[0;34m\u001b[0m\u001b[0m\n\u001b[1;32m   1521\u001b[0m             \u001b[0mcheck_batch_axis\u001b[0m\u001b[0;34m=\u001b[0m\u001b[0mFalse\u001b[0m\u001b[0;34m,\u001b[0m\u001b[0;34m\u001b[0m\u001b[0m\n\u001b[0;32m-> 1522\u001b[0;31m             batch_size=batch_size)\n\u001b[0m\u001b[1;32m   1523\u001b[0m         \u001b[0;31m# Prepare validation data.\u001b[0m\u001b[0;34m\u001b[0m\u001b[0;34m\u001b[0m\u001b[0m\n\u001b[1;32m   1524\u001b[0m         \u001b[0mdo_validation\u001b[0m \u001b[0;34m=\u001b[0m \u001b[0mFalse\u001b[0m\u001b[0;34m\u001b[0m\u001b[0m\n",
      "\u001b[0;32m/Users/frank/anaconda/lib/python2.7/site-packages/keras/engine/training.pyc\u001b[0m in \u001b[0;36m_standardize_user_data\u001b[0;34m(self, x, y, sample_weight, class_weight, check_batch_axis, batch_size)\u001b[0m\n\u001b[1;32m   1376\u001b[0m                                     \u001b[0mself\u001b[0m\u001b[0;34m.\u001b[0m\u001b[0m_feed_input_shapes\u001b[0m\u001b[0;34m,\u001b[0m\u001b[0;34m\u001b[0m\u001b[0m\n\u001b[1;32m   1377\u001b[0m                                     \u001b[0mcheck_batch_axis\u001b[0m\u001b[0;34m=\u001b[0m\u001b[0mFalse\u001b[0m\u001b[0;34m,\u001b[0m\u001b[0;34m\u001b[0m\u001b[0m\n\u001b[0;32m-> 1378\u001b[0;31m                                     exception_prefix='input')\n\u001b[0m\u001b[1;32m   1379\u001b[0m         y = _standardize_input_data(y, self._feed_output_names,\n\u001b[1;32m   1380\u001b[0m                                     \u001b[0moutput_shapes\u001b[0m\u001b[0;34m,\u001b[0m\u001b[0;34m\u001b[0m\u001b[0m\n",
      "\u001b[0;32m/Users/frank/anaconda/lib/python2.7/site-packages/keras/engine/training.pyc\u001b[0m in \u001b[0;36m_standardize_input_data\u001b[0;34m(data, names, shapes, check_batch_axis, exception_prefix)\u001b[0m\n\u001b[1;32m    142\u001b[0m                             \u001b[0;34m' to have shape '\u001b[0m \u001b[0;34m+\u001b[0m \u001b[0mstr\u001b[0m\u001b[0;34m(\u001b[0m\u001b[0mshapes\u001b[0m\u001b[0;34m[\u001b[0m\u001b[0mi\u001b[0m\u001b[0;34m]\u001b[0m\u001b[0;34m)\u001b[0m \u001b[0;34m+\u001b[0m\u001b[0;34m\u001b[0m\u001b[0m\n\u001b[1;32m    143\u001b[0m                             \u001b[0;34m' but got array with shape '\u001b[0m \u001b[0;34m+\u001b[0m\u001b[0;34m\u001b[0m\u001b[0m\n\u001b[0;32m--> 144\u001b[0;31m                             str(array.shape))\n\u001b[0m\u001b[1;32m    145\u001b[0m     \u001b[0;32mreturn\u001b[0m \u001b[0marrays\u001b[0m\u001b[0;34m\u001b[0m\u001b[0m\n\u001b[1;32m    146\u001b[0m \u001b[0;34m\u001b[0m\u001b[0m\n",
      "\u001b[0;31mValueError\u001b[0m: Error when checking input: expected lstm_4_input to have shape (None, 3, 1) but got array with shape (28, 1, 3)"
     ]
    }
   ],
   "source": [
    "# LSTM for international airline passengers problem with window regression framing\n",
    "import numpy\n",
    "import matplotlib.pyplot as plt\n",
    "from pandas import read_csv\n",
    "import math\n",
    "from keras.models import Sequential\n",
    "from keras.layers import Dense\n",
    "from keras.layers import LSTM\n",
    "from sklearn.preprocessing import MinMaxScaler\n",
    "from sklearn.metrics import mean_squared_error\n",
    "# convert an array of values into a dataset matrix\n",
    "def create_dataset(dataset, look_back=1):\n",
    "\tdataX, dataY = [], []\n",
    "\tfor i in range(len(dataset)-look_back-1):\n",
    "\t\ta = dataset[i:(i+look_back), 0]\n",
    "\t\tdataX.append(a)\n",
    "\t\tdataY.append(dataset[i + look_back, 0])\n",
    "\treturn numpy.array(dataX), numpy.array(dataY)\n",
    "# fix random seed for reproducibility\n",
    "numpy.random.seed(7)\n",
    "# load the dataset\n",
    "# dataframe = read_csv('international-airline-passengers.csv', usecols=[1], engine='python', skipfooter=3)\n",
    "# dataset = dataframe.values\n",
    "# dataset = dataset.astype('float32')\n",
    "# normalize the dataset\n",
    "scaler = MinMaxScaler(feature_range=(0, 1))\n",
    "dataset = scaler.fit_transform(dataset)\n",
    "# split into train and test sets\n",
    "train_size = int(len(dataset) * 0.67)\n",
    "test_size = len(dataset) - train_size\n",
    "train, test = dataset[0:train_size,:], dataset[train_size:len(dataset),:]\n",
    "# reshape into X=t and Y=t+1\n",
    "look_back = 3\n",
    "trainX, trainY = create_dataset(train, look_back)\n",
    "testX, testY = create_dataset(test, look_back)\n",
    "# reshape input to be [samples, time steps, features]\n",
    "trainX = numpy.reshape(trainX, (trainX.shape[0], 1, trainX.shape[1]))\n",
    "testX = numpy.reshape(testX, (testX.shape[0], 1, testX.shape[1]))\n",
    "# create and fit the LSTM network\n",
    "model = Sequential()\n",
    "model.add(LSTM(4, input_shape=(1, look_back)))\n",
    "model.add(Dense(1))\n",
    "model.compile(loss='mean_squared_error', optimizer='adam')\n",
    "model.fit(trainX, trainY, epochs=100, batch_size=1, verbose=2)\n",
    "# make predictions\n",
    "trainPredict = model.predict(trainX)\n",
    "testPredict = model.predict(testX)\n",
    "# invert predictions\n",
    "trainPredict = scaler.inverse_transform(trainPredict)\n",
    "trainY = scaler.inverse_transform([trainY])\n",
    "testPredict = scaler.inverse_transform(testPredict)\n",
    "testY = scaler.inverse_transform([testY])\n",
    "# calculate root mean squared error\n",
    "trainScore = math.sqrt(mean_squared_error(trainY[0], trainPredict[:,0]))\n",
    "print('Train Score: %.2f RMSE' % (trainScore))\n",
    "testScore = math.sqrt(mean_squared_error(testY[0], testPredict[:,0]))\n",
    "print('Test Score: %.2f RMSE' % (testScore))\n",
    "# shift train predictions for plotting\n",
    "trainPredictPlot = numpy.empty_like(dataset)\n",
    "trainPredictPlot[:, :] = numpy.nan\n",
    "trainPredictPlot[look_back:len(trainPredict)+look_back, :] = trainPredict\n",
    "# shift test predictions for plotting\n",
    "testPredictPlot = numpy.empty_like(dataset)\n",
    "testPredictPlot[:, :] = numpy.nan\n",
    "testPredictPlot[len(trainPredict)+(look_back*2)+1:len(dataset)-1, :] = testPredict\n",
    "# plot baseline and predictions\n",
    "plt.plot(scaler.inverse_transform(dataset))\n",
    "plt.plot(trainPredictPlot)\n",
    "plt.plot(testPredictPlot)\n",
    "plt.show()"
   ]
  },
  {
   "cell_type": "code",
   "execution_count": null,
   "metadata": {
    "collapsed": true
   },
   "outputs": [],
   "source": [
    "##  RNN Ideas:\n",
    "one RNN for for each timeseries looks like a nonsense.\n",
    "RNN usually trained by batches, one batch = many parallel timeseries, I don't see a problem here.\n",
    "1 epoch ~ 2-3min (training + validation) on my model. But it's far from \"out of the box\" RNN, I put a lot of effort into optimization. And even this time is not fast enough, I still struggling with a hyperparameter search.\n",
    "10-15 epochs using early stopping. \n",
    "128 as batch size, The smaller sizes give slightly better results, but I trade precision for calculation time\n",
    "\n",
    "Did you had to normalize the RNN sequence with mean 0 and sd 0.1?\n",
    "From this point of view, NaN's don't have any 'business meaning' and can be safely replaced by zeros.\n",
    "\n",
    "The real power of RNN's is that you can build generative model, and predict all 60 days at once.\n",
    "\n",
    "No one uses relu in recurrent (or similar autoregressive structure) networks, it explodes quickly. Usual activation in this case is tanh(), it's bounded.\n",
    "\n",
    "mae and mse are bad loss functions for this competition. mape is a better choice, closer to smape."
   ]
  },
  {
   "cell_type": "code",
   "execution_count": null,
   "metadata": {
    "collapsed": true
   },
   "outputs": [],
   "source": [
    "I'm running a single xgboost model for all pages, not one model per page."
   ]
  },
  {
   "cell_type": "code",
   "execution_count": 76,
   "metadata": {},
   "outputs": [
    {
     "data": {
      "text/plain": [
       "array([[[ 0.01470588]],\n",
       "\n",
       "       [[ 0.02124183]],\n",
       "\n",
       "       [[ 0.0130719 ]],\n",
       "\n",
       "       [[ 0.00980392]],\n",
       "\n",
       "       [[ 0.02124183]],\n",
       "\n",
       "       [[ 0.02287582]],\n",
       "\n",
       "       [[ 0.01633987]],\n",
       "\n",
       "       [[ 0.0130719 ]],\n",
       "\n",
       "       [[ 0.05392157]],\n",
       "\n",
       "       [[ 0.03104575]],\n",
       "\n",
       "       [[ 0.00980392]],\n",
       "\n",
       "       [[ 0.        ]],\n",
       "\n",
       "       [[ 0.03431373]],\n",
       "\n",
       "       [[ 0.07026144]],\n",
       "\n",
       "       [[ 0.05882353]]])"
      ]
     },
     "execution_count": 76,
     "metadata": {},
     "output_type": "execute_result"
    }
   ],
   "source": [
    "testX"
   ]
  },
  {
   "cell_type": "code",
   "execution_count": 3,
   "metadata": {
    "collapsed": true
   },
   "outputs": [],
   "source": [
    "## try StandardScaler"
   ]
  },
  {
   "cell_type": "code",
   "execution_count": 24,
   "metadata": {
    "collapsed": true
   },
   "outputs": [],
   "source": [
    "train = pd.read_csv(\"train_1.csv\")"
   ]
  },
  {
   "cell_type": "code",
   "execution_count": 44,
   "metadata": {
    "collapsed": true
   },
   "outputs": [],
   "source": [
    "train = train.fillna(0.0)"
   ]
  },
  {
   "cell_type": "code",
   "execution_count": 38,
   "metadata": {},
   "outputs": [
    {
     "data": {
      "text/plain": [
       "(145063, 551)"
      ]
     },
     "execution_count": 38,
     "metadata": {},
     "output_type": "execute_result"
    }
   ],
   "source": [
    "train.shape"
   ]
  },
  {
   "cell_type": "code",
   "execution_count": 51,
   "metadata": {
    "collapsed": true
   },
   "outputs": [],
   "source": [
    "df = train.iloc[:, 1:].values.T"
   ]
  },
  {
   "cell_type": "code",
   "execution_count": 52,
   "metadata": {},
   "outputs": [
    {
     "data": {
      "text/plain": [
       "(550, 145063)"
      ]
     },
     "execution_count": 52,
     "metadata": {},
     "output_type": "execute_result"
    }
   ],
   "source": [
    "df.shape"
   ]
  },
  {
   "cell_type": "code",
   "execution_count": 54,
   "metadata": {},
   "outputs": [],
   "source": [
    "df = scaler.fit_transform(df)"
   ]
  },
  {
   "cell_type": "code",
   "execution_count": 56,
   "metadata": {},
   "outputs": [
    {
     "ename": "AttributeError",
     "evalue": "'tuple' object has no attribute 'T'",
     "output_type": "error",
     "traceback": [
      "\u001b[0;31m---------------------------------------------------------------------------\u001b[0m",
      "\u001b[0;31mAttributeError\u001b[0m                            Traceback (most recent call last)",
      "\u001b[0;32m<ipython-input-56-c89ff0be92cd>\u001b[0m in \u001b[0;36m<module>\u001b[0;34m()\u001b[0m\n\u001b[0;32m----> 1\u001b[0;31m \u001b[0mdf\u001b[0m\u001b[0;34m.\u001b[0m\u001b[0mshape\u001b[0m\u001b[0;34m.\u001b[0m\u001b[0mT\u001b[0m\u001b[0;34m\u001b[0m\u001b[0m\n\u001b[0m",
      "\u001b[0;31mAttributeError\u001b[0m: 'tuple' object has no attribute 'T'"
     ]
    }
   ],
   "source": [
    "df.shape.T"
   ]
  },
  {
   "cell_type": "code",
   "execution_count": 49,
   "metadata": {},
   "outputs": [
    {
     "data": {
      "text/plain": [
       "array([[ 18.,  11.,   1., ...,   0.,   3.,   0.],\n",
       "       [ 11.,  14.,   0., ...,   0.,   9.,   0.],\n",
       "       [  5.,  15.,   1., ...,   0.,  12.,   0.],\n",
       "       ..., \n",
       "       [ 19.,  45.,   3., ...,   8.,  23.,   8.],\n",
       "       [ 18.,  26.,   4., ...,   5.,   4.,  27.],\n",
       "       [ 20.,  20.,  17., ...,   4.,  14.,   7.]])"
      ]
     },
     "execution_count": 49,
     "metadata": {},
     "output_type": "execute_result"
    }
   ],
   "source": [
    "scaler.inverse_transform(scaler.transform(df))"
   ]
  },
  {
   "cell_type": "code",
   "execution_count": 41,
   "metadata": {
    "collapsed": true
   },
   "outputs": [],
   "source": [
    "from sklearn.preprocessing import StandardScaler"
   ]
  },
  {
   "cell_type": "code",
   "execution_count": 33,
   "metadata": {},
   "outputs": [],
   "source": [
    "aa = np.zeros(100)"
   ]
  },
  {
   "cell_type": "code",
   "execution_count": 36,
   "metadata": {
    "collapsed": true
   },
   "outputs": [],
   "source": [
    "aa[0] = 1"
   ]
  },
  {
   "cell_type": "code",
   "execution_count": 37,
   "metadata": {},
   "outputs": [
    {
     "data": {
      "text/plain": [
       "array([[ 9.94987437],\n",
       "       [-0.10050378],\n",
       "       [-0.10050378],\n",
       "       [-0.10050378],\n",
       "       [-0.10050378],\n",
       "       [-0.10050378],\n",
       "       [-0.10050378],\n",
       "       [-0.10050378],\n",
       "       [-0.10050378],\n",
       "       [-0.10050378],\n",
       "       [-0.10050378],\n",
       "       [-0.10050378],\n",
       "       [-0.10050378],\n",
       "       [-0.10050378],\n",
       "       [-0.10050378],\n",
       "       [-0.10050378],\n",
       "       [-0.10050378],\n",
       "       [-0.10050378],\n",
       "       [-0.10050378],\n",
       "       [-0.10050378],\n",
       "       [-0.10050378],\n",
       "       [-0.10050378],\n",
       "       [-0.10050378],\n",
       "       [-0.10050378],\n",
       "       [-0.10050378],\n",
       "       [-0.10050378],\n",
       "       [-0.10050378],\n",
       "       [-0.10050378],\n",
       "       [-0.10050378],\n",
       "       [-0.10050378],\n",
       "       [-0.10050378],\n",
       "       [-0.10050378],\n",
       "       [-0.10050378],\n",
       "       [-0.10050378],\n",
       "       [-0.10050378],\n",
       "       [-0.10050378],\n",
       "       [-0.10050378],\n",
       "       [-0.10050378],\n",
       "       [-0.10050378],\n",
       "       [-0.10050378],\n",
       "       [-0.10050378],\n",
       "       [-0.10050378],\n",
       "       [-0.10050378],\n",
       "       [-0.10050378],\n",
       "       [-0.10050378],\n",
       "       [-0.10050378],\n",
       "       [-0.10050378],\n",
       "       [-0.10050378],\n",
       "       [-0.10050378],\n",
       "       [-0.10050378],\n",
       "       [-0.10050378],\n",
       "       [-0.10050378],\n",
       "       [-0.10050378],\n",
       "       [-0.10050378],\n",
       "       [-0.10050378],\n",
       "       [-0.10050378],\n",
       "       [-0.10050378],\n",
       "       [-0.10050378],\n",
       "       [-0.10050378],\n",
       "       [-0.10050378],\n",
       "       [-0.10050378],\n",
       "       [-0.10050378],\n",
       "       [-0.10050378],\n",
       "       [-0.10050378],\n",
       "       [-0.10050378],\n",
       "       [-0.10050378],\n",
       "       [-0.10050378],\n",
       "       [-0.10050378],\n",
       "       [-0.10050378],\n",
       "       [-0.10050378],\n",
       "       [-0.10050378],\n",
       "       [-0.10050378],\n",
       "       [-0.10050378],\n",
       "       [-0.10050378],\n",
       "       [-0.10050378],\n",
       "       [-0.10050378],\n",
       "       [-0.10050378],\n",
       "       [-0.10050378],\n",
       "       [-0.10050378],\n",
       "       [-0.10050378],\n",
       "       [-0.10050378],\n",
       "       [-0.10050378],\n",
       "       [-0.10050378],\n",
       "       [-0.10050378],\n",
       "       [-0.10050378],\n",
       "       [-0.10050378],\n",
       "       [-0.10050378],\n",
       "       [-0.10050378],\n",
       "       [-0.10050378],\n",
       "       [-0.10050378],\n",
       "       [-0.10050378],\n",
       "       [-0.10050378],\n",
       "       [-0.10050378],\n",
       "       [-0.10050378],\n",
       "       [-0.10050378],\n",
       "       [-0.10050378],\n",
       "       [-0.10050378],\n",
       "       [-0.10050378],\n",
       "       [-0.10050378],\n",
       "       [-0.10050378]])"
      ]
     },
     "execution_count": 37,
     "metadata": {},
     "output_type": "execute_result"
    }
   ],
   "source": [
    "scaler.fit_transform(aa.reshape(-1, 1))"
   ]
  },
  {
   "cell_type": "code",
   "execution_count": 21,
   "metadata": {
    "collapsed": true
   },
   "outputs": [],
   "source": [
    "scaler = StandardScaler()"
   ]
  },
  {
   "cell_type": "code",
   "execution_count": 23,
   "metadata": {},
   "outputs": [],
   "source": [
    "train = train.fillna(0.0)"
   ]
  },
  {
   "cell_type": "code",
   "execution_count": null,
   "metadata": {
    "collapsed": true
   },
   "outputs": [],
   "source": [
    "vv = train.iloc[:, 1:].values"
   ]
  },
  {
   "cell_type": "code",
   "execution_count": null,
   "metadata": {
    "collapsed": true
   },
   "outputs": [],
   "source": []
  },
  {
   "cell_type": "code",
   "execution_count": 6,
   "metadata": {},
   "outputs": [
    {
     "data": {
      "text/plain": [
       "(1000, 551)"
      ]
     },
     "execution_count": 6,
     "metadata": {},
     "output_type": "execute_result"
    }
   ],
   "source": [
    "train.shape"
   ]
  },
  {
   "cell_type": "code",
   "execution_count": 12,
   "metadata": {},
   "outputs": [],
   "source": [
    "train = train.fillna(0.0)"
   ]
  },
  {
   "cell_type": "code",
   "execution_count": 17,
   "metadata": {},
   "outputs": [
    {
     "data": {
      "text/plain": [
       "array([[-0.12792399, -0.42389021, -0.31152705, ..., -0.32260674,\n",
       "        -1.06600985, -0.29117174],\n",
       "       [-0.36631091, -0.33553512, -0.385636  , ..., -0.32260674,\n",
       "        -0.5753777 , -0.29117174],\n",
       "       [-0.57064256, -0.30608343, -0.31152705, ..., -0.32260674,\n",
       "        -0.33006163, -0.29117174],\n",
       "       ..., \n",
       "       [-0.09386872,  0.57746741, -0.16330917, ...,  0.03208333,\n",
       "         0.56943064,  0.45066709],\n",
       "       [-0.12792399,  0.01788521, -0.08920022, ..., -0.10092545,\n",
       "        -0.98423782,  2.21253434],\n",
       "       [-0.05981345, -0.15882496,  0.87421606, ..., -0.14526171,\n",
       "        -0.16651758,  0.35793724]])"
      ]
     },
     "execution_count": 17,
     "metadata": {},
     "output_type": "execute_result"
    }
   ],
   "source": [
    "scaler.fit_transform(train.iloc[:100, 1:].values.T)"
   ]
  },
  {
   "cell_type": "code",
   "execution_count": 18,
   "metadata": {},
   "outputs": [
    {
     "data": {
      "text/plain": [
       "array([  29.36402724,   33.9539038 ,   13.49364785,   19.31953056,\n",
       "         17.30727225,   15.66033269,   14.96438759,   50.61011352,\n",
       "         21.10501754,    9.28273969,   29.19152487,   14.23590165,\n",
       "          3.3346783 ,   50.18856331,   58.45586313,   39.52847468,\n",
       "         42.03221358,    5.0120727 ,   31.81630337,   11.44120088,\n",
       "         23.94883175,   31.28096382,   29.59809157,   13.67022463,\n",
       "         91.52631986,   12.27417042,   37.06827959,   18.81941638,\n",
       "         18.94263493,    5.01575205,   13.3302931 ,    5.48004826,\n",
       "          7.24404001,   64.560407  ,   38.48697468,   69.7876856 ,\n",
       "          8.85571935,   14.82360592,   77.4101153 ,    5.62754178,\n",
       "         48.59167415,   42.83209332,   11.56660968,   13.40450757,\n",
       "         28.30696343,   16.04898658,    5.84634689,   31.32142699,\n",
       "          8.91739298,   16.1290699 ,    9.91190219,   13.96443523,\n",
       "         73.37756596,  119.98268035,    0.67567903,    0.3899947 ,\n",
       "         10.52727916,   20.0175523 ,    5.20079333,   99.98698533,\n",
       "         28.10054557,   43.70677819,   10.13513062,   34.36565502,\n",
       "         18.55700398,  113.26831699,   41.06882206,    8.18873263,\n",
       "          4.56278478,    3.9016572 ,   23.73162593,   10.88229755,\n",
       "          5.83291572,   86.54135621,   45.11898158,   32.56191336,\n",
       "         27.84586745,   13.90835661,   22.63876767,    3.1261922 ,\n",
       "          8.39535409,   24.23805927,   25.64243797,   16.26866948,\n",
       "         17.70585186,   13.30005418,   12.77194757,    7.3357553 ,\n",
       "         30.84976038,   33.49549495,   44.94121784,    7.67531968,\n",
       "         11.68935109,   22.33332203,   78.95645834,   10.83008375,\n",
       "         23.37494746,   22.55490242,   12.22912119,   10.78401342])"
      ]
     },
     "execution_count": 18,
     "metadata": {},
     "output_type": "execute_result"
    }
   ],
   "source": [
    "scaler.scale_"
   ]
  },
  {
   "cell_type": "code",
   "execution_count": null,
   "metadata": {
    "collapsed": true
   },
   "outputs": [],
   "source": []
  }
 ],
 "metadata": {
  "kernelspec": {
   "display_name": "Python 2",
   "language": "python",
   "name": "python2"
  },
  "language_info": {
   "codemirror_mode": {
    "name": "ipython",
    "version": 2
   },
   "file_extension": ".py",
   "mimetype": "text/x-python",
   "name": "python",
   "nbconvert_exporter": "python",
   "pygments_lexer": "ipython2",
   "version": "2.7.13"
  }
 },
 "nbformat": 4,
 "nbformat_minor": 2
}
