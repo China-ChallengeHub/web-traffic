{
 "cells": [
  {
   "cell_type": "code",
   "execution_count": 1,
   "metadata": {
    "collapsed": true
   },
   "outputs": [],
   "source": [
    "import pandas as pd\n",
    "import numpy as np"
   ]
  },
  {
   "cell_type": "code",
   "execution_count": 2,
   "metadata": {
    "collapsed": true
   },
   "outputs": [],
   "source": [
    "fibo = pd.read_csv(\"fibo_submit.csv\").rename(columns={'Visits':'Visits_fibo'})"
   ]
  },
  {
   "cell_type": "code",
   "execution_count": 3,
   "metadata": {
    "collapsed": true
   },
   "outputs": [],
   "source": [
    "holiday = pd.read_csv(\"holiday_tosubmit.csv\").rename(columns={'Visits':'Visits_holiday'})"
   ]
  },
  {
   "cell_type": "code",
   "execution_count": 4,
   "metadata": {
    "collapsed": true
   },
   "outputs": [],
   "source": [
    "lstm = pd.read_csv(\"lstm_submit.csv\").rename(columns={'Visits':'Visits_lstm'})"
   ]
  },
  {
   "cell_type": "code",
   "execution_count": 5,
   "metadata": {},
   "outputs": [],
   "source": [
    "lstm2 = pd.read_csv(\"lstm_submit_2.csv\").rename(columns={'Visits':'Visits_lstm2'})"
   ]
  },
  {
   "cell_type": "code",
   "execution_count": 34,
   "metadata": {
    "collapsed": true
   },
   "outputs": [],
   "source": [
    "lstm3 = pd.read_csv(\"lstm_damon.csv\").rename(columns={'Visits':'Visits_lstm3'})"
   ]
  },
  {
   "cell_type": "code",
   "execution_count": 6,
   "metadata": {},
   "outputs": [
    {
     "data": {
      "text/plain": [
       "((8993906, 2), (8993906, 2), (8993906, 2))"
      ]
     },
     "execution_count": 6,
     "metadata": {},
     "output_type": "execute_result"
    }
   ],
   "source": [
    "fibo.shape, holiday.shape, lstm.shape"
   ]
  },
  {
   "cell_type": "code",
   "execution_count": 7,
   "metadata": {},
   "outputs": [
    {
     "data": {
      "text/plain": [
       "(8993906, 2)"
      ]
     },
     "execution_count": 7,
     "metadata": {},
     "output_type": "execute_result"
    }
   ],
   "source": [
    "holiday.shape"
   ]
  },
  {
   "cell_type": "code",
   "execution_count": 8,
   "metadata": {},
   "outputs": [
    {
     "data": {
      "text/html": [
       "<div>\n",
       "<style>\n",
       "    .dataframe thead tr:only-child th {\n",
       "        text-align: right;\n",
       "    }\n",
       "\n",
       "    .dataframe thead th {\n",
       "        text-align: left;\n",
       "    }\n",
       "\n",
       "    .dataframe tbody tr th {\n",
       "        vertical-align: top;\n",
       "    }\n",
       "</style>\n",
       "<table border=\"1\" class=\"dataframe\">\n",
       "  <thead>\n",
       "    <tr style=\"text-align: right;\">\n",
       "      <th></th>\n",
       "      <th>Id</th>\n",
       "      <th>Visits_holiday</th>\n",
       "    </tr>\n",
       "  </thead>\n",
       "  <tbody>\n",
       "    <tr>\n",
       "      <th>0</th>\n",
       "      <td>0b293039387a</td>\n",
       "      <td>471.0</td>\n",
       "    </tr>\n",
       "    <tr>\n",
       "      <th>1</th>\n",
       "      <td>7114389dd824</td>\n",
       "      <td>471.0</td>\n",
       "    </tr>\n",
       "    <tr>\n",
       "      <th>2</th>\n",
       "      <td>057b02ff1f09</td>\n",
       "      <td>471.0</td>\n",
       "    </tr>\n",
       "    <tr>\n",
       "      <th>3</th>\n",
       "      <td>bd2aca21caa3</td>\n",
       "      <td>556.5</td>\n",
       "    </tr>\n",
       "    <tr>\n",
       "      <th>4</th>\n",
       "      <td>c0effb42cdd5</td>\n",
       "      <td>556.5</td>\n",
       "    </tr>\n",
       "  </tbody>\n",
       "</table>\n",
       "</div>"
      ],
      "text/plain": [
       "             Id  Visits_holiday\n",
       "0  0b293039387a           471.0\n",
       "1  7114389dd824           471.0\n",
       "2  057b02ff1f09           471.0\n",
       "3  bd2aca21caa3           556.5\n",
       "4  c0effb42cdd5           556.5"
      ]
     },
     "execution_count": 8,
     "metadata": {},
     "output_type": "execute_result"
    }
   ],
   "source": [
    "holiday.head()"
   ]
  },
  {
   "cell_type": "code",
   "execution_count": 34,
   "metadata": {},
   "outputs": [
    {
     "data": {
      "text/html": [
       "<div>\n",
       "<style>\n",
       "    .dataframe thead tr:only-child th {\n",
       "        text-align: right;\n",
       "    }\n",
       "\n",
       "    .dataframe thead th {\n",
       "        text-align: left;\n",
       "    }\n",
       "\n",
       "    .dataframe tbody tr th {\n",
       "        vertical-align: top;\n",
       "    }\n",
       "</style>\n",
       "<table border=\"1\" class=\"dataframe\">\n",
       "  <thead>\n",
       "    <tr style=\"text-align: right;\">\n",
       "      <th></th>\n",
       "      <th>Id</th>\n",
       "      <th>Visits_fibo</th>\n",
       "    </tr>\n",
       "  </thead>\n",
       "  <tbody>\n",
       "    <tr>\n",
       "      <th>0</th>\n",
       "      <td>0b293039387a</td>\n",
       "      <td>486.5</td>\n",
       "    </tr>\n",
       "    <tr>\n",
       "      <th>1</th>\n",
       "      <td>7114389dd824</td>\n",
       "      <td>486.5</td>\n",
       "    </tr>\n",
       "    <tr>\n",
       "      <th>2</th>\n",
       "      <td>057b02ff1f09</td>\n",
       "      <td>486.5</td>\n",
       "    </tr>\n",
       "    <tr>\n",
       "      <th>3</th>\n",
       "      <td>bd2aca21caa3</td>\n",
       "      <td>486.5</td>\n",
       "    </tr>\n",
       "    <tr>\n",
       "      <th>4</th>\n",
       "      <td>c0effb42cdd5</td>\n",
       "      <td>486.5</td>\n",
       "    </tr>\n",
       "  </tbody>\n",
       "</table>\n",
       "</div>"
      ],
      "text/plain": [
       "             Id  Visits_fibo\n",
       "0  0b293039387a        486.5\n",
       "1  7114389dd824        486.5\n",
       "2  057b02ff1f09        486.5\n",
       "3  bd2aca21caa3        486.5\n",
       "4  c0effb42cdd5        486.5"
      ]
     },
     "execution_count": 34,
     "metadata": {},
     "output_type": "execute_result"
    }
   ],
   "source": [
    "fibo.head()"
   ]
  },
  {
   "cell_type": "code",
   "execution_count": 35,
   "metadata": {},
   "outputs": [
    {
     "data": {
      "text/html": [
       "<div>\n",
       "<style>\n",
       "    .dataframe thead tr:only-child th {\n",
       "        text-align: right;\n",
       "    }\n",
       "\n",
       "    .dataframe thead th {\n",
       "        text-align: left;\n",
       "    }\n",
       "\n",
       "    .dataframe tbody tr th {\n",
       "        vertical-align: top;\n",
       "    }\n",
       "</style>\n",
       "<table border=\"1\" class=\"dataframe\">\n",
       "  <thead>\n",
       "    <tr style=\"text-align: right;\">\n",
       "      <th></th>\n",
       "      <th>Id</th>\n",
       "      <th>Visits_holiday</th>\n",
       "    </tr>\n",
       "  </thead>\n",
       "  <tbody>\n",
       "    <tr>\n",
       "      <th>0</th>\n",
       "      <td>0b293039387a</td>\n",
       "      <td>471.0</td>\n",
       "    </tr>\n",
       "    <tr>\n",
       "      <th>1</th>\n",
       "      <td>7114389dd824</td>\n",
       "      <td>471.0</td>\n",
       "    </tr>\n",
       "    <tr>\n",
       "      <th>2</th>\n",
       "      <td>057b02ff1f09</td>\n",
       "      <td>471.0</td>\n",
       "    </tr>\n",
       "    <tr>\n",
       "      <th>3</th>\n",
       "      <td>bd2aca21caa3</td>\n",
       "      <td>556.5</td>\n",
       "    </tr>\n",
       "    <tr>\n",
       "      <th>4</th>\n",
       "      <td>c0effb42cdd5</td>\n",
       "      <td>556.5</td>\n",
       "    </tr>\n",
       "  </tbody>\n",
       "</table>\n",
       "</div>"
      ],
      "text/plain": [
       "             Id  Visits_holiday\n",
       "0  0b293039387a           471.0\n",
       "1  7114389dd824           471.0\n",
       "2  057b02ff1f09           471.0\n",
       "3  bd2aca21caa3           556.5\n",
       "4  c0effb42cdd5           556.5"
      ]
     },
     "execution_count": 35,
     "metadata": {},
     "output_type": "execute_result"
    }
   ],
   "source": [
    "holiday.head()"
   ]
  },
  {
   "cell_type": "code",
   "execution_count": 36,
   "metadata": {},
   "outputs": [
    {
     "data": {
      "text/html": [
       "<div>\n",
       "<style>\n",
       "    .dataframe thead tr:only-child th {\n",
       "        text-align: right;\n",
       "    }\n",
       "\n",
       "    .dataframe thead th {\n",
       "        text-align: left;\n",
       "    }\n",
       "\n",
       "    .dataframe tbody tr th {\n",
       "        vertical-align: top;\n",
       "    }\n",
       "</style>\n",
       "<table border=\"1\" class=\"dataframe\">\n",
       "  <thead>\n",
       "    <tr style=\"text-align: right;\">\n",
       "      <th></th>\n",
       "      <th>Id</th>\n",
       "      <th>Visits_lstm</th>\n",
       "    </tr>\n",
       "  </thead>\n",
       "  <tbody>\n",
       "    <tr>\n",
       "      <th>0</th>\n",
       "      <td>0b293039387a</td>\n",
       "      <td>461.887146</td>\n",
       "    </tr>\n",
       "    <tr>\n",
       "      <th>1</th>\n",
       "      <td>7114389dd824</td>\n",
       "      <td>461.683411</td>\n",
       "    </tr>\n",
       "    <tr>\n",
       "      <th>2</th>\n",
       "      <td>057b02ff1f09</td>\n",
       "      <td>456.896606</td>\n",
       "    </tr>\n",
       "    <tr>\n",
       "      <th>3</th>\n",
       "      <td>bd2aca21caa3</td>\n",
       "      <td>452.676575</td>\n",
       "    </tr>\n",
       "    <tr>\n",
       "      <th>4</th>\n",
       "      <td>c0effb42cdd5</td>\n",
       "      <td>457.267883</td>\n",
       "    </tr>\n",
       "  </tbody>\n",
       "</table>\n",
       "</div>"
      ],
      "text/plain": [
       "             Id  Visits_lstm\n",
       "0  0b293039387a   461.887146\n",
       "1  7114389dd824   461.683411\n",
       "2  057b02ff1f09   456.896606\n",
       "3  bd2aca21caa3   452.676575\n",
       "4  c0effb42cdd5   457.267883"
      ]
     },
     "execution_count": 36,
     "metadata": {},
     "output_type": "execute_result"
    }
   ],
   "source": [
    "lstm.head()"
   ]
  },
  {
   "cell_type": "code",
   "execution_count": 12,
   "metadata": {},
   "outputs": [
    {
     "data": {
      "text/plain": [
       "(8993906, 3)"
      ]
     },
     "execution_count": 12,
     "metadata": {},
     "output_type": "execute_result"
    }
   ],
   "source": [
    "pd.merge(fibo, holiday, on='Id').shape"
   ]
  },
  {
   "cell_type": "code",
   "execution_count": 13,
   "metadata": {},
   "outputs": [
    {
     "data": {
      "text/plain": [
       "(count    8.993906e+06\n",
       " mean     9.166133e+02\n",
       " std      5.953242e+04\n",
       " min      0.000000e+00\n",
       " 25%      1.650000e+01\n",
       " 50%      1.120000e+02\n",
       " 75%      4.830000e+02\n",
       " max      1.670840e+07\n",
       " Name: Visits, dtype: float64, count    8.941044e+06\n",
       " mean     9.105313e+02\n",
       " std      5.969458e+04\n",
       " min      0.000000e+00\n",
       " 25%      1.700000e+01\n",
       " 50%      1.120000e+02\n",
       " 75%      4.760000e+02\n",
       " max      1.708302e+07\n",
       " Name: Visits, dtype: float64, count    8.993906e+06\n",
       " mean     8.983702e+02\n",
       " std      5.707090e+04\n",
       " min      0.000000e+00\n",
       " 25%      1.566002e+01\n",
       " 50%      1.116344e+02\n",
       " 75%      4.759113e+02\n",
       " max      1.739961e+07\n",
       " Name: Visits, dtype: float64)"
      ]
     },
     "execution_count": 13,
     "metadata": {},
     "output_type": "execute_result"
    }
   ],
   "source": [
    "fibo.Visits.describe(), holiday.Visits.describe(), lstm.Visits.describe()"
   ]
  },
  {
   "cell_type": "code",
   "execution_count": 22,
   "metadata": {},
   "outputs": [
    {
     "data": {
      "text/plain": [
       "0L"
      ]
     },
     "execution_count": 22,
     "metadata": {},
     "output_type": "execute_result"
    }
   ],
   "source": [
    "fibo.Visits.isnull().astype(int).sum()"
   ]
  },
  {
   "cell_type": "code",
   "execution_count": 20,
   "metadata": {},
   "outputs": [
    {
     "data": {
      "text/plain": [
       "52862L"
      ]
     },
     "execution_count": 20,
     "metadata": {},
     "output_type": "execute_result"
    }
   ],
   "source": [
    "(fibo.Visits + holiday.Visits).isnull().astype(int).sum()"
   ]
  },
  {
   "cell_type": "code",
   "execution_count": 16,
   "metadata": {},
   "outputs": [
    {
     "data": {
      "text/plain": [
       "True"
      ]
     },
     "execution_count": 16,
     "metadata": {},
     "output_type": "execute_result"
    }
   ],
   "source": [
    "holiday.Visits.isnull().any()"
   ]
  },
  {
   "cell_type": "code",
   "execution_count": 14,
   "metadata": {
    "collapsed": true
   },
   "outputs": [],
   "source": [
    "sub = fibo[[\"Id\"]]"
   ]
  },
  {
   "cell_type": "code",
   "execution_count": null,
   "metadata": {
    "collapsed": true
   },
   "outputs": [],
   "source": [
    "sub[\"Visits\"] = fibo.Visits * 0.6 +"
   ]
  },
  {
   "cell_type": "code",
   "execution_count": 35,
   "metadata": {
    "collapsed": true
   },
   "outputs": [],
   "source": [
    "res = pd.merge(pd.merge(pd.merge(fibo, holiday, on ='Id'), lstm, on = 'Id'), lstm3, on = 'Id')"
   ]
  },
  {
   "cell_type": "code",
   "execution_count": 38,
   "metadata": {
    "collapsed": true
   },
   "outputs": [],
   "source": [
    "res2 = pd.merge(res, lstm2, on = 'Id')"
   ]
  },
  {
   "cell_type": "code",
   "execution_count": 41,
   "metadata": {},
   "outputs": [
    {
     "data": {
      "text/html": [
       "<div>\n",
       "<style>\n",
       "    .dataframe thead tr:only-child th {\n",
       "        text-align: right;\n",
       "    }\n",
       "\n",
       "    .dataframe thead th {\n",
       "        text-align: left;\n",
       "    }\n",
       "\n",
       "    .dataframe tbody tr th {\n",
       "        vertical-align: top;\n",
       "    }\n",
       "</style>\n",
       "<table border=\"1\" class=\"dataframe\">\n",
       "  <thead>\n",
       "    <tr style=\"text-align: right;\">\n",
       "      <th></th>\n",
       "      <th>Id</th>\n",
       "      <th>Visits_fibo</th>\n",
       "      <th>Visits_holiday</th>\n",
       "      <th>Visits_lstm</th>\n",
       "      <th>Visits_lstm3</th>\n",
       "      <th>Visits_lstm2</th>\n",
       "    </tr>\n",
       "  </thead>\n",
       "  <tbody>\n",
       "    <tr>\n",
       "      <th>0</th>\n",
       "      <td>0b293039387a</td>\n",
       "      <td>486.5</td>\n",
       "      <td>471.0</td>\n",
       "      <td>461.887146</td>\n",
       "      <td>445.0</td>\n",
       "      <td>430.002136</td>\n",
       "    </tr>\n",
       "    <tr>\n",
       "      <th>1</th>\n",
       "      <td>7114389dd824</td>\n",
       "      <td>486.5</td>\n",
       "      <td>471.0</td>\n",
       "      <td>461.683411</td>\n",
       "      <td>448.0</td>\n",
       "      <td>434.366394</td>\n",
       "    </tr>\n",
       "    <tr>\n",
       "      <th>2</th>\n",
       "      <td>057b02ff1f09</td>\n",
       "      <td>486.5</td>\n",
       "      <td>471.0</td>\n",
       "      <td>456.896606</td>\n",
       "      <td>451.0</td>\n",
       "      <td>450.465057</td>\n",
       "    </tr>\n",
       "    <tr>\n",
       "      <th>3</th>\n",
       "      <td>bd2aca21caa3</td>\n",
       "      <td>486.5</td>\n",
       "      <td>556.5</td>\n",
       "      <td>452.676575</td>\n",
       "      <td>502.0</td>\n",
       "      <td>502.707031</td>\n",
       "    </tr>\n",
       "    <tr>\n",
       "      <th>4</th>\n",
       "      <td>c0effb42cdd5</td>\n",
       "      <td>486.5</td>\n",
       "      <td>556.5</td>\n",
       "      <td>457.267883</td>\n",
       "      <td>527.0</td>\n",
       "      <td>521.230408</td>\n",
       "    </tr>\n",
       "    <tr>\n",
       "      <th>5</th>\n",
       "      <td>4ccd369adefc</td>\n",
       "      <td>486.5</td>\n",
       "      <td>556.5</td>\n",
       "      <td>474.970551</td>\n",
       "      <td>510.0</td>\n",
       "      <td>477.342834</td>\n",
       "    </tr>\n",
       "    <tr>\n",
       "      <th>6</th>\n",
       "      <td>67d5c2ebc330</td>\n",
       "      <td>486.5</td>\n",
       "      <td>471.0</td>\n",
       "      <td>474.331818</td>\n",
       "      <td>467.0</td>\n",
       "      <td>450.811584</td>\n",
       "    </tr>\n",
       "    <tr>\n",
       "      <th>7</th>\n",
       "      <td>1c51606e416b</td>\n",
       "      <td>486.5</td>\n",
       "      <td>471.0</td>\n",
       "      <td>471.055786</td>\n",
       "      <td>459.0</td>\n",
       "      <td>445.987610</td>\n",
       "    </tr>\n",
       "    <tr>\n",
       "      <th>8</th>\n",
       "      <td>0f27b91481db</td>\n",
       "      <td>486.5</td>\n",
       "      <td>471.0</td>\n",
       "      <td>466.935913</td>\n",
       "      <td>454.0</td>\n",
       "      <td>452.551208</td>\n",
       "    </tr>\n",
       "    <tr>\n",
       "      <th>9</th>\n",
       "      <td>07f5f08a49fa</td>\n",
       "      <td>486.5</td>\n",
       "      <td>471.0</td>\n",
       "      <td>463.496368</td>\n",
       "      <td>460.0</td>\n",
       "      <td>464.236481</td>\n",
       "    </tr>\n",
       "    <tr>\n",
       "      <th>10</th>\n",
       "      <td>de5e0bd4769d</td>\n",
       "      <td>486.5</td>\n",
       "      <td>556.5</td>\n",
       "      <td>459.455414</td>\n",
       "      <td>518.0</td>\n",
       "      <td>524.333130</td>\n",
       "    </tr>\n",
       "    <tr>\n",
       "      <th>11</th>\n",
       "      <td>4992950a2651</td>\n",
       "      <td>486.5</td>\n",
       "      <td>556.5</td>\n",
       "      <td>468.898376</td>\n",
       "      <td>534.0</td>\n",
       "      <td>547.590027</td>\n",
       "    </tr>\n",
       "    <tr>\n",
       "      <th>12</th>\n",
       "      <td>6d53bd4dc888</td>\n",
       "      <td>486.5</td>\n",
       "      <td>471.0</td>\n",
       "      <td>479.747253</td>\n",
       "      <td>479.0</td>\n",
       "      <td>475.165710</td>\n",
       "    </tr>\n",
       "    <tr>\n",
       "      <th>13</th>\n",
       "      <td>1bbd6403124c</td>\n",
       "      <td>486.5</td>\n",
       "      <td>471.0</td>\n",
       "      <td>488.685669</td>\n",
       "      <td>477.0</td>\n",
       "      <td>476.142517</td>\n",
       "    </tr>\n",
       "    <tr>\n",
       "      <th>14</th>\n",
       "      <td>e8e7ff40facc</td>\n",
       "      <td>486.5</td>\n",
       "      <td>471.0</td>\n",
       "      <td>484.490509</td>\n",
       "      <td>476.0</td>\n",
       "      <td>472.569183</td>\n",
       "    </tr>\n",
       "    <tr>\n",
       "      <th>15</th>\n",
       "      <td>8a4b1c6af656</td>\n",
       "      <td>486.5</td>\n",
       "      <td>471.0</td>\n",
       "      <td>480.137512</td>\n",
       "      <td>469.0</td>\n",
       "      <td>474.763000</td>\n",
       "    </tr>\n",
       "    <tr>\n",
       "      <th>16</th>\n",
       "      <td>1e24475ddb8c</td>\n",
       "      <td>486.5</td>\n",
       "      <td>471.0</td>\n",
       "      <td>480.251129</td>\n",
       "      <td>478.0</td>\n",
       "      <td>486.375061</td>\n",
       "    </tr>\n",
       "    <tr>\n",
       "      <th>17</th>\n",
       "      <td>02e034fdd2c4</td>\n",
       "      <td>486.5</td>\n",
       "      <td>556.5</td>\n",
       "      <td>472.948364</td>\n",
       "      <td>526.0</td>\n",
       "      <td>537.778748</td>\n",
       "    </tr>\n",
       "    <tr>\n",
       "      <th>18</th>\n",
       "      <td>1cc7eb149dbd</td>\n",
       "      <td>486.5</td>\n",
       "      <td>556.5</td>\n",
       "      <td>470.729004</td>\n",
       "      <td>531.0</td>\n",
       "      <td>549.883667</td>\n",
       "    </tr>\n",
       "    <tr>\n",
       "      <th>19</th>\n",
       "      <td>fb518bfef5ab</td>\n",
       "      <td>486.5</td>\n",
       "      <td>471.0</td>\n",
       "      <td>478.861023</td>\n",
       "      <td>478.0</td>\n",
       "      <td>482.742310</td>\n",
       "    </tr>\n",
       "    <tr>\n",
       "      <th>20</th>\n",
       "      <td>1d1f1519ac13</td>\n",
       "      <td>486.5</td>\n",
       "      <td>471.0</td>\n",
       "      <td>486.768372</td>\n",
       "      <td>476.0</td>\n",
       "      <td>477.218689</td>\n",
       "    </tr>\n",
       "    <tr>\n",
       "      <th>21</th>\n",
       "      <td>ac35a6c2b36c</td>\n",
       "      <td>486.5</td>\n",
       "      <td>471.0</td>\n",
       "      <td>501.931793</td>\n",
       "      <td>486.0</td>\n",
       "      <td>485.371033</td>\n",
       "    </tr>\n",
       "    <tr>\n",
       "      <th>22</th>\n",
       "      <td>5ff1782a4045</td>\n",
       "      <td>486.5</td>\n",
       "      <td>471.0</td>\n",
       "      <td>493.229492</td>\n",
       "      <td>487.0</td>\n",
       "      <td>482.859009</td>\n",
       "    </tr>\n",
       "    <tr>\n",
       "      <th>23</th>\n",
       "      <td>148aa06a6a65</td>\n",
       "      <td>486.5</td>\n",
       "      <td>471.0</td>\n",
       "      <td>483.555023</td>\n",
       "      <td>491.0</td>\n",
       "      <td>490.722778</td>\n",
       "    </tr>\n",
       "    <tr>\n",
       "      <th>24</th>\n",
       "      <td>b94a0af77529</td>\n",
       "      <td>486.5</td>\n",
       "      <td>556.5</td>\n",
       "      <td>477.281067</td>\n",
       "      <td>531.0</td>\n",
       "      <td>534.637085</td>\n",
       "    </tr>\n",
       "    <tr>\n",
       "      <th>25</th>\n",
       "      <td>0a214bdcec3d</td>\n",
       "      <td>486.5</td>\n",
       "      <td>556.5</td>\n",
       "      <td>479.363434</td>\n",
       "      <td>544.0</td>\n",
       "      <td>552.987671</td>\n",
       "    </tr>\n",
       "    <tr>\n",
       "      <th>26</th>\n",
       "      <td>6562a45df4fd</td>\n",
       "      <td>486.5</td>\n",
       "      <td>556.5</td>\n",
       "      <td>492.476532</td>\n",
       "      <td>506.0</td>\n",
       "      <td>494.058014</td>\n",
       "    </tr>\n",
       "    <tr>\n",
       "      <th>27</th>\n",
       "      <td>220e7ae73a6d</td>\n",
       "      <td>486.5</td>\n",
       "      <td>471.0</td>\n",
       "      <td>494.157257</td>\n",
       "      <td>489.0</td>\n",
       "      <td>484.448303</td>\n",
       "    </tr>\n",
       "    <tr>\n",
       "      <th>28</th>\n",
       "      <td>435af699b0f2</td>\n",
       "      <td>486.5</td>\n",
       "      <td>471.0</td>\n",
       "      <td>495.941742</td>\n",
       "      <td>486.0</td>\n",
       "      <td>483.518524</td>\n",
       "    </tr>\n",
       "    <tr>\n",
       "      <th>29</th>\n",
       "      <td>a2c44639e9e4</td>\n",
       "      <td>486.5</td>\n",
       "      <td>471.0</td>\n",
       "      <td>499.812134</td>\n",
       "      <td>495.0</td>\n",
       "      <td>492.917297</td>\n",
       "    </tr>\n",
       "  </tbody>\n",
       "</table>\n",
       "</div>"
      ],
      "text/plain": [
       "              Id  Visits_fibo  Visits_holiday  Visits_lstm  Visits_lstm3  \\\n",
       "0   0b293039387a        486.5           471.0   461.887146         445.0   \n",
       "1   7114389dd824        486.5           471.0   461.683411         448.0   \n",
       "2   057b02ff1f09        486.5           471.0   456.896606         451.0   \n",
       "3   bd2aca21caa3        486.5           556.5   452.676575         502.0   \n",
       "4   c0effb42cdd5        486.5           556.5   457.267883         527.0   \n",
       "5   4ccd369adefc        486.5           556.5   474.970551         510.0   \n",
       "6   67d5c2ebc330        486.5           471.0   474.331818         467.0   \n",
       "7   1c51606e416b        486.5           471.0   471.055786         459.0   \n",
       "8   0f27b91481db        486.5           471.0   466.935913         454.0   \n",
       "9   07f5f08a49fa        486.5           471.0   463.496368         460.0   \n",
       "10  de5e0bd4769d        486.5           556.5   459.455414         518.0   \n",
       "11  4992950a2651        486.5           556.5   468.898376         534.0   \n",
       "12  6d53bd4dc888        486.5           471.0   479.747253         479.0   \n",
       "13  1bbd6403124c        486.5           471.0   488.685669         477.0   \n",
       "14  e8e7ff40facc        486.5           471.0   484.490509         476.0   \n",
       "15  8a4b1c6af656        486.5           471.0   480.137512         469.0   \n",
       "16  1e24475ddb8c        486.5           471.0   480.251129         478.0   \n",
       "17  02e034fdd2c4        486.5           556.5   472.948364         526.0   \n",
       "18  1cc7eb149dbd        486.5           556.5   470.729004         531.0   \n",
       "19  fb518bfef5ab        486.5           471.0   478.861023         478.0   \n",
       "20  1d1f1519ac13        486.5           471.0   486.768372         476.0   \n",
       "21  ac35a6c2b36c        486.5           471.0   501.931793         486.0   \n",
       "22  5ff1782a4045        486.5           471.0   493.229492         487.0   \n",
       "23  148aa06a6a65        486.5           471.0   483.555023         491.0   \n",
       "24  b94a0af77529        486.5           556.5   477.281067         531.0   \n",
       "25  0a214bdcec3d        486.5           556.5   479.363434         544.0   \n",
       "26  6562a45df4fd        486.5           556.5   492.476532         506.0   \n",
       "27  220e7ae73a6d        486.5           471.0   494.157257         489.0   \n",
       "28  435af699b0f2        486.5           471.0   495.941742         486.0   \n",
       "29  a2c44639e9e4        486.5           471.0   499.812134         495.0   \n",
       "\n",
       "    Visits_lstm2  \n",
       "0     430.002136  \n",
       "1     434.366394  \n",
       "2     450.465057  \n",
       "3     502.707031  \n",
       "4     521.230408  \n",
       "5     477.342834  \n",
       "6     450.811584  \n",
       "7     445.987610  \n",
       "8     452.551208  \n",
       "9     464.236481  \n",
       "10    524.333130  \n",
       "11    547.590027  \n",
       "12    475.165710  \n",
       "13    476.142517  \n",
       "14    472.569183  \n",
       "15    474.763000  \n",
       "16    486.375061  \n",
       "17    537.778748  \n",
       "18    549.883667  \n",
       "19    482.742310  \n",
       "20    477.218689  \n",
       "21    485.371033  \n",
       "22    482.859009  \n",
       "23    490.722778  \n",
       "24    534.637085  \n",
       "25    552.987671  \n",
       "26    494.058014  \n",
       "27    484.448303  \n",
       "28    483.518524  \n",
       "29    492.917297  "
      ]
     },
     "execution_count": 41,
     "metadata": {},
     "output_type": "execute_result"
    }
   ],
   "source": [
    "res2.head(30)"
   ]
  },
  {
   "cell_type": "code",
   "execution_count": 36,
   "metadata": {},
   "outputs": [
    {
     "data": {
      "text/html": [
       "<div>\n",
       "<style>\n",
       "    .dataframe thead tr:only-child th {\n",
       "        text-align: right;\n",
       "    }\n",
       "\n",
       "    .dataframe thead th {\n",
       "        text-align: left;\n",
       "    }\n",
       "\n",
       "    .dataframe tbody tr th {\n",
       "        vertical-align: top;\n",
       "    }\n",
       "</style>\n",
       "<table border=\"1\" class=\"dataframe\">\n",
       "  <thead>\n",
       "    <tr style=\"text-align: right;\">\n",
       "      <th></th>\n",
       "      <th>Visits_fibo</th>\n",
       "      <th>Visits_holiday</th>\n",
       "      <th>Visits_lstm</th>\n",
       "      <th>Visits_lstm3</th>\n",
       "    </tr>\n",
       "  </thead>\n",
       "  <tbody>\n",
       "    <tr>\n",
       "      <th>count</th>\n",
       "      <td>8.993906e+06</td>\n",
       "      <td>8.941044e+06</td>\n",
       "      <td>8.993906e+06</td>\n",
       "      <td>8.993906e+06</td>\n",
       "    </tr>\n",
       "    <tr>\n",
       "      <th>mean</th>\n",
       "      <td>9.166133e+02</td>\n",
       "      <td>9.105313e+02</td>\n",
       "      <td>8.983702e+02</td>\n",
       "      <td>9.041029e+02</td>\n",
       "    </tr>\n",
       "    <tr>\n",
       "      <th>std</th>\n",
       "      <td>5.953242e+04</td>\n",
       "      <td>5.969458e+04</td>\n",
       "      <td>5.707090e+04</td>\n",
       "      <td>5.715090e+04</td>\n",
       "    </tr>\n",
       "    <tr>\n",
       "      <th>min</th>\n",
       "      <td>0.000000e+00</td>\n",
       "      <td>0.000000e+00</td>\n",
       "      <td>0.000000e+00</td>\n",
       "      <td>0.000000e+00</td>\n",
       "    </tr>\n",
       "    <tr>\n",
       "      <th>25%</th>\n",
       "      <td>1.650000e+01</td>\n",
       "      <td>1.700000e+01</td>\n",
       "      <td>1.566002e+01</td>\n",
       "      <td>1.600000e+01</td>\n",
       "    </tr>\n",
       "    <tr>\n",
       "      <th>50%</th>\n",
       "      <td>1.120000e+02</td>\n",
       "      <td>1.120000e+02</td>\n",
       "      <td>1.116344e+02</td>\n",
       "      <td>1.100000e+02</td>\n",
       "    </tr>\n",
       "    <tr>\n",
       "      <th>75%</th>\n",
       "      <td>4.830000e+02</td>\n",
       "      <td>4.760000e+02</td>\n",
       "      <td>4.759113e+02</td>\n",
       "      <td>4.720000e+02</td>\n",
       "    </tr>\n",
       "    <tr>\n",
       "      <th>max</th>\n",
       "      <td>1.670840e+07</td>\n",
       "      <td>1.708302e+07</td>\n",
       "      <td>1.739961e+07</td>\n",
       "      <td>1.845510e+07</td>\n",
       "    </tr>\n",
       "  </tbody>\n",
       "</table>\n",
       "</div>"
      ],
      "text/plain": [
       "        Visits_fibo  Visits_holiday   Visits_lstm  Visits_lstm3\n",
       "count  8.993906e+06    8.941044e+06  8.993906e+06  8.993906e+06\n",
       "mean   9.166133e+02    9.105313e+02  8.983702e+02  9.041029e+02\n",
       "std    5.953242e+04    5.969458e+04  5.707090e+04  5.715090e+04\n",
       "min    0.000000e+00    0.000000e+00  0.000000e+00  0.000000e+00\n",
       "25%    1.650000e+01    1.700000e+01  1.566002e+01  1.600000e+01\n",
       "50%    1.120000e+02    1.120000e+02  1.116344e+02  1.100000e+02\n",
       "75%    4.830000e+02    4.760000e+02  4.759113e+02  4.720000e+02\n",
       "max    1.670840e+07    1.708302e+07  1.739961e+07  1.845510e+07"
      ]
     },
     "execution_count": 36,
     "metadata": {},
     "output_type": "execute_result"
    }
   ],
   "source": [
    "res.describe()"
   ]
  },
  {
   "cell_type": "code",
   "execution_count": 37,
   "metadata": {},
   "outputs": [
    {
     "data": {
      "text/html": [
       "<div>\n",
       "<style>\n",
       "    .dataframe thead tr:only-child th {\n",
       "        text-align: right;\n",
       "    }\n",
       "\n",
       "    .dataframe thead th {\n",
       "        text-align: left;\n",
       "    }\n",
       "\n",
       "    .dataframe tbody tr th {\n",
       "        vertical-align: top;\n",
       "    }\n",
       "</style>\n",
       "<table border=\"1\" class=\"dataframe\">\n",
       "  <thead>\n",
       "    <tr style=\"text-align: right;\">\n",
       "      <th></th>\n",
       "      <th>Id</th>\n",
       "      <th>Visits_fibo</th>\n",
       "      <th>Visits_holiday</th>\n",
       "      <th>Visits_lstm</th>\n",
       "      <th>Visits_lstm3</th>\n",
       "    </tr>\n",
       "  </thead>\n",
       "  <tbody>\n",
       "    <tr>\n",
       "      <th>0</th>\n",
       "      <td>0b293039387a</td>\n",
       "      <td>486.5</td>\n",
       "      <td>471.0</td>\n",
       "      <td>461.887146</td>\n",
       "      <td>445.0</td>\n",
       "    </tr>\n",
       "    <tr>\n",
       "      <th>1</th>\n",
       "      <td>7114389dd824</td>\n",
       "      <td>486.5</td>\n",
       "      <td>471.0</td>\n",
       "      <td>461.683411</td>\n",
       "      <td>448.0</td>\n",
       "    </tr>\n",
       "    <tr>\n",
       "      <th>2</th>\n",
       "      <td>057b02ff1f09</td>\n",
       "      <td>486.5</td>\n",
       "      <td>471.0</td>\n",
       "      <td>456.896606</td>\n",
       "      <td>451.0</td>\n",
       "    </tr>\n",
       "    <tr>\n",
       "      <th>3</th>\n",
       "      <td>bd2aca21caa3</td>\n",
       "      <td>486.5</td>\n",
       "      <td>556.5</td>\n",
       "      <td>452.676575</td>\n",
       "      <td>502.0</td>\n",
       "    </tr>\n",
       "    <tr>\n",
       "      <th>4</th>\n",
       "      <td>c0effb42cdd5</td>\n",
       "      <td>486.5</td>\n",
       "      <td>556.5</td>\n",
       "      <td>457.267883</td>\n",
       "      <td>527.0</td>\n",
       "    </tr>\n",
       "    <tr>\n",
       "      <th>5</th>\n",
       "      <td>4ccd369adefc</td>\n",
       "      <td>486.5</td>\n",
       "      <td>556.5</td>\n",
       "      <td>474.970551</td>\n",
       "      <td>510.0</td>\n",
       "    </tr>\n",
       "    <tr>\n",
       "      <th>6</th>\n",
       "      <td>67d5c2ebc330</td>\n",
       "      <td>486.5</td>\n",
       "      <td>471.0</td>\n",
       "      <td>474.331818</td>\n",
       "      <td>467.0</td>\n",
       "    </tr>\n",
       "    <tr>\n",
       "      <th>7</th>\n",
       "      <td>1c51606e416b</td>\n",
       "      <td>486.5</td>\n",
       "      <td>471.0</td>\n",
       "      <td>471.055786</td>\n",
       "      <td>459.0</td>\n",
       "    </tr>\n",
       "    <tr>\n",
       "      <th>8</th>\n",
       "      <td>0f27b91481db</td>\n",
       "      <td>486.5</td>\n",
       "      <td>471.0</td>\n",
       "      <td>466.935913</td>\n",
       "      <td>454.0</td>\n",
       "    </tr>\n",
       "    <tr>\n",
       "      <th>9</th>\n",
       "      <td>07f5f08a49fa</td>\n",
       "      <td>486.5</td>\n",
       "      <td>471.0</td>\n",
       "      <td>463.496368</td>\n",
       "      <td>460.0</td>\n",
       "    </tr>\n",
       "    <tr>\n",
       "      <th>10</th>\n",
       "      <td>de5e0bd4769d</td>\n",
       "      <td>486.5</td>\n",
       "      <td>556.5</td>\n",
       "      <td>459.455414</td>\n",
       "      <td>518.0</td>\n",
       "    </tr>\n",
       "    <tr>\n",
       "      <th>11</th>\n",
       "      <td>4992950a2651</td>\n",
       "      <td>486.5</td>\n",
       "      <td>556.5</td>\n",
       "      <td>468.898376</td>\n",
       "      <td>534.0</td>\n",
       "    </tr>\n",
       "    <tr>\n",
       "      <th>12</th>\n",
       "      <td>6d53bd4dc888</td>\n",
       "      <td>486.5</td>\n",
       "      <td>471.0</td>\n",
       "      <td>479.747253</td>\n",
       "      <td>479.0</td>\n",
       "    </tr>\n",
       "    <tr>\n",
       "      <th>13</th>\n",
       "      <td>1bbd6403124c</td>\n",
       "      <td>486.5</td>\n",
       "      <td>471.0</td>\n",
       "      <td>488.685669</td>\n",
       "      <td>477.0</td>\n",
       "    </tr>\n",
       "    <tr>\n",
       "      <th>14</th>\n",
       "      <td>e8e7ff40facc</td>\n",
       "      <td>486.5</td>\n",
       "      <td>471.0</td>\n",
       "      <td>484.490509</td>\n",
       "      <td>476.0</td>\n",
       "    </tr>\n",
       "    <tr>\n",
       "      <th>15</th>\n",
       "      <td>8a4b1c6af656</td>\n",
       "      <td>486.5</td>\n",
       "      <td>471.0</td>\n",
       "      <td>480.137512</td>\n",
       "      <td>469.0</td>\n",
       "    </tr>\n",
       "    <tr>\n",
       "      <th>16</th>\n",
       "      <td>1e24475ddb8c</td>\n",
       "      <td>486.5</td>\n",
       "      <td>471.0</td>\n",
       "      <td>480.251129</td>\n",
       "      <td>478.0</td>\n",
       "    </tr>\n",
       "    <tr>\n",
       "      <th>17</th>\n",
       "      <td>02e034fdd2c4</td>\n",
       "      <td>486.5</td>\n",
       "      <td>556.5</td>\n",
       "      <td>472.948364</td>\n",
       "      <td>526.0</td>\n",
       "    </tr>\n",
       "    <tr>\n",
       "      <th>18</th>\n",
       "      <td>1cc7eb149dbd</td>\n",
       "      <td>486.5</td>\n",
       "      <td>556.5</td>\n",
       "      <td>470.729004</td>\n",
       "      <td>531.0</td>\n",
       "    </tr>\n",
       "    <tr>\n",
       "      <th>19</th>\n",
       "      <td>fb518bfef5ab</td>\n",
       "      <td>486.5</td>\n",
       "      <td>471.0</td>\n",
       "      <td>478.861023</td>\n",
       "      <td>478.0</td>\n",
       "    </tr>\n",
       "    <tr>\n",
       "      <th>20</th>\n",
       "      <td>1d1f1519ac13</td>\n",
       "      <td>486.5</td>\n",
       "      <td>471.0</td>\n",
       "      <td>486.768372</td>\n",
       "      <td>476.0</td>\n",
       "    </tr>\n",
       "    <tr>\n",
       "      <th>21</th>\n",
       "      <td>ac35a6c2b36c</td>\n",
       "      <td>486.5</td>\n",
       "      <td>471.0</td>\n",
       "      <td>501.931793</td>\n",
       "      <td>486.0</td>\n",
       "    </tr>\n",
       "    <tr>\n",
       "      <th>22</th>\n",
       "      <td>5ff1782a4045</td>\n",
       "      <td>486.5</td>\n",
       "      <td>471.0</td>\n",
       "      <td>493.229492</td>\n",
       "      <td>487.0</td>\n",
       "    </tr>\n",
       "    <tr>\n",
       "      <th>23</th>\n",
       "      <td>148aa06a6a65</td>\n",
       "      <td>486.5</td>\n",
       "      <td>471.0</td>\n",
       "      <td>483.555023</td>\n",
       "      <td>491.0</td>\n",
       "    </tr>\n",
       "    <tr>\n",
       "      <th>24</th>\n",
       "      <td>b94a0af77529</td>\n",
       "      <td>486.5</td>\n",
       "      <td>556.5</td>\n",
       "      <td>477.281067</td>\n",
       "      <td>531.0</td>\n",
       "    </tr>\n",
       "    <tr>\n",
       "      <th>25</th>\n",
       "      <td>0a214bdcec3d</td>\n",
       "      <td>486.5</td>\n",
       "      <td>556.5</td>\n",
       "      <td>479.363434</td>\n",
       "      <td>544.0</td>\n",
       "    </tr>\n",
       "    <tr>\n",
       "      <th>26</th>\n",
       "      <td>6562a45df4fd</td>\n",
       "      <td>486.5</td>\n",
       "      <td>556.5</td>\n",
       "      <td>492.476532</td>\n",
       "      <td>506.0</td>\n",
       "    </tr>\n",
       "    <tr>\n",
       "      <th>27</th>\n",
       "      <td>220e7ae73a6d</td>\n",
       "      <td>486.5</td>\n",
       "      <td>471.0</td>\n",
       "      <td>494.157257</td>\n",
       "      <td>489.0</td>\n",
       "    </tr>\n",
       "    <tr>\n",
       "      <th>28</th>\n",
       "      <td>435af699b0f2</td>\n",
       "      <td>486.5</td>\n",
       "      <td>471.0</td>\n",
       "      <td>495.941742</td>\n",
       "      <td>486.0</td>\n",
       "    </tr>\n",
       "    <tr>\n",
       "      <th>29</th>\n",
       "      <td>a2c44639e9e4</td>\n",
       "      <td>486.5</td>\n",
       "      <td>471.0</td>\n",
       "      <td>499.812134</td>\n",
       "      <td>495.0</td>\n",
       "    </tr>\n",
       "    <tr>\n",
       "      <th>...</th>\n",
       "      <td>...</td>\n",
       "      <td>...</td>\n",
       "      <td>...</td>\n",
       "      <td>...</td>\n",
       "      <td>...</td>\n",
       "    </tr>\n",
       "    <tr>\n",
       "      <th>9970</th>\n",
       "      <td>671f2e27d7ed</td>\n",
       "      <td>30.5</td>\n",
       "      <td>28.0</td>\n",
       "      <td>31.471624</td>\n",
       "      <td>22.0</td>\n",
       "    </tr>\n",
       "    <tr>\n",
       "      <th>9971</th>\n",
       "      <td>7fefb3036adf</td>\n",
       "      <td>30.5</td>\n",
       "      <td>28.0</td>\n",
       "      <td>31.671181</td>\n",
       "      <td>27.0</td>\n",
       "    </tr>\n",
       "    <tr>\n",
       "      <th>9972</th>\n",
       "      <td>a6a57d3ba09e</td>\n",
       "      <td>30.5</td>\n",
       "      <td>30.0</td>\n",
       "      <td>30.154270</td>\n",
       "      <td>28.0</td>\n",
       "    </tr>\n",
       "    <tr>\n",
       "      <th>9973</th>\n",
       "      <td>77658d261165</td>\n",
       "      <td>30.5</td>\n",
       "      <td>30.0</td>\n",
       "      <td>31.512079</td>\n",
       "      <td>26.0</td>\n",
       "    </tr>\n",
       "    <tr>\n",
       "      <th>9974</th>\n",
       "      <td>01188af22cad</td>\n",
       "      <td>30.5</td>\n",
       "      <td>28.0</td>\n",
       "      <td>29.351494</td>\n",
       "      <td>23.0</td>\n",
       "    </tr>\n",
       "    <tr>\n",
       "      <th>9975</th>\n",
       "      <td>e2cf028fc1c0</td>\n",
       "      <td>30.5</td>\n",
       "      <td>28.0</td>\n",
       "      <td>30.364132</td>\n",
       "      <td>21.0</td>\n",
       "    </tr>\n",
       "    <tr>\n",
       "      <th>9976</th>\n",
       "      <td>52c4abe74845</td>\n",
       "      <td>30.5</td>\n",
       "      <td>28.0</td>\n",
       "      <td>31.006126</td>\n",
       "      <td>22.0</td>\n",
       "    </tr>\n",
       "    <tr>\n",
       "      <th>9977</th>\n",
       "      <td>30c43a069400</td>\n",
       "      <td>30.5</td>\n",
       "      <td>28.0</td>\n",
       "      <td>33.034981</td>\n",
       "      <td>27.0</td>\n",
       "    </tr>\n",
       "    <tr>\n",
       "      <th>9978</th>\n",
       "      <td>30bfbb0a3913</td>\n",
       "      <td>30.5</td>\n",
       "      <td>28.0</td>\n",
       "      <td>29.506327</td>\n",
       "      <td>22.0</td>\n",
       "    </tr>\n",
       "    <tr>\n",
       "      <th>9979</th>\n",
       "      <td>28e7059000ee</td>\n",
       "      <td>30.5</td>\n",
       "      <td>30.0</td>\n",
       "      <td>29.124702</td>\n",
       "      <td>22.0</td>\n",
       "    </tr>\n",
       "    <tr>\n",
       "      <th>9980</th>\n",
       "      <td>dbee2eb546bb</td>\n",
       "      <td>30.5</td>\n",
       "      <td>30.0</td>\n",
       "      <td>29.657640</td>\n",
       "      <td>23.0</td>\n",
       "    </tr>\n",
       "    <tr>\n",
       "      <th>9981</th>\n",
       "      <td>8594096e5823</td>\n",
       "      <td>30.5</td>\n",
       "      <td>28.0</td>\n",
       "      <td>27.351707</td>\n",
       "      <td>19.0</td>\n",
       "    </tr>\n",
       "    <tr>\n",
       "      <th>9982</th>\n",
       "      <td>5233c656ad99</td>\n",
       "      <td>33.0</td>\n",
       "      <td>32.0</td>\n",
       "      <td>20.543461</td>\n",
       "      <td>30.0</td>\n",
       "    </tr>\n",
       "    <tr>\n",
       "      <th>9983</th>\n",
       "      <td>2ecdb960549a</td>\n",
       "      <td>33.0</td>\n",
       "      <td>32.0</td>\n",
       "      <td>18.031231</td>\n",
       "      <td>28.0</td>\n",
       "    </tr>\n",
       "    <tr>\n",
       "      <th>9984</th>\n",
       "      <td>42eb85a4db99</td>\n",
       "      <td>33.0</td>\n",
       "      <td>32.0</td>\n",
       "      <td>15.751251</td>\n",
       "      <td>28.0</td>\n",
       "    </tr>\n",
       "    <tr>\n",
       "      <th>9985</th>\n",
       "      <td>3626f76991a4</td>\n",
       "      <td>33.0</td>\n",
       "      <td>38.0</td>\n",
       "      <td>23.250317</td>\n",
       "      <td>25.0</td>\n",
       "    </tr>\n",
       "    <tr>\n",
       "      <th>9986</th>\n",
       "      <td>08b68b5b477f</td>\n",
       "      <td>33.0</td>\n",
       "      <td>38.0</td>\n",
       "      <td>28.554192</td>\n",
       "      <td>30.0</td>\n",
       "    </tr>\n",
       "    <tr>\n",
       "      <th>9987</th>\n",
       "      <td>10e5f905e6b2</td>\n",
       "      <td>33.0</td>\n",
       "      <td>32.0</td>\n",
       "      <td>24.107971</td>\n",
       "      <td>25.0</td>\n",
       "    </tr>\n",
       "    <tr>\n",
       "      <th>9988</th>\n",
       "      <td>44262b576ef0</td>\n",
       "      <td>33.0</td>\n",
       "      <td>32.0</td>\n",
       "      <td>21.131016</td>\n",
       "      <td>23.0</td>\n",
       "    </tr>\n",
       "    <tr>\n",
       "      <th>9989</th>\n",
       "      <td>1daabaa8fe78</td>\n",
       "      <td>33.0</td>\n",
       "      <td>32.0</td>\n",
       "      <td>17.500088</td>\n",
       "      <td>21.0</td>\n",
       "    </tr>\n",
       "    <tr>\n",
       "      <th>9990</th>\n",
       "      <td>c1a6519d5f29</td>\n",
       "      <td>33.0</td>\n",
       "      <td>32.0</td>\n",
       "      <td>19.905045</td>\n",
       "      <td>24.0</td>\n",
       "    </tr>\n",
       "    <tr>\n",
       "      <th>9991</th>\n",
       "      <td>9de994cf974f</td>\n",
       "      <td>33.0</td>\n",
       "      <td>32.0</td>\n",
       "      <td>14.521721</td>\n",
       "      <td>23.0</td>\n",
       "    </tr>\n",
       "    <tr>\n",
       "      <th>9992</th>\n",
       "      <td>8cc714edf3ea</td>\n",
       "      <td>33.0</td>\n",
       "      <td>38.0</td>\n",
       "      <td>21.261833</td>\n",
       "      <td>24.0</td>\n",
       "    </tr>\n",
       "    <tr>\n",
       "      <th>9993</th>\n",
       "      <td>8f76d142adb9</td>\n",
       "      <td>33.0</td>\n",
       "      <td>38.0</td>\n",
       "      <td>31.692749</td>\n",
       "      <td>30.0</td>\n",
       "    </tr>\n",
       "    <tr>\n",
       "      <th>9994</th>\n",
       "      <td>273813268ad0</td>\n",
       "      <td>33.0</td>\n",
       "      <td>32.0</td>\n",
       "      <td>27.616013</td>\n",
       "      <td>29.0</td>\n",
       "    </tr>\n",
       "    <tr>\n",
       "      <th>9995</th>\n",
       "      <td>934b9bb4b0c0</td>\n",
       "      <td>33.0</td>\n",
       "      <td>32.0</td>\n",
       "      <td>27.168480</td>\n",
       "      <td>28.0</td>\n",
       "    </tr>\n",
       "    <tr>\n",
       "      <th>9996</th>\n",
       "      <td>2f1259653960</td>\n",
       "      <td>33.0</td>\n",
       "      <td>32.0</td>\n",
       "      <td>23.286716</td>\n",
       "      <td>24.0</td>\n",
       "    </tr>\n",
       "    <tr>\n",
       "      <th>9997</th>\n",
       "      <td>5c2e559b2096</td>\n",
       "      <td>33.0</td>\n",
       "      <td>32.0</td>\n",
       "      <td>22.807278</td>\n",
       "      <td>26.0</td>\n",
       "    </tr>\n",
       "    <tr>\n",
       "      <th>9998</th>\n",
       "      <td>6c7a402dc1a6</td>\n",
       "      <td>33.0</td>\n",
       "      <td>32.0</td>\n",
       "      <td>22.535248</td>\n",
       "      <td>27.0</td>\n",
       "    </tr>\n",
       "    <tr>\n",
       "      <th>9999</th>\n",
       "      <td>bd4189b0d451</td>\n",
       "      <td>33.0</td>\n",
       "      <td>38.0</td>\n",
       "      <td>21.886250</td>\n",
       "      <td>25.0</td>\n",
       "    </tr>\n",
       "  </tbody>\n",
       "</table>\n",
       "<p>10000 rows × 5 columns</p>\n",
       "</div>"
      ],
      "text/plain": [
       "                Id  Visits_fibo  Visits_holiday  Visits_lstm  Visits_lstm3\n",
       "0     0b293039387a        486.5           471.0   461.887146         445.0\n",
       "1     7114389dd824        486.5           471.0   461.683411         448.0\n",
       "2     057b02ff1f09        486.5           471.0   456.896606         451.0\n",
       "3     bd2aca21caa3        486.5           556.5   452.676575         502.0\n",
       "4     c0effb42cdd5        486.5           556.5   457.267883         527.0\n",
       "5     4ccd369adefc        486.5           556.5   474.970551         510.0\n",
       "6     67d5c2ebc330        486.5           471.0   474.331818         467.0\n",
       "7     1c51606e416b        486.5           471.0   471.055786         459.0\n",
       "8     0f27b91481db        486.5           471.0   466.935913         454.0\n",
       "9     07f5f08a49fa        486.5           471.0   463.496368         460.0\n",
       "10    de5e0bd4769d        486.5           556.5   459.455414         518.0\n",
       "11    4992950a2651        486.5           556.5   468.898376         534.0\n",
       "12    6d53bd4dc888        486.5           471.0   479.747253         479.0\n",
       "13    1bbd6403124c        486.5           471.0   488.685669         477.0\n",
       "14    e8e7ff40facc        486.5           471.0   484.490509         476.0\n",
       "15    8a4b1c6af656        486.5           471.0   480.137512         469.0\n",
       "16    1e24475ddb8c        486.5           471.0   480.251129         478.0\n",
       "17    02e034fdd2c4        486.5           556.5   472.948364         526.0\n",
       "18    1cc7eb149dbd        486.5           556.5   470.729004         531.0\n",
       "19    fb518bfef5ab        486.5           471.0   478.861023         478.0\n",
       "20    1d1f1519ac13        486.5           471.0   486.768372         476.0\n",
       "21    ac35a6c2b36c        486.5           471.0   501.931793         486.0\n",
       "22    5ff1782a4045        486.5           471.0   493.229492         487.0\n",
       "23    148aa06a6a65        486.5           471.0   483.555023         491.0\n",
       "24    b94a0af77529        486.5           556.5   477.281067         531.0\n",
       "25    0a214bdcec3d        486.5           556.5   479.363434         544.0\n",
       "26    6562a45df4fd        486.5           556.5   492.476532         506.0\n",
       "27    220e7ae73a6d        486.5           471.0   494.157257         489.0\n",
       "28    435af699b0f2        486.5           471.0   495.941742         486.0\n",
       "29    a2c44639e9e4        486.5           471.0   499.812134         495.0\n",
       "...            ...          ...             ...          ...           ...\n",
       "9970  671f2e27d7ed         30.5            28.0    31.471624          22.0\n",
       "9971  7fefb3036adf         30.5            28.0    31.671181          27.0\n",
       "9972  a6a57d3ba09e         30.5            30.0    30.154270          28.0\n",
       "9973  77658d261165         30.5            30.0    31.512079          26.0\n",
       "9974  01188af22cad         30.5            28.0    29.351494          23.0\n",
       "9975  e2cf028fc1c0         30.5            28.0    30.364132          21.0\n",
       "9976  52c4abe74845         30.5            28.0    31.006126          22.0\n",
       "9977  30c43a069400         30.5            28.0    33.034981          27.0\n",
       "9978  30bfbb0a3913         30.5            28.0    29.506327          22.0\n",
       "9979  28e7059000ee         30.5            30.0    29.124702          22.0\n",
       "9980  dbee2eb546bb         30.5            30.0    29.657640          23.0\n",
       "9981  8594096e5823         30.5            28.0    27.351707          19.0\n",
       "9982  5233c656ad99         33.0            32.0    20.543461          30.0\n",
       "9983  2ecdb960549a         33.0            32.0    18.031231          28.0\n",
       "9984  42eb85a4db99         33.0            32.0    15.751251          28.0\n",
       "9985  3626f76991a4         33.0            38.0    23.250317          25.0\n",
       "9986  08b68b5b477f         33.0            38.0    28.554192          30.0\n",
       "9987  10e5f905e6b2         33.0            32.0    24.107971          25.0\n",
       "9988  44262b576ef0         33.0            32.0    21.131016          23.0\n",
       "9989  1daabaa8fe78         33.0            32.0    17.500088          21.0\n",
       "9990  c1a6519d5f29         33.0            32.0    19.905045          24.0\n",
       "9991  9de994cf974f         33.0            32.0    14.521721          23.0\n",
       "9992  8cc714edf3ea         33.0            38.0    21.261833          24.0\n",
       "9993  8f76d142adb9         33.0            38.0    31.692749          30.0\n",
       "9994  273813268ad0         33.0            32.0    27.616013          29.0\n",
       "9995  934b9bb4b0c0         33.0            32.0    27.168480          28.0\n",
       "9996  2f1259653960         33.0            32.0    23.286716          24.0\n",
       "9997  5c2e559b2096         33.0            32.0    22.807278          26.0\n",
       "9998  6c7a402dc1a6         33.0            32.0    22.535248          27.0\n",
       "9999  bd4189b0d451         33.0            38.0    21.886250          25.0\n",
       "\n",
       "[10000 rows x 5 columns]"
      ]
     },
     "execution_count": 37,
     "metadata": {},
     "output_type": "execute_result"
    }
   ],
   "source": [
    "res.head(10000)"
   ]
  },
  {
   "cell_type": "code",
   "execution_count": 42,
   "metadata": {
    "collapsed": true
   },
   "outputs": [],
   "source": [
    "res_filled = res.fillna(0.0)"
   ]
  },
  {
   "cell_type": "code",
   "execution_count": 43,
   "metadata": {},
   "outputs": [
    {
     "data": {
      "text/plain": [
       "Id                False\n",
       "Visits_fibo       False\n",
       "Visits_holiday    False\n",
       "Visits_lstm       False\n",
       "Visits_lstm3      False\n",
       "dtype: bool"
      ]
     },
     "execution_count": 43,
     "metadata": {},
     "output_type": "execute_result"
    }
   ],
   "source": [
    "res_filled.isnull().any()"
   ]
  },
  {
   "cell_type": "code",
   "execution_count": 44,
   "metadata": {
    "collapsed": true
   },
   "outputs": [],
   "source": [
    "sub = res_filled[['Id']]"
   ]
  },
  {
   "cell_type": "code",
   "execution_count": null,
   "metadata": {
    "collapsed": true
   },
   "outputs": [],
   "source": []
  },
  {
   "cell_type": "code",
   "execution_count": 45,
   "metadata": {},
   "outputs": [
    {
     "name": "stderr",
     "output_type": "stream",
     "text": [
      "/Users/frank/anaconda/lib/python2.7/site-packages/ipykernel_launcher.py:1: SettingWithCopyWarning: \n",
      "A value is trying to be set on a copy of a slice from a DataFrame.\n",
      "Try using .loc[row_indexer,col_indexer] = value instead\n",
      "\n",
      "See the caveats in the documentation: http://pandas.pydata.org/pandas-docs/stable/indexing.html#indexing-view-versus-copy\n",
      "  \"\"\"Entry point for launching an IPython kernel.\n"
     ]
    }
   ],
   "source": [
    "sub[\"Visits\"] = np.round(res_filled.Visits_fibo * 0.6 + res_filled.Visits_holiday * 0.3 + res_filled.Visits_lstm * 0.05 + res_filled.Visits_lstm3 * 0.05)"
   ]
  },
  {
   "cell_type": "code",
   "execution_count": 48,
   "metadata": {},
   "outputs": [
    {
     "data": {
      "text/html": [
       "<div>\n",
       "<style>\n",
       "    .dataframe thead tr:only-child th {\n",
       "        text-align: right;\n",
       "    }\n",
       "\n",
       "    .dataframe thead th {\n",
       "        text-align: left;\n",
       "    }\n",
       "\n",
       "    .dataframe tbody tr th {\n",
       "        vertical-align: top;\n",
       "    }\n",
       "</style>\n",
       "<table border=\"1\" class=\"dataframe\">\n",
       "  <thead>\n",
       "    <tr style=\"text-align: right;\">\n",
       "      <th></th>\n",
       "      <th>Id</th>\n",
       "      <th>Visits</th>\n",
       "    </tr>\n",
       "  </thead>\n",
       "  <tbody>\n",
       "    <tr>\n",
       "      <th>8993901</th>\n",
       "      <td>f78fbaa305ad</td>\n",
       "      <td>222.0</td>\n",
       "    </tr>\n",
       "    <tr>\n",
       "      <th>8993902</th>\n",
       "      <td>33aecaf259d1</td>\n",
       "      <td>222.0</td>\n",
       "    </tr>\n",
       "    <tr>\n",
       "      <th>8993903</th>\n",
       "      <td>a36228b64466</td>\n",
       "      <td>227.0</td>\n",
       "    </tr>\n",
       "    <tr>\n",
       "      <th>8993904</th>\n",
       "      <td>26887d3e5c99</td>\n",
       "      <td>227.0</td>\n",
       "    </tr>\n",
       "    <tr>\n",
       "      <th>8993905</th>\n",
       "      <td>06ad06979f80</td>\n",
       "      <td>221.0</td>\n",
       "    </tr>\n",
       "  </tbody>\n",
       "</table>\n",
       "</div>"
      ],
      "text/plain": [
       "                   Id  Visits\n",
       "8993901  f78fbaa305ad   222.0\n",
       "8993902  33aecaf259d1   222.0\n",
       "8993903  a36228b64466   227.0\n",
       "8993904  26887d3e5c99   227.0\n",
       "8993905  06ad06979f80   221.0"
      ]
     },
     "execution_count": 48,
     "metadata": {},
     "output_type": "execute_result"
    }
   ],
   "source": [
    "sub.tail()"
   ]
  },
  {
   "cell_type": "code",
   "execution_count": 47,
   "metadata": {},
   "outputs": [
    {
     "data": {
      "text/plain": [
       "False"
      ]
     },
     "execution_count": 47,
     "metadata": {},
     "output_type": "execute_result"
    }
   ],
   "source": [
    "sub.Visits.isnull().any()"
   ]
  },
  {
   "cell_type": "code",
   "execution_count": 23,
   "metadata": {},
   "outputs": [
    {
     "data": {
      "text/plain": [
       "count    8.993906e+06\n",
       "mean     9.107028e+02\n",
       "std      5.598773e+04\n",
       "min      0.000000e+00\n",
       "25%      1.700000e+01\n",
       "50%      1.130000e+02\n",
       "75%      4.820000e+02\n",
       "max      1.689669e+07\n",
       "Name: Visits, dtype: float64"
      ]
     },
     "execution_count": 23,
     "metadata": {},
     "output_type": "execute_result"
    }
   ],
   "source": [
    "sub.Visits.describe()"
   ]
  },
  {
   "cell_type": "code",
   "execution_count": 52,
   "metadata": {},
   "outputs": [
    {
     "data": {
      "text/html": [
       "<div>\n",
       "<style>\n",
       "    .dataframe thead tr:only-child th {\n",
       "        text-align: right;\n",
       "    }\n",
       "\n",
       "    .dataframe thead th {\n",
       "        text-align: left;\n",
       "    }\n",
       "\n",
       "    .dataframe tbody tr th {\n",
       "        vertical-align: top;\n",
       "    }\n",
       "</style>\n",
       "<table border=\"1\" class=\"dataframe\">\n",
       "  <thead>\n",
       "    <tr style=\"text-align: right;\">\n",
       "      <th></th>\n",
       "      <th>Visits_fibo</th>\n",
       "      <th>Visits_holiday</th>\n",
       "      <th>Visits_lstm</th>\n",
       "      <th>Visits_lstm3</th>\n",
       "      <th>Visits_lstm2</th>\n",
       "    </tr>\n",
       "  </thead>\n",
       "  <tbody>\n",
       "    <tr>\n",
       "      <th>count</th>\n",
       "      <td>8.993906e+06</td>\n",
       "      <td>8.941044e+06</td>\n",
       "      <td>8.993906e+06</td>\n",
       "      <td>8.993906e+06</td>\n",
       "      <td>8.993906e+06</td>\n",
       "    </tr>\n",
       "    <tr>\n",
       "      <th>mean</th>\n",
       "      <td>9.166133e+02</td>\n",
       "      <td>9.105313e+02</td>\n",
       "      <td>8.983702e+02</td>\n",
       "      <td>9.041029e+02</td>\n",
       "      <td>9.007328e+02</td>\n",
       "    </tr>\n",
       "    <tr>\n",
       "      <th>std</th>\n",
       "      <td>5.953242e+04</td>\n",
       "      <td>5.969458e+04</td>\n",
       "      <td>5.707090e+04</td>\n",
       "      <td>5.715090e+04</td>\n",
       "      <td>5.739827e+04</td>\n",
       "    </tr>\n",
       "    <tr>\n",
       "      <th>min</th>\n",
       "      <td>0.000000e+00</td>\n",
       "      <td>0.000000e+00</td>\n",
       "      <td>0.000000e+00</td>\n",
       "      <td>0.000000e+00</td>\n",
       "      <td>0.000000e+00</td>\n",
       "    </tr>\n",
       "    <tr>\n",
       "      <th>25%</th>\n",
       "      <td>1.650000e+01</td>\n",
       "      <td>1.700000e+01</td>\n",
       "      <td>1.566002e+01</td>\n",
       "      <td>1.600000e+01</td>\n",
       "      <td>1.573687e+01</td>\n",
       "    </tr>\n",
       "    <tr>\n",
       "      <th>50%</th>\n",
       "      <td>1.120000e+02</td>\n",
       "      <td>1.120000e+02</td>\n",
       "      <td>1.116344e+02</td>\n",
       "      <td>1.100000e+02</td>\n",
       "      <td>1.113302e+02</td>\n",
       "    </tr>\n",
       "    <tr>\n",
       "      <th>75%</th>\n",
       "      <td>4.830000e+02</td>\n",
       "      <td>4.760000e+02</td>\n",
       "      <td>4.759113e+02</td>\n",
       "      <td>4.720000e+02</td>\n",
       "      <td>4.739011e+02</td>\n",
       "    </tr>\n",
       "    <tr>\n",
       "      <th>max</th>\n",
       "      <td>1.670840e+07</td>\n",
       "      <td>1.708302e+07</td>\n",
       "      <td>1.739961e+07</td>\n",
       "      <td>1.845510e+07</td>\n",
       "      <td>1.765891e+07</td>\n",
       "    </tr>\n",
       "  </tbody>\n",
       "</table>\n",
       "</div>"
      ],
      "text/plain": [
       "        Visits_fibo  Visits_holiday   Visits_lstm  Visits_lstm3  Visits_lstm2\n",
       "count  8.993906e+06    8.941044e+06  8.993906e+06  8.993906e+06  8.993906e+06\n",
       "mean   9.166133e+02    9.105313e+02  8.983702e+02  9.041029e+02  9.007328e+02\n",
       "std    5.953242e+04    5.969458e+04  5.707090e+04  5.715090e+04  5.739827e+04\n",
       "min    0.000000e+00    0.000000e+00  0.000000e+00  0.000000e+00  0.000000e+00\n",
       "25%    1.650000e+01    1.700000e+01  1.566002e+01  1.600000e+01  1.573687e+01\n",
       "50%    1.120000e+02    1.120000e+02  1.116344e+02  1.100000e+02  1.113302e+02\n",
       "75%    4.830000e+02    4.760000e+02  4.759113e+02  4.720000e+02  4.739011e+02\n",
       "max    1.670840e+07    1.708302e+07  1.739961e+07  1.845510e+07  1.765891e+07"
      ]
     },
     "execution_count": 52,
     "metadata": {},
     "output_type": "execute_result"
    }
   ],
   "source": [
    "res2.describe()"
   ]
  },
  {
   "cell_type": "code",
   "execution_count": 54,
   "metadata": {},
   "outputs": [
    {
     "data": {
      "text/plain": [
       "Index([u'Visits_fibo', u'Visits_holiday', u'Visits_lstm', u'Visits_lstm3',\n",
       "       u'Visits_lstm2'],\n",
       "      dtype='object')"
      ]
     },
     "execution_count": 54,
     "metadata": {},
     "output_type": "execute_result"
    }
   ],
   "source": [
    "res2.columns[1:]"
   ]
  },
  {
   "cell_type": "code",
   "execution_count": 57,
   "metadata": {},
   "outputs": [
    {
     "name": "stdout",
     "output_type": "stream",
     "text": [
      "SMAPE y_true: holiday, y_pred:Visits_fibo, score: 13.7277181455\n",
      "SMAPE y_true: holiday, y_pred:Visits_holiday, score: 0.0\n",
      "SMAPE y_true: holiday, y_pred:Visits_lstm, score: 19.2034898845\n",
      "SMAPE y_true: holiday, y_pred:Visits_lstm3, score: 15.3106862344\n",
      "SMAPE y_true: holiday, y_pred:Visits_lstm2, score: 18.1685737714\n"
     ]
    }
   ],
   "source": [
    "for i in res2.columns[1:]:\n",
    "    print \"SMAPE y_true: holiday, y_pred:{}, score: {}\".format(i, smape(res2.Visits_holiday, res2[i]))"
   ]
  },
  {
   "cell_type": "code",
   "execution_count": 56,
   "metadata": {},
   "outputs": [
    {
     "data": {
      "text/plain": [
       "False"
      ]
     },
     "execution_count": 56,
     "metadata": {},
     "output_type": "execute_result"
    }
   ],
   "source": [
    "sub.Visits.isnull().any()"
   ]
  },
  {
   "cell_type": "code",
   "execution_count": 49,
   "metadata": {
    "collapsed": true
   },
   "outputs": [],
   "source": [
    "sub[['Id', 'Visits']].to_csv(\"my_sub_2.csv\", index = False)"
   ]
  },
  {
   "cell_type": "code",
   "execution_count": 28,
   "metadata": {},
   "outputs": [
    {
     "ename": "NameError",
     "evalue": "name 'res_filled' is not defined",
     "output_type": "error",
     "traceback": [
      "\u001b[0;31m\u001b[0m",
      "\u001b[0;31mNameError\u001b[0mTraceback (most recent call last)",
      "\u001b[0;32m<ipython-input-28-0ab0f348aba5>\u001b[0m in \u001b[0;36m<module>\u001b[0;34m()\u001b[0m\n\u001b[0;32m----> 1\u001b[0;31m \u001b[0mres_filled\u001b[0m\u001b[0;34m.\u001b[0m\u001b[0mdescribe\u001b[0m\u001b[0;34m(\u001b[0m\u001b[0;34m)\u001b[0m\u001b[0;34m\u001b[0m\u001b[0m\n\u001b[0m",
      "\u001b[0;31mNameError\u001b[0m: name 'res_filled' is not defined"
     ]
    }
   ],
   "source": [
    "res_filled.describe()"
   ]
  },
  {
   "cell_type": "code",
   "execution_count": 29,
   "metadata": {},
   "outputs": [
    {
     "data": {
      "text/html": [
       "<div>\n",
       "<style>\n",
       "    .dataframe thead tr:only-child th {\n",
       "        text-align: right;\n",
       "    }\n",
       "\n",
       "    .dataframe thead th {\n",
       "        text-align: left;\n",
       "    }\n",
       "\n",
       "    .dataframe tbody tr th {\n",
       "        vertical-align: top;\n",
       "    }\n",
       "</style>\n",
       "<table border=\"1\" class=\"dataframe\">\n",
       "  <thead>\n",
       "    <tr style=\"text-align: right;\">\n",
       "      <th></th>\n",
       "      <th>Visits_x</th>\n",
       "      <th>Visits_y</th>\n",
       "      <th>Visits</th>\n",
       "    </tr>\n",
       "  </thead>\n",
       "  <tbody>\n",
       "    <tr>\n",
       "      <th>count</th>\n",
       "      <td>8.993906e+06</td>\n",
       "      <td>8.993906e+06</td>\n",
       "      <td>8.993906e+06</td>\n",
       "    </tr>\n",
       "    <tr>\n",
       "      <th>mean</th>\n",
       "      <td>9.166133e+02</td>\n",
       "      <td>9.051797e+02</td>\n",
       "      <td>8.983702e+02</td>\n",
       "    </tr>\n",
       "    <tr>\n",
       "      <th>std</th>\n",
       "      <td>5.953242e+04</td>\n",
       "      <td>5.951894e+04</td>\n",
       "      <td>5.707090e+04</td>\n",
       "    </tr>\n",
       "    <tr>\n",
       "      <th>min</th>\n",
       "      <td>0.000000e+00</td>\n",
       "      <td>0.000000e+00</td>\n",
       "      <td>0.000000e+00</td>\n",
       "    </tr>\n",
       "    <tr>\n",
       "      <th>25%</th>\n",
       "      <td>1.650000e+01</td>\n",
       "      <td>1.600000e+01</td>\n",
       "      <td>1.566002e+01</td>\n",
       "    </tr>\n",
       "    <tr>\n",
       "      <th>50%</th>\n",
       "      <td>1.120000e+02</td>\n",
       "      <td>1.100000e+02</td>\n",
       "      <td>1.116344e+02</td>\n",
       "    </tr>\n",
       "    <tr>\n",
       "      <th>75%</th>\n",
       "      <td>4.830000e+02</td>\n",
       "      <td>4.720000e+02</td>\n",
       "      <td>4.759113e+02</td>\n",
       "    </tr>\n",
       "    <tr>\n",
       "      <th>max</th>\n",
       "      <td>1.670840e+07</td>\n",
       "      <td>1.708302e+07</td>\n",
       "      <td>1.739961e+07</td>\n",
       "    </tr>\n",
       "  </tbody>\n",
       "</table>\n",
       "</div>"
      ],
      "text/plain": [
       "           Visits_x      Visits_y        Visits\n",
       "count  8.993906e+06  8.993906e+06  8.993906e+06\n",
       "mean   9.166133e+02  9.051797e+02  8.983702e+02\n",
       "std    5.953242e+04  5.951894e+04  5.707090e+04\n",
       "min    0.000000e+00  0.000000e+00  0.000000e+00\n",
       "25%    1.650000e+01  1.600000e+01  1.566002e+01\n",
       "50%    1.120000e+02  1.100000e+02  1.116344e+02\n",
       "75%    4.830000e+02  4.720000e+02  4.759113e+02\n",
       "max    1.670840e+07  1.708302e+07  1.739961e+07"
      ]
     },
     "execution_count": 29,
     "metadata": {},
     "output_type": "execute_result"
    }
   ],
   "source": [
    "res_filled.describe()"
   ]
  },
  {
   "cell_type": "code",
   "execution_count": 50,
   "metadata": {
    "collapsed": true
   },
   "outputs": [],
   "source": [
    "def smape(y_true, y_pred):\n",
    "    denominator = (np.abs(y_true) + np.abs(y_pred))\n",
    "    diff = np.abs(y_true - y_pred) / denominator\n",
    "    diff[denominator == 0] = 0.0\n",
    "    return 200 * np.mean(diff)\n"
   ]
  },
  {
   "cell_type": "code",
   "execution_count": null,
   "metadata": {
    "collapsed": true
   },
   "outputs": [],
   "source": [
    "import matplotlib.pyplot as plt\n",
    "from mpl_toolkits.mplot3d import Axes3D\n",
    "fig = plt.figure()\n",
    "ax = fig.add_subplot(111, projection='3d')"
   ]
  },
  {
   "cell_type": "code",
   "execution_count": 43,
   "metadata": {},
   "outputs": [],
   "source": [
    "def smape(y_true, y_pred):\n",
    "    denominator = (np.abs(y_true) + np.abs(y_pred))\n",
    "#     print denominator\n",
    "    if denominator == 0:\n",
    "        return 0\n",
    "    else:\n",
    "        return np.abs(y_true - y_pred) * 1.0 / denominator"
   ]
  },
  {
   "cell_type": "code",
   "execution_count": 48,
   "metadata": {},
   "outputs": [],
   "source": [
    "for i in range(10):\n",
    "    for j in range(10):\n",
    "        arr[i][j] = smape(i, j)\n",
    "#     print "
   ]
  },
  {
   "cell_type": "code",
   "execution_count": null,
   "metadata": {
    "collapsed": true
   },
   "outputs": [],
   "source": []
  },
  {
   "cell_type": "code",
   "execution_count": 45,
   "metadata": {
    "collapsed": true
   },
   "outputs": [],
   "source": [
    "arr = np.zeros((10, 10))"
   ]
  },
  {
   "cell_type": "code",
   "execution_count": 49,
   "metadata": {},
   "outputs": [
    {
     "data": {
      "text/plain": [
       "array([[ 0.        ,  1.        ,  1.        ,  1.        ,  1.        ,\n",
       "         1.        ,  1.        ,  1.        ,  1.        ,  1.        ],\n",
       "       [ 1.        ,  0.        ,  0.33333333,  0.5       ,  0.6       ,\n",
       "         0.66666667,  0.71428571,  0.75      ,  0.77777778,  0.8       ],\n",
       "       [ 1.        ,  0.33333333,  0.        ,  0.2       ,  0.33333333,\n",
       "         0.42857143,  0.5       ,  0.55555556,  0.6       ,  0.63636364],\n",
       "       [ 1.        ,  0.5       ,  0.2       ,  0.        ,  0.14285714,\n",
       "         0.25      ,  0.33333333,  0.4       ,  0.45454545,  0.5       ],\n",
       "       [ 1.        ,  0.6       ,  0.33333333,  0.14285714,  0.        ,\n",
       "         0.11111111,  0.2       ,  0.27272727,  0.33333333,  0.38461538],\n",
       "       [ 1.        ,  0.66666667,  0.42857143,  0.25      ,  0.11111111,\n",
       "         0.        ,  0.09090909,  0.16666667,  0.23076923,  0.28571429],\n",
       "       [ 1.        ,  0.71428571,  0.5       ,  0.33333333,  0.2       ,\n",
       "         0.09090909,  0.        ,  0.07692308,  0.14285714,  0.2       ],\n",
       "       [ 1.        ,  0.75      ,  0.55555556,  0.4       ,  0.27272727,\n",
       "         0.16666667,  0.07692308,  0.        ,  0.06666667,  0.125     ],\n",
       "       [ 1.        ,  0.77777778,  0.6       ,  0.45454545,  0.33333333,\n",
       "         0.23076923,  0.14285714,  0.06666667,  0.        ,  0.05882353],\n",
       "       [ 1.        ,  0.8       ,  0.63636364,  0.5       ,  0.38461538,\n",
       "         0.28571429,  0.2       ,  0.125     ,  0.05882353,  0.        ]])"
      ]
     },
     "execution_count": 49,
     "metadata": {},
     "output_type": "execute_result"
    }
   ],
   "source": [
    "arr"
   ]
  },
  {
   "cell_type": "code",
   "execution_count": 50,
   "metadata": {
    "collapsed": true
   },
   "outputs": [],
   "source": [
    "from seaborn import heatmap"
   ]
  },
  {
   "cell_type": "code",
   "execution_count": 52,
   "metadata": {},
   "outputs": [
    {
     "name": "stdout",
     "output_type": "stream",
     "text": [
      "Populating the interactive namespace from numpy and matplotlib\n"
     ]
    }
   ],
   "source": [
    "%pylab inline"
   ]
  },
  {
   "cell_type": "code",
   "execution_count": 53,
   "metadata": {},
   "outputs": [
    {
     "data": {
      "text/plain": [
       "<matplotlib.axes._subplots.AxesSubplot at 0x14bd37690>"
      ]
     },
     "execution_count": 53,
     "metadata": {},
     "output_type": "execute_result"
    },
    {
     "data": {
      "image/png": "[encoded data removed]",
      "text/plain": [
       "<matplotlib.figure.Figure at 0x14bd4ccd0>"
      ]
     },
     "metadata": {},
     "output_type": "display_data"
    }
   ],
   "source": [
    "heatmap(arr)"
   ]
  },
  {
   "cell_type": "code",
   "execution_count": null,
   "metadata": {
    "collapsed": true
   },
   "outputs": [],
   "source": []
  }
 ],
 "metadata": {
  "kernelspec": {
   "display_name": "Python 2",
   "language": "python",
   "name": "python2"
  },
  "language_info": {
   "codemirror_mode": {
    "name": "ipython",
    "version": 2
   },
   "file_extension": ".py",
   "mimetype": "text/x-python",
   "name": "python",
   "nbconvert_exporter": "python",
   "pygments_lexer": "ipython2",
   "version": "2.7.13"
  }
 },
 "nbformat": 4,
 "nbformat_minor": 2
}
