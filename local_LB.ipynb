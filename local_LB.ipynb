{
 "cells": [
  {
   "cell_type": "code",
   "execution_count": 1,
   "metadata": {
    "collapsed": true
   },
   "outputs": [],
   "source": [
    "import pandas as pd\n",
    "import numpy as np\n",
    "\n",
    "k = pd.read_csv(\"key_1.csv\")\n",
    "\n",
    "k['Page'] = k.Page.apply(lambda x: x[:-11])\n",
    "\n",
    "tt = pd.read_csv(\"train_2.csv\", nrows=10)\n",
    "\n",
    "usecols = ['Page'] + list(tt.iloc[:, 551: 551 + 60].columns)\n",
    "\n",
    "train2 = pd.read_csv(\"train_2.csv\", usecols=usecols)\n",
    "\n",
    "df = pd.DataFrame(pd.Series(k.Page.unique()), columns=['Page'])\n",
    "\n",
    "res = pd.merge(df, train2, how='left', on = 'Page')\n",
    "\n",
    "k['true_labels'] = res.iloc[:, 1:].values.reshape(-1, 1)\n",
    "\n",
    "k[[\"Id\", 'true_labels']].to_csv(\"true_labels.csv\", index=False)"
   ]
  },
  {
   "cell_type": "code",
   "execution_count": 161,
   "metadata": {
    "collapsed": true
   },
   "outputs": [],
   "source": [
    "def smape(y_true, y_pred):\n",
    "    denominator = (np.abs(y_true) + np.abs(y_pred))\n",
    "    diff = np.abs(y_true - y_pred) / denominator\n",
    "    diff[denominator == 0] = 0.0\n",
    "    return 200 * np.mean(diff)"
   ]
  },
  {
   "cell_type": "code",
   "execution_count": 202,
   "metadata": {
    "collapsed": true
   },
   "outputs": [],
   "source": [
    "def evaluate(filename):\n",
    "    tt = pd.read_csv(\"true_labels.csv\")\n",
    "    pred = pd.read_csv(filename)\n",
    "    print smape(tt.true_labels, pred.Visits)"
   ]
  },
  {
   "cell_type": "markdown",
   "metadata": {},
   "source": [
    "## start local evaluation here"
   ]
  },
  {
   "cell_type": "code",
   "execution_count": 205,
   "metadata": {},
   "outputs": [
    {
     "name": "stdout",
     "output_type": "stream",
     "text": [
      "44.802633144\n"
     ]
    }
   ],
   "source": [
    "filename = \"res_backup/fibo_and_weekend_44.7.csv\"\n",
    "evaluate(filename)"
   ]
  },
  {
   "cell_type": "code",
   "execution_count": 204,
   "metadata": {},
   "outputs": [],
   "source": [
    "# weight = 0.0\n",
    "\n",
    "# lstm_scaler_res[\"C1\"] = lstm_scaler_res.Visits * weight + lstm2.Visits * (1 - weight)\n",
    "\n",
    "# aa = lstm_scaler_res[lstm_scaler_res.true_labels.notnull()]\n",
    "\n",
    "# print np.mean(np.abs(aa.C1 - aa.true_labels) / (aa.C1 + aa.true_labels)) * 200"
   ]
  },
  {
   "cell_type": "code",
   "execution_count": 216,
   "metadata": {},
   "outputs": [],
   "source": [
    "from keras.layers import Activation,GRU"
   ]
  },
  {
   "cell_type": "code",
   "execution_count": 212,
   "metadata": {
    "collapsed": true
   },
   "outputs": [],
   "source": [
    "from keras.layers.wrappers import TimeDistributed"
   ]
  },
  {
   "cell_type": "code",
   "execution_count": 210,
   "metadata": {},
   "outputs": [
    {
     "ename": "ImportError",
     "evalue": "cannot import name TimeDistributedDense",
     "output_type": "error",
     "traceback": [
      "\u001b[0;31m---------------------------------------------------------------------------\u001b[0m",
      "\u001b[0;31mImportError\u001b[0m                               Traceback (most recent call last)",
      "\u001b[0;32m<ipython-input-210-57f35c397ed1>\u001b[0m in \u001b[0;36m<module>\u001b[0;34m()\u001b[0m\n\u001b[0;32m----> 1\u001b[0;31m \u001b[0;32mfrom\u001b[0m \u001b[0mkeras\u001b[0m\u001b[0;34m.\u001b[0m\u001b[0mlayers\u001b[0m\u001b[0;34m.\u001b[0m\u001b[0mcore\u001b[0m \u001b[0;32mimport\u001b[0m \u001b[0mTimeDistributedDense\u001b[0m\u001b[0;34m,\u001b[0m \u001b[0mActivation\u001b[0m\u001b[0;34m\u001b[0m\u001b[0m\n\u001b[0m",
      "\u001b[0;31mImportError\u001b[0m: cannot import name TimeDistributedDense"
     ]
    }
   ],
   "source": [
    "from keras.layers.core import TimeDistributedDense, Activation"
   ]
  },
  {
   "cell_type": "code",
   "execution_count": null,
   "metadata": {
    "collapsed": true
   },
   "outputs": [],
   "source": []
  }
 ],
 "metadata": {
  "kernelspec": {
   "display_name": "Python 2",
   "language": "python",
   "name": "python2"
  },
  "language_info": {
   "codemirror_mode": {
    "name": "ipython",
    "version": 2
   },
   "file_extension": ".py",
   "mimetype": "text/x-python",
   "name": "python",
   "nbconvert_exporter": "python",
   "pygments_lexer": "ipython2",
   "version": "2.7.13"
  }
 },
 "nbformat": 4,
 "nbformat_minor": 2
}
