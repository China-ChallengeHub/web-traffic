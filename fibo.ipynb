{
 "cells": [
  {
   "cell_type": "code",
   "execution_count": 332,
   "metadata": {
    "collapsed": true
   },
   "outputs": [],
   "source": [
    "train = pd.read_csv(\"train_1.csv\")"
   ]
  },
  {
   "cell_type": "code",
   "execution_count": 343,
   "metadata": {
    "collapsed": true
   },
   "outputs": [],
   "source": [
    "kk = pd.read_csv(\"key_1.csv\")"
   ]
  },
  {
   "cell_type": "code",
   "execution_count": 334,
   "metadata": {
    "collapsed": true
   },
   "outputs": [],
   "source": [
    "res = train[['Page']]"
   ]
  },
  {
   "cell_type": "code",
   "execution_count": 340,
   "metadata": {},
   "outputs": [
    {
     "data": {
      "text/html": [
       "<div>\n",
       "<style>\n",
       "    .dataframe thead tr:only-child th {\n",
       "        text-align: right;\n",
       "    }\n",
       "\n",
       "    .dataframe thead th {\n",
       "        text-align: left;\n",
       "    }\n",
       "\n",
       "    .dataframe tbody tr th {\n",
       "        vertical-align: top;\n",
       "    }\n",
       "</style>\n",
       "<table border=\"1\" class=\"dataframe\">\n",
       "  <thead>\n",
       "    <tr style=\"text-align: right;\">\n",
       "      <th></th>\n",
       "      <th>Page</th>\n",
       "    </tr>\n",
       "  </thead>\n",
       "  <tbody>\n",
       "    <tr>\n",
       "      <th>0</th>\n",
       "      <td>2NE1_zh.wikipedia.org_all-access_spider</td>\n",
       "    </tr>\n",
       "    <tr>\n",
       "      <th>1</th>\n",
       "      <td>2PM_zh.wikipedia.org_all-access_spider</td>\n",
       "    </tr>\n",
       "    <tr>\n",
       "      <th>2</th>\n",
       "      <td>3C_zh.wikipedia.org_all-access_spider</td>\n",
       "    </tr>\n",
       "    <tr>\n",
       "      <th>3</th>\n",
       "      <td>4minute_zh.wikipedia.org_all-access_spider</td>\n",
       "    </tr>\n",
       "    <tr>\n",
       "      <th>4</th>\n",
       "      <td>52_Hz_I_Love_You_zh.wikipedia.org_all-access_s...</td>\n",
       "    </tr>\n",
       "  </tbody>\n",
       "</table>\n",
       "</div>"
      ],
      "text/plain": [
       "                                                Page\n",
       "0            2NE1_zh.wikipedia.org_all-access_spider\n",
       "1             2PM_zh.wikipedia.org_all-access_spider\n",
       "2              3C_zh.wikipedia.org_all-access_spider\n",
       "3         4minute_zh.wikipedia.org_all-access_spider\n",
       "4  52_Hz_I_Love_You_zh.wikipedia.org_all-access_s..."
      ]
     },
     "execution_count": 340,
     "metadata": {},
     "output_type": "execute_result"
    }
   ],
   "source": [
    "res.head()"
   ]
  },
  {
   "cell_type": "code",
   "execution_count": 344,
   "metadata": {},
   "outputs": [
    {
     "data": {
      "text/html": [
       "<div>\n",
       "<style>\n",
       "    .dataframe thead tr:only-child th {\n",
       "        text-align: right;\n",
       "    }\n",
       "\n",
       "    .dataframe thead th {\n",
       "        text-align: left;\n",
       "    }\n",
       "\n",
       "    .dataframe tbody tr th {\n",
       "        vertical-align: top;\n",
       "    }\n",
       "</style>\n",
       "<table border=\"1\" class=\"dataframe\">\n",
       "  <thead>\n",
       "    <tr style=\"text-align: right;\">\n",
       "      <th></th>\n",
       "      <th>Page</th>\n",
       "      <th>Id</th>\n",
       "    </tr>\n",
       "  </thead>\n",
       "  <tbody>\n",
       "    <tr>\n",
       "      <th>0</th>\n",
       "      <td>!vote_en.wikipedia.org_all-access_all-agents_2...</td>\n",
       "      <td>bf4edcf969af</td>\n",
       "    </tr>\n",
       "    <tr>\n",
       "      <th>1</th>\n",
       "      <td>!vote_en.wikipedia.org_all-access_all-agents_2...</td>\n",
       "      <td>929ed2bf52b9</td>\n",
       "    </tr>\n",
       "    <tr>\n",
       "      <th>2</th>\n",
       "      <td>!vote_en.wikipedia.org_all-access_all-agents_2...</td>\n",
       "      <td>ff29d0f51d5c</td>\n",
       "    </tr>\n",
       "    <tr>\n",
       "      <th>3</th>\n",
       "      <td>!vote_en.wikipedia.org_all-access_all-agents_2...</td>\n",
       "      <td>e98873359be6</td>\n",
       "    </tr>\n",
       "    <tr>\n",
       "      <th>4</th>\n",
       "      <td>!vote_en.wikipedia.org_all-access_all-agents_2...</td>\n",
       "      <td>fa012434263a</td>\n",
       "    </tr>\n",
       "  </tbody>\n",
       "</table>\n",
       "</div>"
      ],
      "text/plain": [
       "                                                Page            Id\n",
       "0  !vote_en.wikipedia.org_all-access_all-agents_2...  bf4edcf969af\n",
       "1  !vote_en.wikipedia.org_all-access_all-agents_2...  929ed2bf52b9\n",
       "2  !vote_en.wikipedia.org_all-access_all-agents_2...  ff29d0f51d5c\n",
       "3  !vote_en.wikipedia.org_all-access_all-agents_2...  e98873359be6\n",
       "4  !vote_en.wikipedia.org_all-access_all-agents_2...  fa012434263a"
      ]
     },
     "execution_count": 344,
     "metadata": {},
     "output_type": "execute_result"
    }
   ],
   "source": [
    "kk.head()"
   ]
  },
  {
   "cell_type": "code",
   "execution_count": 345,
   "metadata": {},
   "outputs": [
    {
     "data": {
      "text/plain": [
       "((145063, 1), (8703780, 2))"
      ]
     },
     "execution_count": 345,
     "metadata": {},
     "output_type": "execute_result"
    }
   ],
   "source": [
    "res.shape, kk.shape"
   ]
  },
  {
   "cell_type": "code",
   "execution_count": 346,
   "metadata": {
    "collapsed": true
   },
   "outputs": [],
   "source": [
    "kk.Page = kk.Page.apply(lambda x: x[:-11])"
   ]
  },
  {
   "cell_type": "code",
   "execution_count": 347,
   "metadata": {},
   "outputs": [
    {
     "data": {
      "text/html": [
       "<div>\n",
       "<style>\n",
       "    .dataframe thead tr:only-child th {\n",
       "        text-align: right;\n",
       "    }\n",
       "\n",
       "    .dataframe thead th {\n",
       "        text-align: left;\n",
       "    }\n",
       "\n",
       "    .dataframe tbody tr th {\n",
       "        vertical-align: top;\n",
       "    }\n",
       "</style>\n",
       "<table border=\"1\" class=\"dataframe\">\n",
       "  <thead>\n",
       "    <tr style=\"text-align: right;\">\n",
       "      <th></th>\n",
       "      <th>Page</th>\n",
       "      <th>Id</th>\n",
       "    </tr>\n",
       "  </thead>\n",
       "  <tbody>\n",
       "    <tr>\n",
       "      <th>0</th>\n",
       "      <td>!vote_en.wikipedia.org_all-access_all-agents</td>\n",
       "      <td>bf4edcf969af</td>\n",
       "    </tr>\n",
       "    <tr>\n",
       "      <th>1</th>\n",
       "      <td>!vote_en.wikipedia.org_all-access_all-agents</td>\n",
       "      <td>929ed2bf52b9</td>\n",
       "    </tr>\n",
       "    <tr>\n",
       "      <th>2</th>\n",
       "      <td>!vote_en.wikipedia.org_all-access_all-agents</td>\n",
       "      <td>ff29d0f51d5c</td>\n",
       "    </tr>\n",
       "    <tr>\n",
       "      <th>3</th>\n",
       "      <td>!vote_en.wikipedia.org_all-access_all-agents</td>\n",
       "      <td>e98873359be6</td>\n",
       "    </tr>\n",
       "    <tr>\n",
       "      <th>4</th>\n",
       "      <td>!vote_en.wikipedia.org_all-access_all-agents</td>\n",
       "      <td>fa012434263a</td>\n",
       "    </tr>\n",
       "  </tbody>\n",
       "</table>\n",
       "</div>"
      ],
      "text/plain": [
       "                                           Page            Id\n",
       "0  !vote_en.wikipedia.org_all-access_all-agents  bf4edcf969af\n",
       "1  !vote_en.wikipedia.org_all-access_all-agents  929ed2bf52b9\n",
       "2  !vote_en.wikipedia.org_all-access_all-agents  ff29d0f51d5c\n",
       "3  !vote_en.wikipedia.org_all-access_all-agents  e98873359be6\n",
       "4  !vote_en.wikipedia.org_all-access_all-agents  fa012434263a"
      ]
     },
     "execution_count": 347,
     "metadata": {},
     "output_type": "execute_result"
    }
   ],
   "source": [
    "kk.head()"
   ]
  },
  {
   "cell_type": "code",
   "execution_count": 348,
   "metadata": {
    "collapsed": true
   },
   "outputs": [],
   "source": [
    "res = res.merge(kk, on='Page')"
   ]
  },
  {
   "cell_type": "code",
   "execution_count": 349,
   "metadata": {},
   "outputs": [
    {
     "data": {
      "text/html": [
       "<div>\n",
       "<style>\n",
       "    .dataframe thead tr:only-child th {\n",
       "        text-align: right;\n",
       "    }\n",
       "\n",
       "    .dataframe thead th {\n",
       "        text-align: left;\n",
       "    }\n",
       "\n",
       "    .dataframe tbody tr th {\n",
       "        vertical-align: top;\n",
       "    }\n",
       "</style>\n",
       "<table border=\"1\" class=\"dataframe\">\n",
       "  <thead>\n",
       "    <tr style=\"text-align: right;\">\n",
       "      <th></th>\n",
       "      <th>Page</th>\n",
       "      <th>Id</th>\n",
       "    </tr>\n",
       "  </thead>\n",
       "  <tbody>\n",
       "    <tr>\n",
       "      <th>0</th>\n",
       "      <td>2NE1_zh.wikipedia.org_all-access_spider</td>\n",
       "      <td>ff8c1aade3de</td>\n",
       "    </tr>\n",
       "    <tr>\n",
       "      <th>1</th>\n",
       "      <td>2NE1_zh.wikipedia.org_all-access_spider</td>\n",
       "      <td>6a4de5b43179</td>\n",
       "    </tr>\n",
       "    <tr>\n",
       "      <th>2</th>\n",
       "      <td>2NE1_zh.wikipedia.org_all-access_spider</td>\n",
       "      <td>559a1ab24535</td>\n",
       "    </tr>\n",
       "    <tr>\n",
       "      <th>3</th>\n",
       "      <td>2NE1_zh.wikipedia.org_all-access_spider</td>\n",
       "      <td>8bd4a4dea5a3</td>\n",
       "    </tr>\n",
       "    <tr>\n",
       "      <th>4</th>\n",
       "      <td>2NE1_zh.wikipedia.org_all-access_spider</td>\n",
       "      <td>fb31ab105824</td>\n",
       "    </tr>\n",
       "  </tbody>\n",
       "</table>\n",
       "</div>"
      ],
      "text/plain": [
       "                                      Page            Id\n",
       "0  2NE1_zh.wikipedia.org_all-access_spider  ff8c1aade3de\n",
       "1  2NE1_zh.wikipedia.org_all-access_spider  6a4de5b43179\n",
       "2  2NE1_zh.wikipedia.org_all-access_spider  559a1ab24535\n",
       "3  2NE1_zh.wikipedia.org_all-access_spider  8bd4a4dea5a3\n",
       "4  2NE1_zh.wikipedia.org_all-access_spider  fb31ab105824"
      ]
     },
     "execution_count": 349,
     "metadata": {},
     "output_type": "execute_result"
    }
   ],
   "source": [
    "res.head()"
   ]
  },
  {
   "cell_type": "code",
   "execution_count": null,
   "metadata": {
    "collapsed": true
   },
   "outputs": [],
   "source": []
  },
  {
   "cell_type": "code",
   "execution_count": 350,
   "metadata": {},
   "outputs": [
    {
     "data": {
      "text/plain": [
       "(8703780, 2)"
      ]
     },
     "execution_count": 350,
     "metadata": {},
     "output_type": "execute_result"
    }
   ],
   "source": [
    "res.shape"
   ]
  },
  {
   "cell_type": "code",
   "execution_count": null,
   "metadata": {
    "collapsed": true
   },
   "outputs": [],
   "source": []
  },
  {
   "cell_type": "code",
   "execution_count": null,
   "metadata": {
    "collapsed": true
   },
   "outputs": [],
   "source": []
  },
  {
   "cell_type": "code",
   "execution_count": null,
   "metadata": {
    "collapsed": true
   },
   "outputs": [],
   "source": []
  },
  {
   "cell_type": "code",
   "execution_count": 51,
   "metadata": {},
   "outputs": [
    {
     "name": "stderr",
     "output_type": "stream",
     "text": [
      "/Users/frank/anaconda/lib/python2.7/site-packages/ipykernel_launcher.py:18: SettingWithCopyWarning: \n",
      "A value is trying to be set on a copy of a slice from a DataFrame\n",
      "\n",
      "See the caveats in the documentation: http://pandas.pydata.org/pandas-docs/stable/indexing.html#indexing-view-versus-copy\n"
     ]
    },
    {
     "name": "stdout",
     "output_type": "stream",
     "text": [
      "38.6271467177\n"
     ]
    }
   ],
   "source": [
    "import pandas as pd\n",
    "import numpy as np\n",
    "\n",
    "train_2 = pd.read_csv(\"train_2.csv\")\n",
    "\n",
    "train = train_2.iloc[:, :-60]\n",
    "\n",
    "valid = train_2.iloc[:, -60:]\n",
    "\n",
    "Windows = [6,9, 15 , 24 , 39 , 63 , 102 , 165 , 267 , 432]\n",
    "\n",
    "for W in Windows: \n",
    "    train[str(W)]=train.iloc[:,-W:].median(axis=1)\n",
    "\n",
    "\n",
    "train['Visits']=train.iloc[:,-len(Windows):].median(axis=1)\n",
    "\n",
    "train.Visits[train.Visits.isnull()] = 0.0\n",
    "\n",
    "\n",
    "y_true = valid.values.reshape(-1, 1).ravel()\n",
    "\n",
    "preds = np.tile(train.Visits.values.reshape(-1,1), (1, 60)).reshape(-1, 1)\n",
    "y_pred = preds.ravel()\n",
    "\n",
    "\n",
    "def smape(y_true, y_pred):\n",
    "    denominator = (np.abs(y_true) + np.abs(y_pred))\n",
    "    diff = np.abs(y_true - y_pred) / denominator\n",
    "    diff[denominator == 0] = 0.0\n",
    "    return 200 * np.mean(diff)\n",
    "\n",
    "print smape(pd.Series(y_true), pd.Series(y_pred))"
   ]
  },
  {
   "cell_type": "code",
   "execution_count": 53,
   "metadata": {},
   "outputs": [
    {
     "name": "stderr",
     "output_type": "stream",
     "text": [
      "/Users/frank/anaconda/lib/python2.7/site-packages/ipykernel_launcher.py:18: SettingWithCopyWarning: \n",
      "A value is trying to be set on a copy of a slice from a DataFrame\n",
      "\n",
      "See the caveats in the documentation: http://pandas.pydata.org/pandas-docs/stable/indexing.html#indexing-view-versus-copy\n",
      "/Users/frank/anaconda/lib/python2.7/site-packages/ipykernel_launcher.py:19: SettingWithCopyWarning: \n",
      "A value is trying to be set on a copy of a slice from a DataFrame\n",
      "\n",
      "See the caveats in the documentation: http://pandas.pydata.org/pandas-docs/stable/indexing.html#indexing-view-versus-copy\n"
     ]
    },
    {
     "name": "stdout",
     "output_type": "stream",
     "text": [
      "38.5710044594\n"
     ]
    }
   ],
   "source": [
    "import pandas as pd\n",
    "import numpy as np\n",
    "\n",
    "train_2 = pd.read_csv(\"train_2.csv\")\n",
    "\n",
    "train = train_2.iloc[:, :-60]\n",
    "\n",
    "valid = train_2.iloc[:, -60:]\n",
    "\n",
    "Windows = [6,9, 15 , 24 , 39 , 63 , 102 , 165 , 267 , 432]\n",
    "\n",
    "for W in Windows: \n",
    "    train[str(W)]=train.iloc[:,-W:].median(axis=1)\n",
    "\n",
    "\n",
    "train['Visits']=train.iloc[:,-len(Windows):].median(axis=1)\n",
    "\n",
    "train.Visits[train.Visits.isnull()] = 0.0\n",
    "train.Visits[train.Visits < 1] = 0.0\n",
    "\n",
    "\n",
    "y_true = valid.values.reshape(-1, 1).ravel()\n",
    "\n",
    "preds = np.tile(train.Visits.values.reshape(-1,1), (1, 60)).reshape(-1, 1)\n",
    "y_pred = preds.ravel()\n",
    "\n",
    "\n",
    "def smape(y_true, y_pred):\n",
    "    denominator = (np.abs(y_true) + np.abs(y_pred))\n",
    "    diff = np.abs(y_true - y_pred) / denominator\n",
    "    diff[denominator == 0] = 0.0\n",
    "    return 200 * np.mean(diff)\n",
    "\n",
    "print smape(pd.Series(y_true), pd.Series(y_pred))"
   ]
  },
  {
   "cell_type": "code",
   "execution_count": 55,
   "metadata": {
    "scrolled": true
   },
   "outputs": [
    {
     "name": "stderr",
     "output_type": "stream",
     "text": [
      "/Users/frank/anaconda/lib/python2.7/site-packages/ipykernel_launcher.py:18: SettingWithCopyWarning: \n",
      "A value is trying to be set on a copy of a slice from a DataFrame\n",
      "\n",
      "See the caveats in the documentation: http://pandas.pydata.org/pandas-docs/stable/indexing.html#indexing-view-versus-copy\n"
     ]
    },
    {
     "name": "stdout",
     "output_type": "stream",
     "text": [
      "39.0578672542\n"
     ]
    }
   ],
   "source": [
    "import pandas as pd\n",
    "import numpy as np\n",
    "\n",
    "train_2 = pd.read_csv(\"train_2.csv\")\n",
    "\n",
    "train = train_2.iloc[:, :-60]\n",
    "\n",
    "valid = train_2.iloc[:, -60:]\n",
    "\n",
    "Windows = [9, 15 , 24 , 39 , 63 , 102 , 165 , 267 , 432]\n",
    "\n",
    "for W in Windows: \n",
    "    train[str(W)]=train.iloc[:,-W:].median(axis=1)\n",
    "\n",
    "\n",
    "train['Visits']=train.iloc[:,-len(Windows):].median(axis=1)\n",
    "\n",
    "train.Visits[train.Visits.isnull()] = 0.0\n",
    "# train.Visits[train.Visits < 1] = 0.0\n",
    "\n",
    "y_true = valid.values.reshape(-1, 1).ravel()\n",
    "\n",
    "preds = np.tile(train.Visits.values.reshape(-1,1), (1, 60)).reshape(-1, 1)\n",
    "y_pred = preds.ravel()\n",
    "\n",
    "\n",
    "def smape(y_true, y_pred):\n",
    "    denominator = (np.abs(y_true) + np.abs(y_pred))\n",
    "    diff = np.abs(y_true - y_pred) / denominator\n",
    "    diff[denominator == 0] = 0.0\n",
    "    return 200 * np.mean(diff)\n",
    "\n",
    "print smape(pd.Series(y_true), pd.Series(y_pred))"
   ]
  },
  {
   "cell_type": "code",
   "execution_count": null,
   "metadata": {
    "collapsed": true
   },
   "outputs": [],
   "source": [
    "import pandas as pd\n",
    "import numpy as np\n",
    "\n",
    "train_2 = pd.read_csv(\"train_2.csv\")\n",
    "\n",
    "train = train_2.iloc[:, :-60]\n",
    "\n",
    "valid = train_2.iloc[:, -60:]\n",
    "\n",
    "Windows = [9, 15 , 24 , 39 , 63 , 102 , 165 , 267 , 432]\n",
    "\n",
    "for W in Windows: \n",
    "    train[str(W)]=train.iloc[:,-W:].median(axis=1)\n",
    "\n",
    "\n",
    "train['Visits']=train.iloc[:,-len(Windows):].median(axis=1)\n",
    "\n",
    "train.Visits[train.Visits.isnull()] = 0.0\n",
    "\n",
    "\n",
    "y_true = valid.values.reshape(-1, 1).ravel()\n",
    "\n",
    "preds = np.tile(train.Visits.values.reshape(-1,1), (1, 60)).reshape(-1, 1)\n",
    "y_pred = preds.ravel()\n",
    "\n",
    "\n",
    "def smape(y_true, y_pred):\n",
    "    denominator = (np.abs(y_true) + np.abs(y_pred))\n",
    "    diff = np.abs(y_true - y_pred) / denominator\n",
    "    diff[denominator == 0] = 0.0\n",
    "    return 200 * np.mean(diff)\n",
    "\n",
    "print smape(pd.Series(y_true), pd.Series(y_pred))"
   ]
  },
  {
   "cell_type": "code",
   "execution_count": 196,
   "metadata": {},
   "outputs": [
    {
     "data": {
      "text/plain": [
       "(8703780,)"
      ]
     },
     "execution_count": 196,
     "metadata": {},
     "output_type": "execute_result"
    }
   ],
   "source": [
    "y_true.shape"
   ]
  },
  {
   "cell_type": "code",
   "execution_count": 55,
   "metadata": {
    "collapsed": true
   },
   "outputs": [],
   "source": [
    "# Windows = [6, 10, 16 , 26 , 42 , 68 , 110 , 178 , 288] => 39.110112759343629\n",
    "\n",
    "# Windows = [15 , 24 , 39 , 63 , 102 , 165 , 267 , 432] => 40.159213178503819\n",
    "\n",
    "# Windows = [7,12 , 19 , 31 , 50 , 81 , 131 , 212 , 343] => 39.265194557560648\n",
    "\n",
    "# Windows = [4, 8,12 , 20 , 32 , 52 , 84 , 136 , 220 , 356] => 39.004430857485268\n",
    "\n",
    "# Windows = [8 , 13 , 21 , 34 , 55 , 89 , 144 , 233 , 377] => 39.338222798364846\n",
    "\n",
    "# Windows = [6,9, 15 , 24 , 39 , 63 , 102 , 165 , 267 , 432] => 39.19838400963756\n",
    "\n",
    "# Windows = [6, 12, 18, 30, 48, 78, 126, 203, 329] => 39.19157267300591"
   ]
  },
  {
   "cell_type": "code",
   "execution_count": 118,
   "metadata": {
    "collapsed": true
   },
   "outputs": [],
   "source": [
    "## add one more value, worse\n",
    "# Windows = [6, 10, 16 , 26 , 42 , 68 , 110 , 178 , 288, 466] => 39.27564553966397\n",
    "\n",
    "Windows = [6,9, 15 , 24 , 39 , 63 , 102 , 165 , 267 , 432, 699] => 39.66575075732745\n",
    "Windows = [6, 12, 18, 30, 48, 78, 126, 203, 329, 532] => 39.38943795225456\n",
    "## decrease one, better (best)\n",
    "Windows = [6, 10, 16 , 26 , 42 , 68 , 110 , 178] => 39.119408903369816\n",
    "Windows = [6,9, 15 , 24 , 39 , 63 , 102 , 165 , 267] => 39.14283723101235\n",
    "Windows = [6, 12, 18, 30, 48, 78, 126, 203] => 39.171579751871334\n",
    "\n",
    "## decrease two, similar\n",
    "Windows = [6, 10, 16 , 26 , 42 , 68 , 110] => 39.16651878121132\n",
    "\n",
    "Windows = [6,9, 15 , 24 , 39 , 63 , 102 , 165] => 39.19170462530361\n",
    "Windows = [6, 12, 18, 30, 48, 78, 126] => 39.17159914427684"
   ]
  },
  {
   "cell_type": "code",
   "execution_count": 311,
   "metadata": {
    "collapsed": true
   },
   "outputs": [],
   "source": [
    "Windows = [6,9, 15 , 24 , 39 , 63 , 102 , 165 , 267 , 432]"
   ]
  },
  {
   "cell_type": "code",
   "execution_count": null,
   "metadata": {
    "collapsed": true
   },
   "outputs": [],
   "source": [
    "Windows = [9, 15 , 24 , 39 , 63 , 102 , 165 , 267 , 432]"
   ]
  },
  {
   "cell_type": "code",
   "execution_count": 312,
   "metadata": {},
   "outputs": [
    {
     "name": "stderr",
     "output_type": "stream",
     "text": [
      "/Users/frank/anaconda/lib/python2.7/site-packages/ipykernel_launcher.py:9: SettingWithCopyWarning: \n",
      "A value is trying to be set on a copy of a slice from a DataFrame\n",
      "\n",
      "See the caveats in the documentation: http://pandas.pydata.org/pandas-docs/stable/indexing.html#indexing-view-versus-copy\n",
      "  if __name__ == '__main__':\n"
     ]
    }
   ],
   "source": [
    "# Windows = [6,9, 15 , 24 , 39 , 63 , 102 , 165 , 267 , 432] => 39.19838400963756\n",
    "# Windows = [6, 12, 18, 30, 48, 78, 126, 203, 329] => 39.19157267300591\n",
    "\n",
    "for W in Windows: \n",
    "    train[str(W)]=train.iloc[:,-W:].median(axis=1)\n",
    "\n",
    "train['Visits']=train.iloc[:,734:].median(axis=1)\n",
    "\n",
    "train.Visits[train.Visits.isnull()] = 0.0"
   ]
  },
  {
   "cell_type": "code",
   "execution_count": 313,
   "metadata": {
    "collapsed": true
   },
   "outputs": [],
   "source": [
    "y_true = valid.values.reshape(-1, 1).ravel()\n",
    "\n",
    "preds = np.tile(train.Visits.values.reshape(-1,1), (1, 60)).reshape(-1, 1)\n",
    "y_pred = preds.ravel()"
   ]
  },
  {
   "cell_type": "code",
   "execution_count": 315,
   "metadata": {},
   "outputs": [
    {
     "data": {
      "text/plain": [
       "array([ 26.,  15.,  14., ...,   9.,   6.,   5.])"
      ]
     },
     "execution_count": 315,
     "metadata": {},
     "output_type": "execute_result"
    }
   ],
   "source": [
    "y_true"
   ]
  },
  {
   "cell_type": "code",
   "execution_count": 316,
   "metadata": {},
   "outputs": [
    {
     "data": {
      "text/plain": [
       "39.19838400963756"
      ]
     },
     "execution_count": 316,
     "metadata": {},
     "output_type": "execute_result"
    }
   ],
   "source": [
    "smape(pd.Series(y_true), pd.Series(y_pred))"
   ]
  },
  {
   "cell_type": "code",
   "execution_count": 323,
   "metadata": {},
   "outputs": [
    {
     "data": {
      "text/plain": [
       "39.10342103539304"
      ]
     },
     "execution_count": 323,
     "metadata": {},
     "output_type": "execute_result"
    }
   ],
   "source": [
    "smape(pd.Series(y_true), pd.Series(np.round(y_pred)))"
   ]
  },
  {
   "cell_type": "code",
   "execution_count": 353,
   "metadata": {},
   "outputs": [
    {
     "data": {
      "text/plain": [
       "array([ 9.,  9.,  9.,  9.,  9.,  3.,  3.,  3.,  3.,  3.,  3.,  3.,  3.,\n",
       "        3.,  3.,  3.,  3.,  3.,  3.,  3.,  3.,  3.,  3.,  3.,  3.])"
      ]
     },
     "execution_count": 353,
     "metadata": {},
     "output_type": "execute_result"
    }
   ],
   "source": [
    "preds.ravel()[4675:4700]"
   ]
  },
  {
   "cell_type": "code",
   "execution_count": 354,
   "metadata": {},
   "outputs": [
    {
     "data": {
      "text/plain": [
       "array([ 12.,  18.,  10.,   9.,  10.,   4.,   6.,   2.,  18.,   7.,   9.,\n",
       "         1.,   1.,   7.,   1.,   2.,   1.,   2.,   3.,   1.,   9.,   6.,\n",
       "         1.,  nan,   5.])"
      ]
     },
     "execution_count": 354,
     "metadata": {},
     "output_type": "execute_result"
    }
   ],
   "source": [
    "np.abs(y_true[4675:4700])"
   ]
  },
  {
   "cell_type": "code",
   "execution_count": 401,
   "metadata": {
    "collapsed": true
   },
   "outputs": [],
   "source": [
    "y_pred = preds.ravel()[4675:4700]"
   ]
  },
  {
   "cell_type": "code",
   "execution_count": 405,
   "metadata": {},
   "outputs": [
    {
     "data": {
      "text/plain": [
       "array([ 9.,  9.,  9.,  9.,  9.,  3.,  3.,  3.,  3.,  3.,  3.,  3.,  3.,\n",
       "        3.,  3.,  3.,  3.,  3.,  3.,  3.,  3.,  3.,  3.,  3.,  3.])"
      ]
     },
     "execution_count": 405,
     "metadata": {},
     "output_type": "execute_result"
    }
   ],
   "source": [
    "y_pred"
   ]
  },
  {
   "cell_type": "code",
   "execution_count": 402,
   "metadata": {
    "collapsed": true
   },
   "outputs": [],
   "source": [
    "y_true = y_true[4675:4700]"
   ]
  },
  {
   "cell_type": "code",
   "execution_count": 68,
   "metadata": {
    "collapsed": true
   },
   "outputs": [],
   "source": [
    "def smape(y_true, y_pred):\n",
    "    denominator = (np.abs(y_true) + np.abs(y_pred))\n",
    "    diff = np.abs(y_true - y_pred) / denominator\n",
    "    diff[denominator == 0] = 0.0\n",
    "    return 200 * np.mean(diff)"
   ]
  },
  {
   "cell_type": "code",
   "execution_count": 404,
   "metadata": {},
   "outputs": [
    {
     "ename": "ValueError",
     "evalue": "operands could not be broadcast together with shapes (0,) (25,) ",
     "output_type": "error",
     "traceback": [
      "\u001b[0;31m\u001b[0m",
      "\u001b[0;31mValueError\u001b[0mTraceback (most recent call last)",
      "\u001b[0;32m<ipython-input-404-23522a3fa8a7>\u001b[0m in \u001b[0;36m<module>\u001b[0;34m()\u001b[0m\n\u001b[0;32m----> 1\u001b[0;31m \u001b[0msmape\u001b[0m\u001b[0;34m(\u001b[0m\u001b[0my_true\u001b[0m\u001b[0;34m,\u001b[0m \u001b[0my_pred\u001b[0m\u001b[0;34m)\u001b[0m\u001b[0;34m\u001b[0m\u001b[0m\n\u001b[0m",
      "\u001b[0;32m<ipython-input-403-b71fb1acb2a6>\u001b[0m in \u001b[0;36msmape\u001b[0;34m(y_true, y_pred)\u001b[0m\n\u001b[1;32m      1\u001b[0m \u001b[0;32mdef\u001b[0m \u001b[0msmape\u001b[0m\u001b[0;34m(\u001b[0m\u001b[0my_true\u001b[0m\u001b[0;34m,\u001b[0m \u001b[0my_pred\u001b[0m\u001b[0;34m)\u001b[0m\u001b[0;34m:\u001b[0m\u001b[0;34m\u001b[0m\u001b[0m\n\u001b[0;32m----> 2\u001b[0;31m     \u001b[0mdenominator\u001b[0m \u001b[0;34m=\u001b[0m \u001b[0;34m(\u001b[0m\u001b[0mnp\u001b[0m\u001b[0;34m.\u001b[0m\u001b[0mabs\u001b[0m\u001b[0;34m(\u001b[0m\u001b[0my_true\u001b[0m\u001b[0;34m)\u001b[0m \u001b[0;34m+\u001b[0m \u001b[0mnp\u001b[0m\u001b[0;34m.\u001b[0m\u001b[0mabs\u001b[0m\u001b[0;34m(\u001b[0m\u001b[0my_pred\u001b[0m\u001b[0;34m)\u001b[0m\u001b[0;34m)\u001b[0m\u001b[0;34m\u001b[0m\u001b[0m\n\u001b[0m\u001b[1;32m      3\u001b[0m     \u001b[0mdiff\u001b[0m \u001b[0;34m=\u001b[0m \u001b[0mnp\u001b[0m\u001b[0;34m.\u001b[0m\u001b[0mabs\u001b[0m\u001b[0;34m(\u001b[0m\u001b[0my_true\u001b[0m \u001b[0;34m-\u001b[0m \u001b[0my_pred\u001b[0m\u001b[0;34m)\u001b[0m \u001b[0;34m/\u001b[0m \u001b[0mdenominator\u001b[0m\u001b[0;34m\u001b[0m\u001b[0m\n\u001b[1;32m      4\u001b[0m     \u001b[0mdiff\u001b[0m\u001b[0;34m[\u001b[0m\u001b[0mdenominator\u001b[0m \u001b[0;34m==\u001b[0m \u001b[0;36m0\u001b[0m\u001b[0;34m]\u001b[0m \u001b[0;34m=\u001b[0m \u001b[0;36m0.0\u001b[0m\u001b[0;34m\u001b[0m\u001b[0m\n\u001b[1;32m      5\u001b[0m     \u001b[0;32mreturn\u001b[0m \u001b[0;36m200\u001b[0m \u001b[0;34m*\u001b[0m \u001b[0mnp\u001b[0m\u001b[0;34m.\u001b[0m\u001b[0mnanmean\u001b[0m\u001b[0;34m(\u001b[0m\u001b[0mdiff\u001b[0m\u001b[0;34m)\u001b[0m\u001b[0;34m\u001b[0m\u001b[0m\n",
      "\u001b[0;31mValueError\u001b[0m: operands could not be broadcast together with shapes (0,) (25,) "
     ]
    }
   ],
   "source": [
    "smape(y_true, y_pred)"
   ]
  },
  {
   "cell_type": "code",
   "execution_count": 384,
   "metadata": {
    "collapsed": true
   },
   "outputs": [],
   "source": [
    "np.mean?"
   ]
  },
  {
   "cell_type": "code",
   "execution_count": 12,
   "metadata": {
    "collapsed": true
   },
   "outputs": [],
   "source": [
    "Windows = [6,9, 15 , 24 , 39 , 63 , 102 , 165 , 267 , 432]\n",
    "\n",
    "for W in Windows: \n",
    "    train[str(W)]=train.iloc[:,-W:].median(axis=1)\n",
    "\n",
    "train['Visits']=train.iloc[:,734:].median(axis=1)\n",
    "\n",
    "train.Visits[train.Visits.isnull()] = 0.0"
   ]
  },
  {
   "cell_type": "code",
   "execution_count": 15,
   "metadata": {},
   "outputs": [
    {
     "data": {
      "text/plain": [
       "(145063,)"
      ]
     },
     "execution_count": 15,
     "metadata": {},
     "output_type": "execute_result"
    }
   ],
   "source": [
    "train.Visits.shape"
   ]
  },
  {
   "cell_type": "code",
   "execution_count": 16,
   "metadata": {},
   "outputs": [
    {
     "data": {
      "text/plain": [
       "array([ 24. ,  24.5,   3.5, ...,  35.5,   6.5,  14. ])"
      ]
     },
     "execution_count": 16,
     "metadata": {},
     "output_type": "execute_result"
    }
   ],
   "source": [
    "train.Visits.values"
   ]
  },
  {
   "cell_type": "code",
   "execution_count": 17,
   "metadata": {
    "collapsed": true
   },
   "outputs": [],
   "source": [
    "preds = np.tile(train.Visits.values.reshape(-1,1), (1, 60)).reshape(-1, 1)"
   ]
  },
  {
   "cell_type": "code",
   "execution_count": 418,
   "metadata": {},
   "outputs": [
    {
     "data": {
      "text/plain": [
       "(8703780, 1)"
      ]
     },
     "execution_count": 418,
     "metadata": {},
     "output_type": "execute_result"
    }
   ],
   "source": [
    "preds.shape"
   ]
  },
  {
   "cell_type": "code",
   "execution_count": 318,
   "metadata": {},
   "outputs": [
    {
     "name": "stderr",
     "output_type": "stream",
     "text": [
      "/Users/frank/anaconda/lib/python2.7/site-packages/ipykernel_launcher.py:3: RuntimeWarning: invalid value encountered in divide\n",
      "  This is separate from the ipykernel package so we can avoid doing imports until\n"
     ]
    },
    {
     "data": {
      "text/plain": [
       "nan"
      ]
     },
     "execution_count": 318,
     "metadata": {},
     "output_type": "execute_result"
    }
   ],
   "source": [
    "smape(valid.values.reshape(-1, 1), preds)"
   ]
  },
  {
   "cell_type": "code",
   "execution_count": 288,
   "metadata": {},
   "outputs": [
    {
     "data": {
      "text/html": [
       "<div>\n",
       "<style>\n",
       "    .dataframe thead tr:only-child th {\n",
       "        text-align: right;\n",
       "    }\n",
       "\n",
       "    .dataframe thead th {\n",
       "        text-align: left;\n",
       "    }\n",
       "\n",
       "    .dataframe tbody tr th {\n",
       "        vertical-align: top;\n",
       "    }\n",
       "</style>\n",
       "<table border=\"1\" class=\"dataframe\">\n",
       "  <thead>\n",
       "    <tr style=\"text-align: right;\">\n",
       "      <th></th>\n",
       "      <th>6</th>\n",
       "      <th>9</th>\n",
       "      <th>15</th>\n",
       "      <th>24</th>\n",
       "      <th>39</th>\n",
       "      <th>63</th>\n",
       "      <th>102</th>\n",
       "      <th>165</th>\n",
       "      <th>267</th>\n",
       "      <th>432</th>\n",
       "      <th>Visits</th>\n",
       "    </tr>\n",
       "  </thead>\n",
       "  <tbody>\n",
       "    <tr>\n",
       "      <th>0</th>\n",
       "      <td>24.0</td>\n",
       "      <td>24.0</td>\n",
       "      <td>24.0</td>\n",
       "      <td>25.00</td>\n",
       "      <td>26.0</td>\n",
       "      <td>24.00</td>\n",
       "      <td>24.000</td>\n",
       "      <td>22.000</td>\n",
       "      <td>21.0</td>\n",
       "      <td>20.0</td>\n",
       "      <td>24.000</td>\n",
       "    </tr>\n",
       "    <tr>\n",
       "      <th>1</th>\n",
       "      <td>27.5</td>\n",
       "      <td>27.5</td>\n",
       "      <td>26.0</td>\n",
       "      <td>24.50</td>\n",
       "      <td>25.0</td>\n",
       "      <td>24.50</td>\n",
       "      <td>22.000</td>\n",
       "      <td>23.000</td>\n",
       "      <td>22.0</td>\n",
       "      <td>21.0</td>\n",
       "      <td>24.500</td>\n",
       "    </tr>\n",
       "    <tr>\n",
       "      <th>2</th>\n",
       "      <td>3.0</td>\n",
       "      <td>4.0</td>\n",
       "      <td>4.0</td>\n",
       "      <td>4.00</td>\n",
       "      <td>4.0</td>\n",
       "      <td>3.00</td>\n",
       "      <td>3.000</td>\n",
       "      <td>3.000</td>\n",
       "      <td>3.0</td>\n",
       "      <td>4.0</td>\n",
       "      <td>3.500</td>\n",
       "    </tr>\n",
       "    <tr>\n",
       "      <th>3</th>\n",
       "      <td>20.0</td>\n",
       "      <td>19.0</td>\n",
       "      <td>17.0</td>\n",
       "      <td>16.50</td>\n",
       "      <td>15.0</td>\n",
       "      <td>16.00</td>\n",
       "      <td>17.000</td>\n",
       "      <td>17.000</td>\n",
       "      <td>16.0</td>\n",
       "      <td>15.0</td>\n",
       "      <td>16.750</td>\n",
       "    </tr>\n",
       "    <tr>\n",
       "      <th>4</th>\n",
       "      <td>13.0</td>\n",
       "      <td>12.0</td>\n",
       "      <td>12.0</td>\n",
       "      <td>12.00</td>\n",
       "      <td>13.0</td>\n",
       "      <td>13.00</td>\n",
       "      <td>13.000</td>\n",
       "      <td>15.000</td>\n",
       "      <td>14.0</td>\n",
       "      <td>10.0</td>\n",
       "      <td>13.000</td>\n",
       "    </tr>\n",
       "    <tr>\n",
       "      <th>5</th>\n",
       "      <td>13.5</td>\n",
       "      <td>14.0</td>\n",
       "      <td>14.0</td>\n",
       "      <td>14.00</td>\n",
       "      <td>14.0</td>\n",
       "      <td>14.00</td>\n",
       "      <td>16.000</td>\n",
       "      <td>17.000</td>\n",
       "      <td>18.0</td>\n",
       "      <td>17.0</td>\n",
       "      <td>14.000</td>\n",
       "    </tr>\n",
       "    <tr>\n",
       "      <th>6</th>\n",
       "      <td>7.0</td>\n",
       "      <td>7.0</td>\n",
       "      <td>7.0</td>\n",
       "      <td>6.50</td>\n",
       "      <td>6.0</td>\n",
       "      <td>6.50</td>\n",
       "      <td>6.000</td>\n",
       "      <td>6.500</td>\n",
       "      <td>7.0</td>\n",
       "      <td>9.0</td>\n",
       "      <td>6.750</td>\n",
       "    </tr>\n",
       "    <tr>\n",
       "      <th>7</th>\n",
       "      <td>22.5</td>\n",
       "      <td>22.5</td>\n",
       "      <td>25.0</td>\n",
       "      <td>26.00</td>\n",
       "      <td>29.0</td>\n",
       "      <td>25.00</td>\n",
       "      <td>30.000</td>\n",
       "      <td>34.000</td>\n",
       "      <td>36.0</td>\n",
       "      <td>41.0</td>\n",
       "      <td>27.500</td>\n",
       "    </tr>\n",
       "    <tr>\n",
       "      <th>8</th>\n",
       "      <td>54.5</td>\n",
       "      <td>49.0</td>\n",
       "      <td>49.0</td>\n",
       "      <td>50.50</td>\n",
       "      <td>50.0</td>\n",
       "      <td>46.00</td>\n",
       "      <td>46.000</td>\n",
       "      <td>47.000</td>\n",
       "      <td>42.0</td>\n",
       "      <td>37.0</td>\n",
       "      <td>48.000</td>\n",
       "    </tr>\n",
       "    <tr>\n",
       "      <th>9</th>\n",
       "      <td>29.5</td>\n",
       "      <td>28.0</td>\n",
       "      <td>27.0</td>\n",
       "      <td>26.00</td>\n",
       "      <td>25.0</td>\n",
       "      <td>25.00</td>\n",
       "      <td>25.000</td>\n",
       "      <td>27.000</td>\n",
       "      <td>26.0</td>\n",
       "      <td>27.0</td>\n",
       "      <td>26.500</td>\n",
       "    </tr>\n",
       "    <tr>\n",
       "      <th>10</th>\n",
       "      <td>29.0</td>\n",
       "      <td>29.0</td>\n",
       "      <td>29.0</td>\n",
       "      <td>30.00</td>\n",
       "      <td>31.0</td>\n",
       "      <td>29.00</td>\n",
       "      <td>25.500</td>\n",
       "      <td>19.000</td>\n",
       "      <td>20.0</td>\n",
       "      <td>16.0</td>\n",
       "      <td>29.000</td>\n",
       "    </tr>\n",
       "    <tr>\n",
       "      <th>11</th>\n",
       "      <td>29.5</td>\n",
       "      <td>18.0</td>\n",
       "      <td>14.0</td>\n",
       "      <td>10.50</td>\n",
       "      <td>10.0</td>\n",
       "      <td>9.00</td>\n",
       "      <td>10.250</td>\n",
       "      <td>11.000</td>\n",
       "      <td>10.5</td>\n",
       "      <td>10.0</td>\n",
       "      <td>10.500</td>\n",
       "    </tr>\n",
       "    <tr>\n",
       "      <th>12</th>\n",
       "      <td>5.0</td>\n",
       "      <td>5.0</td>\n",
       "      <td>5.0</td>\n",
       "      <td>5.00</td>\n",
       "      <td>5.0</td>\n",
       "      <td>5.00</td>\n",
       "      <td>5.500</td>\n",
       "      <td>7.000</td>\n",
       "      <td>6.0</td>\n",
       "      <td>5.0</td>\n",
       "      <td>5.000</td>\n",
       "    </tr>\n",
       "    <tr>\n",
       "      <th>13</th>\n",
       "      <td>24.0</td>\n",
       "      <td>22.0</td>\n",
       "      <td>23.0</td>\n",
       "      <td>28.00</td>\n",
       "      <td>32.0</td>\n",
       "      <td>32.00</td>\n",
       "      <td>28.500</td>\n",
       "      <td>22.000</td>\n",
       "      <td>19.0</td>\n",
       "      <td>16.0</td>\n",
       "      <td>23.500</td>\n",
       "    </tr>\n",
       "    <tr>\n",
       "      <th>14</th>\n",
       "      <td>40.5</td>\n",
       "      <td>43.0</td>\n",
       "      <td>43.0</td>\n",
       "      <td>41.25</td>\n",
       "      <td>42.0</td>\n",
       "      <td>43.00</td>\n",
       "      <td>44.000</td>\n",
       "      <td>44.000</td>\n",
       "      <td>43.0</td>\n",
       "      <td>38.0</td>\n",
       "      <td>43.000</td>\n",
       "    </tr>\n",
       "    <tr>\n",
       "      <th>15</th>\n",
       "      <td>55.5</td>\n",
       "      <td>55.5</td>\n",
       "      <td>52.0</td>\n",
       "      <td>50.00</td>\n",
       "      <td>40.0</td>\n",
       "      <td>40.00</td>\n",
       "      <td>40.000</td>\n",
       "      <td>40.000</td>\n",
       "      <td>32.0</td>\n",
       "      <td>30.0</td>\n",
       "      <td>40.000</td>\n",
       "    </tr>\n",
       "    <tr>\n",
       "      <th>16</th>\n",
       "      <td>39.0</td>\n",
       "      <td>39.0</td>\n",
       "      <td>38.0</td>\n",
       "      <td>37.50</td>\n",
       "      <td>34.0</td>\n",
       "      <td>34.00</td>\n",
       "      <td>35.500</td>\n",
       "      <td>39.000</td>\n",
       "      <td>35.0</td>\n",
       "      <td>30.0</td>\n",
       "      <td>36.500</td>\n",
       "    </tr>\n",
       "    <tr>\n",
       "      <th>17</th>\n",
       "      <td>11.0</td>\n",
       "      <td>10.0</td>\n",
       "      <td>11.0</td>\n",
       "      <td>11.00</td>\n",
       "      <td>11.0</td>\n",
       "      <td>10.00</td>\n",
       "      <td>10.000</td>\n",
       "      <td>10.000</td>\n",
       "      <td>10.0</td>\n",
       "      <td>9.0</td>\n",
       "      <td>10.000</td>\n",
       "    </tr>\n",
       "    <tr>\n",
       "      <th>18</th>\n",
       "      <td>10.0</td>\n",
       "      <td>10.0</td>\n",
       "      <td>11.0</td>\n",
       "      <td>12.00</td>\n",
       "      <td>13.0</td>\n",
       "      <td>12.00</td>\n",
       "      <td>11.500</td>\n",
       "      <td>12.000</td>\n",
       "      <td>12.0</td>\n",
       "      <td>12.0</td>\n",
       "      <td>12.000</td>\n",
       "    </tr>\n",
       "    <tr>\n",
       "      <th>19</th>\n",
       "      <td>11.5</td>\n",
       "      <td>11.0</td>\n",
       "      <td>11.0</td>\n",
       "      <td>9.50</td>\n",
       "      <td>9.5</td>\n",
       "      <td>9.50</td>\n",
       "      <td>9.000</td>\n",
       "      <td>10.000</td>\n",
       "      <td>9.0</td>\n",
       "      <td>9.5</td>\n",
       "      <td>9.500</td>\n",
       "    </tr>\n",
       "    <tr>\n",
       "      <th>20</th>\n",
       "      <td>44.0</td>\n",
       "      <td>44.0</td>\n",
       "      <td>31.0</td>\n",
       "      <td>26.00</td>\n",
       "      <td>29.0</td>\n",
       "      <td>25.00</td>\n",
       "      <td>20.000</td>\n",
       "      <td>22.000</td>\n",
       "      <td>26.0</td>\n",
       "      <td>21.0</td>\n",
       "      <td>26.000</td>\n",
       "    </tr>\n",
       "    <tr>\n",
       "      <th>21</th>\n",
       "      <td>25.0</td>\n",
       "      <td>24.0</td>\n",
       "      <td>24.0</td>\n",
       "      <td>20.50</td>\n",
       "      <td>21.0</td>\n",
       "      <td>20.00</td>\n",
       "      <td>19.000</td>\n",
       "      <td>19.000</td>\n",
       "      <td>18.0</td>\n",
       "      <td>19.0</td>\n",
       "      <td>20.250</td>\n",
       "    </tr>\n",
       "    <tr>\n",
       "      <th>22</th>\n",
       "      <td>9.5</td>\n",
       "      <td>8.0</td>\n",
       "      <td>8.0</td>\n",
       "      <td>9.25</td>\n",
       "      <td>11.0</td>\n",
       "      <td>11.00</td>\n",
       "      <td>11.000</td>\n",
       "      <td>12.000</td>\n",
       "      <td>13.0</td>\n",
       "      <td>14.0</td>\n",
       "      <td>11.000</td>\n",
       "    </tr>\n",
       "    <tr>\n",
       "      <th>23</th>\n",
       "      <td>144.5</td>\n",
       "      <td>131.0</td>\n",
       "      <td>63.0</td>\n",
       "      <td>42.50</td>\n",
       "      <td>52.0</td>\n",
       "      <td>52.00</td>\n",
       "      <td>53.000</td>\n",
       "      <td>47.000</td>\n",
       "      <td>41.0</td>\n",
       "      <td>32.0</td>\n",
       "      <td>52.000</td>\n",
       "    </tr>\n",
       "    <tr>\n",
       "      <th>24</th>\n",
       "      <td>83.5</td>\n",
       "      <td>83.5</td>\n",
       "      <td>83.5</td>\n",
       "      <td>83.50</td>\n",
       "      <td>83.5</td>\n",
       "      <td>76.00</td>\n",
       "      <td>57.500</td>\n",
       "      <td>55.000</td>\n",
       "      <td>62.0</td>\n",
       "      <td>55.0</td>\n",
       "      <td>79.750</td>\n",
       "    </tr>\n",
       "    <tr>\n",
       "      <th>25</th>\n",
       "      <td>22.5</td>\n",
       "      <td>22.5</td>\n",
       "      <td>22.0</td>\n",
       "      <td>20.00</td>\n",
       "      <td>20.0</td>\n",
       "      <td>18.00</td>\n",
       "      <td>15.000</td>\n",
       "      <td>17.000</td>\n",
       "      <td>16.0</td>\n",
       "      <td>17.0</td>\n",
       "      <td>19.000</td>\n",
       "    </tr>\n",
       "    <tr>\n",
       "      <th>26</th>\n",
       "      <td>37.5</td>\n",
       "      <td>37.5</td>\n",
       "      <td>37.5</td>\n",
       "      <td>36.75</td>\n",
       "      <td>35.0</td>\n",
       "      <td>33.00</td>\n",
       "      <td>36.375</td>\n",
       "      <td>36.375</td>\n",
       "      <td>34.0</td>\n",
       "      <td>32.0</td>\n",
       "      <td>36.375</td>\n",
       "    </tr>\n",
       "    <tr>\n",
       "      <th>27</th>\n",
       "      <td>10.5</td>\n",
       "      <td>11.0</td>\n",
       "      <td>11.0</td>\n",
       "      <td>10.75</td>\n",
       "      <td>11.0</td>\n",
       "      <td>10.75</td>\n",
       "      <td>10.250</td>\n",
       "      <td>11.000</td>\n",
       "      <td>11.0</td>\n",
       "      <td>11.0</td>\n",
       "      <td>11.000</td>\n",
       "    </tr>\n",
       "    <tr>\n",
       "      <th>28</th>\n",
       "      <td>32.5</td>\n",
       "      <td>26.0</td>\n",
       "      <td>26.0</td>\n",
       "      <td>26.00</td>\n",
       "      <td>27.0</td>\n",
       "      <td>26.00</td>\n",
       "      <td>26.000</td>\n",
       "      <td>26.000</td>\n",
       "      <td>25.0</td>\n",
       "      <td>24.0</td>\n",
       "      <td>26.000</td>\n",
       "    </tr>\n",
       "    <tr>\n",
       "      <th>29</th>\n",
       "      <td>13.0</td>\n",
       "      <td>13.0</td>\n",
       "      <td>14.0</td>\n",
       "      <td>14.00</td>\n",
       "      <td>14.0</td>\n",
       "      <td>14.00</td>\n",
       "      <td>13.000</td>\n",
       "      <td>13.000</td>\n",
       "      <td>12.0</td>\n",
       "      <td>11.0</td>\n",
       "      <td>13.000</td>\n",
       "    </tr>\n",
       "    <tr>\n",
       "      <th>...</th>\n",
       "      <td>...</td>\n",
       "      <td>...</td>\n",
       "      <td>...</td>\n",
       "      <td>...</td>\n",
       "      <td>...</td>\n",
       "      <td>...</td>\n",
       "      <td>...</td>\n",
       "      <td>...</td>\n",
       "      <td>...</td>\n",
       "      <td>...</td>\n",
       "      <td>...</td>\n",
       "    </tr>\n",
       "    <tr>\n",
       "      <th>145033</th>\n",
       "      <td>11.5</td>\n",
       "      <td>11.0</td>\n",
       "      <td>9.0</td>\n",
       "      <td>9.00</td>\n",
       "      <td>9.0</td>\n",
       "      <td>11.00</td>\n",
       "      <td>14.000</td>\n",
       "      <td>18.000</td>\n",
       "      <td>22.0</td>\n",
       "      <td>23.0</td>\n",
       "      <td>11.250</td>\n",
       "    </tr>\n",
       "    <tr>\n",
       "      <th>145034</th>\n",
       "      <td>3.0</td>\n",
       "      <td>3.0</td>\n",
       "      <td>3.0</td>\n",
       "      <td>3.00</td>\n",
       "      <td>3.0</td>\n",
       "      <td>3.00</td>\n",
       "      <td>3.000</td>\n",
       "      <td>3.000</td>\n",
       "      <td>5.0</td>\n",
       "      <td>7.0</td>\n",
       "      <td>3.000</td>\n",
       "    </tr>\n",
       "    <tr>\n",
       "      <th>145035</th>\n",
       "      <td>0.5</td>\n",
       "      <td>0.5</td>\n",
       "      <td>0.5</td>\n",
       "      <td>1.00</td>\n",
       "      <td>1.0</td>\n",
       "      <td>1.00</td>\n",
       "      <td>1.000</td>\n",
       "      <td>2.000</td>\n",
       "      <td>3.0</td>\n",
       "      <td>3.0</td>\n",
       "      <td>1.000</td>\n",
       "    </tr>\n",
       "    <tr>\n",
       "      <th>145036</th>\n",
       "      <td>1.0</td>\n",
       "      <td>1.0</td>\n",
       "      <td>1.0</td>\n",
       "      <td>1.00</td>\n",
       "      <td>1.0</td>\n",
       "      <td>1.00</td>\n",
       "      <td>1.000</td>\n",
       "      <td>1.000</td>\n",
       "      <td>1.0</td>\n",
       "      <td>1.0</td>\n",
       "      <td>1.000</td>\n",
       "    </tr>\n",
       "    <tr>\n",
       "      <th>145037</th>\n",
       "      <td>2.0</td>\n",
       "      <td>2.0</td>\n",
       "      <td>2.0</td>\n",
       "      <td>2.00</td>\n",
       "      <td>2.0</td>\n",
       "      <td>2.00</td>\n",
       "      <td>3.000</td>\n",
       "      <td>4.000</td>\n",
       "      <td>4.0</td>\n",
       "      <td>4.0</td>\n",
       "      <td>2.000</td>\n",
       "    </tr>\n",
       "    <tr>\n",
       "      <th>145038</th>\n",
       "      <td>9.0</td>\n",
       "      <td>9.0</td>\n",
       "      <td>9.0</td>\n",
       "      <td>9.00</td>\n",
       "      <td>9.0</td>\n",
       "      <td>9.00</td>\n",
       "      <td>9.000</td>\n",
       "      <td>9.000</td>\n",
       "      <td>10.0</td>\n",
       "      <td>9.0</td>\n",
       "      <td>9.000</td>\n",
       "    </tr>\n",
       "    <tr>\n",
       "      <th>145039</th>\n",
       "      <td>1.5</td>\n",
       "      <td>2.0</td>\n",
       "      <td>2.0</td>\n",
       "      <td>2.00</td>\n",
       "      <td>2.0</td>\n",
       "      <td>3.00</td>\n",
       "      <td>5.000</td>\n",
       "      <td>16.000</td>\n",
       "      <td>15.0</td>\n",
       "      <td>14.0</td>\n",
       "      <td>2.500</td>\n",
       "    </tr>\n",
       "    <tr>\n",
       "      <th>145040</th>\n",
       "      <td>14.0</td>\n",
       "      <td>15.0</td>\n",
       "      <td>14.0</td>\n",
       "      <td>15.00</td>\n",
       "      <td>15.0</td>\n",
       "      <td>14.00</td>\n",
       "      <td>14.000</td>\n",
       "      <td>14.000</td>\n",
       "      <td>11.0</td>\n",
       "      <td>9.0</td>\n",
       "      <td>14.000</td>\n",
       "    </tr>\n",
       "    <tr>\n",
       "      <th>145041</th>\n",
       "      <td>2.5</td>\n",
       "      <td>3.0</td>\n",
       "      <td>3.0</td>\n",
       "      <td>3.00</td>\n",
       "      <td>3.0</td>\n",
       "      <td>4.00</td>\n",
       "      <td>4.000</td>\n",
       "      <td>5.000</td>\n",
       "      <td>5.0</td>\n",
       "      <td>5.0</td>\n",
       "      <td>3.500</td>\n",
       "    </tr>\n",
       "    <tr>\n",
       "      <th>145042</th>\n",
       "      <td>6.5</td>\n",
       "      <td>6.5</td>\n",
       "      <td>6.0</td>\n",
       "      <td>6.00</td>\n",
       "      <td>6.0</td>\n",
       "      <td>7.00</td>\n",
       "      <td>8.000</td>\n",
       "      <td>10.000</td>\n",
       "      <td>8.0</td>\n",
       "      <td>7.0</td>\n",
       "      <td>6.750</td>\n",
       "    </tr>\n",
       "    <tr>\n",
       "      <th>145043</th>\n",
       "      <td>4.0</td>\n",
       "      <td>4.0</td>\n",
       "      <td>4.0</td>\n",
       "      <td>4.00</td>\n",
       "      <td>4.0</td>\n",
       "      <td>5.00</td>\n",
       "      <td>5.000</td>\n",
       "      <td>5.000</td>\n",
       "      <td>6.0</td>\n",
       "      <td>6.0</td>\n",
       "      <td>4.500</td>\n",
       "    </tr>\n",
       "    <tr>\n",
       "      <th>145044</th>\n",
       "      <td>5.0</td>\n",
       "      <td>5.0</td>\n",
       "      <td>5.0</td>\n",
       "      <td>5.00</td>\n",
       "      <td>5.0</td>\n",
       "      <td>5.00</td>\n",
       "      <td>7.000</td>\n",
       "      <td>11.000</td>\n",
       "      <td>12.0</td>\n",
       "      <td>11.0</td>\n",
       "      <td>5.000</td>\n",
       "    </tr>\n",
       "    <tr>\n",
       "      <th>145045</th>\n",
       "      <td>5.0</td>\n",
       "      <td>5.0</td>\n",
       "      <td>5.0</td>\n",
       "      <td>5.00</td>\n",
       "      <td>6.0</td>\n",
       "      <td>8.00</td>\n",
       "      <td>12.000</td>\n",
       "      <td>16.000</td>\n",
       "      <td>8.0</td>\n",
       "      <td>7.0</td>\n",
       "      <td>6.500</td>\n",
       "    </tr>\n",
       "    <tr>\n",
       "      <th>145046</th>\n",
       "      <td>8.0</td>\n",
       "      <td>8.0</td>\n",
       "      <td>6.0</td>\n",
       "      <td>6.00</td>\n",
       "      <td>6.0</td>\n",
       "      <td>6.00</td>\n",
       "      <td>5.000</td>\n",
       "      <td>5.000</td>\n",
       "      <td>6.0</td>\n",
       "      <td>6.0</td>\n",
       "      <td>6.000</td>\n",
       "    </tr>\n",
       "    <tr>\n",
       "      <th>145047</th>\n",
       "      <td>2.5</td>\n",
       "      <td>2.5</td>\n",
       "      <td>2.5</td>\n",
       "      <td>2.25</td>\n",
       "      <td>2.5</td>\n",
       "      <td>3.00</td>\n",
       "      <td>3.000</td>\n",
       "      <td>4.000</td>\n",
       "      <td>3.0</td>\n",
       "      <td>3.0</td>\n",
       "      <td>2.750</td>\n",
       "    </tr>\n",
       "    <tr>\n",
       "      <th>145048</th>\n",
       "      <td>9.0</td>\n",
       "      <td>10.0</td>\n",
       "      <td>10.0</td>\n",
       "      <td>9.50</td>\n",
       "      <td>10.0</td>\n",
       "      <td>11.00</td>\n",
       "      <td>14.000</td>\n",
       "      <td>19.000</td>\n",
       "      <td>12.0</td>\n",
       "      <td>12.0</td>\n",
       "      <td>10.500</td>\n",
       "    </tr>\n",
       "    <tr>\n",
       "      <th>145049</th>\n",
       "      <td>10.5</td>\n",
       "      <td>10.5</td>\n",
       "      <td>10.5</td>\n",
       "      <td>10.75</td>\n",
       "      <td>10.5</td>\n",
       "      <td>13.00</td>\n",
       "      <td>18.500</td>\n",
       "      <td>25.000</td>\n",
       "      <td>22.0</td>\n",
       "      <td>22.0</td>\n",
       "      <td>11.875</td>\n",
       "    </tr>\n",
       "    <tr>\n",
       "      <th>145050</th>\n",
       "      <td>5.5</td>\n",
       "      <td>4.0</td>\n",
       "      <td>3.0</td>\n",
       "      <td>2.50</td>\n",
       "      <td>2.5</td>\n",
       "      <td>2.00</td>\n",
       "      <td>2.000</td>\n",
       "      <td>3.000</td>\n",
       "      <td>3.0</td>\n",
       "      <td>3.0</td>\n",
       "      <td>3.000</td>\n",
       "    </tr>\n",
       "    <tr>\n",
       "      <th>145051</th>\n",
       "      <td>3.0</td>\n",
       "      <td>3.0</td>\n",
       "      <td>6.0</td>\n",
       "      <td>7.00</td>\n",
       "      <td>9.0</td>\n",
       "      <td>10.00</td>\n",
       "      <td>11.500</td>\n",
       "      <td>15.000</td>\n",
       "      <td>16.0</td>\n",
       "      <td>16.0</td>\n",
       "      <td>9.500</td>\n",
       "    </tr>\n",
       "    <tr>\n",
       "      <th>145052</th>\n",
       "      <td>14.5</td>\n",
       "      <td>14.0</td>\n",
       "      <td>14.5</td>\n",
       "      <td>14.00</td>\n",
       "      <td>14.0</td>\n",
       "      <td>12.00</td>\n",
       "      <td>11.000</td>\n",
       "      <td>12.000</td>\n",
       "      <td>11.0</td>\n",
       "      <td>11.0</td>\n",
       "      <td>13.000</td>\n",
       "    </tr>\n",
       "    <tr>\n",
       "      <th>145053</th>\n",
       "      <td>5.0</td>\n",
       "      <td>5.0</td>\n",
       "      <td>5.0</td>\n",
       "      <td>5.00</td>\n",
       "      <td>5.0</td>\n",
       "      <td>6.00</td>\n",
       "      <td>6.000</td>\n",
       "      <td>6.000</td>\n",
       "      <td>6.0</td>\n",
       "      <td>6.0</td>\n",
       "      <td>5.500</td>\n",
       "    </tr>\n",
       "    <tr>\n",
       "      <th>145054</th>\n",
       "      <td>7.5</td>\n",
       "      <td>8.0</td>\n",
       "      <td>8.0</td>\n",
       "      <td>8.00</td>\n",
       "      <td>8.0</td>\n",
       "      <td>7.50</td>\n",
       "      <td>8.000</td>\n",
       "      <td>9.000</td>\n",
       "      <td>10.0</td>\n",
       "      <td>10.0</td>\n",
       "      <td>8.000</td>\n",
       "    </tr>\n",
       "    <tr>\n",
       "      <th>145055</th>\n",
       "      <td>3.0</td>\n",
       "      <td>3.0</td>\n",
       "      <td>3.0</td>\n",
       "      <td>3.00</td>\n",
       "      <td>3.0</td>\n",
       "      <td>3.00</td>\n",
       "      <td>5.000</td>\n",
       "      <td>7.000</td>\n",
       "      <td>5.0</td>\n",
       "      <td>5.0</td>\n",
       "      <td>3.000</td>\n",
       "    </tr>\n",
       "    <tr>\n",
       "      <th>145056</th>\n",
       "      <td>13.5</td>\n",
       "      <td>13.5</td>\n",
       "      <td>12.0</td>\n",
       "      <td>12.00</td>\n",
       "      <td>12.0</td>\n",
       "      <td>12.00</td>\n",
       "      <td>15.500</td>\n",
       "      <td>28.000</td>\n",
       "      <td>27.0</td>\n",
       "      <td>27.0</td>\n",
       "      <td>13.500</td>\n",
       "    </tr>\n",
       "    <tr>\n",
       "      <th>145057</th>\n",
       "      <td>24.5</td>\n",
       "      <td>24.5</td>\n",
       "      <td>24.5</td>\n",
       "      <td>25.75</td>\n",
       "      <td>27.0</td>\n",
       "      <td>27.00</td>\n",
       "      <td>27.000</td>\n",
       "      <td>32.000</td>\n",
       "      <td>32.0</td>\n",
       "      <td>32.0</td>\n",
       "      <td>27.000</td>\n",
       "    </tr>\n",
       "    <tr>\n",
       "      <th>145058</th>\n",
       "      <td>5.0</td>\n",
       "      <td>4.0</td>\n",
       "      <td>4.0</td>\n",
       "      <td>4.00</td>\n",
       "      <td>3.0</td>\n",
       "      <td>4.00</td>\n",
       "      <td>5.000</td>\n",
       "      <td>7.000</td>\n",
       "      <td>8.0</td>\n",
       "      <td>8.0</td>\n",
       "      <td>4.500</td>\n",
       "    </tr>\n",
       "    <tr>\n",
       "      <th>145059</th>\n",
       "      <td>9.0</td>\n",
       "      <td>9.0</td>\n",
       "      <td>9.0</td>\n",
       "      <td>8.50</td>\n",
       "      <td>7.0</td>\n",
       "      <td>7.00</td>\n",
       "      <td>8.000</td>\n",
       "      <td>11.000</td>\n",
       "      <td>11.0</td>\n",
       "      <td>11.0</td>\n",
       "      <td>9.000</td>\n",
       "    </tr>\n",
       "    <tr>\n",
       "      <th>145060</th>\n",
       "      <td>35.5</td>\n",
       "      <td>35.5</td>\n",
       "      <td>35.5</td>\n",
       "      <td>33.50</td>\n",
       "      <td>33.0</td>\n",
       "      <td>33.50</td>\n",
       "      <td>34.000</td>\n",
       "      <td>36.000</td>\n",
       "      <td>36.0</td>\n",
       "      <td>36.0</td>\n",
       "      <td>35.500</td>\n",
       "    </tr>\n",
       "    <tr>\n",
       "      <th>145061</th>\n",
       "      <td>6.0</td>\n",
       "      <td>6.0</td>\n",
       "      <td>6.0</td>\n",
       "      <td>6.00</td>\n",
       "      <td>6.0</td>\n",
       "      <td>7.00</td>\n",
       "      <td>9.000</td>\n",
       "      <td>10.000</td>\n",
       "      <td>10.0</td>\n",
       "      <td>10.0</td>\n",
       "      <td>6.500</td>\n",
       "    </tr>\n",
       "    <tr>\n",
       "      <th>145062</th>\n",
       "      <td>17.0</td>\n",
       "      <td>14.0</td>\n",
       "      <td>9.0</td>\n",
       "      <td>7.00</td>\n",
       "      <td>7.0</td>\n",
       "      <td>12.00</td>\n",
       "      <td>14.000</td>\n",
       "      <td>18.000</td>\n",
       "      <td>18.0</td>\n",
       "      <td>18.0</td>\n",
       "      <td>14.000</td>\n",
       "    </tr>\n",
       "  </tbody>\n",
       "</table>\n",
       "<p>145063 rows × 11 columns</p>\n",
       "</div>"
      ],
      "text/plain": [
       "            6      9    15     24    39     63     102     165   267   432  \\\n",
       "0        24.0   24.0  24.0  25.00  26.0  24.00  24.000  22.000  21.0  20.0   \n",
       "1        27.5   27.5  26.0  24.50  25.0  24.50  22.000  23.000  22.0  21.0   \n",
       "2         3.0    4.0   4.0   4.00   4.0   3.00   3.000   3.000   3.0   4.0   \n",
       "3        20.0   19.0  17.0  16.50  15.0  16.00  17.000  17.000  16.0  15.0   \n",
       "4        13.0   12.0  12.0  12.00  13.0  13.00  13.000  15.000  14.0  10.0   \n",
       "5        13.5   14.0  14.0  14.00  14.0  14.00  16.000  17.000  18.0  17.0   \n",
       "6         7.0    7.0   7.0   6.50   6.0   6.50   6.000   6.500   7.0   9.0   \n",
       "7        22.5   22.5  25.0  26.00  29.0  25.00  30.000  34.000  36.0  41.0   \n",
       "8        54.5   49.0  49.0  50.50  50.0  46.00  46.000  47.000  42.0  37.0   \n",
       "9        29.5   28.0  27.0  26.00  25.0  25.00  25.000  27.000  26.0  27.0   \n",
       "10       29.0   29.0  29.0  30.00  31.0  29.00  25.500  19.000  20.0  16.0   \n",
       "11       29.5   18.0  14.0  10.50  10.0   9.00  10.250  11.000  10.5  10.0   \n",
       "12        5.0    5.0   5.0   5.00   5.0   5.00   5.500   7.000   6.0   5.0   \n",
       "13       24.0   22.0  23.0  28.00  32.0  32.00  28.500  22.000  19.0  16.0   \n",
       "14       40.5   43.0  43.0  41.25  42.0  43.00  44.000  44.000  43.0  38.0   \n",
       "15       55.5   55.5  52.0  50.00  40.0  40.00  40.000  40.000  32.0  30.0   \n",
       "16       39.0   39.0  38.0  37.50  34.0  34.00  35.500  39.000  35.0  30.0   \n",
       "17       11.0   10.0  11.0  11.00  11.0  10.00  10.000  10.000  10.0   9.0   \n",
       "18       10.0   10.0  11.0  12.00  13.0  12.00  11.500  12.000  12.0  12.0   \n",
       "19       11.5   11.0  11.0   9.50   9.5   9.50   9.000  10.000   9.0   9.5   \n",
       "20       44.0   44.0  31.0  26.00  29.0  25.00  20.000  22.000  26.0  21.0   \n",
       "21       25.0   24.0  24.0  20.50  21.0  20.00  19.000  19.000  18.0  19.0   \n",
       "22        9.5    8.0   8.0   9.25  11.0  11.00  11.000  12.000  13.0  14.0   \n",
       "23      144.5  131.0  63.0  42.50  52.0  52.00  53.000  47.000  41.0  32.0   \n",
       "24       83.5   83.5  83.5  83.50  83.5  76.00  57.500  55.000  62.0  55.0   \n",
       "25       22.5   22.5  22.0  20.00  20.0  18.00  15.000  17.000  16.0  17.0   \n",
       "26       37.5   37.5  37.5  36.75  35.0  33.00  36.375  36.375  34.0  32.0   \n",
       "27       10.5   11.0  11.0  10.75  11.0  10.75  10.250  11.000  11.0  11.0   \n",
       "28       32.5   26.0  26.0  26.00  27.0  26.00  26.000  26.000  25.0  24.0   \n",
       "29       13.0   13.0  14.0  14.00  14.0  14.00  13.000  13.000  12.0  11.0   \n",
       "...       ...    ...   ...    ...   ...    ...     ...     ...   ...   ...   \n",
       "145033   11.5   11.0   9.0   9.00   9.0  11.00  14.000  18.000  22.0  23.0   \n",
       "145034    3.0    3.0   3.0   3.00   3.0   3.00   3.000   3.000   5.0   7.0   \n",
       "145035    0.5    0.5   0.5   1.00   1.0   1.00   1.000   2.000   3.0   3.0   \n",
       "145036    1.0    1.0   1.0   1.00   1.0   1.00   1.000   1.000   1.0   1.0   \n",
       "145037    2.0    2.0   2.0   2.00   2.0   2.00   3.000   4.000   4.0   4.0   \n",
       "145038    9.0    9.0   9.0   9.00   9.0   9.00   9.000   9.000  10.0   9.0   \n",
       "145039    1.5    2.0   2.0   2.00   2.0   3.00   5.000  16.000  15.0  14.0   \n",
       "145040   14.0   15.0  14.0  15.00  15.0  14.00  14.000  14.000  11.0   9.0   \n",
       "145041    2.5    3.0   3.0   3.00   3.0   4.00   4.000   5.000   5.0   5.0   \n",
       "145042    6.5    6.5   6.0   6.00   6.0   7.00   8.000  10.000   8.0   7.0   \n",
       "145043    4.0    4.0   4.0   4.00   4.0   5.00   5.000   5.000   6.0   6.0   \n",
       "145044    5.0    5.0   5.0   5.00   5.0   5.00   7.000  11.000  12.0  11.0   \n",
       "145045    5.0    5.0   5.0   5.00   6.0   8.00  12.000  16.000   8.0   7.0   \n",
       "145046    8.0    8.0   6.0   6.00   6.0   6.00   5.000   5.000   6.0   6.0   \n",
       "145047    2.5    2.5   2.5   2.25   2.5   3.00   3.000   4.000   3.0   3.0   \n",
       "145048    9.0   10.0  10.0   9.50  10.0  11.00  14.000  19.000  12.0  12.0   \n",
       "145049   10.5   10.5  10.5  10.75  10.5  13.00  18.500  25.000  22.0  22.0   \n",
       "145050    5.5    4.0   3.0   2.50   2.5   2.00   2.000   3.000   3.0   3.0   \n",
       "145051    3.0    3.0   6.0   7.00   9.0  10.00  11.500  15.000  16.0  16.0   \n",
       "145052   14.5   14.0  14.5  14.00  14.0  12.00  11.000  12.000  11.0  11.0   \n",
       "145053    5.0    5.0   5.0   5.00   5.0   6.00   6.000   6.000   6.0   6.0   \n",
       "145054    7.5    8.0   8.0   8.00   8.0   7.50   8.000   9.000  10.0  10.0   \n",
       "145055    3.0    3.0   3.0   3.00   3.0   3.00   5.000   7.000   5.0   5.0   \n",
       "145056   13.5   13.5  12.0  12.00  12.0  12.00  15.500  28.000  27.0  27.0   \n",
       "145057   24.5   24.5  24.5  25.75  27.0  27.00  27.000  32.000  32.0  32.0   \n",
       "145058    5.0    4.0   4.0   4.00   3.0   4.00   5.000   7.000   8.0   8.0   \n",
       "145059    9.0    9.0   9.0   8.50   7.0   7.00   8.000  11.000  11.0  11.0   \n",
       "145060   35.5   35.5  35.5  33.50  33.0  33.50  34.000  36.000  36.0  36.0   \n",
       "145061    6.0    6.0   6.0   6.00   6.0   7.00   9.000  10.000  10.0  10.0   \n",
       "145062   17.0   14.0   9.0   7.00   7.0  12.00  14.000  18.000  18.0  18.0   \n",
       "\n",
       "        Visits  \n",
       "0       24.000  \n",
       "1       24.500  \n",
       "2        3.500  \n",
       "3       16.750  \n",
       "4       13.000  \n",
       "5       14.000  \n",
       "6        6.750  \n",
       "7       27.500  \n",
       "8       48.000  \n",
       "9       26.500  \n",
       "10      29.000  \n",
       "11      10.500  \n",
       "12       5.000  \n",
       "13      23.500  \n",
       "14      43.000  \n",
       "15      40.000  \n",
       "16      36.500  \n",
       "17      10.000  \n",
       "18      12.000  \n",
       "19       9.500  \n",
       "20      26.000  \n",
       "21      20.250  \n",
       "22      11.000  \n",
       "23      52.000  \n",
       "24      79.750  \n",
       "25      19.000  \n",
       "26      36.375  \n",
       "27      11.000  \n",
       "28      26.000  \n",
       "29      13.000  \n",
       "...        ...  \n",
       "145033  11.250  \n",
       "145034   3.000  \n",
       "145035   1.000  \n",
       "145036   1.000  \n",
       "145037   2.000  \n",
       "145038   9.000  \n",
       "145039   2.500  \n",
       "145040  14.000  \n",
       "145041   3.500  \n",
       "145042   6.750  \n",
       "145043   4.500  \n",
       "145044   5.000  \n",
       "145045   6.500  \n",
       "145046   6.000  \n",
       "145047   2.750  \n",
       "145048  10.500  \n",
       "145049  11.875  \n",
       "145050   3.000  \n",
       "145051   9.500  \n",
       "145052  13.000  \n",
       "145053   5.500  \n",
       "145054   8.000  \n",
       "145055   3.000  \n",
       "145056  13.500  \n",
       "145057  27.000  \n",
       "145058   4.500  \n",
       "145059   9.000  \n",
       "145060  35.500  \n",
       "145061   6.500  \n",
       "145062  14.000  \n",
       "\n",
       "[145063 rows x 11 columns]"
      ]
     },
     "execution_count": 288,
     "metadata": {},
     "output_type": "execute_result"
    }
   ],
   "source": [
    "train.iloc[:, 734:]"
   ]
  },
  {
   "cell_type": "code",
   "execution_count": null,
   "metadata": {
    "collapsed": true
   },
   "outputs": [],
   "source": []
  },
  {
   "cell_type": "code",
   "execution_count": 233,
   "metadata": {},
   "outputs": [
    {
     "name": "stdout",
     "output_type": "stream",
     "text": [
      "45.1382801997\n"
     ]
    }
   ],
   "source": [
    "evaluate(test.Visits)"
   ]
  },
  {
   "cell_type": "code",
   "execution_count": null,
   "metadata": {
    "collapsed": true
   },
   "outputs": [],
   "source": []
  },
  {
   "cell_type": "code",
   "execution_count": 279,
   "metadata": {
    "collapsed": true
   },
   "outputs": [],
   "source": [
    "valid['Page'] = train_2.Page"
   ]
  },
  {
   "cell_type": "code",
   "execution_count": 1,
   "metadata": {
    "collapsed": true
   },
   "outputs": [],
   "source": [
    "## use new fibo list can achieve 44.8 on LB"
   ]
  },
  {
   "cell_type": "code",
   "execution_count": 31,
   "metadata": {
    "collapsed": true
   },
   "outputs": [],
   "source": [
    "## Download Code\n",
    "import numpy as np # linear algebra\n",
    "import pandas as pd # data processing, CSV file I/O (e.g. pd.read_csv)\n",
    "\n",
    "df = pd.read_csv(\"train_1.csv\")\n",
    "# train = train.fillna(0.)"
   ]
  },
  {
   "cell_type": "code",
   "execution_count": 32,
   "metadata": {
    "collapsed": true
   },
   "outputs": [],
   "source": [
    "from copy import deepcopy"
   ]
  },
  {
   "cell_type": "code",
   "execution_count": 65,
   "metadata": {
    "collapsed": true
   },
   "outputs": [],
   "source": [
    "train = deepcopy(df)"
   ]
  },
  {
   "cell_type": "code",
   "execution_count": 88,
   "metadata": {
    "collapsed": true
   },
   "outputs": [],
   "source": [
    "# df_train = train.drop(\"Page\", axis = 1)"
   ]
  },
  {
   "cell_type": "code",
   "execution_count": 89,
   "metadata": {
    "collapsed": true
   },
   "outputs": [],
   "source": [
    "# np.nanmedian(df_train, axis=1)"
   ]
  },
  {
   "cell_type": "code",
   "execution_count": 90,
   "metadata": {
    "collapsed": true
   },
   "outputs": [],
   "source": [
    "Windows = [4, 8,12 , 20 , 32 , 52 , 84 , 136 , 220 , 356]"
   ]
  },
  {
   "cell_type": "code",
   "execution_count": 44,
   "metadata": {
    "collapsed": true
   },
   "outputs": [],
   "source": [
    "Windows = [8 , 13 , 21 , 34 , 55 , 89 , 144 , 233 , 377]"
   ]
  },
  {
   "cell_type": "code",
   "execution_count": 9,
   "metadata": {
    "collapsed": true
   },
   "outputs": [],
   "source": [
    "Windows = Windows + [6, 12, 18, 30, 48, 78, 126, 203, 329]"
   ]
  },
  {
   "cell_type": "code",
   "execution_count": 23,
   "metadata": {
    "collapsed": true
   },
   "outputs": [],
   "source": [
    "Windows = [i**2 for i in range(2,17, 2)]"
   ]
  },
  {
   "cell_type": "code",
   "execution_count": 24,
   "metadata": {},
   "outputs": [
    {
     "data": {
      "text/plain": [
       "[4, 16, 36, 64, 100, 144, 196, 256]"
      ]
     },
     "execution_count": 24,
     "metadata": {},
     "output_type": "execute_result"
    }
   ],
   "source": [
    "Windows"
   ]
  },
  {
   "cell_type": "code",
   "execution_count": 57,
   "metadata": {},
   "outputs": [
    {
     "data": {
      "text/html": [
       "<div>\n",
       "<style>\n",
       "    .dataframe thead tr:only-child th {\n",
       "        text-align: right;\n",
       "    }\n",
       "\n",
       "    .dataframe thead th {\n",
       "        text-align: left;\n",
       "    }\n",
       "\n",
       "    .dataframe tbody tr th {\n",
       "        vertical-align: top;\n",
       "    }\n",
       "</style>\n",
       "<table border=\"1\" class=\"dataframe\">\n",
       "  <thead>\n",
       "    <tr style=\"text-align: right;\">\n",
       "      <th></th>\n",
       "      <th>Page</th>\n",
       "      <th>2015-07-01</th>\n",
       "      <th>2015-07-02</th>\n",
       "      <th>2015-07-03</th>\n",
       "      <th>2015-07-04</th>\n",
       "      <th>2015-07-05</th>\n",
       "      <th>2015-07-06</th>\n",
       "      <th>2015-07-07</th>\n",
       "      <th>2015-07-08</th>\n",
       "      <th>2015-07-09</th>\n",
       "      <th>...</th>\n",
       "      <th>2016-12-22</th>\n",
       "      <th>2016-12-23</th>\n",
       "      <th>2016-12-24</th>\n",
       "      <th>2016-12-25</th>\n",
       "      <th>2016-12-26</th>\n",
       "      <th>2016-12-27</th>\n",
       "      <th>2016-12-28</th>\n",
       "      <th>2016-12-29</th>\n",
       "      <th>2016-12-30</th>\n",
       "      <th>2016-12-31</th>\n",
       "    </tr>\n",
       "  </thead>\n",
       "  <tbody>\n",
       "    <tr>\n",
       "      <th>0</th>\n",
       "      <td>2NE1_zh.wikipedia.org_all-access_spider</td>\n",
       "      <td>18.0</td>\n",
       "      <td>11.0</td>\n",
       "      <td>5.0</td>\n",
       "      <td>13.0</td>\n",
       "      <td>14.0</td>\n",
       "      <td>9.0</td>\n",
       "      <td>9.0</td>\n",
       "      <td>22.0</td>\n",
       "      <td>26.0</td>\n",
       "      <td>...</td>\n",
       "      <td>32.0</td>\n",
       "      <td>63.0</td>\n",
       "      <td>15.0</td>\n",
       "      <td>26.0</td>\n",
       "      <td>14.0</td>\n",
       "      <td>20.0</td>\n",
       "      <td>22.0</td>\n",
       "      <td>19.0</td>\n",
       "      <td>18.0</td>\n",
       "      <td>20.0</td>\n",
       "    </tr>\n",
       "    <tr>\n",
       "      <th>1</th>\n",
       "      <td>2PM_zh.wikipedia.org_all-access_spider</td>\n",
       "      <td>11.0</td>\n",
       "      <td>14.0</td>\n",
       "      <td>15.0</td>\n",
       "      <td>18.0</td>\n",
       "      <td>11.0</td>\n",
       "      <td>13.0</td>\n",
       "      <td>22.0</td>\n",
       "      <td>11.0</td>\n",
       "      <td>10.0</td>\n",
       "      <td>...</td>\n",
       "      <td>17.0</td>\n",
       "      <td>42.0</td>\n",
       "      <td>28.0</td>\n",
       "      <td>15.0</td>\n",
       "      <td>9.0</td>\n",
       "      <td>30.0</td>\n",
       "      <td>52.0</td>\n",
       "      <td>45.0</td>\n",
       "      <td>26.0</td>\n",
       "      <td>20.0</td>\n",
       "    </tr>\n",
       "    <tr>\n",
       "      <th>2</th>\n",
       "      <td>3C_zh.wikipedia.org_all-access_spider</td>\n",
       "      <td>1.0</td>\n",
       "      <td>0.0</td>\n",
       "      <td>1.0</td>\n",
       "      <td>1.0</td>\n",
       "      <td>0.0</td>\n",
       "      <td>4.0</td>\n",
       "      <td>0.0</td>\n",
       "      <td>3.0</td>\n",
       "      <td>4.0</td>\n",
       "      <td>...</td>\n",
       "      <td>3.0</td>\n",
       "      <td>1.0</td>\n",
       "      <td>1.0</td>\n",
       "      <td>7.0</td>\n",
       "      <td>4.0</td>\n",
       "      <td>4.0</td>\n",
       "      <td>6.0</td>\n",
       "      <td>3.0</td>\n",
       "      <td>4.0</td>\n",
       "      <td>17.0</td>\n",
       "    </tr>\n",
       "    <tr>\n",
       "      <th>3</th>\n",
       "      <td>4minute_zh.wikipedia.org_all-access_spider</td>\n",
       "      <td>35.0</td>\n",
       "      <td>13.0</td>\n",
       "      <td>10.0</td>\n",
       "      <td>94.0</td>\n",
       "      <td>4.0</td>\n",
       "      <td>26.0</td>\n",
       "      <td>14.0</td>\n",
       "      <td>9.0</td>\n",
       "      <td>11.0</td>\n",
       "      <td>...</td>\n",
       "      <td>32.0</td>\n",
       "      <td>10.0</td>\n",
       "      <td>26.0</td>\n",
       "      <td>27.0</td>\n",
       "      <td>16.0</td>\n",
       "      <td>11.0</td>\n",
       "      <td>17.0</td>\n",
       "      <td>19.0</td>\n",
       "      <td>10.0</td>\n",
       "      <td>11.0</td>\n",
       "    </tr>\n",
       "    <tr>\n",
       "      <th>4</th>\n",
       "      <td>52_Hz_I_Love_You_zh.wikipedia.org_all-access_s...</td>\n",
       "      <td>NaN</td>\n",
       "      <td>NaN</td>\n",
       "      <td>NaN</td>\n",
       "      <td>NaN</td>\n",
       "      <td>NaN</td>\n",
       "      <td>NaN</td>\n",
       "      <td>NaN</td>\n",
       "      <td>NaN</td>\n",
       "      <td>NaN</td>\n",
       "      <td>...</td>\n",
       "      <td>48.0</td>\n",
       "      <td>9.0</td>\n",
       "      <td>25.0</td>\n",
       "      <td>13.0</td>\n",
       "      <td>3.0</td>\n",
       "      <td>11.0</td>\n",
       "      <td>27.0</td>\n",
       "      <td>13.0</td>\n",
       "      <td>36.0</td>\n",
       "      <td>10.0</td>\n",
       "    </tr>\n",
       "  </tbody>\n",
       "</table>\n",
       "<p>5 rows × 551 columns</p>\n",
       "</div>"
      ],
      "text/plain": [
       "                                                Page  2015-07-01  2015-07-02  \\\n",
       "0            2NE1_zh.wikipedia.org_all-access_spider        18.0        11.0   \n",
       "1             2PM_zh.wikipedia.org_all-access_spider        11.0        14.0   \n",
       "2              3C_zh.wikipedia.org_all-access_spider         1.0         0.0   \n",
       "3         4minute_zh.wikipedia.org_all-access_spider        35.0        13.0   \n",
       "4  52_Hz_I_Love_You_zh.wikipedia.org_all-access_s...         NaN         NaN   \n",
       "\n",
       "   2015-07-03  2015-07-04  2015-07-05  2015-07-06  2015-07-07  2015-07-08  \\\n",
       "0         5.0        13.0        14.0         9.0         9.0        22.0   \n",
       "1        15.0        18.0        11.0        13.0        22.0        11.0   \n",
       "2         1.0         1.0         0.0         4.0         0.0         3.0   \n",
       "3        10.0        94.0         4.0        26.0        14.0         9.0   \n",
       "4         NaN         NaN         NaN         NaN         NaN         NaN   \n",
       "\n",
       "   2015-07-09     ...      2016-12-22  2016-12-23  2016-12-24  2016-12-25  \\\n",
       "0        26.0     ...            32.0        63.0        15.0        26.0   \n",
       "1        10.0     ...            17.0        42.0        28.0        15.0   \n",
       "2         4.0     ...             3.0         1.0         1.0         7.0   \n",
       "3        11.0     ...            32.0        10.0        26.0        27.0   \n",
       "4         NaN     ...            48.0         9.0        25.0        13.0   \n",
       "\n",
       "   2016-12-26  2016-12-27  2016-12-28  2016-12-29  2016-12-30  2016-12-31  \n",
       "0        14.0        20.0        22.0        19.0        18.0        20.0  \n",
       "1         9.0        30.0        52.0        45.0        26.0        20.0  \n",
       "2         4.0         4.0         6.0         3.0         4.0        17.0  \n",
       "3        16.0        11.0        17.0        19.0        10.0        11.0  \n",
       "4         3.0        11.0        27.0        13.0        36.0        10.0  \n",
       "\n",
       "[5 rows x 551 columns]"
      ]
     },
     "execution_count": 57,
     "metadata": {},
     "output_type": "execute_result"
    }
   ],
   "source": [
    "train.head()"
   ]
  },
  {
   "cell_type": "code",
   "execution_count": 13,
   "metadata": {
    "collapsed": true
   },
   "outputs": [],
   "source": [
    "# train = train.iloc[:, :-13]"
   ]
  },
  {
   "cell_type": "code",
   "execution_count": 105,
   "metadata": {
    "collapsed": true
   },
   "outputs": [],
   "source": [
    "Windows = [6, 10, 16 , 26 , 42 , 68 , 110 , 178 , 288]"
   ]
  },
  {
   "cell_type": "code",
   "execution_count": 66,
   "metadata": {
    "collapsed": true
   },
   "outputs": [],
   "source": [
    "Windows = [9, 15 , 24 , 39 , 63 , 102 , 165 , 267 , 432]"
   ]
  },
  {
   "cell_type": "code",
   "execution_count": 67,
   "metadata": {
    "collapsed": true
   },
   "outputs": [],
   "source": [
    "for W in Windows: \n",
    "    train[str(W)]=train.iloc[:,-W:].median(axis=1)\n",
    "\n",
    "train['Visits']=train.iloc[:,-len(Windows):].median(axis=1)"
   ]
  },
  {
   "cell_type": "code",
   "execution_count": 68,
   "metadata": {},
   "outputs": [
    {
     "name": "stderr",
     "output_type": "stream",
     "text": [
      "/Users/frank/anaconda/lib/python2.7/site-packages/ipykernel_launcher.py:1: SettingWithCopyWarning: \n",
      "A value is trying to be set on a copy of a slice from a DataFrame\n",
      "\n",
      "See the caveats in the documentation: http://pandas.pydata.org/pandas-docs/stable/indexing.html#indexing-view-versus-copy\n",
      "  \"\"\"Entry point for launching an IPython kernel.\n"
     ]
    }
   ],
   "source": [
    "train.Visits[train.Visits.isnull()] = 0.0"
   ]
  },
  {
   "cell_type": "code",
   "execution_count": 69,
   "metadata": {},
   "outputs": [
    {
     "name": "stderr",
     "output_type": "stream",
     "text": [
      "/Users/frank/anaconda/lib/python2.7/site-packages/ipykernel_launcher.py:1: SettingWithCopyWarning: \n",
      "A value is trying to be set on a copy of a slice from a DataFrame\n",
      "\n",
      "See the caveats in the documentation: http://pandas.pydata.org/pandas-docs/stable/indexing.html#indexing-view-versus-copy\n",
      "  \"\"\"Entry point for launching an IPython kernel.\n"
     ]
    }
   ],
   "source": [
    "train.Visits[train.Visits < 1] = 0.0"
   ]
  },
  {
   "cell_type": "code",
   "execution_count": 206,
   "metadata": {
    "collapsed": true
   },
   "outputs": [],
   "source": [
    "train.Visits = np.round(train.Visits)"
   ]
  },
  {
   "cell_type": "code",
   "execution_count": 62,
   "metadata": {
    "collapsed": true
   },
   "outputs": [],
   "source": [
    "test = pd.read_csv(\"key_1.csv\")\n",
    "test['date'] = test.Page.apply(lambda x: x[-10:])\n",
    "test['date'] = test['date'].astype('datetime64[ns]')\n",
    "test['weekend'] = (test.date.dt.dayofweek // 5).astype(float)\n",
    "test['Page'] = test.Page.apply(lambda x: x[:-11])\n",
    "\n",
    "# test = test.merge(train[['Page','Visits']], on='Page', how='left')\n",
    "# test[['Id','Visits']].to_csv('fibo2_sub.csv', index=False)"
   ]
  },
  {
   "cell_type": "code",
   "execution_count": 46,
   "metadata": {
    "collapsed": true
   },
   "outputs": [],
   "source": [
    "df_test = deepcopy(test)"
   ]
  },
  {
   "cell_type": "code",
   "execution_count": 155,
   "metadata": {},
   "outputs": [
    {
     "data": {
      "text/html": [
       "<div>\n",
       "<style>\n",
       "    .dataframe thead tr:only-child th {\n",
       "        text-align: right;\n",
       "    }\n",
       "\n",
       "    .dataframe thead th {\n",
       "        text-align: left;\n",
       "    }\n",
       "\n",
       "    .dataframe tbody tr th {\n",
       "        vertical-align: top;\n",
       "    }\n",
       "</style>\n",
       "<table border=\"1\" class=\"dataframe\">\n",
       "  <thead>\n",
       "    <tr style=\"text-align: right;\">\n",
       "      <th></th>\n",
       "      <th>Page</th>\n",
       "      <th>Id</th>\n",
       "      <th>date</th>\n",
       "      <th>weekend</th>\n",
       "      <th>Visits</th>\n",
       "    </tr>\n",
       "  </thead>\n",
       "  <tbody>\n",
       "    <tr>\n",
       "      <th>0</th>\n",
       "      <td>!vote_en.wikipedia.org_all-access_all-agents</td>\n",
       "      <td>bf4edcf969af</td>\n",
       "      <td>2017-01-01</td>\n",
       "      <td>1.0</td>\n",
       "      <td>3.0</td>\n",
       "    </tr>\n",
       "    <tr>\n",
       "      <th>1</th>\n",
       "      <td>!vote_en.wikipedia.org_all-access_all-agents</td>\n",
       "      <td>929ed2bf52b9</td>\n",
       "      <td>2017-01-02</td>\n",
       "      <td>0.0</td>\n",
       "      <td>2.0</td>\n",
       "    </tr>\n",
       "    <tr>\n",
       "      <th>2</th>\n",
       "      <td>!vote_en.wikipedia.org_all-access_all-agents</td>\n",
       "      <td>ff29d0f51d5c</td>\n",
       "      <td>2017-01-03</td>\n",
       "      <td>0.0</td>\n",
       "      <td>2.0</td>\n",
       "    </tr>\n",
       "    <tr>\n",
       "      <th>3</th>\n",
       "      <td>!vote_en.wikipedia.org_all-access_all-agents</td>\n",
       "      <td>e98873359be6</td>\n",
       "      <td>2017-01-04</td>\n",
       "      <td>0.0</td>\n",
       "      <td>2.0</td>\n",
       "    </tr>\n",
       "    <tr>\n",
       "      <th>4</th>\n",
       "      <td>!vote_en.wikipedia.org_all-access_all-agents</td>\n",
       "      <td>fa012434263a</td>\n",
       "      <td>2017-01-05</td>\n",
       "      <td>0.0</td>\n",
       "      <td>2.0</td>\n",
       "    </tr>\n",
       "  </tbody>\n",
       "</table>\n",
       "</div>"
      ],
      "text/plain": [
       "                                           Page            Id       date  \\\n",
       "0  !vote_en.wikipedia.org_all-access_all-agents  bf4edcf969af 2017-01-01   \n",
       "1  !vote_en.wikipedia.org_all-access_all-agents  929ed2bf52b9 2017-01-02   \n",
       "2  !vote_en.wikipedia.org_all-access_all-agents  ff29d0f51d5c 2017-01-03   \n",
       "3  !vote_en.wikipedia.org_all-access_all-agents  e98873359be6 2017-01-04   \n",
       "4  !vote_en.wikipedia.org_all-access_all-agents  fa012434263a 2017-01-05   \n",
       "\n",
       "   weekend  Visits  \n",
       "0      1.0     3.0  \n",
       "1      0.0     2.0  \n",
       "2      0.0     2.0  \n",
       "3      0.0     2.0  \n",
       "4      0.0     2.0  "
      ]
     },
     "execution_count": 155,
     "metadata": {},
     "output_type": "execute_result"
    }
   ],
   "source": [
    "test.head()"
   ]
  },
  {
   "cell_type": "code",
   "execution_count": 223,
   "metadata": {
    "collapsed": true
   },
   "outputs": [],
   "source": [
    "train = deepcopy(df)"
   ]
  },
  {
   "cell_type": "code",
   "execution_count": 70,
   "metadata": {
    "collapsed": true
   },
   "outputs": [],
   "source": [
    "test = deepcopy(df_test)"
   ]
  },
  {
   "cell_type": "code",
   "execution_count": 263,
   "metadata": {
    "collapsed": true
   },
   "outputs": [],
   "source": [
    "Windows = [6,9, 15 , 24 , 39 , 63 , 102 , 165 , 267 , 432]"
   ]
  },
  {
   "cell_type": "code",
   "execution_count": 222,
   "metadata": {
    "collapsed": true
   },
   "outputs": [],
   "source": [
    "Windows = [6, 12, 18, 30, 48, 78, 126]"
   ]
  },
  {
   "cell_type": "code",
   "execution_count": 122,
   "metadata": {},
   "outputs": [
    {
     "name": "stdout",
     "output_type": "stream",
     "text": [
      "12 , 20 , 32 , 52 , 84 , 136 , 220 , 356 , 576 , 932 ,\n"
     ]
    }
   ],
   "source": [
    "a,b = 4,8\n",
    "for i in range(10):\n",
    "    a,b = b, a+b\n",
    "    print b, \",\","
   ]
  },
  {
   "cell_type": "code",
   "execution_count": 270,
   "metadata": {
    "collapsed": true
   },
   "outputs": [],
   "source": [
    "Windows = [6, 10, 16 , 26 , 42 , 68 , 110 , 178 , 288]\n",
    "\n",
    "Windows = [15 , 24 , 39 , 63 , 102 , 165 , 267 , 432]\n",
    "\n",
    "Windows = [7,12 , 19 , 31 , 50 , 81 , 131 , 212 , 343]\n",
    "\n",
    "Windows = [4, 8,12 , 20 , 32 , 52 , 84 , 136 , 220 , 356]\n",
    "\n",
    "# Windows = [8 , 13 , 21 , 34 , 55 , 89 , 144 , 233 , 377]"
   ]
  },
  {
   "cell_type": "code",
   "execution_count": 225,
   "metadata": {
    "collapsed": true
   },
   "outputs": [],
   "source": [
    "for W in Windows: \n",
    "    train[str(W)]=train.iloc[:,-W:].median(axis=1)\n",
    "\n",
    "train['Visits']=train.iloc[:,552:].median(axis=1)"
   ]
  },
  {
   "cell_type": "code",
   "execution_count": 226,
   "metadata": {},
   "outputs": [
    {
     "name": "stderr",
     "output_type": "stream",
     "text": [
      "/Users/frank/anaconda/lib/python2.7/site-packages/ipykernel_launcher.py:1: SettingWithCopyWarning: \n",
      "A value is trying to be set on a copy of a slice from a DataFrame\n",
      "\n",
      "See the caveats in the documentation: http://pandas.pydata.org/pandas-docs/stable/indexing.html#indexing-view-versus-copy\n",
      "  \"\"\"Entry point for launching an IPython kernel.\n"
     ]
    }
   ],
   "source": [
    "train.Visits[train.Visits.isnull()] = 0.0"
   ]
  },
  {
   "cell_type": "code",
   "execution_count": 71,
   "metadata": {
    "collapsed": true
   },
   "outputs": [],
   "source": [
    "test = test.merge(train[['Page','Visits']], on='Page', how='left')"
   ]
  },
  {
   "cell_type": "code",
   "execution_count": 9,
   "metadata": {
    "collapsed": true
   },
   "outputs": [],
   "source": [
    "fibo_res = test.Visits"
   ]
  },
  {
   "cell_type": "code",
   "execution_count": 72,
   "metadata": {},
   "outputs": [
    {
     "name": "stdout",
     "output_type": "stream",
     "text": [
      "44.7682368903\n"
     ]
    }
   ],
   "source": [
    "evaluate(test.Visits)"
   ]
  },
  {
   "cell_type": "code",
   "execution_count": 22,
   "metadata": {},
   "outputs": [
    {
     "name": "stdout",
     "output_type": "stream",
     "text": [
      "44.7556961612\n"
     ]
    }
   ],
   "source": [
    "evaluate(fibo_res)"
   ]
  },
  {
   "cell_type": "code",
   "execution_count": 23,
   "metadata": {},
   "outputs": [
    {
     "name": "stdout",
     "output_type": "stream",
     "text": [
      "44.6888756838\n"
     ]
    }
   ],
   "source": [
    "evaluate(holiday_res)"
   ]
  },
  {
   "cell_type": "code",
   "execution_count": 24,
   "metadata": {},
   "outputs": [
    {
     "name": "stdout",
     "output_type": "stream",
     "text": [
      "45.2194501128\n"
     ]
    }
   ],
   "source": [
    "evaluate(weekend_res)"
   ]
  },
  {
   "cell_type": "code",
   "execution_count": 324,
   "metadata": {},
   "outputs": [
    {
     "name": "stdout",
     "output_type": "stream",
     "text": [
      "44.7556961612\n"
     ]
    }
   ],
   "source": [
    "evaluate(fibo_res)"
   ]
  },
  {
   "cell_type": "code",
   "execution_count": 326,
   "metadata": {},
   "outputs": [
    {
     "name": "stdout",
     "output_type": "stream",
     "text": [
      "44.620705952\n"
     ]
    }
   ],
   "source": [
    "evaluate(fibo_res * 1.04)"
   ]
  },
  {
   "cell_type": "code",
   "execution_count": 50,
   "metadata": {},
   "outputs": [
    {
     "name": "stdout",
     "output_type": "stream",
     "text": [
      "44.144189738\n"
     ]
    }
   ],
   "source": [
    "evaluate(np.round(test.Visits * 0.35 + holiday_res * 0.35 + weekend_res * 0.3))"
   ]
  },
  {
   "cell_type": "code",
   "execution_count": 88,
   "metadata": {},
   "outputs": [
    {
     "name": "stdout",
     "output_type": "stream",
     "text": [
      "43.9792359638\n"
     ]
    }
   ],
   "source": [
    "evaluate(np.round(fibo_res * 0.6 + holiday_res * 0.4))"
   ]
  },
  {
   "cell_type": "code",
   "execution_count": 97,
   "metadata": {},
   "outputs": [
    {
     "name": "stdout",
     "output_type": "stream",
     "text": [
      "43.8566372906\n"
     ]
    }
   ],
   "source": [
    "evaluate(np.round(fibo_res * 0.63 + holiday_res * 0.3 + weekend_res * 0.1 ))"
   ]
  },
  {
   "cell_type": "code",
   "execution_count": 328,
   "metadata": {},
   "outputs": [
    {
     "name": "stdout",
     "output_type": "stream",
     "text": [
      "44.4626906461\n"
     ]
    }
   ],
   "source": [
    "evaluate(np.round(fibo_res * 0.6 + weekend_res * 0.4))"
   ]
  },
  {
   "cell_type": "code",
   "execution_count": 289,
   "metadata": {},
   "outputs": [
    {
     "name": "stdout",
     "output_type": "stream",
     "text": [
      "44.5488946486\n"
     ]
    }
   ],
   "source": [
    "evaluate(fibo_res * 0.6 + weekend_res * 0.0 + holiday_res * 0.4)"
   ]
  },
  {
   "cell_type": "code",
   "execution_count": 73,
   "metadata": {
    "collapsed": true
   },
   "outputs": [],
   "source": [
    "tmp = pd.read_csv('res_backup/submission_tmp.csv')"
   ]
  },
  {
   "cell_type": "code",
   "execution_count": 74,
   "metadata": {
    "collapsed": true
   },
   "outputs": [],
   "source": [
    "rnn21 = pd.read_csv(\"submission_tmp.csv\")"
   ]
  },
  {
   "cell_type": "code",
   "execution_count": 363,
   "metadata": {},
   "outputs": [
    {
     "data": {
      "text/plain": [
       "(8703780, 2)"
      ]
     },
     "execution_count": 363,
     "metadata": {},
     "output_type": "execute_result"
    }
   ],
   "source": [
    "rnn21.shape"
   ]
  },
  {
   "cell_type": "code",
   "execution_count": 372,
   "metadata": {},
   "outputs": [
    {
     "name": "stdout",
     "output_type": "stream",
     "text": [
      "46.9102557957\n"
     ]
    }
   ],
   "source": [
    "evaluate(np.round(rnn21.Visits))"
   ]
  },
  {
   "cell_type": "code",
   "execution_count": 382,
   "metadata": {},
   "outputs": [
    {
     "data": {
      "text/plain": [
       "count    8.703780e+06\n",
       "mean     1.211686e+03\n",
       "std      7.980702e+04\n",
       "min      0.000000e+00\n",
       "25%      1.701226e+01\n",
       "50%      1.385993e+02\n",
       "75%      6.183546e+02\n",
       "max      2.657248e+07\n",
       "Name: Visits, dtype: float64"
      ]
     },
     "execution_count": 382,
     "metadata": {},
     "output_type": "execute_result"
    }
   ],
   "source": [
    "rnn21.Visits.describe()"
   ]
  },
  {
   "cell_type": "code",
   "execution_count": 383,
   "metadata": {},
   "outputs": [
    {
     "data": {
      "text/plain": [
       "count    8.505559e+06\n",
       "mean     1.569607e+03\n",
       "std      8.965479e+04\n",
       "min      0.000000e+00\n",
       "25%      2.300000e+01\n",
       "50%      1.690000e+02\n",
       "75%      7.400000e+02\n",
       "max      3.142356e+07\n",
       "Name: true_labels, dtype: float64"
      ]
     },
     "execution_count": 383,
     "metadata": {},
     "output_type": "execute_result"
    }
   ],
   "source": [
    "true_labels.true_labels.describe()"
   ]
  },
  {
   "cell_type": "code",
   "execution_count": null,
   "metadata": {
    "collapsed": true
   },
   "outputs": [],
   "source": []
  },
  {
   "cell_type": "code",
   "execution_count": 354,
   "metadata": {},
   "outputs": [
    {
     "name": "stdout",
     "output_type": "stream",
     "text": [
      "50.835060692\n"
     ]
    }
   ],
   "source": [
    "evaluate(tmp.Visits)"
   ]
  },
  {
   "cell_type": "code",
   "execution_count": 357,
   "metadata": {},
   "outputs": [
    {
     "name": "stdout",
     "output_type": "stream",
     "text": [
      "45.4835636657\n"
     ]
    }
   ],
   "source": [
    "evaluate(fibo_res * 0.9 + tmp.Visits * 0.1)"
   ]
  },
  {
   "cell_type": "code",
   "execution_count": 358,
   "metadata": {},
   "outputs": [
    {
     "data": {
      "text/plain": [
       "0            3.0\n",
       "1            3.0\n",
       "2            3.0\n",
       "3            3.0\n",
       "4            3.0\n",
       "5            3.0\n",
       "6            3.0\n",
       "7            3.0\n",
       "8            3.0\n",
       "9            3.0\n",
       "10           3.0\n",
       "11           3.0\n",
       "12           3.0\n",
       "13           3.0\n",
       "14           3.0\n",
       "15           3.0\n",
       "16           3.0\n",
       "17           3.0\n",
       "18           3.0\n",
       "19           3.0\n",
       "20           3.0\n",
       "21           3.0\n",
       "22           3.0\n",
       "23           3.0\n",
       "24           3.0\n",
       "25           3.0\n",
       "26           3.0\n",
       "27           3.0\n",
       "28           3.0\n",
       "29           3.0\n",
       "           ...  \n",
       "8703750    235.0\n",
       "8703751    235.0\n",
       "8703752    235.0\n",
       "8703753    235.0\n",
       "8703754    235.0\n",
       "8703755    235.0\n",
       "8703756    235.0\n",
       "8703757    235.0\n",
       "8703758    235.0\n",
       "8703759    235.0\n",
       "8703760    235.0\n",
       "8703761    235.0\n",
       "8703762    235.0\n",
       "8703763    235.0\n",
       "8703764    235.0\n",
       "8703765    235.0\n",
       "8703766    235.0\n",
       "8703767    235.0\n",
       "8703768    235.0\n",
       "8703769    235.0\n",
       "8703770    235.0\n",
       "8703771    235.0\n",
       "8703772    235.0\n",
       "8703773    235.0\n",
       "8703774    235.0\n",
       "8703775    235.0\n",
       "8703776    235.0\n",
       "8703777    235.0\n",
       "8703778    235.0\n",
       "8703779    235.0\n",
       "Name: Visits, Length: 8703780, dtype: float64"
      ]
     },
     "execution_count": 358,
     "metadata": {},
     "output_type": "execute_result"
    }
   ],
   "source": [
    "fibo_res"
   ]
  },
  {
   "cell_type": "code",
   "execution_count": 359,
   "metadata": {},
   "outputs": [
    {
     "data": {
      "text/plain": [
       "0            3.0\n",
       "1            3.0\n",
       "2            3.0\n",
       "3            3.0\n",
       "4            3.0\n",
       "5            3.0\n",
       "6            3.0\n",
       "7            2.0\n",
       "8            2.0\n",
       "9            2.0\n",
       "10           3.0\n",
       "11           3.0\n",
       "12           3.0\n",
       "13           3.0\n",
       "14           3.0\n",
       "15           3.0\n",
       "16           3.0\n",
       "17           3.0\n",
       "18           3.0\n",
       "19           3.0\n",
       "20           3.0\n",
       "21           3.0\n",
       "22           3.0\n",
       "23           3.0\n",
       "24           3.0\n",
       "25           3.0\n",
       "26           3.0\n",
       "27           3.0\n",
       "28           3.0\n",
       "29           3.0\n",
       "           ...  \n",
       "8703750    219.0\n",
       "8703751    215.0\n",
       "8703752    217.0\n",
       "8703753    219.0\n",
       "8703754    220.0\n",
       "8703755    218.0\n",
       "8703756    218.0\n",
       "8703757    219.0\n",
       "8703758    214.0\n",
       "8703759    216.0\n",
       "8703760    217.0\n",
       "8703761    219.0\n",
       "8703762    219.0\n",
       "8703763    220.0\n",
       "8703764    222.0\n",
       "8703765    218.0\n",
       "8703766    224.0\n",
       "8703767    225.0\n",
       "8703768    226.0\n",
       "8703769    222.0\n",
       "8703770    222.0\n",
       "8703771    220.0\n",
       "8703772    221.0\n",
       "8703773    222.0\n",
       "8703774    223.0\n",
       "8703775    222.0\n",
       "8703776    219.0\n",
       "8703777    215.0\n",
       "8703778    214.0\n",
       "8703779    209.0\n",
       "Name: Visits, Length: 8703780, dtype: float64"
      ]
     },
     "execution_count": 359,
     "metadata": {},
     "output_type": "execute_result"
    }
   ],
   "source": [
    "tmp.Visits"
   ]
  },
  {
   "cell_type": "code",
   "execution_count": 292,
   "metadata": {},
   "outputs": [
    {
     "data": {
      "text/plain": [
       "count    8.703780e+06\n",
       "mean     1.174872e+03\n",
       "std      8.160951e+04\n",
       "min      0.000000e+00\n",
       "25%      1.800000e+01\n",
       "50%      1.380000e+02\n",
       "75%      5.980000e+02\n",
       "max      2.366129e+07\n",
       "Name: Visits, dtype: float64"
      ]
     },
     "execution_count": 292,
     "metadata": {},
     "output_type": "execute_result"
    }
   ],
   "source": [
    "fibo_res.describe()"
   ]
  },
  {
   "cell_type": "code",
   "execution_count": 293,
   "metadata": {},
   "outputs": [
    {
     "data": {
      "text/plain": [
       "count    8.703780e+06\n",
       "mean     1.217159e+03\n",
       "std      8.082866e+04\n",
       "min      0.000000e+00\n",
       "25%      1.800000e+01\n",
       "50%      1.400000e+02\n",
       "75%      6.250000e+02\n",
       "max      2.366129e+07\n",
       "Name: Visits, dtype: float64"
      ]
     },
     "execution_count": 293,
     "metadata": {},
     "output_type": "execute_result"
    }
   ],
   "source": [
    "weekend_res.describe()"
   ]
  },
  {
   "cell_type": "code",
   "execution_count": 294,
   "metadata": {},
   "outputs": [
    {
     "data": {
      "text/plain": [
       "count    8.703780e+06\n",
       "mean     1.214558e+03\n",
       "std      8.031656e+04\n",
       "min      0.000000e+00\n",
       "25%      1.800000e+01\n",
       "50%      1.400000e+02\n",
       "75%      6.270000e+02\n",
       "max      2.329215e+07\n",
       "Name: Visits, dtype: float64"
      ]
     },
     "execution_count": 294,
     "metadata": {},
     "output_type": "execute_result"
    }
   ],
   "source": [
    "holiday_res.describe()"
   ]
  },
  {
   "cell_type": "code",
   "execution_count": 263,
   "metadata": {},
   "outputs": [
    {
     "name": "stdout",
     "output_type": "stream",
     "text": [
      "44.3113198436\n"
     ]
    }
   ],
   "source": [
    "evaluate(np.round(fibo_res * 0.55 + weekend_res * 0.3 + holiday_res * 0.2))"
   ]
  },
  {
   "cell_type": "code",
   "execution_count": null,
   "metadata": {
    "collapsed": true
   },
   "outputs": [],
   "source": []
  },
  {
   "cell_type": "code",
   "execution_count": 259,
   "metadata": {},
   "outputs": [
    {
     "name": "stdout",
     "output_type": "stream",
     "text": [
      "44.4626906461\n"
     ]
    }
   ],
   "source": [
    "weight = 0.6\n",
    "evaluate(np.round(test.Visits * weight + weekend_res * (1 - weight)))"
   ]
  },
  {
   "cell_type": "code",
   "execution_count": 172,
   "metadata": {},
   "outputs": [
    {
     "name": "stdout",
     "output_type": "stream",
     "text": [
      "45.2194501128\n"
     ]
    }
   ],
   "source": [
    "evaluate(weekend_res)"
   ]
  },
  {
   "cell_type": "code",
   "execution_count": 280,
   "metadata": {
    "collapsed": true
   },
   "outputs": [],
   "source": [
    "## 44.35, 44.46, \n",
    "Windows = [6,9, 15 , 24 , 39 , 63 , 102 , 165 , 267 , 432]"
   ]
  },
  {
   "cell_type": "code",
   "execution_count": 3,
   "metadata": {
    "collapsed": true
   },
   "outputs": [],
   "source": [
    "def smape(y_true, y_pred):\n",
    "    denominator = (np.abs(y_true) + np.abs(y_pred))\n",
    "    diff = np.abs(y_true - y_pred) / denominator\n",
    "    diff[denominator == 0] = 0.0\n",
    "    return 200 * np.mean(diff)\n",
    "\n",
    "true_labels = pd.read_csv(\"true_labels.csv\")\n",
    "\n",
    "def evaluate(preds):\n",
    "    print smape(true_labels.true_labels, preds)"
   ]
  },
  {
   "cell_type": "code",
   "execution_count": 43,
   "metadata": {},
   "outputs": [
    {
     "name": "stdout",
     "output_type": "stream",
     "text": [
      "46.9156303911\n"
     ]
    }
   ],
   "source": [
    "evaluate(test.Visits)"
   ]
  },
  {
   "cell_type": "code",
   "execution_count": null,
   "metadata": {
    "collapsed": true
   },
   "outputs": [],
   "source": []
  },
  {
   "cell_type": "code",
   "execution_count": 19,
   "metadata": {
    "collapsed": true
   },
   "outputs": [],
   "source": [
    "import pandas as pd\n",
    "import numpy as np\n",
    "\n",
    "train = pd.read_csv(\"train_1.csv\")\n",
    "train_flattened = pd.melt(train[list(train.columns[-49:])+['Page']], id_vars='Page', var_name='date', value_name='Visits')\n",
    "train_flattened['date'] = train_flattened['date'].astype('datetime64[ns]')\n",
    "train_flattened['weekend'] = ((train_flattened.date.dt.dayofweek) // 5 == 1).astype(float)\n",
    "\n",
    "test = pd.read_csv(\"key_1.csv\")\n",
    "test['date'] = test.Page.apply(lambda a: a[-10:])\n",
    "test['Page'] = test.Page.apply(lambda a: a[:-11])\n",
    "test['date'] = test['date'].astype('datetime64[ns]')\n",
    "test['weekend'] = ((test.date.dt.dayofweek) // 5 == 1).astype(float)\n",
    "\n",
    "train_page_per_dow = train_flattened.groupby(['Page','weekend']).median().reset_index()\n",
    "\n",
    "test = test.merge(train_page_per_dow, how='left')\n",
    "test.loc[test.Visits.isnull(), 'Visits'] = 0\n",
    "\n",
    "# test[['Id','Visits']].to_csv('mad.csv', index=False)"
   ]
  },
  {
   "cell_type": "code",
   "execution_count": 16,
   "metadata": {
    "collapsed": true
   },
   "outputs": [],
   "source": [
    "aa = pd.read_csv(\"mad.csv\")"
   ]
  },
  {
   "cell_type": "code",
   "execution_count": 20,
   "metadata": {},
   "outputs": [
    {
     "name": "stdout",
     "output_type": "stream",
     "text": [
      "45.2194501128\n"
     ]
    }
   ],
   "source": [
    "evaluate(test.Visits)"
   ]
  },
  {
   "cell_type": "code",
   "execution_count": 21,
   "metadata": {
    "collapsed": true
   },
   "outputs": [],
   "source": [
    "weekend_res = test.Visits"
   ]
  },
  {
   "cell_type": "code",
   "execution_count": 153,
   "metadata": {},
   "outputs": [
    {
     "data": {
      "text/plain": [
       "(8703780, 5)"
      ]
     },
     "execution_count": 153,
     "metadata": {},
     "output_type": "execute_result"
    }
   ],
   "source": [
    "test.shape"
   ]
  },
  {
   "cell_type": "code",
   "execution_count": 152,
   "metadata": {},
   "outputs": [
    {
     "data": {
      "text/html": [
       "<div>\n",
       "<style>\n",
       "    .dataframe thead tr:only-child th {\n",
       "        text-align: right;\n",
       "    }\n",
       "\n",
       "    .dataframe thead th {\n",
       "        text-align: left;\n",
       "    }\n",
       "\n",
       "    .dataframe tbody tr th {\n",
       "        vertical-align: top;\n",
       "    }\n",
       "</style>\n",
       "<table border=\"1\" class=\"dataframe\">\n",
       "  <thead>\n",
       "    <tr style=\"text-align: right;\">\n",
       "      <th></th>\n",
       "      <th>Page</th>\n",
       "      <th>Id</th>\n",
       "      <th>date</th>\n",
       "      <th>weekend</th>\n",
       "      <th>Visits</th>\n",
       "    </tr>\n",
       "  </thead>\n",
       "  <tbody>\n",
       "    <tr>\n",
       "      <th>0</th>\n",
       "      <td>!vote_en.wikipedia.org_all-access_all-agents</td>\n",
       "      <td>bf4edcf969af</td>\n",
       "      <td>2017-01-01</td>\n",
       "      <td>1.0</td>\n",
       "      <td>3.0</td>\n",
       "    </tr>\n",
       "    <tr>\n",
       "      <th>1</th>\n",
       "      <td>!vote_en.wikipedia.org_all-access_all-agents</td>\n",
       "      <td>929ed2bf52b9</td>\n",
       "      <td>2017-01-02</td>\n",
       "      <td>0.0</td>\n",
       "      <td>2.0</td>\n",
       "    </tr>\n",
       "    <tr>\n",
       "      <th>2</th>\n",
       "      <td>!vote_en.wikipedia.org_all-access_all-agents</td>\n",
       "      <td>ff29d0f51d5c</td>\n",
       "      <td>2017-01-03</td>\n",
       "      <td>0.0</td>\n",
       "      <td>2.0</td>\n",
       "    </tr>\n",
       "    <tr>\n",
       "      <th>3</th>\n",
       "      <td>!vote_en.wikipedia.org_all-access_all-agents</td>\n",
       "      <td>e98873359be6</td>\n",
       "      <td>2017-01-04</td>\n",
       "      <td>0.0</td>\n",
       "      <td>2.0</td>\n",
       "    </tr>\n",
       "    <tr>\n",
       "      <th>4</th>\n",
       "      <td>!vote_en.wikipedia.org_all-access_all-agents</td>\n",
       "      <td>fa012434263a</td>\n",
       "      <td>2017-01-05</td>\n",
       "      <td>0.0</td>\n",
       "      <td>2.0</td>\n",
       "    </tr>\n",
       "  </tbody>\n",
       "</table>\n",
       "</div>"
      ],
      "text/plain": [
       "                                           Page            Id       date  \\\n",
       "0  !vote_en.wikipedia.org_all-access_all-agents  bf4edcf969af 2017-01-01   \n",
       "1  !vote_en.wikipedia.org_all-access_all-agents  929ed2bf52b9 2017-01-02   \n",
       "2  !vote_en.wikipedia.org_all-access_all-agents  ff29d0f51d5c 2017-01-03   \n",
       "3  !vote_en.wikipedia.org_all-access_all-agents  e98873359be6 2017-01-04   \n",
       "4  !vote_en.wikipedia.org_all-access_all-agents  fa012434263a 2017-01-05   \n",
       "\n",
       "   weekend  Visits  \n",
       "0      1.0     3.0  \n",
       "1      0.0     2.0  \n",
       "2      0.0     2.0  \n",
       "3      0.0     2.0  \n",
       "4      0.0     2.0  "
      ]
     },
     "execution_count": 152,
     "metadata": {},
     "output_type": "execute_result"
    }
   ],
   "source": [
    "test.head()"
   ]
  },
  {
   "cell_type": "code",
   "execution_count": null,
   "metadata": {
    "collapsed": true
   },
   "outputs": [],
   "source": []
  },
  {
   "cell_type": "code",
   "execution_count": null,
   "metadata": {
    "collapsed": true
   },
   "outputs": [],
   "source": [
    "\n"
   ]
  },
  {
   "cell_type": "code",
   "execution_count": 109,
   "metadata": {
    "collapsed": true
   },
   "outputs": [],
   "source": [
    "test[[\"Id\", \"Visits\"]].to_csv(\"fibo_2.csv\", index=False)"
   ]
  },
  {
   "cell_type": "code",
   "execution_count": null,
   "metadata": {
    "collapsed": true
   },
   "outputs": [],
   "source": []
  },
  {
   "cell_type": "code",
   "execution_count": 9,
   "metadata": {
    "collapsed": true
   },
   "outputs": [],
   "source": [
    "weighted_res = pd.read_csv(\"res_backup/weight_0.9_median_45.1.csv\")"
   ]
  },
  {
   "cell_type": "code",
   "execution_count": 10,
   "metadata": {},
   "outputs": [
    {
     "data": {
      "text/plain": [
       "(8703780, 2)"
      ]
     },
     "execution_count": 10,
     "metadata": {},
     "output_type": "execute_result"
    }
   ],
   "source": [
    "weighted_res.shape"
   ]
  },
  {
   "cell_type": "code",
   "execution_count": 96,
   "metadata": {},
   "outputs": [
    {
     "data": {
      "text/html": [
       "<div>\n",
       "<style>\n",
       "    .dataframe thead tr:only-child th {\n",
       "        text-align: right;\n",
       "    }\n",
       "\n",
       "    .dataframe thead th {\n",
       "        text-align: left;\n",
       "    }\n",
       "\n",
       "    .dataframe tbody tr th {\n",
       "        vertical-align: top;\n",
       "    }\n",
       "</style>\n",
       "<table border=\"1\" class=\"dataframe\">\n",
       "  <thead>\n",
       "    <tr style=\"text-align: right;\">\n",
       "      <th></th>\n",
       "      <th>Page</th>\n",
       "      <th>Id</th>\n",
       "      <th>date</th>\n",
       "      <th>Visits</th>\n",
       "    </tr>\n",
       "  </thead>\n",
       "  <tbody>\n",
       "    <tr>\n",
       "      <th>0</th>\n",
       "      <td>!vote_en.wikipedia.org_all-access_all-agents</td>\n",
       "      <td>bf4edcf969af</td>\n",
       "      <td>2017-01-01</td>\n",
       "      <td>2.5</td>\n",
       "    </tr>\n",
       "    <tr>\n",
       "      <th>1</th>\n",
       "      <td>!vote_en.wikipedia.org_all-access_all-agents</td>\n",
       "      <td>929ed2bf52b9</td>\n",
       "      <td>2017-01-02</td>\n",
       "      <td>2.5</td>\n",
       "    </tr>\n",
       "    <tr>\n",
       "      <th>2</th>\n",
       "      <td>!vote_en.wikipedia.org_all-access_all-agents</td>\n",
       "      <td>ff29d0f51d5c</td>\n",
       "      <td>2017-01-03</td>\n",
       "      <td>2.5</td>\n",
       "    </tr>\n",
       "    <tr>\n",
       "      <th>3</th>\n",
       "      <td>!vote_en.wikipedia.org_all-access_all-agents</td>\n",
       "      <td>e98873359be6</td>\n",
       "      <td>2017-01-04</td>\n",
       "      <td>2.5</td>\n",
       "    </tr>\n",
       "    <tr>\n",
       "      <th>4</th>\n",
       "      <td>!vote_en.wikipedia.org_all-access_all-agents</td>\n",
       "      <td>fa012434263a</td>\n",
       "      <td>2017-01-05</td>\n",
       "      <td>2.5</td>\n",
       "    </tr>\n",
       "  </tbody>\n",
       "</table>\n",
       "</div>"
      ],
      "text/plain": [
       "                                           Page            Id       date  \\\n",
       "0  !vote_en.wikipedia.org_all-access_all-agents  bf4edcf969af 2017-01-01   \n",
       "1  !vote_en.wikipedia.org_all-access_all-agents  929ed2bf52b9 2017-01-02   \n",
       "2  !vote_en.wikipedia.org_all-access_all-agents  ff29d0f51d5c 2017-01-03   \n",
       "3  !vote_en.wikipedia.org_all-access_all-agents  e98873359be6 2017-01-04   \n",
       "4  !vote_en.wikipedia.org_all-access_all-agents  fa012434263a 2017-01-05   \n",
       "\n",
       "   Visits  \n",
       "0     2.5  \n",
       "1     2.5  \n",
       "2     2.5  \n",
       "3     2.5  \n",
       "4     2.5  "
      ]
     },
     "execution_count": 96,
     "metadata": {},
     "output_type": "execute_result"
    }
   ],
   "source": [
    "test.head()"
   ]
  },
  {
   "cell_type": "code",
   "execution_count": 12,
   "metadata": {
    "collapsed": true
   },
   "outputs": [],
   "source": [
    "test[\"other_res\"] = weighted_res.Visits"
   ]
  },
  {
   "cell_type": "code",
   "execution_count": 13,
   "metadata": {},
   "outputs": [
    {
     "data": {
      "text/html": [
       "<div>\n",
       "<style>\n",
       "    .dataframe thead tr:only-child th {\n",
       "        text-align: right;\n",
       "    }\n",
       "\n",
       "    .dataframe thead th {\n",
       "        text-align: left;\n",
       "    }\n",
       "\n",
       "    .dataframe tbody tr th {\n",
       "        vertical-align: top;\n",
       "    }\n",
       "</style>\n",
       "<table border=\"1\" class=\"dataframe\">\n",
       "  <thead>\n",
       "    <tr style=\"text-align: right;\">\n",
       "      <th></th>\n",
       "      <th>Page</th>\n",
       "      <th>Id</th>\n",
       "      <th>date</th>\n",
       "      <th>weekend</th>\n",
       "      <th>Visits</th>\n",
       "      <th>other_res</th>\n",
       "    </tr>\n",
       "  </thead>\n",
       "  <tbody>\n",
       "    <tr>\n",
       "      <th>0</th>\n",
       "      <td>!vote_en.wikipedia.org_all-access_all-agents</td>\n",
       "      <td>bf4edcf969af</td>\n",
       "      <td>2017-01-01</td>\n",
       "      <td>1.0</td>\n",
       "      <td>3.0</td>\n",
       "      <td>3.12</td>\n",
       "    </tr>\n",
       "    <tr>\n",
       "      <th>1</th>\n",
       "      <td>!vote_en.wikipedia.org_all-access_all-agents</td>\n",
       "      <td>929ed2bf52b9</td>\n",
       "      <td>2017-01-02</td>\n",
       "      <td>0.0</td>\n",
       "      <td>3.0</td>\n",
       "      <td>2.08</td>\n",
       "    </tr>\n",
       "    <tr>\n",
       "      <th>2</th>\n",
       "      <td>!vote_en.wikipedia.org_all-access_all-agents</td>\n",
       "      <td>ff29d0f51d5c</td>\n",
       "      <td>2017-01-03</td>\n",
       "      <td>0.0</td>\n",
       "      <td>3.0</td>\n",
       "      <td>2.08</td>\n",
       "    </tr>\n",
       "    <tr>\n",
       "      <th>3</th>\n",
       "      <td>!vote_en.wikipedia.org_all-access_all-agents</td>\n",
       "      <td>e98873359be6</td>\n",
       "      <td>2017-01-04</td>\n",
       "      <td>0.0</td>\n",
       "      <td>3.0</td>\n",
       "      <td>2.08</td>\n",
       "    </tr>\n",
       "    <tr>\n",
       "      <th>4</th>\n",
       "      <td>!vote_en.wikipedia.org_all-access_all-agents</td>\n",
       "      <td>fa012434263a</td>\n",
       "      <td>2017-01-05</td>\n",
       "      <td>0.0</td>\n",
       "      <td>3.0</td>\n",
       "      <td>2.08</td>\n",
       "    </tr>\n",
       "  </tbody>\n",
       "</table>\n",
       "</div>"
      ],
      "text/plain": [
       "                                           Page            Id       date  \\\n",
       "0  !vote_en.wikipedia.org_all-access_all-agents  bf4edcf969af 2017-01-01   \n",
       "1  !vote_en.wikipedia.org_all-access_all-agents  929ed2bf52b9 2017-01-02   \n",
       "2  !vote_en.wikipedia.org_all-access_all-agents  ff29d0f51d5c 2017-01-03   \n",
       "3  !vote_en.wikipedia.org_all-access_all-agents  e98873359be6 2017-01-04   \n",
       "4  !vote_en.wikipedia.org_all-access_all-agents  fa012434263a 2017-01-05   \n",
       "\n",
       "   weekend  Visits  other_res  \n",
       "0      1.0     3.0       3.12  \n",
       "1      0.0     3.0       2.08  \n",
       "2      0.0     3.0       2.08  \n",
       "3      0.0     3.0       2.08  \n",
       "4      0.0     3.0       2.08  "
      ]
     },
     "execution_count": 13,
     "metadata": {},
     "output_type": "execute_result"
    }
   ],
   "source": [
    "test.head()"
   ]
  },
  {
   "cell_type": "code",
   "execution_count": 14,
   "metadata": {
    "collapsed": true
   },
   "outputs": [],
   "source": [
    "test['Visits'] = (test.weekend == 1) * test.other_res * 0.9 + (test.weekend == 1) * test.Visits * 0.1 + (test.weekend == 0) * test.Visits"
   ]
  },
  {
   "cell_type": "code",
   "execution_count": 15,
   "metadata": {
    "collapsed": true
   },
   "outputs": [],
   "source": [
    "mytest = test[[\"Id\", \"Visits\"]]"
   ]
  },
  {
   "cell_type": "code",
   "execution_count": 16,
   "metadata": {
    "collapsed": true
   },
   "outputs": [],
   "source": [
    "mytest.to_csv(\"fibo_and_weekend_weight_0.8_on_weekend.csv\", index=False)"
   ]
  },
  {
   "cell_type": "code",
   "execution_count": 18,
   "metadata": {
    "collapsed": true
   },
   "outputs": [],
   "source": [
    "mytest = pd.read_csv(\"res_backup/fibo_and_weekend_weight_0.9_on_weekend_44.6.csv\")"
   ]
  },
  {
   "cell_type": "code",
   "execution_count": 22,
   "metadata": {
    "collapsed": true
   },
   "outputs": [],
   "source": [
    "mytest.Visits = np.round(mytest.Visits)"
   ]
  },
  {
   "cell_type": "code",
   "execution_count": 23,
   "metadata": {},
   "outputs": [
    {
     "data": {
      "text/html": [
       "<div>\n",
       "<style>\n",
       "    .dataframe thead tr:only-child th {\n",
       "        text-align: right;\n",
       "    }\n",
       "\n",
       "    .dataframe thead th {\n",
       "        text-align: left;\n",
       "    }\n",
       "\n",
       "    .dataframe tbody tr th {\n",
       "        vertical-align: top;\n",
       "    }\n",
       "</style>\n",
       "<table border=\"1\" class=\"dataframe\">\n",
       "  <thead>\n",
       "    <tr style=\"text-align: right;\">\n",
       "      <th></th>\n",
       "      <th>Id</th>\n",
       "      <th>Visits</th>\n",
       "    </tr>\n",
       "  </thead>\n",
       "  <tbody>\n",
       "    <tr>\n",
       "      <th>0</th>\n",
       "      <td>bf4edcf969af</td>\n",
       "      <td>3.0</td>\n",
       "    </tr>\n",
       "    <tr>\n",
       "      <th>1</th>\n",
       "      <td>929ed2bf52b9</td>\n",
       "      <td>3.0</td>\n",
       "    </tr>\n",
       "    <tr>\n",
       "      <th>2</th>\n",
       "      <td>ff29d0f51d5c</td>\n",
       "      <td>3.0</td>\n",
       "    </tr>\n",
       "    <tr>\n",
       "      <th>3</th>\n",
       "      <td>e98873359be6</td>\n",
       "      <td>3.0</td>\n",
       "    </tr>\n",
       "    <tr>\n",
       "      <th>4</th>\n",
       "      <td>fa012434263a</td>\n",
       "      <td>3.0</td>\n",
       "    </tr>\n",
       "  </tbody>\n",
       "</table>\n",
       "</div>"
      ],
      "text/plain": [
       "             Id  Visits\n",
       "0  bf4edcf969af     3.0\n",
       "1  929ed2bf52b9     3.0\n",
       "2  ff29d0f51d5c     3.0\n",
       "3  e98873359be6     3.0\n",
       "4  fa012434263a     3.0"
      ]
     },
     "execution_count": 23,
     "metadata": {},
     "output_type": "execute_result"
    }
   ],
   "source": [
    "mytest.head()"
   ]
  },
  {
   "cell_type": "code",
   "execution_count": 24,
   "metadata": {
    "collapsed": true
   },
   "outputs": [],
   "source": [
    "mytest.to_csv(\"fibo_and_weekend_weight_0.9_round.csv\", index = False)"
   ]
  },
  {
   "cell_type": "code",
   "execution_count": 27,
   "metadata": {},
   "outputs": [
    {
     "data": {
      "text/html": [
       "<div>\n",
       "<style>\n",
       "    .dataframe thead tr:only-child th {\n",
       "        text-align: right;\n",
       "    }\n",
       "\n",
       "    .dataframe thead th {\n",
       "        text-align: left;\n",
       "    }\n",
       "\n",
       "    .dataframe tbody tr th {\n",
       "        vertical-align: top;\n",
       "    }\n",
       "</style>\n",
       "<table border=\"1\" class=\"dataframe\">\n",
       "  <thead>\n",
       "    <tr style=\"text-align: right;\">\n",
       "      <th></th>\n",
       "      <th>Page</th>\n",
       "      <th>Id</th>\n",
       "      <th>date</th>\n",
       "      <th>weekend</th>\n",
       "      <th>Visits</th>\n",
       "      <th>other_res</th>\n",
       "    </tr>\n",
       "  </thead>\n",
       "  <tbody>\n",
       "    <tr>\n",
       "      <th>8703580</th>\n",
       "      <td>龔嘉欣_zh.wikipedia.org_desktop_all-agents</td>\n",
       "      <td>308fe8a626a1</td>\n",
       "      <td>2017-02-10</td>\n",
       "      <td>0.0</td>\n",
       "      <td>298.0</td>\n",
       "      <td>463.692</td>\n",
       "    </tr>\n",
       "    <tr>\n",
       "      <th>8703581</th>\n",
       "      <td>龔嘉欣_zh.wikipedia.org_desktop_all-agents</td>\n",
       "      <td>16f9009c97a7</td>\n",
       "      <td>2017-02-11</td>\n",
       "      <td>1.0</td>\n",
       "      <td>298.0</td>\n",
       "      <td>349.911</td>\n",
       "    </tr>\n",
       "    <tr>\n",
       "      <th>8703582</th>\n",
       "      <td>龔嘉欣_zh.wikipedia.org_desktop_all-agents</td>\n",
       "      <td>86270ca7f536</td>\n",
       "      <td>2017-02-12</td>\n",
       "      <td>1.0</td>\n",
       "      <td>298.0</td>\n",
       "      <td>349.911</td>\n",
       "    </tr>\n",
       "    <tr>\n",
       "      <th>8703583</th>\n",
       "      <td>龔嘉欣_zh.wikipedia.org_desktop_all-agents</td>\n",
       "      <td>72c456ec7f45</td>\n",
       "      <td>2017-02-13</td>\n",
       "      <td>0.0</td>\n",
       "      <td>298.0</td>\n",
       "      <td>463.692</td>\n",
       "    </tr>\n",
       "    <tr>\n",
       "      <th>8703584</th>\n",
       "      <td>龔嘉欣_zh.wikipedia.org_desktop_all-agents</td>\n",
       "      <td>167f3b276b68</td>\n",
       "      <td>2017-02-14</td>\n",
       "      <td>0.0</td>\n",
       "      <td>298.0</td>\n",
       "      <td>463.692</td>\n",
       "    </tr>\n",
       "    <tr>\n",
       "      <th>8703585</th>\n",
       "      <td>龔嘉欣_zh.wikipedia.org_desktop_all-agents</td>\n",
       "      <td>55f60da44fe6</td>\n",
       "      <td>2017-02-15</td>\n",
       "      <td>0.0</td>\n",
       "      <td>298.0</td>\n",
       "      <td>463.692</td>\n",
       "    </tr>\n",
       "    <tr>\n",
       "      <th>8703586</th>\n",
       "      <td>龔嘉欣_zh.wikipedia.org_desktop_all-agents</td>\n",
       "      <td>b8bb5e415118</td>\n",
       "      <td>2017-02-16</td>\n",
       "      <td>0.0</td>\n",
       "      <td>298.0</td>\n",
       "      <td>463.692</td>\n",
       "    </tr>\n",
       "    <tr>\n",
       "      <th>8703587</th>\n",
       "      <td>龔嘉欣_zh.wikipedia.org_desktop_all-agents</td>\n",
       "      <td>ff8251c57216</td>\n",
       "      <td>2017-02-17</td>\n",
       "      <td>0.0</td>\n",
       "      <td>298.0</td>\n",
       "      <td>463.692</td>\n",
       "    </tr>\n",
       "    <tr>\n",
       "      <th>8703588</th>\n",
       "      <td>龔嘉欣_zh.wikipedia.org_desktop_all-agents</td>\n",
       "      <td>51c0d34438c4</td>\n",
       "      <td>2017-02-18</td>\n",
       "      <td>1.0</td>\n",
       "      <td>298.0</td>\n",
       "      <td>349.911</td>\n",
       "    </tr>\n",
       "    <tr>\n",
       "      <th>8703589</th>\n",
       "      <td>龔嘉欣_zh.wikipedia.org_desktop_all-agents</td>\n",
       "      <td>814b27710d93</td>\n",
       "      <td>2017-02-19</td>\n",
       "      <td>1.0</td>\n",
       "      <td>298.0</td>\n",
       "      <td>349.911</td>\n",
       "    </tr>\n",
       "    <tr>\n",
       "      <th>8703590</th>\n",
       "      <td>龔嘉欣_zh.wikipedia.org_desktop_all-agents</td>\n",
       "      <td>10ec85f321d4</td>\n",
       "      <td>2017-02-20</td>\n",
       "      <td>0.0</td>\n",
       "      <td>298.0</td>\n",
       "      <td>463.692</td>\n",
       "    </tr>\n",
       "    <tr>\n",
       "      <th>8703591</th>\n",
       "      <td>龔嘉欣_zh.wikipedia.org_desktop_all-agents</td>\n",
       "      <td>4484ae533368</td>\n",
       "      <td>2017-02-21</td>\n",
       "      <td>0.0</td>\n",
       "      <td>298.0</td>\n",
       "      <td>463.692</td>\n",
       "    </tr>\n",
       "    <tr>\n",
       "      <th>8703592</th>\n",
       "      <td>龔嘉欣_zh.wikipedia.org_desktop_all-agents</td>\n",
       "      <td>8e591fb9ffc9</td>\n",
       "      <td>2017-02-22</td>\n",
       "      <td>0.0</td>\n",
       "      <td>298.0</td>\n",
       "      <td>463.692</td>\n",
       "    </tr>\n",
       "    <tr>\n",
       "      <th>8703593</th>\n",
       "      <td>龔嘉欣_zh.wikipedia.org_desktop_all-agents</td>\n",
       "      <td>80fe04834693</td>\n",
       "      <td>2017-02-23</td>\n",
       "      <td>0.0</td>\n",
       "      <td>298.0</td>\n",
       "      <td>463.692</td>\n",
       "    </tr>\n",
       "    <tr>\n",
       "      <th>8703594</th>\n",
       "      <td>龔嘉欣_zh.wikipedia.org_desktop_all-agents</td>\n",
       "      <td>9e9cb6d807bb</td>\n",
       "      <td>2017-02-24</td>\n",
       "      <td>0.0</td>\n",
       "      <td>298.0</td>\n",
       "      <td>463.692</td>\n",
       "    </tr>\n",
       "    <tr>\n",
       "      <th>8703595</th>\n",
       "      <td>龔嘉欣_zh.wikipedia.org_desktop_all-agents</td>\n",
       "      <td>ff14ef912e88</td>\n",
       "      <td>2017-02-25</td>\n",
       "      <td>1.0</td>\n",
       "      <td>298.0</td>\n",
       "      <td>349.911</td>\n",
       "    </tr>\n",
       "    <tr>\n",
       "      <th>8703596</th>\n",
       "      <td>龔嘉欣_zh.wikipedia.org_desktop_all-agents</td>\n",
       "      <td>9dd4aeaad438</td>\n",
       "      <td>2017-02-26</td>\n",
       "      <td>1.0</td>\n",
       "      <td>298.0</td>\n",
       "      <td>349.911</td>\n",
       "    </tr>\n",
       "    <tr>\n",
       "      <th>8703597</th>\n",
       "      <td>龔嘉欣_zh.wikipedia.org_desktop_all-agents</td>\n",
       "      <td>d8f854ba893b</td>\n",
       "      <td>2017-02-27</td>\n",
       "      <td>0.0</td>\n",
       "      <td>298.0</td>\n",
       "      <td>463.692</td>\n",
       "    </tr>\n",
       "    <tr>\n",
       "      <th>8703598</th>\n",
       "      <td>龔嘉欣_zh.wikipedia.org_desktop_all-agents</td>\n",
       "      <td>c724eedd1839</td>\n",
       "      <td>2017-02-28</td>\n",
       "      <td>0.0</td>\n",
       "      <td>298.0</td>\n",
       "      <td>463.692</td>\n",
       "    </tr>\n",
       "    <tr>\n",
       "      <th>8703599</th>\n",
       "      <td>龔嘉欣_zh.wikipedia.org_desktop_all-agents</td>\n",
       "      <td>c35cf3a1a890</td>\n",
       "      <td>2017-03-01</td>\n",
       "      <td>0.0</td>\n",
       "      <td>298.0</td>\n",
       "      <td>463.692</td>\n",
       "    </tr>\n",
       "    <tr>\n",
       "      <th>8703600</th>\n",
       "      <td>龔嘉欣_zh.wikipedia.org_mobile-web_all-agents</td>\n",
       "      <td>89808d5e6d3d</td>\n",
       "      <td>2017-01-01</td>\n",
       "      <td>1.0</td>\n",
       "      <td>323.0</td>\n",
       "      <td>521.716</td>\n",
       "    </tr>\n",
       "    <tr>\n",
       "      <th>8703601</th>\n",
       "      <td>龔嘉欣_zh.wikipedia.org_mobile-web_all-agents</td>\n",
       "      <td>e0cab36202be</td>\n",
       "      <td>2017-01-02</td>\n",
       "      <td>0.0</td>\n",
       "      <td>323.0</td>\n",
       "      <td>561.392</td>\n",
       "    </tr>\n",
       "    <tr>\n",
       "      <th>8703602</th>\n",
       "      <td>龔嘉欣_zh.wikipedia.org_mobile-web_all-agents</td>\n",
       "      <td>83e60f37ff4b</td>\n",
       "      <td>2017-01-03</td>\n",
       "      <td>0.0</td>\n",
       "      <td>323.0</td>\n",
       "      <td>561.392</td>\n",
       "    </tr>\n",
       "    <tr>\n",
       "      <th>8703603</th>\n",
       "      <td>龔嘉欣_zh.wikipedia.org_mobile-web_all-agents</td>\n",
       "      <td>3925c2aef6f3</td>\n",
       "      <td>2017-01-04</td>\n",
       "      <td>0.0</td>\n",
       "      <td>323.0</td>\n",
       "      <td>561.392</td>\n",
       "    </tr>\n",
       "    <tr>\n",
       "      <th>8703604</th>\n",
       "      <td>龔嘉欣_zh.wikipedia.org_mobile-web_all-agents</td>\n",
       "      <td>dbab1fb4c205</td>\n",
       "      <td>2017-01-05</td>\n",
       "      <td>0.0</td>\n",
       "      <td>323.0</td>\n",
       "      <td>561.392</td>\n",
       "    </tr>\n",
       "    <tr>\n",
       "      <th>8703605</th>\n",
       "      <td>龔嘉欣_zh.wikipedia.org_mobile-web_all-agents</td>\n",
       "      <td>584e947839ed</td>\n",
       "      <td>2017-01-06</td>\n",
       "      <td>0.0</td>\n",
       "      <td>323.0</td>\n",
       "      <td>561.392</td>\n",
       "    </tr>\n",
       "    <tr>\n",
       "      <th>8703606</th>\n",
       "      <td>龔嘉欣_zh.wikipedia.org_mobile-web_all-agents</td>\n",
       "      <td>7d062a503fb0</td>\n",
       "      <td>2017-01-07</td>\n",
       "      <td>1.0</td>\n",
       "      <td>323.0</td>\n",
       "      <td>521.716</td>\n",
       "    </tr>\n",
       "    <tr>\n",
       "      <th>8703607</th>\n",
       "      <td>龔嘉欣_zh.wikipedia.org_mobile-web_all-agents</td>\n",
       "      <td>f8ac4c57cf7f</td>\n",
       "      <td>2017-01-08</td>\n",
       "      <td>1.0</td>\n",
       "      <td>323.0</td>\n",
       "      <td>521.716</td>\n",
       "    </tr>\n",
       "    <tr>\n",
       "      <th>8703608</th>\n",
       "      <td>龔嘉欣_zh.wikipedia.org_mobile-web_all-agents</td>\n",
       "      <td>8511ebce0da5</td>\n",
       "      <td>2017-01-09</td>\n",
       "      <td>0.0</td>\n",
       "      <td>323.0</td>\n",
       "      <td>561.392</td>\n",
       "    </tr>\n",
       "    <tr>\n",
       "      <th>8703609</th>\n",
       "      <td>龔嘉欣_zh.wikipedia.org_mobile-web_all-agents</td>\n",
       "      <td>a2c1460dc23e</td>\n",
       "      <td>2017-01-10</td>\n",
       "      <td>0.0</td>\n",
       "      <td>323.0</td>\n",
       "      <td>561.392</td>\n",
       "    </tr>\n",
       "    <tr>\n",
       "      <th>...</th>\n",
       "      <td>...</td>\n",
       "      <td>...</td>\n",
       "      <td>...</td>\n",
       "      <td>...</td>\n",
       "      <td>...</td>\n",
       "      <td>...</td>\n",
       "    </tr>\n",
       "    <tr>\n",
       "      <th>8703750</th>\n",
       "      <td>龙生九子_zh.wikipedia.org_mobile-web_all-agents</td>\n",
       "      <td>1fb8f902ad0f</td>\n",
       "      <td>2017-01-31</td>\n",
       "      <td>0.0</td>\n",
       "      <td>233.0</td>\n",
       "      <td>252.408</td>\n",
       "    </tr>\n",
       "    <tr>\n",
       "      <th>8703751</th>\n",
       "      <td>龙生九子_zh.wikipedia.org_mobile-web_all-agents</td>\n",
       "      <td>0107f6d7cd82</td>\n",
       "      <td>2017-02-01</td>\n",
       "      <td>0.0</td>\n",
       "      <td>233.0</td>\n",
       "      <td>247.554</td>\n",
       "    </tr>\n",
       "    <tr>\n",
       "      <th>8703752</th>\n",
       "      <td>龙生九子_zh.wikipedia.org_mobile-web_all-agents</td>\n",
       "      <td>30c402ed9e49</td>\n",
       "      <td>2017-02-02</td>\n",
       "      <td>0.0</td>\n",
       "      <td>233.0</td>\n",
       "      <td>247.554</td>\n",
       "    </tr>\n",
       "    <tr>\n",
       "      <th>8703753</th>\n",
       "      <td>龙生九子_zh.wikipedia.org_mobile-web_all-agents</td>\n",
       "      <td>935fa0168d01</td>\n",
       "      <td>2017-02-03</td>\n",
       "      <td>0.0</td>\n",
       "      <td>233.0</td>\n",
       "      <td>247.554</td>\n",
       "    </tr>\n",
       "    <tr>\n",
       "      <th>8703754</th>\n",
       "      <td>龙生九子_zh.wikipedia.org_mobile-web_all-agents</td>\n",
       "      <td>1140b428380e</td>\n",
       "      <td>2017-02-04</td>\n",
       "      <td>1.0</td>\n",
       "      <td>233.0</td>\n",
       "      <td>270.045</td>\n",
       "    </tr>\n",
       "    <tr>\n",
       "      <th>8703755</th>\n",
       "      <td>龙生九子_zh.wikipedia.org_mobile-web_all-agents</td>\n",
       "      <td>cc5eadae0d7a</td>\n",
       "      <td>2017-02-05</td>\n",
       "      <td>1.0</td>\n",
       "      <td>233.0</td>\n",
       "      <td>270.045</td>\n",
       "    </tr>\n",
       "    <tr>\n",
       "      <th>8703756</th>\n",
       "      <td>龙生九子_zh.wikipedia.org_mobile-web_all-agents</td>\n",
       "      <td>f923701cdb05</td>\n",
       "      <td>2017-02-06</td>\n",
       "      <td>0.0</td>\n",
       "      <td>233.0</td>\n",
       "      <td>247.554</td>\n",
       "    </tr>\n",
       "    <tr>\n",
       "      <th>8703757</th>\n",
       "      <td>龙生九子_zh.wikipedia.org_mobile-web_all-agents</td>\n",
       "      <td>905679a20d39</td>\n",
       "      <td>2017-02-07</td>\n",
       "      <td>0.0</td>\n",
       "      <td>233.0</td>\n",
       "      <td>247.554</td>\n",
       "    </tr>\n",
       "    <tr>\n",
       "      <th>8703758</th>\n",
       "      <td>龙生九子_zh.wikipedia.org_mobile-web_all-agents</td>\n",
       "      <td>642354a50690</td>\n",
       "      <td>2017-02-08</td>\n",
       "      <td>0.0</td>\n",
       "      <td>233.0</td>\n",
       "      <td>247.554</td>\n",
       "    </tr>\n",
       "    <tr>\n",
       "      <th>8703759</th>\n",
       "      <td>龙生九子_zh.wikipedia.org_mobile-web_all-agents</td>\n",
       "      <td>7376c63bd4c1</td>\n",
       "      <td>2017-02-09</td>\n",
       "      <td>0.0</td>\n",
       "      <td>233.0</td>\n",
       "      <td>247.554</td>\n",
       "    </tr>\n",
       "    <tr>\n",
       "      <th>8703760</th>\n",
       "      <td>龙生九子_zh.wikipedia.org_mobile-web_all-agents</td>\n",
       "      <td>1f0566b71f7e</td>\n",
       "      <td>2017-02-10</td>\n",
       "      <td>0.0</td>\n",
       "      <td>233.0</td>\n",
       "      <td>247.554</td>\n",
       "    </tr>\n",
       "    <tr>\n",
       "      <th>8703761</th>\n",
       "      <td>龙生九子_zh.wikipedia.org_mobile-web_all-agents</td>\n",
       "      <td>938774bbb675</td>\n",
       "      <td>2017-02-11</td>\n",
       "      <td>1.0</td>\n",
       "      <td>233.0</td>\n",
       "      <td>270.045</td>\n",
       "    </tr>\n",
       "    <tr>\n",
       "      <th>8703762</th>\n",
       "      <td>龙生九子_zh.wikipedia.org_mobile-web_all-agents</td>\n",
       "      <td>53c046bac8cb</td>\n",
       "      <td>2017-02-12</td>\n",
       "      <td>1.0</td>\n",
       "      <td>233.0</td>\n",
       "      <td>270.045</td>\n",
       "    </tr>\n",
       "    <tr>\n",
       "      <th>8703763</th>\n",
       "      <td>龙生九子_zh.wikipedia.org_mobile-web_all-agents</td>\n",
       "      <td>ead2377353d3</td>\n",
       "      <td>2017-02-13</td>\n",
       "      <td>0.0</td>\n",
       "      <td>233.0</td>\n",
       "      <td>247.554</td>\n",
       "    </tr>\n",
       "    <tr>\n",
       "      <th>8703764</th>\n",
       "      <td>龙生九子_zh.wikipedia.org_mobile-web_all-agents</td>\n",
       "      <td>efa87c7d5160</td>\n",
       "      <td>2017-02-14</td>\n",
       "      <td>0.0</td>\n",
       "      <td>233.0</td>\n",
       "      <td>247.554</td>\n",
       "    </tr>\n",
       "    <tr>\n",
       "      <th>8703765</th>\n",
       "      <td>龙生九子_zh.wikipedia.org_mobile-web_all-agents</td>\n",
       "      <td>f239d6ceb17b</td>\n",
       "      <td>2017-02-15</td>\n",
       "      <td>0.0</td>\n",
       "      <td>233.0</td>\n",
       "      <td>247.554</td>\n",
       "    </tr>\n",
       "    <tr>\n",
       "      <th>8703766</th>\n",
       "      <td>龙生九子_zh.wikipedia.org_mobile-web_all-agents</td>\n",
       "      <td>0fef0826b1bc</td>\n",
       "      <td>2017-02-16</td>\n",
       "      <td>0.0</td>\n",
       "      <td>233.0</td>\n",
       "      <td>247.554</td>\n",
       "    </tr>\n",
       "    <tr>\n",
       "      <th>8703767</th>\n",
       "      <td>龙生九子_zh.wikipedia.org_mobile-web_all-agents</td>\n",
       "      <td>478d3c34b0c1</td>\n",
       "      <td>2017-02-17</td>\n",
       "      <td>0.0</td>\n",
       "      <td>233.0</td>\n",
       "      <td>247.554</td>\n",
       "    </tr>\n",
       "    <tr>\n",
       "      <th>8703768</th>\n",
       "      <td>龙生九子_zh.wikipedia.org_mobile-web_all-agents</td>\n",
       "      <td>6a1b6e3028fc</td>\n",
       "      <td>2017-02-18</td>\n",
       "      <td>1.0</td>\n",
       "      <td>233.0</td>\n",
       "      <td>270.045</td>\n",
       "    </tr>\n",
       "    <tr>\n",
       "      <th>8703769</th>\n",
       "      <td>龙生九子_zh.wikipedia.org_mobile-web_all-agents</td>\n",
       "      <td>3b5fb022accd</td>\n",
       "      <td>2017-02-19</td>\n",
       "      <td>1.0</td>\n",
       "      <td>233.0</td>\n",
       "      <td>270.045</td>\n",
       "    </tr>\n",
       "    <tr>\n",
       "      <th>8703770</th>\n",
       "      <td>龙生九子_zh.wikipedia.org_mobile-web_all-agents</td>\n",
       "      <td>a4456a9d271d</td>\n",
       "      <td>2017-02-20</td>\n",
       "      <td>0.0</td>\n",
       "      <td>233.0</td>\n",
       "      <td>247.554</td>\n",
       "    </tr>\n",
       "    <tr>\n",
       "      <th>8703771</th>\n",
       "      <td>龙生九子_zh.wikipedia.org_mobile-web_all-agents</td>\n",
       "      <td>d43a25cf4ef2</td>\n",
       "      <td>2017-02-21</td>\n",
       "      <td>0.0</td>\n",
       "      <td>233.0</td>\n",
       "      <td>247.554</td>\n",
       "    </tr>\n",
       "    <tr>\n",
       "      <th>8703772</th>\n",
       "      <td>龙生九子_zh.wikipedia.org_mobile-web_all-agents</td>\n",
       "      <td>8f47d2e020cd</td>\n",
       "      <td>2017-02-22</td>\n",
       "      <td>0.0</td>\n",
       "      <td>233.0</td>\n",
       "      <td>247.554</td>\n",
       "    </tr>\n",
       "    <tr>\n",
       "      <th>8703773</th>\n",
       "      <td>龙生九子_zh.wikipedia.org_mobile-web_all-agents</td>\n",
       "      <td>a78af728d84b</td>\n",
       "      <td>2017-02-23</td>\n",
       "      <td>0.0</td>\n",
       "      <td>233.0</td>\n",
       "      <td>247.554</td>\n",
       "    </tr>\n",
       "    <tr>\n",
       "      <th>8703774</th>\n",
       "      <td>龙生九子_zh.wikipedia.org_mobile-web_all-agents</td>\n",
       "      <td>d1ba45c7ec08</td>\n",
       "      <td>2017-02-24</td>\n",
       "      <td>0.0</td>\n",
       "      <td>233.0</td>\n",
       "      <td>247.554</td>\n",
       "    </tr>\n",
       "    <tr>\n",
       "      <th>8703775</th>\n",
       "      <td>龙生九子_zh.wikipedia.org_mobile-web_all-agents</td>\n",
       "      <td>f69747f5ee68</td>\n",
       "      <td>2017-02-25</td>\n",
       "      <td>1.0</td>\n",
       "      <td>233.0</td>\n",
       "      <td>270.045</td>\n",
       "    </tr>\n",
       "    <tr>\n",
       "      <th>8703776</th>\n",
       "      <td>龙生九子_zh.wikipedia.org_mobile-web_all-agents</td>\n",
       "      <td>2489963dc503</td>\n",
       "      <td>2017-02-26</td>\n",
       "      <td>1.0</td>\n",
       "      <td>233.0</td>\n",
       "      <td>270.045</td>\n",
       "    </tr>\n",
       "    <tr>\n",
       "      <th>8703777</th>\n",
       "      <td>龙生九子_zh.wikipedia.org_mobile-web_all-agents</td>\n",
       "      <td>b0624c909f4c</td>\n",
       "      <td>2017-02-27</td>\n",
       "      <td>0.0</td>\n",
       "      <td>233.0</td>\n",
       "      <td>247.554</td>\n",
       "    </tr>\n",
       "    <tr>\n",
       "      <th>8703778</th>\n",
       "      <td>龙生九子_zh.wikipedia.org_mobile-web_all-agents</td>\n",
       "      <td>24a1dfb06c10</td>\n",
       "      <td>2017-02-28</td>\n",
       "      <td>0.0</td>\n",
       "      <td>233.0</td>\n",
       "      <td>247.554</td>\n",
       "    </tr>\n",
       "    <tr>\n",
       "      <th>8703779</th>\n",
       "      <td>龙生九子_zh.wikipedia.org_mobile-web_all-agents</td>\n",
       "      <td>add681d54216</td>\n",
       "      <td>2017-03-01</td>\n",
       "      <td>0.0</td>\n",
       "      <td>233.0</td>\n",
       "      <td>247.554</td>\n",
       "    </tr>\n",
       "  </tbody>\n",
       "</table>\n",
       "<p>200 rows × 6 columns</p>\n",
       "</div>"
      ],
      "text/plain": [
       "                                                Page            Id       date  \\\n",
       "8703580      龔嘉欣_zh.wikipedia.org_desktop_all-agents  308fe8a626a1 2017-02-10   \n",
       "8703581      龔嘉欣_zh.wikipedia.org_desktop_all-agents  16f9009c97a7 2017-02-11   \n",
       "8703582      龔嘉欣_zh.wikipedia.org_desktop_all-agents  86270ca7f536 2017-02-12   \n",
       "8703583      龔嘉欣_zh.wikipedia.org_desktop_all-agents  72c456ec7f45 2017-02-13   \n",
       "8703584      龔嘉欣_zh.wikipedia.org_desktop_all-agents  167f3b276b68 2017-02-14   \n",
       "8703585      龔嘉欣_zh.wikipedia.org_desktop_all-agents  55f60da44fe6 2017-02-15   \n",
       "8703586      龔嘉欣_zh.wikipedia.org_desktop_all-agents  b8bb5e415118 2017-02-16   \n",
       "8703587      龔嘉欣_zh.wikipedia.org_desktop_all-agents  ff8251c57216 2017-02-17   \n",
       "8703588      龔嘉欣_zh.wikipedia.org_desktop_all-agents  51c0d34438c4 2017-02-18   \n",
       "8703589      龔嘉欣_zh.wikipedia.org_desktop_all-agents  814b27710d93 2017-02-19   \n",
       "8703590      龔嘉欣_zh.wikipedia.org_desktop_all-agents  10ec85f321d4 2017-02-20   \n",
       "8703591      龔嘉欣_zh.wikipedia.org_desktop_all-agents  4484ae533368 2017-02-21   \n",
       "8703592      龔嘉欣_zh.wikipedia.org_desktop_all-agents  8e591fb9ffc9 2017-02-22   \n",
       "8703593      龔嘉欣_zh.wikipedia.org_desktop_all-agents  80fe04834693 2017-02-23   \n",
       "8703594      龔嘉欣_zh.wikipedia.org_desktop_all-agents  9e9cb6d807bb 2017-02-24   \n",
       "8703595      龔嘉欣_zh.wikipedia.org_desktop_all-agents  ff14ef912e88 2017-02-25   \n",
       "8703596      龔嘉欣_zh.wikipedia.org_desktop_all-agents  9dd4aeaad438 2017-02-26   \n",
       "8703597      龔嘉欣_zh.wikipedia.org_desktop_all-agents  d8f854ba893b 2017-02-27   \n",
       "8703598      龔嘉欣_zh.wikipedia.org_desktop_all-agents  c724eedd1839 2017-02-28   \n",
       "8703599      龔嘉欣_zh.wikipedia.org_desktop_all-agents  c35cf3a1a890 2017-03-01   \n",
       "8703600   龔嘉欣_zh.wikipedia.org_mobile-web_all-agents  89808d5e6d3d 2017-01-01   \n",
       "8703601   龔嘉欣_zh.wikipedia.org_mobile-web_all-agents  e0cab36202be 2017-01-02   \n",
       "8703602   龔嘉欣_zh.wikipedia.org_mobile-web_all-agents  83e60f37ff4b 2017-01-03   \n",
       "8703603   龔嘉欣_zh.wikipedia.org_mobile-web_all-agents  3925c2aef6f3 2017-01-04   \n",
       "8703604   龔嘉欣_zh.wikipedia.org_mobile-web_all-agents  dbab1fb4c205 2017-01-05   \n",
       "8703605   龔嘉欣_zh.wikipedia.org_mobile-web_all-agents  584e947839ed 2017-01-06   \n",
       "8703606   龔嘉欣_zh.wikipedia.org_mobile-web_all-agents  7d062a503fb0 2017-01-07   \n",
       "8703607   龔嘉欣_zh.wikipedia.org_mobile-web_all-agents  f8ac4c57cf7f 2017-01-08   \n",
       "8703608   龔嘉欣_zh.wikipedia.org_mobile-web_all-agents  8511ebce0da5 2017-01-09   \n",
       "8703609   龔嘉欣_zh.wikipedia.org_mobile-web_all-agents  a2c1460dc23e 2017-01-10   \n",
       "...                                              ...           ...        ...   \n",
       "8703750  龙生九子_zh.wikipedia.org_mobile-web_all-agents  1fb8f902ad0f 2017-01-31   \n",
       "8703751  龙生九子_zh.wikipedia.org_mobile-web_all-agents  0107f6d7cd82 2017-02-01   \n",
       "8703752  龙生九子_zh.wikipedia.org_mobile-web_all-agents  30c402ed9e49 2017-02-02   \n",
       "8703753  龙生九子_zh.wikipedia.org_mobile-web_all-agents  935fa0168d01 2017-02-03   \n",
       "8703754  龙生九子_zh.wikipedia.org_mobile-web_all-agents  1140b428380e 2017-02-04   \n",
       "8703755  龙生九子_zh.wikipedia.org_mobile-web_all-agents  cc5eadae0d7a 2017-02-05   \n",
       "8703756  龙生九子_zh.wikipedia.org_mobile-web_all-agents  f923701cdb05 2017-02-06   \n",
       "8703757  龙生九子_zh.wikipedia.org_mobile-web_all-agents  905679a20d39 2017-02-07   \n",
       "8703758  龙生九子_zh.wikipedia.org_mobile-web_all-agents  642354a50690 2017-02-08   \n",
       "8703759  龙生九子_zh.wikipedia.org_mobile-web_all-agents  7376c63bd4c1 2017-02-09   \n",
       "8703760  龙生九子_zh.wikipedia.org_mobile-web_all-agents  1f0566b71f7e 2017-02-10   \n",
       "8703761  龙生九子_zh.wikipedia.org_mobile-web_all-agents  938774bbb675 2017-02-11   \n",
       "8703762  龙生九子_zh.wikipedia.org_mobile-web_all-agents  53c046bac8cb 2017-02-12   \n",
       "8703763  龙生九子_zh.wikipedia.org_mobile-web_all-agents  ead2377353d3 2017-02-13   \n",
       "8703764  龙生九子_zh.wikipedia.org_mobile-web_all-agents  efa87c7d5160 2017-02-14   \n",
       "8703765  龙生九子_zh.wikipedia.org_mobile-web_all-agents  f239d6ceb17b 2017-02-15   \n",
       "8703766  龙生九子_zh.wikipedia.org_mobile-web_all-agents  0fef0826b1bc 2017-02-16   \n",
       "8703767  龙生九子_zh.wikipedia.org_mobile-web_all-agents  478d3c34b0c1 2017-02-17   \n",
       "8703768  龙生九子_zh.wikipedia.org_mobile-web_all-agents  6a1b6e3028fc 2017-02-18   \n",
       "8703769  龙生九子_zh.wikipedia.org_mobile-web_all-agents  3b5fb022accd 2017-02-19   \n",
       "8703770  龙生九子_zh.wikipedia.org_mobile-web_all-agents  a4456a9d271d 2017-02-20   \n",
       "8703771  龙生九子_zh.wikipedia.org_mobile-web_all-agents  d43a25cf4ef2 2017-02-21   \n",
       "8703772  龙生九子_zh.wikipedia.org_mobile-web_all-agents  8f47d2e020cd 2017-02-22   \n",
       "8703773  龙生九子_zh.wikipedia.org_mobile-web_all-agents  a78af728d84b 2017-02-23   \n",
       "8703774  龙生九子_zh.wikipedia.org_mobile-web_all-agents  d1ba45c7ec08 2017-02-24   \n",
       "8703775  龙生九子_zh.wikipedia.org_mobile-web_all-agents  f69747f5ee68 2017-02-25   \n",
       "8703776  龙生九子_zh.wikipedia.org_mobile-web_all-agents  2489963dc503 2017-02-26   \n",
       "8703777  龙生九子_zh.wikipedia.org_mobile-web_all-agents  b0624c909f4c 2017-02-27   \n",
       "8703778  龙生九子_zh.wikipedia.org_mobile-web_all-agents  24a1dfb06c10 2017-02-28   \n",
       "8703779  龙生九子_zh.wikipedia.org_mobile-web_all-agents  add681d54216 2017-03-01   \n",
       "\n",
       "         weekend  Visits  other_res  \n",
       "8703580      0.0   298.0    463.692  \n",
       "8703581      1.0   298.0    349.911  \n",
       "8703582      1.0   298.0    349.911  \n",
       "8703583      0.0   298.0    463.692  \n",
       "8703584      0.0   298.0    463.692  \n",
       "8703585      0.0   298.0    463.692  \n",
       "8703586      0.0   298.0    463.692  \n",
       "8703587      0.0   298.0    463.692  \n",
       "8703588      1.0   298.0    349.911  \n",
       "8703589      1.0   298.0    349.911  \n",
       "8703590      0.0   298.0    463.692  \n",
       "8703591      0.0   298.0    463.692  \n",
       "8703592      0.0   298.0    463.692  \n",
       "8703593      0.0   298.0    463.692  \n",
       "8703594      0.0   298.0    463.692  \n",
       "8703595      1.0   298.0    349.911  \n",
       "8703596      1.0   298.0    349.911  \n",
       "8703597      0.0   298.0    463.692  \n",
       "8703598      0.0   298.0    463.692  \n",
       "8703599      0.0   298.0    463.692  \n",
       "8703600      1.0   323.0    521.716  \n",
       "8703601      0.0   323.0    561.392  \n",
       "8703602      0.0   323.0    561.392  \n",
       "8703603      0.0   323.0    561.392  \n",
       "8703604      0.0   323.0    561.392  \n",
       "8703605      0.0   323.0    561.392  \n",
       "8703606      1.0   323.0    521.716  \n",
       "8703607      1.0   323.0    521.716  \n",
       "8703608      0.0   323.0    561.392  \n",
       "8703609      0.0   323.0    561.392  \n",
       "...          ...     ...        ...  \n",
       "8703750      0.0   233.0    252.408  \n",
       "8703751      0.0   233.0    247.554  \n",
       "8703752      0.0   233.0    247.554  \n",
       "8703753      0.0   233.0    247.554  \n",
       "8703754      1.0   233.0    270.045  \n",
       "8703755      1.0   233.0    270.045  \n",
       "8703756      0.0   233.0    247.554  \n",
       "8703757      0.0   233.0    247.554  \n",
       "8703758      0.0   233.0    247.554  \n",
       "8703759      0.0   233.0    247.554  \n",
       "8703760      0.0   233.0    247.554  \n",
       "8703761      1.0   233.0    270.045  \n",
       "8703762      1.0   233.0    270.045  \n",
       "8703763      0.0   233.0    247.554  \n",
       "8703764      0.0   233.0    247.554  \n",
       "8703765      0.0   233.0    247.554  \n",
       "8703766      0.0   233.0    247.554  \n",
       "8703767      0.0   233.0    247.554  \n",
       "8703768      1.0   233.0    270.045  \n",
       "8703769      1.0   233.0    270.045  \n",
       "8703770      0.0   233.0    247.554  \n",
       "8703771      0.0   233.0    247.554  \n",
       "8703772      0.0   233.0    247.554  \n",
       "8703773      0.0   233.0    247.554  \n",
       "8703774      0.0   233.0    247.554  \n",
       "8703775      1.0   233.0    270.045  \n",
       "8703776      1.0   233.0    270.045  \n",
       "8703777      0.0   233.0    247.554  \n",
       "8703778      0.0   233.0    247.554  \n",
       "8703779      0.0   233.0    247.554  \n",
       "\n",
       "[200 rows x 6 columns]"
      ]
     },
     "execution_count": 27,
     "metadata": {},
     "output_type": "execute_result"
    }
   ],
   "source": [
    "test.tail(200)"
   ]
  },
  {
   "cell_type": "code",
   "execution_count": null,
   "metadata": {
    "collapsed": true
   },
   "outputs": [],
   "source": [
    "def get_features(df):\n",
    "    df['date'] = df['date'].astype('datetime64[ns]')\n",
    "#     df['every2_weekdays'] = df.date.dt.dayofweek\n",
    "    df['weekend'] = (df.date.dt.dayofweek // 5).astype(float)\n",
    "    #df['shortweek'] = ((df.date.dt.dayofweek) // 4 == 1).astype(float)\n",
    "    return df"
   ]
  },
  {
   "cell_type": "code",
   "execution_count": 21,
   "metadata": {},
   "outputs": [
    {
     "data": {
      "text/plain": [
       "0          1\n",
       "1          0\n",
       "2          0\n",
       "3          0\n",
       "4          0\n",
       "5          0\n",
       "6          1\n",
       "7          1\n",
       "8          0\n",
       "9          0\n",
       "10         0\n",
       "11         0\n",
       "12         0\n",
       "13         1\n",
       "14         1\n",
       "15         0\n",
       "16         0\n",
       "17         0\n",
       "18         0\n",
       "19         0\n",
       "20         1\n",
       "21         1\n",
       "22         0\n",
       "23         0\n",
       "24         0\n",
       "25         0\n",
       "26         0\n",
       "27         1\n",
       "28         1\n",
       "29         0\n",
       "          ..\n",
       "8703750    0\n",
       "8703751    0\n",
       "8703752    0\n",
       "8703753    0\n",
       "8703754    1\n",
       "8703755    1\n",
       "8703756    0\n",
       "8703757    0\n",
       "8703758    0\n",
       "8703759    0\n",
       "8703760    0\n",
       "8703761    1\n",
       "8703762    1\n",
       "8703763    0\n",
       "8703764    0\n",
       "8703765    0\n",
       "8703766    0\n",
       "8703767    0\n",
       "8703768    1\n",
       "8703769    1\n",
       "8703770    0\n",
       "8703771    0\n",
       "8703772    0\n",
       "8703773    0\n",
       "8703774    0\n",
       "8703775    1\n",
       "8703776    1\n",
       "8703777    0\n",
       "8703778    0\n",
       "8703779    0\n",
       "Name: date, Length: 8703780, dtype: int64"
      ]
     },
     "execution_count": 21,
     "metadata": {},
     "output_type": "execute_result"
    }
   ],
   "source": [
    "test.date.dt.dayofweek // 5"
   ]
  },
  {
   "cell_type": "code",
   "execution_count": 5,
   "metadata": {},
   "outputs": [
    {
     "name": "stdout",
     "output_type": "stream",
     "text": [
      "551 551 530 551 253 551 186 551 551 551 488 550 533 339 551 551 551 550 551 198 551 551 551 551 187 551 551 477 551 551 550 533 550 551 551 549 539 314 285 545 551 551 549 545 551 548 549 551 212 548 550 551 177 216 125 72 162 551 547 550 267 551 548 551 464 551 197 551 100 539 153 551 543 250 551 551 551 550 500 546 471 30 301 365 551 551 551 551 551 242 551 256 527 545 448 412 361 388 551 102 550\n"
     ]
    }
   ],
   "source": [
    "## example here to show how many nonzero values in each line\n",
    "for i, row in train.iterrows():\n",
    "    M = []\n",
    "    start = row[1:].nonzero()[0]\n",
    "    print len(start),\n",
    "    \n",
    "    if i == 100:\n",
    "        break"
   ]
  },
  {
   "cell_type": "code",
   "execution_count": 4,
   "metadata": {
    "collapsed": true
   },
   "outputs": [],
   "source": [
    "## holiday analysis"
   ]
  },
  {
   "cell_type": "code",
   "execution_count": 1,
   "metadata": {
    "collapsed": true
   },
   "outputs": [],
   "source": [
    "import pandas as pd\n",
    "import numpy as np\n",
    "import re\n",
    "import gc; gc.enable()\n",
    "from sklearn.feature_extraction import text\n",
    "from sklearn import naive_bayes\n",
    "\n",
    "train = pd.read_csv(\"train_1.csv\")\n",
    "#determine idiom with URL\n",
    "train['origine']=train['Page'].apply(lambda x:re.split(\".wikipedia.org\", x)[0][-2:])\n",
    "'''\n",
    "This is what you get with a value counts on train.origine\n",
    "en    24108\n",
    "ja    20431\n",
    "de    18547\n",
    "fr    17802\n",
    "zh    17229\n",
    "ru    15022\n",
    "es    14069\n",
    "ts    13556\n",
    "er     4299\n",
    "'''\n",
    "#we have english, japanese, deutch, french, chinese (taiwanese ?), russian, spanish\n",
    "#ts and er are undetermined; in the next lines, I try to replace them by learning from special chars\n",
    "#Note : this step wasn't tuned, and can't be perfect because other idioms are available in those Pages (such as portuguese for example)\n",
    "\n",
    "#let's make a train, target, and test to predict language on ts and er pages\n",
    "orig_train=train.loc[~train.origine.isin(['ts', 'er']), 'Page']\n",
    "orig_target=train.loc[~train.origine.isin(['ts', 'er']), 'origine']\n",
    "orig_test=train.loc[train.origine.isin(['ts', 'er']), 'Page']\n",
    "#keep only interesting chars\n",
    "orig_train2=orig_train.apply(lambda x:x.split(\".wikipedia\")[0][:-3]).apply(lambda x:re.sub(\"[a-zA-Z0-9():\\-_ \\'\\.\\/]\", \"\", x))\n",
    "orig_test2=orig_test.apply(lambda x:x.split(\".wikipedia\")[0][:-3]).apply(lambda x:re.sub(\"[a-zA-Z0-9():\\-_ \\'\\.\\/]\", \"\", x))\n",
    "#run TFIDF on those specific chars\n",
    "tfidf=text.TfidfVectorizer(input='content', encoding='utf-8', decode_error='strict', strip_accents=None, \n",
    "                     lowercase=True, preprocessor=None, tokenizer=None, \n",
    "                     analyzer='char', #stop_words=[chr(x) for x in range(97,123)]+[chr(x) for x in range(65,91)]+['_','.',':'], \n",
    "                     token_pattern='(?u)\\\\b\\\\w\\\\w+\\\\b', ngram_range=(1, 1), max_df=1.0, min_df=1, max_features=None, vocabulary=None, binary=True, norm='l2', \n",
    "                     use_idf=True, smooth_idf=True, sublinear_tf=False)\n",
    "orig_train2=tfidf.fit_transform(orig_train2)\n",
    "#apply a simple naive bayes on the text features\n",
    "model=naive_bayes.BernoulliNB()\n",
    "model.fit(orig_train2, orig_target)\n",
    "result=model.predict(tfidf.transform(orig_test2))\n",
    "result=pd.DataFrame(result, index=orig_test)\n",
    "result.columns=['origine']\n",
    "#result will be used later to replace 'ts' and 'er' values\n",
    "#we need to remove train.origine so that the train can be flattened with melt\n",
    "del train['origine']\n",
    "\n",
    "#let's flatten the train as did clustifier and initialize a \"ferie\" columns instead of a weekend column\n",
    "train = pd.melt(train[list(train.columns[-49:])+['Page']], id_vars='Page', var_name='date', value_name='Visits')\n",
    "train['date'] = train['date'].astype('datetime64[ns]')\n",
    "train['ferie'] = ((train.date.dt.dayofweek) >=5).astype(float)\n",
    "train['origine']=train['Page'].apply(lambda x:re.split(\".wikipedia.org\", x)[0][-2:])\n",
    "\n",
    "#let's join with result to replace 'ts' and 'er'\n",
    "join=train.loc[train.origine.isin([\"ts\",\"er\"]), ['Page']]\n",
    "join['origine']=0 #init\n",
    "join.index=join[\"Page\"]\n",
    "join.origine=result\n",
    "train.loc[train.origine.isin([\"ts\",\"er\"]), ['origine']]=join.origine.values #replace\n",
    "\n",
    "#official non working days by country (manual search with google)\n",
    "#I made a lot of shortcuts considering that only Us and Uk used english idiom, \n",
    "#only Spain for spanich, only France for french, etc\n",
    "train_us=['2015-07-04','2015-11-26','2015-12-25']+\\\n",
    "['2016-07-04','2016-11-24','2016-12-26']\n",
    "test_us=[]\n",
    "train_uk=['2015-12-25','2015-12-28'] +\\\n",
    "['2016-01-01','2016-03-28','2016-05-02','2016-05-30','2016-12-26','2016-12-27']\n",
    "test_uk=['2017-01-01']\n",
    "train_de=['2015-10-03', '2015-12-25', '2015-12-26']+\\\n",
    "['2016-01-01', '2016-03-25', '2016-03-26', '2016-03-27', '2016-01-01', '2016-05-05', '2016-05-15', '2016-05-16', '2016-10-03', '2016-12-25', '2016-12-26']\n",
    "test_de=['2017-01-01']\n",
    "train_fr=['2015-07-14', '2015-08-15', '2015-11-01', '2015-11-11', '2015-12-25']+\\\n",
    "['2016-01-01','2016-03-28', '2016-05-01', '2016-05-05', '2016-05-08', '2016-05-16', '2016-07-14', '2016-08-15', '2016-11-01','2016-11-11', '2016-12-25']\n",
    "test_fr=['2017-01-01']\n",
    "train_ru=['2015-11-04']+\\\n",
    "['2016-01-01', '2016-01-02', '2016-01-03', '2016-01-04', '2016-01-05', '2016-01-06', '2016-01-07', '2016-02-23', '2016-03-08', '2016-05-01', '2016-05-09', '2016-06-12', '2016-11-04']\n",
    "test_ru=['2017-01-01', '2017-01-02', '2017-01-03', '2017-01-04', '2017-01-05', '2017-01-06', '2017-01-07', '2017-02-23']\n",
    "train_es=['2015-08-15', '2015-10-12', '2015-11-01', '2015-12-06', '2015-12-08', '2015-12-25']+\\\n",
    "['2016-01-01', '2016-01-06', '2016-03-25', '2016-05-01', '2016-08-15', '2016-10-12', '2016-11-01', '2016-12-06', '2016-12-08', '2016-12-25']\n",
    "test_es=['2017-01-01', '2017-01-06']\n",
    "train_ja=['2015-07-20','2015-09-21', '2015-10-12', '2015-11-03', '2015-11-23', '2015-12-23']+\\\n",
    "['2016-01-01', '2016-01-11', '2016-02-11', '2016-03-20', '2016-04-29', '2016-05-03', '2016-05-04', '2016-05-05', '2016-07-18', '2016-08-11', '2016-09-22', '2016-10-10', '2016-11-03', '2016-11-23', '2016-12-23']\n",
    "test_ja=['2017-01-01', '2017-01-09', '2017-02-11']\n",
    "train_zh=['2015-09-27', '2015-10-01', '2015-10-02','2015-10-03','2015-10-04','2015-10-05','2015-10-06','2015-10-07']+\\\n",
    "['2016-01-01', '2016-01-02', '2016-01-03', '2016-02-08', '2016-02-09', '2016-02-10', '2016-02-11', '2016-02-12', '2016-04-04', '2016-05-01', '2016-05-02', '2016-06-09', '2016-06-10', '2016-09-15', '2016-09-16', '2016-10-03', '2016-10-04','2016-10-05','2016-10-06','2016-10-07']\n",
    "test_zh=['2017-01-02', '2017-02-27', '2017-02-28', '2017-03-01']\n",
    "#in China some saturday and sundays are worked\n",
    "train_o_zh=['2015-10-10','2016-02-06', '2016-02-14', '2016-06-12', '2016-09-18', '2016-10-08', '2016-10-09']\n",
    "test_o_zh=['2017-01-22', '2017-02-04']\n",
    "\n",
    "#let's replace values in 'ferie' columns\n",
    "train.loc[(train.origine=='en')&(train.date.isin(train_us+train_uk)), 'ferie']=1\n",
    "train.loc[(train.origine=='de')&(train.date.isin(train_de)), 'ferie']=1\n",
    "train.loc[(train.origine=='fr')&(train.date.isin(train_fr)), 'ferie']=1\n",
    "train.loc[(train.origine=='ru')&(train.date.isin(train_ru)), 'ferie']=1\n",
    "train.loc[(train.origine=='es')&(train.date.isin(train_es)), 'ferie']=1\n",
    "train.loc[(train.origine=='ja')&(train.date.isin(train_ja)), 'ferie']=1\n",
    "train.loc[(train.origine=='zh')&(train.date.isin(train_zh)), 'ferie']=1\n",
    "train.loc[(train.origine=='zh')&(train.date.isin(train_o_zh)), 'ferie']=0\n",
    "\n",
    "#same with test\n",
    "test = pd.read_csv(\"key_1.csv\")\n",
    "test['date'] = test.Page.apply(lambda a: a[-10:])\n",
    "test['Page'] = test.Page.apply(lambda a: a[:-11])\n",
    "test['date'] = test['date'].astype('datetime64[ns]')\n",
    "test['ferie'] = ((test.date.dt.dayofweek) >=5).astype(float)\n",
    "test['origine']=test['Page'].apply(lambda x:re.split(\".wikipedia.org\", x)[0][-2:])\n",
    "\n",
    "#joint with result\n",
    "join=test.loc[test.origine.isin([\"ts\",\"er\"]), ['Page']]\n",
    "join['origine']=0\n",
    "join.index=join[\"Page\"]\n",
    "join.origine=result\n",
    "test.loc[test.origine.isin([\"ts\",\"er\"]), ['origine']]=join.origine.values\n",
    "\n",
    "test.loc[(test.origine=='en')&(test.date.isin(test_us+test_uk)), 'ferie']=1\n",
    "test.loc[(test.origine=='de')&(test.date.isin(test_de)), 'ferie']=1\n",
    "test.loc[(test.origine=='fr')&(test.date.isin(test_fr)), 'ferie']=1\n",
    "test.loc[(test.origine=='ru')&(test.date.isin(test_ru)), 'ferie']=1\n",
    "test.loc[(test.origine=='es')&(test.date.isin(test_es)), 'ferie']=1\n",
    "test.loc[(test.origine=='ja')&(test.date.isin(test_ja)), 'ferie']=1\n",
    "test.loc[(test.origine=='zh')&(test.date.isin(test_zh)), 'ferie']=1\n",
    "test.loc[(test.origine=='zh')&(test.date.isin(test_o_zh)), 'ferie']=0\n",
    "\n",
    "train_page_per_dow = train.groupby(['Page','ferie']).median().reset_index()\n",
    "test = test.merge(train_page_per_dow, how='left')\n"
   ]
  },
  {
   "cell_type": "code",
   "execution_count": 5,
   "metadata": {},
   "outputs": [
    {
     "name": "stdout",
     "output_type": "stream",
     "text": [
      "44.6888756838\n"
     ]
    }
   ],
   "source": [
    "evaluate(test.Visits)"
   ]
  },
  {
   "cell_type": "code",
   "execution_count": 4,
   "metadata": {},
   "outputs": [
    {
     "name": "stdout",
     "output_type": "stream",
     "text": [
      "45.1382801997\n"
     ]
    }
   ],
   "source": [
    "evaluate(test.Visits.fillna(0.0))"
   ]
  },
  {
   "cell_type": "code",
   "execution_count": null,
   "metadata": {
    "collapsed": true
   },
   "outputs": [],
   "source": []
  },
  {
   "cell_type": "code",
   "execution_count": 14,
   "metadata": {
    "collapsed": true
   },
   "outputs": [],
   "source": [
    "holiday_res = test.Visits"
   ]
  },
  {
   "cell_type": "code",
   "execution_count": 231,
   "metadata": {},
   "outputs": [
    {
     "data": {
      "text/plain": [
       "(8703780, 6)"
      ]
     },
     "execution_count": 231,
     "metadata": {},
     "output_type": "execute_result"
    }
   ],
   "source": [
    "test.shape"
   ]
  },
  {
   "cell_type": "code",
   "execution_count": 232,
   "metadata": {
    "collapsed": true
   },
   "outputs": [],
   "source": [
    "test.loc[test.Visits.isnull(), 'Visits'] = 0"
   ]
  },
  {
   "cell_type": "code",
   "execution_count": 3,
   "metadata": {
    "collapsed": true
   },
   "outputs": [],
   "source": [
    "# fibo_res = pd.read_csv('res_backup/fibo_newlist_44.8.csv')"
   ]
  },
  {
   "cell_type": "code",
   "execution_count": 5,
   "metadata": {},
   "outputs": [
    {
     "data": {
      "text/html": [
       "<div>\n",
       "<style>\n",
       "    .dataframe thead tr:only-child th {\n",
       "        text-align: right;\n",
       "    }\n",
       "\n",
       "    .dataframe thead th {\n",
       "        text-align: left;\n",
       "    }\n",
       "\n",
       "    .dataframe tbody tr th {\n",
       "        vertical-align: top;\n",
       "    }\n",
       "</style>\n",
       "<table border=\"1\" class=\"dataframe\">\n",
       "  <thead>\n",
       "    <tr style=\"text-align: right;\">\n",
       "      <th></th>\n",
       "      <th>Page</th>\n",
       "      <th>Id</th>\n",
       "      <th>date</th>\n",
       "      <th>ferie</th>\n",
       "      <th>origine</th>\n",
       "      <th>Visits</th>\n",
       "    </tr>\n",
       "  </thead>\n",
       "  <tbody>\n",
       "    <tr>\n",
       "      <th>8703775</th>\n",
       "      <td>龙生九子_zh.wikipedia.org_mobile-web_all-agents</td>\n",
       "      <td>f69747f5ee68</td>\n",
       "      <td>2017-02-25</td>\n",
       "      <td>1.0</td>\n",
       "      <td>zh</td>\n",
       "      <td>256.5</td>\n",
       "    </tr>\n",
       "    <tr>\n",
       "      <th>8703776</th>\n",
       "      <td>龙生九子_zh.wikipedia.org_mobile-web_all-agents</td>\n",
       "      <td>2489963dc503</td>\n",
       "      <td>2017-02-26</td>\n",
       "      <td>1.0</td>\n",
       "      <td>zh</td>\n",
       "      <td>256.5</td>\n",
       "    </tr>\n",
       "    <tr>\n",
       "      <th>8703777</th>\n",
       "      <td>龙生九子_zh.wikipedia.org_mobile-web_all-agents</td>\n",
       "      <td>b0624c909f4c</td>\n",
       "      <td>2017-02-27</td>\n",
       "      <td>1.0</td>\n",
       "      <td>zh</td>\n",
       "      <td>256.5</td>\n",
       "    </tr>\n",
       "    <tr>\n",
       "      <th>8703778</th>\n",
       "      <td>龙生九子_zh.wikipedia.org_mobile-web_all-agents</td>\n",
       "      <td>24a1dfb06c10</td>\n",
       "      <td>2017-02-28</td>\n",
       "      <td>1.0</td>\n",
       "      <td>zh</td>\n",
       "      <td>256.5</td>\n",
       "    </tr>\n",
       "    <tr>\n",
       "      <th>8703779</th>\n",
       "      <td>龙生九子_zh.wikipedia.org_mobile-web_all-agents</td>\n",
       "      <td>add681d54216</td>\n",
       "      <td>2017-03-01</td>\n",
       "      <td>1.0</td>\n",
       "      <td>zh</td>\n",
       "      <td>256.5</td>\n",
       "    </tr>\n",
       "  </tbody>\n",
       "</table>\n",
       "</div>"
      ],
      "text/plain": [
       "                                                Page            Id       date  \\\n",
       "8703775  龙生九子_zh.wikipedia.org_mobile-web_all-agents  f69747f5ee68 2017-02-25   \n",
       "8703776  龙生九子_zh.wikipedia.org_mobile-web_all-agents  2489963dc503 2017-02-26   \n",
       "8703777  龙生九子_zh.wikipedia.org_mobile-web_all-agents  b0624c909f4c 2017-02-27   \n",
       "8703778  龙生九子_zh.wikipedia.org_mobile-web_all-agents  24a1dfb06c10 2017-02-28   \n",
       "8703779  龙生九子_zh.wikipedia.org_mobile-web_all-agents  add681d54216 2017-03-01   \n",
       "\n",
       "         ferie origine  Visits  \n",
       "8703775    1.0      zh   256.5  \n",
       "8703776    1.0      zh   256.5  \n",
       "8703777    1.0      zh   256.5  \n",
       "8703778    1.0      zh   256.5  \n",
       "8703779    1.0      zh   256.5  "
      ]
     },
     "execution_count": 5,
     "metadata": {},
     "output_type": "execute_result"
    }
   ],
   "source": [
    "test.tail()"
   ]
  },
  {
   "cell_type": "code",
   "execution_count": 6,
   "metadata": {
    "collapsed": true
   },
   "outputs": [],
   "source": [
    "test1 = test.copy()"
   ]
  },
  {
   "cell_type": "code",
   "execution_count": 21,
   "metadata": {},
   "outputs": [
    {
     "data": {
      "text/html": [
       "<div>\n",
       "<style>\n",
       "    .dataframe thead tr:only-child th {\n",
       "        text-align: right;\n",
       "    }\n",
       "\n",
       "    .dataframe thead th {\n",
       "        text-align: left;\n",
       "    }\n",
       "\n",
       "    .dataframe tbody tr th {\n",
       "        vertical-align: top;\n",
       "    }\n",
       "</style>\n",
       "<table border=\"1\" class=\"dataframe\">\n",
       "  <thead>\n",
       "    <tr style=\"text-align: right;\">\n",
       "      <th></th>\n",
       "      <th>Page</th>\n",
       "      <th>Id</th>\n",
       "      <th>date</th>\n",
       "      <th>Visits</th>\n",
       "    </tr>\n",
       "  </thead>\n",
       "  <tbody>\n",
       "    <tr>\n",
       "      <th>8703777</th>\n",
       "      <td>龙生九子_zh.wikipedia.org_mobile-web_all-agents</td>\n",
       "      <td>b0624c909f4c</td>\n",
       "      <td>2017-02-27</td>\n",
       "      <td>235.5</td>\n",
       "    </tr>\n",
       "    <tr>\n",
       "      <th>8703778</th>\n",
       "      <td>龙生九子_zh.wikipedia.org_mobile-web_all-agents</td>\n",
       "      <td>24a1dfb06c10</td>\n",
       "      <td>2017-02-28</td>\n",
       "      <td>235.5</td>\n",
       "    </tr>\n",
       "    <tr>\n",
       "      <th>8703779</th>\n",
       "      <td>龙生九子_zh.wikipedia.org_mobile-web_all-agents</td>\n",
       "      <td>add681d54216</td>\n",
       "      <td>2017-03-01</td>\n",
       "      <td>235.5</td>\n",
       "    </tr>\n",
       "  </tbody>\n",
       "</table>\n",
       "</div>"
      ],
      "text/plain": [
       "                                                Page            Id       date  \\\n",
       "8703777  龙生九子_zh.wikipedia.org_mobile-web_all-agents  b0624c909f4c 2017-02-27   \n",
       "8703778  龙生九子_zh.wikipedia.org_mobile-web_all-agents  24a1dfb06c10 2017-02-28   \n",
       "8703779  龙生九子_zh.wikipedia.org_mobile-web_all-agents  add681d54216 2017-03-01   \n",
       "\n",
       "         Visits  \n",
       "8703777   235.5  \n",
       "8703778   235.5  \n",
       "8703779   235.5  "
      ]
     },
     "execution_count": 21,
     "metadata": {},
     "output_type": "execute_result"
    }
   ],
   "source": [
    "test.tail(3)"
   ]
  },
  {
   "cell_type": "code",
   "execution_count": 22,
   "metadata": {},
   "outputs": [
    {
     "data": {
      "text/html": [
       "<div>\n",
       "<style>\n",
       "    .dataframe thead tr:only-child th {\n",
       "        text-align: right;\n",
       "    }\n",
       "\n",
       "    .dataframe thead th {\n",
       "        text-align: left;\n",
       "    }\n",
       "\n",
       "    .dataframe tbody tr th {\n",
       "        vertical-align: top;\n",
       "    }\n",
       "</style>\n",
       "<table border=\"1\" class=\"dataframe\">\n",
       "  <thead>\n",
       "    <tr style=\"text-align: right;\">\n",
       "      <th></th>\n",
       "      <th>Page</th>\n",
       "      <th>Id</th>\n",
       "      <th>date</th>\n",
       "      <th>ferie</th>\n",
       "      <th>origine</th>\n",
       "      <th>Visits</th>\n",
       "    </tr>\n",
       "  </thead>\n",
       "  <tbody>\n",
       "    <tr>\n",
       "      <th>8703777</th>\n",
       "      <td>龙生九子_zh.wikipedia.org_mobile-web_all-agents</td>\n",
       "      <td>b0624c909f4c</td>\n",
       "      <td>2017-02-27</td>\n",
       "      <td>1.0</td>\n",
       "      <td>zh</td>\n",
       "      <td>256.5</td>\n",
       "    </tr>\n",
       "    <tr>\n",
       "      <th>8703778</th>\n",
       "      <td>龙生九子_zh.wikipedia.org_mobile-web_all-agents</td>\n",
       "      <td>24a1dfb06c10</td>\n",
       "      <td>2017-02-28</td>\n",
       "      <td>1.0</td>\n",
       "      <td>zh</td>\n",
       "      <td>256.5</td>\n",
       "    </tr>\n",
       "    <tr>\n",
       "      <th>8703779</th>\n",
       "      <td>龙生九子_zh.wikipedia.org_mobile-web_all-agents</td>\n",
       "      <td>add681d54216</td>\n",
       "      <td>2017-03-01</td>\n",
       "      <td>1.0</td>\n",
       "      <td>zh</td>\n",
       "      <td>256.5</td>\n",
       "    </tr>\n",
       "  </tbody>\n",
       "</table>\n",
       "</div>"
      ],
      "text/plain": [
       "                                                Page            Id       date  \\\n",
       "8703777  龙生九子_zh.wikipedia.org_mobile-web_all-agents  b0624c909f4c 2017-02-27   \n",
       "8703778  龙生九子_zh.wikipedia.org_mobile-web_all-agents  24a1dfb06c10 2017-02-28   \n",
       "8703779  龙生九子_zh.wikipedia.org_mobile-web_all-agents  add681d54216 2017-03-01   \n",
       "\n",
       "         ferie origine  Visits  \n",
       "8703777    1.0      zh   256.5  \n",
       "8703778    1.0      zh   256.5  \n",
       "8703779    1.0      zh   256.5  "
      ]
     },
     "execution_count": 22,
     "metadata": {},
     "output_type": "execute_result"
    }
   ],
   "source": [
    "test1.tail(3)"
   ]
  },
  {
   "cell_type": "code",
   "execution_count": null,
   "metadata": {
    "collapsed": true
   },
   "outputs": [],
   "source": [
    "fibo_window_res = pd.read_csv(\"res_backup/fibo_more_window_no_filling_na_44.5.csv\")"
   ]
  },
  {
   "cell_type": "code",
   "execution_count": 28,
   "metadata": {
    "collapsed": true
   },
   "outputs": [],
   "source": [
    "test.Visits = np.round(test.Visits * 0.4 + test1.Visits * 0.6)"
   ]
  },
  {
   "cell_type": "code",
   "execution_count": 29,
   "metadata": {},
   "outputs": [
    {
     "data": {
      "text/html": [
       "<div>\n",
       "<style>\n",
       "    .dataframe thead tr:only-child th {\n",
       "        text-align: right;\n",
       "    }\n",
       "\n",
       "    .dataframe thead th {\n",
       "        text-align: left;\n",
       "    }\n",
       "\n",
       "    .dataframe tbody tr th {\n",
       "        vertical-align: top;\n",
       "    }\n",
       "</style>\n",
       "<table border=\"1\" class=\"dataframe\">\n",
       "  <thead>\n",
       "    <tr style=\"text-align: right;\">\n",
       "      <th></th>\n",
       "      <th>Page</th>\n",
       "      <th>Id</th>\n",
       "      <th>date</th>\n",
       "      <th>Visits</th>\n",
       "    </tr>\n",
       "  </thead>\n",
       "  <tbody>\n",
       "    <tr>\n",
       "      <th>0</th>\n",
       "      <td>!vote_en.wikipedia.org_all-access_all-agents</td>\n",
       "      <td>bf4edcf969af</td>\n",
       "      <td>2017-01-01</td>\n",
       "      <td>3.0</td>\n",
       "    </tr>\n",
       "    <tr>\n",
       "      <th>1</th>\n",
       "      <td>!vote_en.wikipedia.org_all-access_all-agents</td>\n",
       "      <td>929ed2bf52b9</td>\n",
       "      <td>2017-01-02</td>\n",
       "      <td>2.0</td>\n",
       "    </tr>\n",
       "    <tr>\n",
       "      <th>2</th>\n",
       "      <td>!vote_en.wikipedia.org_all-access_all-agents</td>\n",
       "      <td>ff29d0f51d5c</td>\n",
       "      <td>2017-01-03</td>\n",
       "      <td>2.0</td>\n",
       "    </tr>\n",
       "    <tr>\n",
       "      <th>3</th>\n",
       "      <td>!vote_en.wikipedia.org_all-access_all-agents</td>\n",
       "      <td>e98873359be6</td>\n",
       "      <td>2017-01-04</td>\n",
       "      <td>2.0</td>\n",
       "    </tr>\n",
       "    <tr>\n",
       "      <th>4</th>\n",
       "      <td>!vote_en.wikipedia.org_all-access_all-agents</td>\n",
       "      <td>fa012434263a</td>\n",
       "      <td>2017-01-05</td>\n",
       "      <td>2.0</td>\n",
       "    </tr>\n",
       "  </tbody>\n",
       "</table>\n",
       "</div>"
      ],
      "text/plain": [
       "                                           Page            Id       date  \\\n",
       "0  !vote_en.wikipedia.org_all-access_all-agents  bf4edcf969af 2017-01-01   \n",
       "1  !vote_en.wikipedia.org_all-access_all-agents  929ed2bf52b9 2017-01-02   \n",
       "2  !vote_en.wikipedia.org_all-access_all-agents  ff29d0f51d5c 2017-01-03   \n",
       "3  !vote_en.wikipedia.org_all-access_all-agents  e98873359be6 2017-01-04   \n",
       "4  !vote_en.wikipedia.org_all-access_all-agents  fa012434263a 2017-01-05   \n",
       "\n",
       "   Visits  \n",
       "0     3.0  \n",
       "1     2.0  \n",
       "2     2.0  \n",
       "3     2.0  \n",
       "4     2.0  "
      ]
     },
     "execution_count": 29,
     "metadata": {},
     "output_type": "execute_result"
    }
   ],
   "source": [
    "test.head()"
   ]
  },
  {
   "cell_type": "code",
   "execution_count": 32,
   "metadata": {},
   "outputs": [
    {
     "data": {
      "text/plain": [
       "False"
      ]
     },
     "execution_count": 32,
     "metadata": {},
     "output_type": "execute_result"
    }
   ],
   "source": [
    "test.Visits.isnull().any()"
   ]
  },
  {
   "cell_type": "code",
   "execution_count": 33,
   "metadata": {
    "collapsed": true
   },
   "outputs": [],
   "source": [
    "test[[\"Id\", \"Visits\"]].to_csv(\"fibo_holiday_more_window.csv\", index=False)"
   ]
  },
  {
   "cell_type": "code",
   "execution_count": 27,
   "metadata": {
    "collapsed": true
   },
   "outputs": [],
   "source": [
    "# test1.Visits.isnull().any()"
   ]
  },
  {
   "cell_type": "code",
   "execution_count": 17,
   "metadata": {},
   "outputs": [
    {
     "data": {
      "text/html": [
       "<div>\n",
       "<style>\n",
       "    .dataframe thead tr:only-child th {\n",
       "        text-align: right;\n",
       "    }\n",
       "\n",
       "    .dataframe thead th {\n",
       "        text-align: left;\n",
       "    }\n",
       "\n",
       "    .dataframe tbody tr th {\n",
       "        vertical-align: top;\n",
       "    }\n",
       "</style>\n",
       "<table border=\"1\" class=\"dataframe\">\n",
       "  <thead>\n",
       "    <tr style=\"text-align: right;\">\n",
       "      <th></th>\n",
       "      <th>Id</th>\n",
       "      <th>Visits</th>\n",
       "    </tr>\n",
       "  </thead>\n",
       "  <tbody>\n",
       "    <tr>\n",
       "      <th>8703775</th>\n",
       "      <td>f69747f5ee68</td>\n",
       "      <td>233.0</td>\n",
       "    </tr>\n",
       "    <tr>\n",
       "      <th>8703776</th>\n",
       "      <td>2489963dc503</td>\n",
       "      <td>233.0</td>\n",
       "    </tr>\n",
       "    <tr>\n",
       "      <th>8703777</th>\n",
       "      <td>b0624c909f4c</td>\n",
       "      <td>233.0</td>\n",
       "    </tr>\n",
       "    <tr>\n",
       "      <th>8703778</th>\n",
       "      <td>24a1dfb06c10</td>\n",
       "      <td>233.0</td>\n",
       "    </tr>\n",
       "    <tr>\n",
       "      <th>8703779</th>\n",
       "      <td>add681d54216</td>\n",
       "      <td>233.0</td>\n",
       "    </tr>\n",
       "  </tbody>\n",
       "</table>\n",
       "</div>"
      ],
      "text/plain": [
       "                   Id  Visits\n",
       "8703775  f69747f5ee68   233.0\n",
       "8703776  2489963dc503   233.0\n",
       "8703777  b0624c909f4c   233.0\n",
       "8703778  24a1dfb06c10   233.0\n",
       "8703779  add681d54216   233.0"
      ]
     },
     "execution_count": 17,
     "metadata": {},
     "output_type": "execute_result"
    }
   ],
   "source": [
    "fibo_res.tail()"
   ]
  },
  {
   "cell_type": "code",
   "execution_count": 38,
   "metadata": {
    "collapsed": true
   },
   "outputs": [],
   "source": [
    "weighted_res = pd.read_csv(\"res_backup/weight_0.9_median_45.1.csv\")"
   ]
  },
  {
   "cell_type": "code",
   "execution_count": 39,
   "metadata": {
    "collapsed": true
   },
   "outputs": [],
   "source": [
    "fibo_res.Visits = np.round(test.Visits * 0.6 + weighted_res.Visits * 0.1 + fibo_res.Visits * 0.3)"
   ]
  },
  {
   "cell_type": "code",
   "execution_count": 40,
   "metadata": {
    "collapsed": true
   },
   "outputs": [],
   "source": [
    "fibo_res.to_csv(\"fibo_holiday_weekend_2.csv\", index=False)"
   ]
  },
  {
   "cell_type": "code",
   "execution_count": null,
   "metadata": {
    "collapsed": true
   },
   "outputs": [],
   "source": []
  }
 ],
 "metadata": {
  "kernelspec": {
   "display_name": "Python 2",
   "language": "python",
   "name": "python2"
  },
  "language_info": {
   "codemirror_mode": {
    "name": "ipython",
    "version": 2
   },
   "file_extension": ".py",
   "mimetype": "text/x-python",
   "name": "python",
   "nbconvert_exporter": "python",
   "pygments_lexer": "ipython2",
   "version": "2.7.13"
  }
 },
 "nbformat": 4,
 "nbformat_minor": 2
}
