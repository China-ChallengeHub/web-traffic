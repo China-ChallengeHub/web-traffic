{
 "cells": [
  {
   "cell_type": "code",
   "execution_count": 2,
   "metadata": {
    "collapsed": true
   },
   "outputs": [],
   "source": [
    "import pandas as pd"
   ]
  },
  {
   "cell_type": "code",
   "execution_count": 2,
   "metadata": {
    "collapsed": true
   },
   "outputs": [],
   "source": [
    "def get_raw_data():\n",
    "    train = pd.read_csv(\"train_1.csv\")\n",
    "    test = pd.read_csv(\"key_1.csv\")\n",
    "    return train, test"
   ]
  },
  {
   "cell_type": "code",
   "execution_count": 3,
   "metadata": {
    "collapsed": true
   },
   "outputs": [],
   "source": [
    "def transform_data(train, test, periods=-49):\n",
    "    train_flattened = pd.melt(train[list(train.columns[periods:])+['Page']], id_vars='Page', var_name='date', value_name='Visits')\n",
    "    train_flattened = get_features(train_flattened)\n",
    "    test['date'] = test.Page.apply(lambda a: a[-10:])\n",
    "    test['Page'] = test.Page.apply(lambda a: a[:-11])\n",
    "    test = get_features(test)\n",
    "    return train_flattened, test"
   ]
  },
  {
   "cell_type": "code",
   "execution_count": 5,
   "metadata": {
    "collapsed": true
   },
   "outputs": [],
   "source": [
    "## seems every2_weekdays not used here, just filter it out here!"
   ]
  },
  {
   "cell_type": "code",
   "execution_count": 6,
   "metadata": {
    "collapsed": true
   },
   "outputs": [],
   "source": [
    "# https://www.kaggle.com/chechir/weekend-flag-median-with-wiggle/code"
   ]
  },
  {
   "cell_type": "code",
   "execution_count": 7,
   "metadata": {
    "collapsed": true
   },
   "outputs": [],
   "source": [
    "def get_features(df):\n",
    "    df['date'] = df['date'].astype('datetime64[ns]')\n",
    "#     df['every2_weekdays'] = df.date.dt.dayofweek\n",
    "    df['weekend'] = (df.date.dt.dayofweek // 5).astype(float)\n",
    "    #df['shortweek'] = ((df.date.dt.dayofweek) // 4 == 1).astype(float)\n",
    "    return df"
   ]
  },
  {
   "cell_type": "code",
   "execution_count": 8,
   "metadata": {
    "collapsed": true
   },
   "outputs": [],
   "source": [
    "def predict_using_median_weekend(train, test):\n",
    "    df = train.copy()\n",
    "#     df = df.drop(['every2_weekdays'], axis=1)\n",
    "    agg_train_weekend = df.groupby(['Page', 'weekend']).median().reset_index()\n",
    "    test_df = test.merge(agg_train_weekend, how='left')\n",
    "    result = test_df['Visits'].values\n",
    "    return result"
   ]
  },
  {
   "cell_type": "code",
   "execution_count": 9,
   "metadata": {
    "collapsed": true
   },
   "outputs": [],
   "source": [
    "def wiggle_preds(df):\n",
    "    second_term_ixs = df['date'] < '2017-02-01'\n",
    "    adjusted = df['Visits'].values + df['Visits'].values*0.02\n",
    "    adjusted[second_term_ixs] = df['Visits'].values[second_term_ixs] + df['Visits'].values[second_term_ixs]*0.04\n",
    "    df['Visits'] = adjusted\n",
    "    df.loc[df.Visits.isnull(), 'Visits'] = 0\n",
    "    return df"
   ]
  },
  {
   "cell_type": "code",
   "execution_count": null,
   "metadata": {
    "collapsed": true
   },
   "outputs": [],
   "source": []
  },
  {
   "cell_type": "code",
   "execution_count": 10,
   "metadata": {},
   "outputs": [
    {
     "name": "stdout",
     "output_type": "stream",
     "text": [
      "             Id  Visits\n",
      "0  bf4edcf969af    3.12\n",
      "1  929ed2bf52b9    2.08\n",
      "2  ff29d0f51d5c    2.08\n",
      "3  e98873359be6    2.08\n",
      "4  fa012434263a    2.08\n",
      "5  48f1e93517a2    2.08\n",
      "6  5def418fcb36    3.12\n",
      "7  77bd08134351    3.12\n",
      "8  5889e6dbb16f    2.08\n",
      "9  5f21fef1d764    2.08\n",
      "                   Id   Visits\n",
      "8703770  a4456a9d271d  247.554\n",
      "8703771  d43a25cf4ef2  247.554\n",
      "8703772  8f47d2e020cd  247.554\n",
      "8703773  a78af728d84b  247.554\n",
      "8703774  d1ba45c7ec08  247.554\n",
      "8703775  f69747f5ee68  270.045\n",
      "8703776  2489963dc503  270.045\n",
      "8703777  b0624c909f4c  247.554\n",
      "8703778  24a1dfb06c10  247.554\n",
      "8703779  add681d54216  247.554\n"
     ]
    }
   ],
   "source": [
    "train, test = get_raw_data()\n",
    "train, test = transform_data(train, test, periods=-49)\n",
    "preds_weekend = predict_using_median_weekend(train, test)\n",
    "train, test = get_raw_data()\n",
    "train, test = transform_data(train, test, periods=-12)\n",
    "preds_otherdays = predict_using_median_weekend(train, test)\n",
    "\n",
    "weight = 0.9\n",
    "preds_ensemble = preds_weekend*weight + preds_otherdays*(1-weight)\n",
    "test['Visits'] = preds_ensemble\n",
    "test = wiggle_preds(test)\n",
    "\n",
    "test[['Id','Visits']].to_csv('sub_mads_weight_{}.csv'.format(weight), index=False)\n",
    "print(test[['Id', 'Visits']].head(10))\n",
    "print(test[['Id', 'Visits']].tail(10))"
   ]
  },
  {
   "cell_type": "code",
   "execution_count": 41,
   "metadata": {
    "collapsed": true
   },
   "outputs": [],
   "source": [
    "train, test = get_raw_data()\n",
    "train, test = transform_data(train, test, periods=-49)"
   ]
  },
  {
   "cell_type": "code",
   "execution_count": 5,
   "metadata": {},
   "outputs": [
    {
     "data": {
      "text/plain": [
       "((145063, 551), (8703780, 2))"
      ]
     },
     "execution_count": 5,
     "metadata": {},
     "output_type": "execute_result"
    }
   ],
   "source": [
    "train.shape, test.shape"
   ]
  },
  {
   "cell_type": "code",
   "execution_count": 23,
   "metadata": {},
   "outputs": [
    {
     "data": {
      "text/plain": [
       "((7108087, 5), (8703780, 5))"
      ]
     },
     "execution_count": 23,
     "metadata": {},
     "output_type": "execute_result"
    }
   ],
   "source": [
    "train.shape, test.shape"
   ]
  },
  {
   "cell_type": "code",
   "execution_count": null,
   "metadata": {
    "collapsed": true
   },
   "outputs": [],
   "source": []
  },
  {
   "cell_type": "code",
   "execution_count": 24,
   "metadata": {},
   "outputs": [
    {
     "data": {
      "text/html": [
       "<div>\n",
       "<style>\n",
       "    .dataframe thead tr:only-child th {\n",
       "        text-align: right;\n",
       "    }\n",
       "\n",
       "    .dataframe thead th {\n",
       "        text-align: left;\n",
       "    }\n",
       "\n",
       "    .dataframe tbody tr th {\n",
       "        vertical-align: top;\n",
       "    }\n",
       "</style>\n",
       "<table border=\"1\" class=\"dataframe\">\n",
       "  <thead>\n",
       "    <tr style=\"text-align: right;\">\n",
       "      <th></th>\n",
       "      <th>Page</th>\n",
       "      <th>date</th>\n",
       "      <th>Visits</th>\n",
       "      <th>every2_weekdays</th>\n",
       "      <th>weekend</th>\n",
       "    </tr>\n",
       "  </thead>\n",
       "  <tbody>\n",
       "    <tr>\n",
       "      <th>0</th>\n",
       "      <td>2NE1_zh.wikipedia.org_all-access_spider</td>\n",
       "      <td>2016-11-13</td>\n",
       "      <td>8.0</td>\n",
       "      <td>6</td>\n",
       "      <td>1.0</td>\n",
       "    </tr>\n",
       "    <tr>\n",
       "      <th>1</th>\n",
       "      <td>2PM_zh.wikipedia.org_all-access_spider</td>\n",
       "      <td>2016-11-13</td>\n",
       "      <td>11.0</td>\n",
       "      <td>6</td>\n",
       "      <td>1.0</td>\n",
       "    </tr>\n",
       "    <tr>\n",
       "      <th>2</th>\n",
       "      <td>3C_zh.wikipedia.org_all-access_spider</td>\n",
       "      <td>2016-11-13</td>\n",
       "      <td>4.0</td>\n",
       "      <td>6</td>\n",
       "      <td>1.0</td>\n",
       "    </tr>\n",
       "    <tr>\n",
       "      <th>3</th>\n",
       "      <td>4minute_zh.wikipedia.org_all-access_spider</td>\n",
       "      <td>2016-11-13</td>\n",
       "      <td>13.0</td>\n",
       "      <td>6</td>\n",
       "      <td>1.0</td>\n",
       "    </tr>\n",
       "    <tr>\n",
       "      <th>4</th>\n",
       "      <td>52_Hz_I_Love_You_zh.wikipedia.org_all-access_s...</td>\n",
       "      <td>2016-11-13</td>\n",
       "      <td>11.0</td>\n",
       "      <td>6</td>\n",
       "      <td>1.0</td>\n",
       "    </tr>\n",
       "  </tbody>\n",
       "</table>\n",
       "</div>"
      ],
      "text/plain": [
       "                                                Page       date  Visits  \\\n",
       "0            2NE1_zh.wikipedia.org_all-access_spider 2016-11-13     8.0   \n",
       "1             2PM_zh.wikipedia.org_all-access_spider 2016-11-13    11.0   \n",
       "2              3C_zh.wikipedia.org_all-access_spider 2016-11-13     4.0   \n",
       "3         4minute_zh.wikipedia.org_all-access_spider 2016-11-13    13.0   \n",
       "4  52_Hz_I_Love_You_zh.wikipedia.org_all-access_s... 2016-11-13    11.0   \n",
       "\n",
       "   every2_weekdays  weekend  \n",
       "0                6      1.0  \n",
       "1                6      1.0  \n",
       "2                6      1.0  \n",
       "3                6      1.0  \n",
       "4                6      1.0  "
      ]
     },
     "execution_count": 24,
     "metadata": {},
     "output_type": "execute_result"
    }
   ],
   "source": [
    "train.head()"
   ]
  },
  {
   "cell_type": "code",
   "execution_count": 28,
   "metadata": {},
   "outputs": [
    {
     "data": {
      "text/html": [
       "<div>\n",
       "<style>\n",
       "    .dataframe thead tr:only-child th {\n",
       "        text-align: right;\n",
       "    }\n",
       "\n",
       "    .dataframe thead th {\n",
       "        text-align: left;\n",
       "    }\n",
       "\n",
       "    .dataframe tbody tr th {\n",
       "        vertical-align: top;\n",
       "    }\n",
       "</style>\n",
       "<table border=\"1\" class=\"dataframe\">\n",
       "  <thead>\n",
       "    <tr style=\"text-align: right;\">\n",
       "      <th></th>\n",
       "      <th>Page</th>\n",
       "      <th>Id</th>\n",
       "      <th>date</th>\n",
       "      <th>every2_weekdays</th>\n",
       "      <th>weekend</th>\n",
       "    </tr>\n",
       "  </thead>\n",
       "  <tbody>\n",
       "    <tr>\n",
       "      <th>8703775</th>\n",
       "      <td>龙生九子_zh.wikipedia.org_mobile-web_all-agents</td>\n",
       "      <td>f69747f5ee68</td>\n",
       "      <td>2017-02-25</td>\n",
       "      <td>5</td>\n",
       "      <td>1.0</td>\n",
       "    </tr>\n",
       "    <tr>\n",
       "      <th>8703776</th>\n",
       "      <td>龙生九子_zh.wikipedia.org_mobile-web_all-agents</td>\n",
       "      <td>2489963dc503</td>\n",
       "      <td>2017-02-26</td>\n",
       "      <td>6</td>\n",
       "      <td>1.0</td>\n",
       "    </tr>\n",
       "    <tr>\n",
       "      <th>8703777</th>\n",
       "      <td>龙生九子_zh.wikipedia.org_mobile-web_all-agents</td>\n",
       "      <td>b0624c909f4c</td>\n",
       "      <td>2017-02-27</td>\n",
       "      <td>0</td>\n",
       "      <td>0.0</td>\n",
       "    </tr>\n",
       "    <tr>\n",
       "      <th>8703778</th>\n",
       "      <td>龙生九子_zh.wikipedia.org_mobile-web_all-agents</td>\n",
       "      <td>24a1dfb06c10</td>\n",
       "      <td>2017-02-28</td>\n",
       "      <td>1</td>\n",
       "      <td>0.0</td>\n",
       "    </tr>\n",
       "    <tr>\n",
       "      <th>8703779</th>\n",
       "      <td>龙生九子_zh.wikipedia.org_mobile-web_all-agents</td>\n",
       "      <td>add681d54216</td>\n",
       "      <td>2017-03-01</td>\n",
       "      <td>2</td>\n",
       "      <td>0.0</td>\n",
       "    </tr>\n",
       "  </tbody>\n",
       "</table>\n",
       "</div>"
      ],
      "text/plain": [
       "                                                Page            Id       date  \\\n",
       "8703775  龙生九子_zh.wikipedia.org_mobile-web_all-agents  f69747f5ee68 2017-02-25   \n",
       "8703776  龙生九子_zh.wikipedia.org_mobile-web_all-agents  2489963dc503 2017-02-26   \n",
       "8703777  龙生九子_zh.wikipedia.org_mobile-web_all-agents  b0624c909f4c 2017-02-27   \n",
       "8703778  龙生九子_zh.wikipedia.org_mobile-web_all-agents  24a1dfb06c10 2017-02-28   \n",
       "8703779  龙生九子_zh.wikipedia.org_mobile-web_all-agents  add681d54216 2017-03-01   \n",
       "\n",
       "         every2_weekdays  weekend  \n",
       "8703775                5      1.0  \n",
       "8703776                6      1.0  \n",
       "8703777                0      0.0  \n",
       "8703778                1      0.0  \n",
       "8703779                2      0.0  "
      ]
     },
     "execution_count": 28,
     "metadata": {},
     "output_type": "execute_result"
    }
   ],
   "source": [
    "test.tail()"
   ]
  },
  {
   "cell_type": "code",
   "execution_count": 9,
   "metadata": {
    "collapsed": true
   },
   "outputs": [],
   "source": [
    "train_flattened = pd.melt(train[list(train.columns[-28:])+['Page']], id_vars='Page', var_name='date', value_name='Visits')\n"
   ]
  },
  {
   "cell_type": "code",
   "execution_count": null,
   "metadata": {
    "collapsed": true
   },
   "outputs": [],
   "source": []
  },
  {
   "cell_type": "code",
   "execution_count": 1,
   "metadata": {},
   "outputs": [
    {
     "ename": "NameError",
     "evalue": "name 'train' is not defined",
     "output_type": "error",
     "traceback": [
      "\u001b[0;31m\u001b[0m",
      "\u001b[0;31mNameError\u001b[0mTraceback (most recent call last)",
      "\u001b[0;32m<ipython-input-1-b4be6196e99f>\u001b[0m in \u001b[0;36m<module>\u001b[0;34m()\u001b[0m\n\u001b[0;32m----> 1\u001b[0;31m \u001b[0mlen\u001b[0m\u001b[0;34m(\u001b[0m\u001b[0mtrain\u001b[0m\u001b[0;34m)\u001b[0m\u001b[0;34m\u001b[0m\u001b[0m\n\u001b[0m",
      "\u001b[0;31mNameError\u001b[0m: name 'train' is not defined"
     ]
    }
   ],
   "source": [
    "len(train)"
   ]
  },
  {
   "cell_type": "code",
   "execution_count": null,
   "metadata": {
    "collapsed": true
   },
   "outputs": [],
   "source": []
  }
 ],
 "metadata": {
  "kernelspec": {
   "display_name": "Python 2",
   "language": "python",
   "name": "python2"
  },
  "language_info": {
   "codemirror_mode": {
    "name": "ipython",
    "version": 2
   },
   "file_extension": ".py",
   "mimetype": "text/x-python",
   "name": "python",
   "nbconvert_exporter": "python",
   "pygments_lexer": "ipython2",
   "version": "2.7.13"
  }
 },
 "nbformat": 4,
 "nbformat_minor": 2
}
